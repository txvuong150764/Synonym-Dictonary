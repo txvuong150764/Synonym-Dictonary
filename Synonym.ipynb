{
  "cells": [
    {
      "cell_type": "markdown",
      "metadata": {
        "id": "view-in-github",
        "colab_type": "text"
      },
      "source": [
        "<a href=\"https://colab.research.google.com/github/txvuong150764/Synonym-Dictonary/blob/master/Synonym.ipynb\" target=\"_parent\"><img src=\"https://colab.research.google.com/assets/colab-badge.svg\" alt=\"Open In Colab\"/></a>"
      ]
    },
    {
      "cell_type": "code",
      "execution_count": 1,
      "metadata": {
        "colab": {
          "base_uri": "https://localhost:8080/"
        },
        "id": "IxidtgMaPlUQ",
        "outputId": "10d42572-8421-46b1-ccd4-e944917de2c1"
      },
      "outputs": [
        {
          "output_type": "stream",
          "name": "stdout",
          "text": [
            "Looking in indexes: https://pypi.org/simple, https://us-python.pkg.dev/colab-wheels/public/simple/\n",
            "Collecting transformers\n",
            "  Downloading transformers-4.25.1-py3-none-any.whl (5.8 MB)\n",
            "\u001b[K     |████████████████████████████████| 5.8 MB 4.2 MB/s \n",
            "\u001b[?25hRequirement already satisfied: requests in /usr/local/lib/python3.8/dist-packages (from transformers) (2.23.0)\n",
            "Requirement already satisfied: regex!=2019.12.17 in /usr/local/lib/python3.8/dist-packages (from transformers) (2022.6.2)\n",
            "Requirement already satisfied: packaging>=20.0 in /usr/local/lib/python3.8/dist-packages (from transformers) (21.3)\n",
            "Collecting tokenizers!=0.11.3,<0.14,>=0.11.1\n",
            "  Downloading tokenizers-0.13.2-cp38-cp38-manylinux_2_17_x86_64.manylinux2014_x86_64.whl (7.6 MB)\n",
            "\u001b[K     |████████████████████████████████| 7.6 MB 63.4 MB/s \n",
            "\u001b[?25hRequirement already satisfied: tqdm>=4.27 in /usr/local/lib/python3.8/dist-packages (from transformers) (4.64.1)\n",
            "Collecting huggingface-hub<1.0,>=0.10.0\n",
            "  Downloading huggingface_hub-0.11.1-py3-none-any.whl (182 kB)\n",
            "\u001b[K     |████████████████████████████████| 182 kB 100.8 MB/s \n",
            "\u001b[?25hRequirement already satisfied: filelock in /usr/local/lib/python3.8/dist-packages (from transformers) (3.8.0)\n",
            "Requirement already satisfied: pyyaml>=5.1 in /usr/local/lib/python3.8/dist-packages (from transformers) (6.0)\n",
            "Requirement already satisfied: numpy>=1.17 in /usr/local/lib/python3.8/dist-packages (from transformers) (1.21.6)\n",
            "Requirement already satisfied: typing-extensions>=3.7.4.3 in /usr/local/lib/python3.8/dist-packages (from huggingface-hub<1.0,>=0.10.0->transformers) (4.1.1)\n",
            "Requirement already satisfied: pyparsing!=3.0.5,>=2.0.2 in /usr/local/lib/python3.8/dist-packages (from packaging>=20.0->transformers) (3.0.9)\n",
            "Requirement already satisfied: chardet<4,>=3.0.2 in /usr/local/lib/python3.8/dist-packages (from requests->transformers) (3.0.4)\n",
            "Requirement already satisfied: certifi>=2017.4.17 in /usr/local/lib/python3.8/dist-packages (from requests->transformers) (2022.9.24)\n",
            "Requirement already satisfied: idna<3,>=2.5 in /usr/local/lib/python3.8/dist-packages (from requests->transformers) (2.10)\n",
            "Requirement already satisfied: urllib3!=1.25.0,!=1.25.1,<1.26,>=1.21.1 in /usr/local/lib/python3.8/dist-packages (from requests->transformers) (1.24.3)\n",
            "Installing collected packages: tokenizers, huggingface-hub, transformers\n",
            "Successfully installed huggingface-hub-0.11.1 tokenizers-0.13.2 transformers-4.25.1\n"
          ]
        }
      ],
      "source": [
        "pip install transformers"
      ]
    },
    {
      "cell_type": "code",
      "execution_count": 2,
      "metadata": {
        "colab": {
          "base_uri": "https://localhost:8080/"
        },
        "id": "R1nxSPQdZhFj",
        "outputId": "d6997fef-bdfb-4af2-c717-71aeeeba075c"
      },
      "outputs": [
        {
          "output_type": "stream",
          "name": "stdout",
          "text": [
            "Looking in indexes: https://pypi.org/simple, https://us-python.pkg.dev/colab-wheels/public/simple/\n",
            "Collecting underthesea\n",
            "  Downloading underthesea-1.3.5-py3-none-any.whl (11.0 MB)\n",
            "\u001b[K     |████████████████████████████████| 11.0 MB 4.2 MB/s \n",
            "\u001b[?25hRequirement already satisfied: Click>=6.0 in /usr/local/lib/python3.8/dist-packages (from underthesea) (7.1.2)\n",
            "Requirement already satisfied: tqdm in /usr/local/lib/python3.8/dist-packages (from underthesea) (4.64.1)\n",
            "Collecting underthesea-core==0.0.5a2\n",
            "  Downloading underthesea_core-0.0.5_alpha.2-cp38-cp38-manylinux2010_x86_64.whl (591 kB)\n",
            "\u001b[K     |████████████████████████████████| 591 kB 91.8 MB/s \n",
            "\u001b[?25hCollecting python-crfsuite>=0.9.6\n",
            "  Downloading python_crfsuite-0.9.8-cp38-cp38-manylinux_2_17_x86_64.manylinux2014_x86_64.whl (1.0 MB)\n",
            "\u001b[K     |████████████████████████████████| 1.0 MB 88.3 MB/s \n",
            "\u001b[?25hRequirement already satisfied: nltk in /usr/local/lib/python3.8/dist-packages (from underthesea) (3.7)\n",
            "Requirement already satisfied: scikit-learn in /usr/local/lib/python3.8/dist-packages (from underthesea) (1.0.2)\n",
            "Requirement already satisfied: requests in /usr/local/lib/python3.8/dist-packages (from underthesea) (2.23.0)\n",
            "Collecting unidecode\n",
            "  Downloading Unidecode-1.3.6-py3-none-any.whl (235 kB)\n",
            "\u001b[K     |████████████████████████████████| 235 kB 67.5 MB/s \n",
            "\u001b[?25hRequirement already satisfied: joblib in /usr/local/lib/python3.8/dist-packages (from underthesea) (1.2.0)\n",
            "Requirement already satisfied: PyYAML in /usr/local/lib/python3.8/dist-packages (from underthesea) (6.0)\n",
            "Requirement already satisfied: regex>=2021.8.3 in /usr/local/lib/python3.8/dist-packages (from nltk->underthesea) (2022.6.2)\n",
            "Requirement already satisfied: chardet<4,>=3.0.2 in /usr/local/lib/python3.8/dist-packages (from requests->underthesea) (3.0.4)\n",
            "Requirement already satisfied: certifi>=2017.4.17 in /usr/local/lib/python3.8/dist-packages (from requests->underthesea) (2022.9.24)\n",
            "Requirement already satisfied: idna<3,>=2.5 in /usr/local/lib/python3.8/dist-packages (from requests->underthesea) (2.10)\n",
            "Requirement already satisfied: urllib3!=1.25.0,!=1.25.1,<1.26,>=1.21.1 in /usr/local/lib/python3.8/dist-packages (from requests->underthesea) (1.24.3)\n",
            "Requirement already satisfied: scipy>=1.1.0 in /usr/local/lib/python3.8/dist-packages (from scikit-learn->underthesea) (1.7.3)\n",
            "Requirement already satisfied: numpy>=1.14.6 in /usr/local/lib/python3.8/dist-packages (from scikit-learn->underthesea) (1.21.6)\n",
            "Requirement already satisfied: threadpoolctl>=2.0.0 in /usr/local/lib/python3.8/dist-packages (from scikit-learn->underthesea) (3.1.0)\n",
            "Installing collected packages: unidecode, underthesea-core, python-crfsuite, underthesea\n",
            "Successfully installed python-crfsuite-0.9.8 underthesea-1.3.5 underthesea-core-0.0.5a2 unidecode-1.3.6\n"
          ]
        }
      ],
      "source": [
        "pip install underthesea"
      ]
    },
    {
      "cell_type": "markdown",
      "metadata": {
        "id": "O3aGwR7iJcjh"
      },
      "source": [
        "# Mount Drive\n"
      ]
    },
    {
      "cell_type": "code",
      "execution_count": 3,
      "metadata": {
        "colab": {
          "base_uri": "https://localhost:8080/"
        },
        "id": "yMVfhNLDGrE7",
        "outputId": "d21c3df6-0493-423e-979d-cf898ec59f26"
      },
      "outputs": [
        {
          "output_type": "stream",
          "name": "stdout",
          "text": [
            "Mounted at /content/drive\n"
          ]
        }
      ],
      "source": [
        "from google.colab import drive\n",
        "drive.mount('/content/drive')"
      ]
    },
    {
      "cell_type": "markdown",
      "metadata": {
        "id": "xDA_cM8QKY1A"
      },
      "source": [
        "# Import Library"
      ]
    },
    {
      "cell_type": "code",
      "execution_count": 4,
      "metadata": {
        "id": "XPTjndBLSZf4"
      },
      "outputs": [],
      "source": [
        "from tensorflow import keras\n",
        "from keras.layers import Dense\n",
        "import tensorflow as tf\n",
        "import torch.nn as nn\n",
        "import numpy as np\n",
        "from tqdm import tqdm\n",
        "from transformers import AutoModel, AutoTokenizer\n",
        "import pandas as pd\n",
        "from underthesea import ner\n",
        "import string\n",
        "import json"
      ]
    },
    {
      "cell_type": "code",
      "execution_count": 5,
      "metadata": {
        "id": "t8n2utAIj7gY"
      },
      "outputs": [],
      "source": [
        "import torch\n",
        "device = torch.device('cuda' if torch.cuda.is_available() else 'cpu')"
      ]
    },
    {
      "cell_type": "markdown",
      "metadata": {
        "id": "07y-ClxnKfAw"
      },
      "source": [
        "# Install vncorenlp"
      ]
    },
    {
      "cell_type": "code",
      "execution_count": 6,
      "metadata": {
        "colab": {
          "base_uri": "https://localhost:8080/"
        },
        "id": "Y0Q7A8iiR-zO",
        "outputId": "f040446b-68a2-469e-9949-c7d83b5d4253"
      },
      "outputs": [
        {
          "output_type": "stream",
          "name": "stdout",
          "text": [
            "Cloning into 'VnCoreNLP'...\n",
            "remote: Enumerating objects: 233, done.\u001b[K\n",
            "remote: Counting objects: 100% (21/21), done.\u001b[K\n",
            "remote: Compressing objects: 100% (21/21), done.\u001b[K\n",
            "remote: Total 233 (delta 12), reused 1 (delta 0), pack-reused 212\u001b[K\n",
            "Receiving objects: 100% (233/233), 214.22 MiB | 24.88 MiB/s, done.\n",
            "Resolving deltas: 100% (88/88), done.\n",
            "Looking in indexes: https://pypi.org/simple, https://us-python.pkg.dev/colab-wheels/public/simple/\n",
            "Collecting vncorenlp\n",
            "  Downloading vncorenlp-1.0.3.tar.gz (2.6 MB)\n",
            "\u001b[K     |████████████████████████████████| 2.6 MB 4.0 MB/s \n",
            "\u001b[?25hRequirement already satisfied: requests in /usr/local/lib/python3.8/dist-packages (from vncorenlp) (2.23.0)\n",
            "Requirement already satisfied: idna<3,>=2.5 in /usr/local/lib/python3.8/dist-packages (from requests->vncorenlp) (2.10)\n",
            "Requirement already satisfied: urllib3!=1.25.0,!=1.25.1,<1.26,>=1.21.1 in /usr/local/lib/python3.8/dist-packages (from requests->vncorenlp) (1.24.3)\n",
            "Requirement already satisfied: certifi>=2017.4.17 in /usr/local/lib/python3.8/dist-packages (from requests->vncorenlp) (2022.9.24)\n",
            "Requirement already satisfied: chardet<4,>=3.0.2 in /usr/local/lib/python3.8/dist-packages (from requests->vncorenlp) (3.0.4)\n",
            "Building wheels for collected packages: vncorenlp\n",
            "  Building wheel for vncorenlp (setup.py) ... \u001b[?25l\u001b[?25hdone\n",
            "  Created wheel for vncorenlp: filename=vncorenlp-1.0.3-py3-none-any.whl size=2645950 sha256=37c62390432eadf09a239dec91eca85fdb9250a6739a0513d99e4089c62b714d\n",
            "  Stored in directory: /root/.cache/pip/wheels/3c/e9/86/706911c12e307aeb9a2702399f0dad38d36f1d6f9dde8af35e\n",
            "Successfully built vncorenlp\n",
            "Installing collected packages: vncorenlp\n",
            "Successfully installed vncorenlp-1.0.3\n"
          ]
        }
      ],
      "source": [
        "!git clone https://github.com/vncorenlp/VnCoreNLP.git\n",
        "!pip install vncorenlp\n",
        "from vncorenlp import VnCoreNLP\n",
        "annotator = VnCoreNLP('VnCoreNLP/VnCoreNLP-1.1.1.jar', annotators=\"wseg,pos,ner\", max_heap_size='-Xmx2g')\n",
        "\n",
        "def word_segment(text):\n",
        "    word_segmented_text = annotator.tokenize(text) \n",
        "    sentences = []\n",
        "    for sentence in word_segmented_text:\n",
        "        sentences.append(' '.join(sentence))\n",
        "    return ' '.join(sentences)"
      ]
    },
    {
      "cell_type": "markdown",
      "metadata": {
        "id": "14LOCmlzPVXW"
      },
      "source": [
        "# Question Similarity Model"
      ]
    },
    {
      "cell_type": "code",
      "execution_count": 7,
      "metadata": {
        "id": "qIrjUyOkSIUo"
      },
      "outputs": [],
      "source": [
        "class EquivalenceClassifier(nn.Module):\n",
        "    def __init__(self, n_classes):\n",
        "        super(EquivalenceClassifier, self).__init__()\n",
        "        self.bert = AutoModel.from_pretrained(\"vinai/phobert-base\")\n",
        "        self.drop = nn.Dropout(p=0.3)\n",
        "        self.fc = nn.Linear(self.bert.config.hidden_size, n_classes)\n",
        "        nn.init.normal_(self.fc.weight, std=0.02)\n",
        "        nn.init.normal_(self.fc.bias, 0)\n",
        "\n",
        "    def forward(self, input_ids, attention_mask):\n",
        "        last_hidden_state, output = self.bert(\n",
        "            input_ids=input_ids,\n",
        "            attention_mask=attention_mask,\n",
        "            return_dict=False # Dropout will errors if without this\n",
        "        )\n",
        "\n",
        "        x = self.drop(output)\n",
        "        x = self.fc(x)\n",
        "        return x"
      ]
    },
    {
      "cell_type": "code",
      "execution_count": 8,
      "metadata": {
        "colab": {
          "base_uri": "https://localhost:8080/",
          "height": 130,
          "referenced_widgets": [
            "ebbc070bf2cb4bbdb7d8639db72f7da1",
            "11069fb3e90940c69a11c13d1b9af8dc",
            "b872faa5821f4d1f995739ffbe7f3bee",
            "9398498b082a496499f902ffb0047573",
            "54bab0e406ba49af9994714e0ec16f05",
            "a4c3c9cda34b44ee9a6edeeb758521bf",
            "6d067a81686f40c080508310b165d9f5",
            "e0006c816c1244b2a47682871c2e8277",
            "6d51f311ebb44c83af9fda4555d58b07",
            "aaa6f8155f384692a179940501177e9b",
            "d775ad04cbb6496b9df26a5cbb54ad7d",
            "f7826b39eb3d4681838675fda44f746f",
            "ff0d543ab4634b33888b9fe659747807",
            "eb5b8392c10f42ecb218023a868fbe08",
            "6ddf709897f947f79fc1b267d2c1da7f",
            "7d7e256ce8ef42f9bd82991fdee6ac98",
            "b3c9542e30154d4395cc003baff355d9",
            "42b1b992601d427ca6269d6382914cbd",
            "c309ea0ac4ee4195a71550eda049f23b",
            "9b35fd1afdfe4de1b9aa996975b09d99",
            "53531c04161742b4b635211ad6643ab0",
            "288fecb48db04dc7b5c5ad505e5ea853",
            "25cd587417f54cdf820c6c10199835c0",
            "fdb23aa9660f4730bbe0fbf27a97f829",
            "ff576d46dc034d4c8c3dabe88c0c63be",
            "edef101560e54830b12162818901a374",
            "42f517d8006c4892b4884a7332ce28f2",
            "74b049bf9f8e4392a8b25d0ae6d9aeb3",
            "3bd4bc532ccd4a0b81960ee2a9dd5ab8",
            "d4338464f2bd43a2924fb41c7ca870e6",
            "40900526a90248bf9de72d5626606326",
            "4ca9111f026d4f9dbd1a7cbde21305f2",
            "cceb7c7a4efc471296df097e82b035a7"
          ]
        },
        "id": "1c5_yinRTBnE",
        "outputId": "5e6cc0b9-47e1-4c71-adcb-a2872db37e44"
      },
      "outputs": [
        {
          "output_type": "display_data",
          "data": {
            "text/plain": [
              "Downloading:   0%|          | 0.00/557 [00:00<?, ?B/s]"
            ],
            "application/vnd.jupyter.widget-view+json": {
              "version_major": 2,
              "version_minor": 0,
              "model_id": "ebbc070bf2cb4bbdb7d8639db72f7da1"
            }
          },
          "metadata": {}
        },
        {
          "output_type": "display_data",
          "data": {
            "text/plain": [
              "Downloading:   0%|          | 0.00/895k [00:00<?, ?B/s]"
            ],
            "application/vnd.jupyter.widget-view+json": {
              "version_major": 2,
              "version_minor": 0,
              "model_id": "f7826b39eb3d4681838675fda44f746f"
            }
          },
          "metadata": {}
        },
        {
          "output_type": "display_data",
          "data": {
            "text/plain": [
              "Downloading:   0%|          | 0.00/1.14M [00:00<?, ?B/s]"
            ],
            "application/vnd.jupyter.widget-view+json": {
              "version_major": 2,
              "version_minor": 0,
              "model_id": "25cd587417f54cdf820c6c10199835c0"
            }
          },
          "metadata": {}
        },
        {
          "output_type": "stream",
          "name": "stderr",
          "text": [
            "Special tokens have been added in the vocabulary, make sure the associated word embeddings are fine-tuned or trained.\n"
          ]
        }
      ],
      "source": [
        "tokenizer = AutoTokenizer.from_pretrained(\"vinai/phobert-base\")"
      ]
    },
    {
      "cell_type": "markdown",
      "metadata": {
        "id": "NBLHxD4jPj2M"
      },
      "source": [
        "# Load Question Similarity Model\n"
      ]
    },
    {
      "cell_type": "code",
      "execution_count": 9,
      "metadata": {
        "colab": {
          "base_uri": "https://localhost:8080/",
          "height": 138,
          "referenced_widgets": [
            "ff9c2116b2f84ccfa01bd40da010461c",
            "d0c56ff80d4b4c8c931ea9cf48417523",
            "480542d3a25b4a5aa6923e70379d13c8",
            "d9c4acb36ac140d1a8cf6cf59a981086",
            "8ae47efae2824e8ca5d8e2e09b8a507c",
            "262104fa8e27445ca6dab51c73bb1f05",
            "0e37545751354960b41a5fcb7b35cdb4",
            "a4d68d8855974608a6f20738c3718906",
            "5e1a52f10cf545e5acb2e2767ec7383b",
            "c9381ebe9bb64d7fb06c69c4ac64eb23",
            "a563ca73a0de4bdb8fe0432226484634"
          ]
        },
        "id": "0F-sjPFMSpsT",
        "outputId": "499ff75a-7a87-4cba-b6f9-1b77b36c73e5"
      },
      "outputs": [
        {
          "output_type": "display_data",
          "data": {
            "text/plain": [
              "Downloading:   0%|          | 0.00/543M [00:00<?, ?B/s]"
            ],
            "application/vnd.jupyter.widget-view+json": {
              "version_major": 2,
              "version_minor": 0,
              "model_id": "ff9c2116b2f84ccfa01bd40da010461c"
            }
          },
          "metadata": {}
        },
        {
          "output_type": "stream",
          "name": "stderr",
          "text": [
            "Some weights of the model checkpoint at vinai/phobert-base were not used when initializing RobertaModel: ['lm_head.bias', 'lm_head.layer_norm.weight', 'lm_head.decoder.weight', 'lm_head.dense.weight', 'lm_head.dense.bias', 'lm_head.decoder.bias', 'lm_head.layer_norm.bias']\n",
            "- This IS expected if you are initializing RobertaModel from the checkpoint of a model trained on another task or with another architecture (e.g. initializing a BertForSequenceClassification model from a BertForPreTraining model).\n",
            "- This IS NOT expected if you are initializing RobertaModel from the checkpoint of a model that you expect to be exactly identical (initializing a BertForSequenceClassification model from a BertForSequenceClassification model).\n"
          ]
        },
        {
          "output_type": "execute_result",
          "data": {
            "text/plain": [
              "<All keys matched successfully>"
            ]
          },
          "metadata": {},
          "execution_count": 9
        }
      ],
      "source": [
        "model = EquivalenceClassifier(n_classes=2)\n",
        "model.to(device)\n",
        "model.load_state_dict(torch.load(f'/content/drive/MyDrive/phobert_fold6.pth'))"
      ]
    },
    {
      "cell_type": "markdown",
      "metadata": {
        "id": "t5kNDBAOQPwF"
      },
      "source": [
        "# Load Dictionary and Stopword file\n"
      ]
    },
    {
      "cell_type": "code",
      "execution_count": null,
      "metadata": {
        "id": "1n7FvZyubPyd"
      },
      "outputs": [],
      "source": [
        "with open('/content/drive/MyDrive/Final Project Zalo Internship/Final Project/Viet74K_Tokenized.txt') as f:\n",
        "    tmp_dictionary = f.readlines()\n",
        "\n",
        "with open('/content/drive/MyDrive/Final Project Zalo Internship/Final Project/vietnamese-stopwords-master/vietnamese-stopwords-dash.txt') as f:\n",
        "    tmp_stop_word = f.readlines()"
      ]
    },
    {
      "cell_type": "code",
      "execution_count": null,
      "metadata": {
        "id": "v52LE7RGoFKE"
      },
      "outputs": [],
      "source": [
        "dictionary = []\n",
        "for word in tmp_dictionary:\n",
        "    word = word.replace('\\n', '')\n",
        "    dictionary.append(word)"
      ]
    },
    {
      "cell_type": "code",
      "execution_count": null,
      "metadata": {
        "id": "LKdbvNlM3Xj7"
      },
      "outputs": [],
      "source": [
        "stop_word = []\n",
        "for word in tmp_stop_word:\n",
        "    word = word.replace('\\n', '')\n",
        "    stop_word.append(word)"
      ]
    },
    {
      "cell_type": "code",
      "execution_count": null,
      "metadata": {
        "id": "5AT5w4s_y7Ny"
      },
      "outputs": [],
      "source": [
        "punctuation_set = set(string.punctuation)"
      ]
    },
    {
      "cell_type": "code",
      "execution_count": null,
      "metadata": {
        "id": "qeMRfIh0rNXY"
      },
      "outputs": [],
      "source": [
        "trec57_train_df = pd.read_csv('/content/drive/MyDrive/Final Project Zalo Internship/Final Project/trec57/train.csv')\n",
        "trec57_test_df = pd.read_csv('/content/drive/MyDrive/Final Project Zalo Internship/Final Project/trec57/test.csv')\n",
        "trec57_dev_df = pd.read_csv('/content/drive/MyDrive/Final Project Zalo Internship/Final Project/trec57/dev.csv')"
      ]
    },
    {
      "cell_type": "code",
      "execution_count": null,
      "metadata": {
        "id": "5rE_2Ayxt4DN"
      },
      "outputs": [],
      "source": [
        "trec57_train_df = trec57_train_df.drop(trec57_train_df[trec57_train_df['label'] == 'CONVERSTATION'].index)\n",
        "trec57_test_df = trec57_test_df.drop(trec57_test_df[trec57_test_df['label'] == 'CONVERSTATION'].index)\n",
        "trec57_dev_df = trec57_dev_df.drop(trec57_dev_df[trec57_dev_df['label'] == 'CONVERSTATION'].index)\n",
        "\n",
        "trec57_train_df = trec57_train_df.drop(trec57_train_df[trec57_train_df['label'] == 'BAD'].index)\n",
        "trec57_test_df = trec57_test_df.drop(trec57_test_df[trec57_test_df['label'] == 'BAD'].index)\n",
        "trec57_dev_df = trec57_dev_df.drop(trec57_dev_df[trec57_dev_df['label'] == 'BAD'].index)"
      ]
    },
    {
      "cell_type": "code",
      "execution_count": null,
      "metadata": {
        "colab": {
          "base_uri": "https://localhost:8080/",
          "height": 49
        },
        "id": "18vfeW6rpRLA",
        "outputId": "2a90209b-ca51-419c-8ca9-fe56f4f02a91"
      },
      "outputs": [
        {
          "data": {
            "text/html": [
              "\n",
              "  <div id=\"df-af7fb856-e024-40c1-b159-04f2928cb0be\">\n",
              "    <div class=\"colab-df-container\">\n",
              "      <div>\n",
              "<style scoped>\n",
              "    .dataframe tbody tr th:only-of-type {\n",
              "        vertical-align: middle;\n",
              "    }\n",
              "\n",
              "    .dataframe tbody tr th {\n",
              "        vertical-align: top;\n",
              "    }\n",
              "\n",
              "    .dataframe thead th {\n",
              "        text-align: right;\n",
              "    }\n",
              "</style>\n",
              "<table border=\"1\" class=\"dataframe\">\n",
              "  <thead>\n",
              "    <tr style=\"text-align: right;\">\n",
              "      <th></th>\n",
              "      <th>label</th>\n",
              "      <th>text</th>\n",
              "    </tr>\n",
              "  </thead>\n",
              "  <tbody>\n",
              "  </tbody>\n",
              "</table>\n",
              "</div>\n",
              "      <button class=\"colab-df-convert\" onclick=\"convertToInteractive('df-af7fb856-e024-40c1-b159-04f2928cb0be')\"\n",
              "              title=\"Convert this dataframe to an interactive table.\"\n",
              "              style=\"display:none;\">\n",
              "        \n",
              "  <svg xmlns=\"http://www.w3.org/2000/svg\" height=\"24px\"viewBox=\"0 0 24 24\"\n",
              "       width=\"24px\">\n",
              "    <path d=\"M0 0h24v24H0V0z\" fill=\"none\"/>\n",
              "    <path d=\"M18.56 5.44l.94 2.06.94-2.06 2.06-.94-2.06-.94-.94-2.06-.94 2.06-2.06.94zm-11 1L8.5 8.5l.94-2.06 2.06-.94-2.06-.94L8.5 2.5l-.94 2.06-2.06.94zm10 10l.94 2.06.94-2.06 2.06-.94-2.06-.94-.94-2.06-.94 2.06-2.06.94z\"/><path d=\"M17.41 7.96l-1.37-1.37c-.4-.4-.92-.59-1.43-.59-.52 0-1.04.2-1.43.59L10.3 9.45l-7.72 7.72c-.78.78-.78 2.05 0 2.83L4 21.41c.39.39.9.59 1.41.59.51 0 1.02-.2 1.41-.59l7.78-7.78 2.81-2.81c.8-.78.8-2.07 0-2.86zM5.41 20L4 18.59l7.72-7.72 1.47 1.35L5.41 20z\"/>\n",
              "  </svg>\n",
              "      </button>\n",
              "      \n",
              "  <style>\n",
              "    .colab-df-container {\n",
              "      display:flex;\n",
              "      flex-wrap:wrap;\n",
              "      gap: 12px;\n",
              "    }\n",
              "\n",
              "    .colab-df-convert {\n",
              "      background-color: #E8F0FE;\n",
              "      border: none;\n",
              "      border-radius: 50%;\n",
              "      cursor: pointer;\n",
              "      display: none;\n",
              "      fill: #1967D2;\n",
              "      height: 32px;\n",
              "      padding: 0 0 0 0;\n",
              "      width: 32px;\n",
              "    }\n",
              "\n",
              "    .colab-df-convert:hover {\n",
              "      background-color: #E2EBFA;\n",
              "      box-shadow: 0px 1px 2px rgba(60, 64, 67, 0.3), 0px 1px 3px 1px rgba(60, 64, 67, 0.15);\n",
              "      fill: #174EA6;\n",
              "    }\n",
              "\n",
              "    [theme=dark] .colab-df-convert {\n",
              "      background-color: #3B4455;\n",
              "      fill: #D2E3FC;\n",
              "    }\n",
              "\n",
              "    [theme=dark] .colab-df-convert:hover {\n",
              "      background-color: #434B5C;\n",
              "      box-shadow: 0px 1px 3px 1px rgba(0, 0, 0, 0.15);\n",
              "      filter: drop-shadow(0px 1px 2px rgba(0, 0, 0, 0.3));\n",
              "      fill: #FFFFFF;\n",
              "    }\n",
              "  </style>\n",
              "\n",
              "      <script>\n",
              "        const buttonEl =\n",
              "          document.querySelector('#df-af7fb856-e024-40c1-b159-04f2928cb0be button.colab-df-convert');\n",
              "        buttonEl.style.display =\n",
              "          google.colab.kernel.accessAllowed ? 'block' : 'none';\n",
              "\n",
              "        async function convertToInteractive(key) {\n",
              "          const element = document.querySelector('#df-af7fb856-e024-40c1-b159-04f2928cb0be');\n",
              "          const dataTable =\n",
              "            await google.colab.kernel.invokeFunction('convertToInteractive',\n",
              "                                                     [key], {});\n",
              "          if (!dataTable) return;\n",
              "\n",
              "          const docLinkHtml = 'Like what you see? Visit the ' +\n",
              "            '<a target=\"_blank\" href=https://colab.research.google.com/notebooks/data_table.ipynb>data table notebook</a>'\n",
              "            + ' to learn more about interactive tables.';\n",
              "          element.innerHTML = '';\n",
              "          dataTable['output_type'] = 'display_data';\n",
              "          await google.colab.output.renderOutput(dataTable, element);\n",
              "          const docLink = document.createElement('div');\n",
              "          docLink.innerHTML = docLinkHtml;\n",
              "          element.appendChild(docLink);\n",
              "        }\n",
              "      </script>\n",
              "    </div>\n",
              "  </div>\n",
              "  "
            ],
            "text/plain": [
              "Empty DataFrame\n",
              "Columns: [label, text]\n",
              "Index: []"
            ]
          },
          "execution_count": 119,
          "metadata": {},
          "output_type": "execute_result"
        }
      ],
      "source": [
        "trec57_train_df[trec57_train_df['label'] == 'CONVERSTATION']"
      ]
    },
    {
      "cell_type": "code",
      "execution_count": null,
      "metadata": {
        "id": "2ankqA5Vr3XP"
      },
      "outputs": [],
      "source": [
        "trec57_train_df = trec57_train_df.drop(['label'], axis=1)\n",
        "trec57_test_df = trec57_test_df.drop(['label'], axis=1)\n",
        "trec57_dev_df = trec57_dev_df.drop(['label'], axis=1)"
      ]
    },
    {
      "cell_type": "code",
      "execution_count": null,
      "metadata": {
        "id": "rk4x3Gp6CA_L"
      },
      "outputs": [],
      "source": [
        "li = [trec57_train_df, trec57_test_df, trec57_dev_df]"
      ]
    },
    {
      "cell_type": "code",
      "execution_count": null,
      "metadata": {
        "id": "42L4tU4sBMw_"
      },
      "outputs": [],
      "source": [
        "trec57_question_list = pd.concat(li, axis=0, ignore_index=True)"
      ]
    },
    {
      "cell_type": "code",
      "execution_count": null,
      "metadata": {
        "colab": {
          "base_uri": "https://localhost:8080/",
          "height": 424
        },
        "id": "wIkAD7_vCKwu",
        "outputId": "17cc1713-d42c-454e-d362-975c0917c0d6"
      },
      "outputs": [
        {
          "data": {
            "text/html": [
              "\n",
              "  <div id=\"df-fec5fd58-e170-491a-badc-2ab079e1ee49\">\n",
              "    <div class=\"colab-df-container\">\n",
              "      <div>\n",
              "<style scoped>\n",
              "    .dataframe tbody tr th:only-of-type {\n",
              "        vertical-align: middle;\n",
              "    }\n",
              "\n",
              "    .dataframe tbody tr th {\n",
              "        vertical-align: top;\n",
              "    }\n",
              "\n",
              "    .dataframe thead th {\n",
              "        text-align: right;\n",
              "    }\n",
              "</style>\n",
              "<table border=\"1\" class=\"dataframe\">\n",
              "  <thead>\n",
              "    <tr style=\"text-align: right;\">\n",
              "      <th></th>\n",
              "      <th>text</th>\n",
              "    </tr>\n",
              "  </thead>\n",
              "  <tbody>\n",
              "    <tr>\n",
              "      <th>0</th>\n",
              "      <td>boston ở đâu</td>\n",
              "    </tr>\n",
              "    <tr>\n",
              "      <th>1</th>\n",
              "      <td>tiểu bang nào ở phía tây pennsylvania</td>\n",
              "    </tr>\n",
              "    <tr>\n",
              "      <th>2</th>\n",
              "      <td>hàn quốc nằm ở khu vực nào</td>\n",
              "    </tr>\n",
              "    <tr>\n",
              "      <th>3</th>\n",
              "      <td>quần đảo trường sa được việt nam chia làm mấy cụm</td>\n",
              "    </tr>\n",
              "    <tr>\n",
              "      <th>4</th>\n",
              "      <td>thủ đô của indonesia có tên là gì</td>\n",
              "    </tr>\n",
              "    <tr>\n",
              "      <th>...</th>\n",
              "      <td>...</td>\n",
              "    </tr>\n",
              "    <tr>\n",
              "      <th>21492</th>\n",
              "      <td>canh rau má có tốt cho bà bầu không</td>\n",
              "    </tr>\n",
              "    <tr>\n",
              "      <th>21493</th>\n",
              "      <td>ăn bầu có tốt cho bà bầu không</td>\n",
              "    </tr>\n",
              "    <tr>\n",
              "      <th>21494</th>\n",
              "      <td>ăn dưa gang có tốt cho bà bầu không</td>\n",
              "    </tr>\n",
              "    <tr>\n",
              "      <th>21495</th>\n",
              "      <td>ăn sữa có tốt cho bà bầu không</td>\n",
              "    </tr>\n",
              "    <tr>\n",
              "      <th>21496</th>\n",
              "      <td>ăn mật ong có tốt cho bà bầu không</td>\n",
              "    </tr>\n",
              "  </tbody>\n",
              "</table>\n",
              "<p>21497 rows × 1 columns</p>\n",
              "</div>\n",
              "      <button class=\"colab-df-convert\" onclick=\"convertToInteractive('df-fec5fd58-e170-491a-badc-2ab079e1ee49')\"\n",
              "              title=\"Convert this dataframe to an interactive table.\"\n",
              "              style=\"display:none;\">\n",
              "        \n",
              "  <svg xmlns=\"http://www.w3.org/2000/svg\" height=\"24px\"viewBox=\"0 0 24 24\"\n",
              "       width=\"24px\">\n",
              "    <path d=\"M0 0h24v24H0V0z\" fill=\"none\"/>\n",
              "    <path d=\"M18.56 5.44l.94 2.06.94-2.06 2.06-.94-2.06-.94-.94-2.06-.94 2.06-2.06.94zm-11 1L8.5 8.5l.94-2.06 2.06-.94-2.06-.94L8.5 2.5l-.94 2.06-2.06.94zm10 10l.94 2.06.94-2.06 2.06-.94-2.06-.94-.94-2.06-.94 2.06-2.06.94z\"/><path d=\"M17.41 7.96l-1.37-1.37c-.4-.4-.92-.59-1.43-.59-.52 0-1.04.2-1.43.59L10.3 9.45l-7.72 7.72c-.78.78-.78 2.05 0 2.83L4 21.41c.39.39.9.59 1.41.59.51 0 1.02-.2 1.41-.59l7.78-7.78 2.81-2.81c.8-.78.8-2.07 0-2.86zM5.41 20L4 18.59l7.72-7.72 1.47 1.35L5.41 20z\"/>\n",
              "  </svg>\n",
              "      </button>\n",
              "      \n",
              "  <style>\n",
              "    .colab-df-container {\n",
              "      display:flex;\n",
              "      flex-wrap:wrap;\n",
              "      gap: 12px;\n",
              "    }\n",
              "\n",
              "    .colab-df-convert {\n",
              "      background-color: #E8F0FE;\n",
              "      border: none;\n",
              "      border-radius: 50%;\n",
              "      cursor: pointer;\n",
              "      display: none;\n",
              "      fill: #1967D2;\n",
              "      height: 32px;\n",
              "      padding: 0 0 0 0;\n",
              "      width: 32px;\n",
              "    }\n",
              "\n",
              "    .colab-df-convert:hover {\n",
              "      background-color: #E2EBFA;\n",
              "      box-shadow: 0px 1px 2px rgba(60, 64, 67, 0.3), 0px 1px 3px 1px rgba(60, 64, 67, 0.15);\n",
              "      fill: #174EA6;\n",
              "    }\n",
              "\n",
              "    [theme=dark] .colab-df-convert {\n",
              "      background-color: #3B4455;\n",
              "      fill: #D2E3FC;\n",
              "    }\n",
              "\n",
              "    [theme=dark] .colab-df-convert:hover {\n",
              "      background-color: #434B5C;\n",
              "      box-shadow: 0px 1px 3px 1px rgba(0, 0, 0, 0.15);\n",
              "      filter: drop-shadow(0px 1px 2px rgba(0, 0, 0, 0.3));\n",
              "      fill: #FFFFFF;\n",
              "    }\n",
              "  </style>\n",
              "\n",
              "      <script>\n",
              "        const buttonEl =\n",
              "          document.querySelector('#df-fec5fd58-e170-491a-badc-2ab079e1ee49 button.colab-df-convert');\n",
              "        buttonEl.style.display =\n",
              "          google.colab.kernel.accessAllowed ? 'block' : 'none';\n",
              "\n",
              "        async function convertToInteractive(key) {\n",
              "          const element = document.querySelector('#df-fec5fd58-e170-491a-badc-2ab079e1ee49');\n",
              "          const dataTable =\n",
              "            await google.colab.kernel.invokeFunction('convertToInteractive',\n",
              "                                                     [key], {});\n",
              "          if (!dataTable) return;\n",
              "\n",
              "          const docLinkHtml = 'Like what you see? Visit the ' +\n",
              "            '<a target=\"_blank\" href=https://colab.research.google.com/notebooks/data_table.ipynb>data table notebook</a>'\n",
              "            + ' to learn more about interactive tables.';\n",
              "          element.innerHTML = '';\n",
              "          dataTable['output_type'] = 'display_data';\n",
              "          await google.colab.output.renderOutput(dataTable, element);\n",
              "          const docLink = document.createElement('div');\n",
              "          docLink.innerHTML = docLinkHtml;\n",
              "          element.appendChild(docLink);\n",
              "        }\n",
              "      </script>\n",
              "    </div>\n",
              "  </div>\n",
              "  "
            ],
            "text/plain": [
              "                                                    text\n",
              "0                                           boston ở đâu\n",
              "1                  tiểu bang nào ở phía tây pennsylvania\n",
              "2                             hàn quốc nằm ở khu vực nào\n",
              "3      quần đảo trường sa được việt nam chia làm mấy cụm\n",
              "4                      thủ đô của indonesia có tên là gì\n",
              "...                                                  ...\n",
              "21492                canh rau má có tốt cho bà bầu không\n",
              "21493                     ăn bầu có tốt cho bà bầu không\n",
              "21494                ăn dưa gang có tốt cho bà bầu không\n",
              "21495                     ăn sữa có tốt cho bà bầu không\n",
              "21496                 ăn mật ong có tốt cho bà bầu không\n",
              "\n",
              "[21497 rows x 1 columns]"
            ]
          },
          "execution_count": 123,
          "metadata": {},
          "output_type": "execute_result"
        }
      ],
      "source": [
        "trec57_question_list"
      ]
    },
    {
      "cell_type": "code",
      "execution_count": null,
      "metadata": {
        "id": "luG-7p54JvhS"
      },
      "outputs": [],
      "source": [
        "wiki_question_list = pd.read_csv('/content/drive/MyDrive/Final Project Zalo Internship/Final Project/wiki75/wiki74-revising.csv')"
      ]
    },
    {
      "cell_type": "code",
      "execution_count": null,
      "metadata": {
        "id": "27aPm0XjLHIi"
      },
      "outputs": [],
      "source": [
        "wiki_question_list = wiki_question_list.drop(['g_id', 'id', 'label', 'set'], axis=1)"
      ]
    },
    {
      "cell_type": "code",
      "execution_count": null,
      "metadata": {
        "id": "WPz20Y3YC2qL"
      },
      "outputs": [],
      "source": [
        "import json\n",
        "with open('/content/drive/MyDrive/Final Project Zalo Internship/Final Project/QAC/version/v0.0.1/train.jsonl', 'r', encoding='utf-8') as json_file:\n",
        "    json_list = list(json_file)\n",
        "\n",
        "qac_question_list = []\n",
        "\n",
        "for json_str in json_list:\n",
        "    result = json.loads(json_str)\n",
        "    if result['question'] not in qac_question_list:\n",
        "      qac_question_list.append(result['question'])"
      ]
    },
    {
      "cell_type": "code",
      "execution_count": null,
      "metadata": {
        "id": "bAdLbQ1OGeto"
      },
      "outputs": [],
      "source": [
        "import json\n",
        "with open('/content/drive/MyDrive/Final Project Zalo Internship/Final Project/QAC/version/v0.0.1/test.jsonl', 'r', encoding='utf-8') as json_file:\n",
        "    json_list = list(json_file)\n",
        "\n",
        "for json_str in json_list:\n",
        "    result = json.loads(json_str)\n",
        "    if result['question'] not in qac_question_list:\n",
        "      qac_question_list.append(result['question'])"
      ]
    },
    {
      "cell_type": "code",
      "execution_count": null,
      "metadata": {
        "id": "GomC2v5_Gkyd"
      },
      "outputs": [],
      "source": [
        "import json\n",
        "with open('/content/drive/MyDrive/Final Project Zalo Internship/Final Project/QAC/version/v0.0.1/dev.jsonl', 'r', encoding='utf-8') as json_file:\n",
        "    json_list = list(json_file)\n",
        "\n",
        "for json_str in json_list:\n",
        "    result = json.loads(json_str)\n",
        "    if result['question'] not in qac_question_list:\n",
        "      qac_question_list.append(result['question'])"
      ]
    },
    {
      "cell_type": "code",
      "execution_count": null,
      "metadata": {
        "id": "Kt6CkTmEGyfJ"
      },
      "outputs": [],
      "source": [
        "all_question_list = []\n",
        "\n",
        "# for question in trec57_question_list['text']:\n",
        "#   all_question_list.append(question)\n",
        "\n",
        "for question in wiki_question_list['text']:\n",
        "  all_question_list.append(question)\n",
        "\n",
        "for question in qac_question_list:\n",
        "  all_question_list.append(question)"
      ]
    },
    {
      "cell_type": "code",
      "execution_count": null,
      "metadata": {
        "id": "QUcpzDToR17e"
      },
      "outputs": [],
      "source": [
        "for question in all_question_list:\n",
        "  if type(question) != str:\n",
        "    all_question_list.remove(question)"
      ]
    },
    {
      "cell_type": "code",
      "execution_count": null,
      "metadata": {
        "colab": {
          "base_uri": "https://localhost:8080/"
        },
        "id": "Mho0ari5ue9D",
        "outputId": "53cacbe8-da6f-4880-80a6-ab2d63987787"
      },
      "outputs": [
        {
          "name": "stderr",
          "output_type": "stream",
          "text": [
            "100%|██████████| 30768/30768 [01:10<00:00, 434.82it/s]\n"
          ]
        }
      ],
      "source": [
        "all_tokenzied_question_list = []\n",
        "for i in tqdm(range(len(all_question_list))):\n",
        "  all_tokenzied_question_list.append(word_segment(all_question_list[i]))"
      ]
    },
    {
      "cell_type": "code",
      "execution_count": null,
      "metadata": {
        "colab": {
          "base_uri": "https://localhost:8080/"
        },
        "id": "c0HkhvNmXa95",
        "outputId": "41ca2718-b272-42b1-de98-2f4b27516707"
      },
      "outputs": [
        {
          "name": "stderr",
          "output_type": "stream",
          "text": [
            "100%|██████████| 30768/30768 [09:53<00:00, 51.81it/s]\n"
          ]
        }
      ],
      "source": [
        "noun_and_question_list = {}\n",
        "np_and_question_list = {}\n",
        "nc_and_question_list = {}\n",
        "p_and_question_list = {}\n",
        "b_and_question_list = {}\n",
        "adj_and_question_list = {}\n",
        "verb_and_question_list = {}\n",
        "\n",
        "for question in tqdm(all_question_list):\n",
        "  pos_tag = annotator.pos_tag(question)\n",
        "  for i in range(len(pos_tag[0])):\n",
        "    tag = pos_tag[0][i][1]\n",
        "    if tag == 'N':\n",
        "      word = pos_tag[0][i][0]\n",
        "      word_ner = annotator.ner(word.replace('_', ' '))\n",
        "      if word_ner[0][0][1] != 'B-LOC' and word_ner[0][0][1] != 'B-PER' and word_ner[0][0][1] != 'B-ORG':\n",
        "        if word in noun_and_question_list.keys():\n",
        "          noun_and_question_list[word].append(word_segment(question))\n",
        "        else:\n",
        "          noun_and_question_list[word] = [word_segment(question)]\n",
        "    \n",
        "    if tag == 'A':\n",
        "      word = pos_tag[0][i][0]\n",
        "      if word in adj_and_question_list.keys():\n",
        "        adj_and_question_list[word].append(word_segment(question))\n",
        "      else:\n",
        "        adj_and_question_list[word] = [word_segment(question)]\n",
        "\n",
        "    if tag == 'V':\n",
        "      word = pos_tag[0][i][0]\n",
        "      if word in verb_and_question_list.keys():\n",
        "        verb_and_question_list[word].append(word_segment(question))\n",
        "      else:\n",
        "        verb_and_question_list[word] = [word_segment(question)]\n",
        "\n",
        "    if tag == 'Np':\n",
        "      word = pos_tag[0][i][0]\n",
        "      if word in np_and_question_list.keys():\n",
        "        np_and_question_list[word].append(word_segment(question))\n",
        "      else:\n",
        "        np_and_question_list[word] = [word_segment(question)]\n",
        "\n",
        "    if tag == 'Nc':\n",
        "      word = pos_tag[0][i][0]\n",
        "      if word in nc_and_question_list.keys():\n",
        "        nc_and_question_list[word].append(word_segment(question))\n",
        "      else:\n",
        "        nc_and_question_list[word] = [word_segment(question)]\n",
        "\n",
        "    if tag == 'P':\n",
        "      word = pos_tag[0][i][0]\n",
        "      if word in p_and_question_list.keys():\n",
        "        p_and_question_list[word].append(word_segment(question))\n",
        "      else:\n",
        "        p_and_question_list[word] = [word_segment(question)]\n",
        "\n",
        "    if tag == 'B':\n",
        "      word = pos_tag[0][i][0]\n",
        "      if word in b_and_question_list.keys():\n",
        "        b_and_question_list[word].append(word_segment(question))\n",
        "      else:\n",
        "        b_and_question_list[word] = [word_segment(question)]"
      ]
    },
    {
      "cell_type": "code",
      "execution_count": null,
      "metadata": {
        "id": "E375ziT5Z28Y"
      },
      "outputs": [],
      "source": [
        "all_word_list = {\n",
        "    'noun': [],\n",
        "    'np': [],\n",
        "    'nc': [],\n",
        "    'p': [],\n",
        "    'b': [],\n",
        "    'adj': [],\n",
        "    'verb': [],\n",
        "}\n",
        "\n",
        "for key in noun_and_question_list.keys():\n",
        "  all_word_list['noun'].append(key)\n",
        "\n",
        "for key in np_and_question_list.keys():\n",
        "  all_word_list['np'].append(key)\n",
        "\n",
        "for key in nc_and_question_list.keys():\n",
        "  all_word_list['nc'].append(key)\n",
        "\n",
        "for key in b_and_question_list.keys():\n",
        "  all_word_list['b'].append(key)\n",
        "\n",
        "for key in p_and_question_list.keys():\n",
        "  all_word_list['p'].append(key)\n",
        "\n",
        "for key in adj_and_question_list.keys():\n",
        "  all_word_list['adj'].append(key)\n",
        "\n",
        "for key in verb_and_question_list.keys():\n",
        "  all_word_list['verb'].append(key)"
      ]
    },
    {
      "cell_type": "code",
      "execution_count": null,
      "metadata": {
        "colab": {
          "base_uri": "https://localhost:8080/",
          "height": 218
        },
        "id": "iXBcnT3obdLq",
        "outputId": "fe91421a-6395-471f-843b-1bc35f6093aa"
      },
      "outputs": [
        {
          "ename": "NameError",
          "evalue": "ignored",
          "output_type": "error",
          "traceback": [
            "\u001b[0;31m---------------------------------------------------------------------------\u001b[0m",
            "\u001b[0;31mNameError\u001b[0m                                 Traceback (most recent call last)",
            "\u001b[0;32m<ipython-input-22-7c1ae7cd4954>\u001b[0m in \u001b[0;36m<module>\u001b[0;34m\u001b[0m\n\u001b[1;32m      1\u001b[0m \u001b[0;32mimport\u001b[0m \u001b[0mjson\u001b[0m\u001b[0;34m\u001b[0m\u001b[0;34m\u001b[0m\u001b[0m\n\u001b[1;32m      2\u001b[0m \u001b[0;32mwith\u001b[0m \u001b[0mopen\u001b[0m\u001b[0;34m(\u001b[0m\u001b[0;34m\"/content/drive/MyDrive/Final Project Zalo Internship/Final Project/Categorized vocab (No Trec57)/all_word_list.json\"\u001b[0m\u001b[0;34m,\u001b[0m\u001b[0;34m\"w\"\u001b[0m\u001b[0;34m,\u001b[0m \u001b[0mencoding\u001b[0m\u001b[0;34m=\u001b[0m\u001b[0;34m'utf-8'\u001b[0m\u001b[0;34m)\u001b[0m \u001b[0;32mas\u001b[0m \u001b[0mjsonfile\u001b[0m\u001b[0;34m:\u001b[0m\u001b[0;34m\u001b[0m\u001b[0;34m\u001b[0m\u001b[0m\n\u001b[0;32m----> 3\u001b[0;31m     \u001b[0mjson\u001b[0m\u001b[0;34m.\u001b[0m\u001b[0mdump\u001b[0m\u001b[0;34m(\u001b[0m\u001b[0mall_word_list\u001b[0m\u001b[0;34m,\u001b[0m\u001b[0mjsonfile\u001b[0m\u001b[0;34m,\u001b[0m\u001b[0mensure_ascii\u001b[0m\u001b[0;34m=\u001b[0m\u001b[0;32mFalse\u001b[0m\u001b[0;34m,\u001b[0m \u001b[0mindent\u001b[0m\u001b[0;34m=\u001b[0m\u001b[0;36m2\u001b[0m\u001b[0;34m)\u001b[0m\u001b[0;34m\u001b[0m\u001b[0;34m\u001b[0m\u001b[0m\n\u001b[0m",
            "\u001b[0;31mNameError\u001b[0m: name 'all_word_list' is not defined"
          ]
        }
      ],
      "source": [
        "import json\n",
        "with open(\"/content/drive/MyDrive/Final Project Zalo Internship/Final Project/Categorized vocab (No Trec57)/all_word_list.json\",\"w\", encoding='utf-8') as jsonfile:\n",
        "    json.dump(all_word_list,jsonfile,ensure_ascii=False, indent=2)"
      ]
    },
    {
      "cell_type": "code",
      "execution_count": null,
      "metadata": {
        "colab": {
          "base_uri": "https://localhost:8080/"
        },
        "id": "eRIgMirmZ5zj",
        "outputId": "94b92d55-3152-46f0-e806-e9215d743359"
      },
      "outputs": [
        {
          "data": {
            "text/plain": [
              "dict_keys(['tổng_sản_phẩm', 'năm', 'nội_địa', 'Chỉ_số', 'Tổng_sản_phẩm', 'Cộng_hoà_Trung_Phi', 'chỉ_số', 'khu_vực', 'Tổng', 'giá_trị', 'nước', 'Thành_phố', 'Ma', 'tỉ_lệ', 'triệu_phú', 'Năm', 'đầu', 'người', 'thu_nhập', 'Thu_nhập', 'khoảng', 'châu', 'mã_số', 'điện_thoại', 'Mã_số', 'quốc_tế', 'Nước', 'quốc_gia', 'Mã', 'dân_số', 'số', 'dân', 'Tỉnh', 'Dân_số', 'tỉnh', 'hiện_nay', 'Huyện', 'hiện_tại', 'thời_điểm', 'đất_nước', 'Hiện', 'Số', 'Tổng_số', 'huyện', 'tháng', 'Cộng_hoà', 'tp', 'thành_phố', 'thế_giới', 'cuối', 'dân_chính', 'xác', 'vịnh', 'cộng_hoà', 'nhân_dân', 'Hiện_nay', 'quận', 'vùng', 'đô_thị', 'Hiện_tại', 'núi', 'vương_quốc', 'Quận', 'hiện', 'Vịnh', 'tổng', 'thủ_đô', 'dân_cư', 'Thủ_đô', 'đồng_bằng', 'sông', 'Dân_chủ', 'mo', 'Số_lượng', 'đân', 'đảo', 'Mật_độ', 'mật_độ', 'Thế_giới', 'Múi_giờ', 'múi_giờ', 'thứ', 'múi', 'Tác_giả', 'bộ', 'truyện_tranh', 'Ngư', 'tiều', 'y_thuật', 'tác_phẩm', 'Người', 'tác_giả', 'tiểu_thuyết', 'quốc_ca', 'hoạ', 'hồ', 'thiên_nga', 'Quốc_ca', 'tranh', 'nhạc_sĩ', 'opera', 'Cô', 'tượng', 'thép', 'Bộ', 'manga', 'truyện', 'truyền_kỳ', 'trai', 'chí', 'dị', 'lịch', 'triều', 'hiến_chương', 'loại', 'unikey', 'Tiểu_thuyết', 'Thần', 'điêu', 'hiệp', 'lữ', 'hồng_lâu', 'mộng', 'bài', 'quốc_kì', 'Tác_phẩm', 'tuổi_thơ', 'ông_tổ', 'ca_trù', 'thần', 'lời', 'Dạ', 'lang', 'nhà_thờ', 'đức_bà', 'nhạc_phẩm', 'huy_hiệu', 'đoàn', 'Nhạc_sĩ', 'câu_thơ', 'dưới', 'tướng_sĩ', 'toán_pháp', 'tập', 'thơ', 'tù', 'Bài', 'thơ_Nôm', 'quốc', 'diễn_nghĩa', 'ký_sự', 'ngôn_ngữ', 'thư', 'kịch_bản_phim', 'sách', 'ngôn_ngữ_lập_trình', 'thám_tử', 'Truyện_Kiều', 'binh_pháp', 'bộ_luật', 'Ván', 'Thuyết_tương_đối', 'truyện_ngắn', 'lá', 'nhà_thơ', 'quốc_kỳ', 'Truyền_kỳ', 'mạn', 'đèn', 'Tiểu_đoàn', 'đá', 'phù_thuỷ', 'ngày', 'thời_gian', 'Truyện_tranh', 'khi', 'Chiến_thắng', 'ngày_tháng', 'Bản', 'giao_hưởng', 'Liêu', 'chiều', 'gió', 'lần', 'Ngôn_ngữ', 'sữa', 'Phần', 'phim', 'thế_kỷ', 'Phim', 'gia_đình', 'Album', 'cốc', 'lửa', 'Chữ_Nôm', 'lái_đò', 'darwin', 'loài', 'xạ', 'mông', 'đại_cáo', 'tâm', 'Nội_dung', 'ý_nghĩa', 'nội_dung', 'Thông_tin', 'thuyết_tương_đối', 'điều', 'Dư_địa_chí', 'bát', 'Chuyện', 'con', 'gái', 'Cốt_truyện', 'rừng', 'xà', 'rùa', 'trận', 'chim', 'te_te', 'ba_ba', 'cây', 'đồng_hồ', 'cái', 'hoa', 'mai', 'cu', 'tổng_thống', 'vua', 'mẹ', 'má', 'bố', 'cha', 'tía', 'công_ty', 'gà', 'heo', 'Máy', 'khí_hậu', 'Dòng_điện', 'Tấm_Cám', 'tứ_giác', 'nội_tiếp', 'Máy_in', 'Cu', 'rốc', 'hành_tinh', 'kinh_tế', 'cò_lả', 'Khái_niệm', 'mèo', 'Trợ_lý', 'hình_tam_giác', 'Chó', 'mặt', 'sệ', 'tính', 'sinh_vật', 'Hiệp_ước', 'bạo_chúa', 'Phong_trào', 'Số_đề', 'công_nghệ', 'de', 'bò', 'bạc', 'Hội_nghị', 'Bệnh', 'vẩy_nến', 'Giao_dịch', 'kỳ_hạn', 'xe', 'máy_tính', 'đầm_phá', 'vòi_rồng', 'Công_nghiệp', 'Công_nguyên', 'Ngọc_trai', 'Mao_mạch', 'Hiện_tượng', 'thuỷ_triều', 'hệ_thống', 'vệ_tinh', 'toàn_cầu', 'Chu_vi', 'hình_tròn', 'thông_tin', 'cung', 'minh', 'mõ', 'Sốt_xuất_huyết', 'Bitcoin', 'cổng', 'mặt_trời', 'Ban', 'Trung_ương', 'Nhà_nước', 'bảng_tuần_hoàn', 'hình', 'quyền', 'ngựa_ô', 'báp', 'nho', 'ngân_hàng', 'áo_dài', 'Gia_đình', 'thương_vụ', 'lữ_đoàn', 'công_binh', 'Euro', 'mưa', 'axít', 'nguyên_tố_hoá_học', 'Hiệp_hội', 'bão', 'Mặt_Trời', 'sở', 'thú', 'Bóng_đá', 'biển', 'Lễ_tết', 'tâm_linh', 'sóng', 'Futsal', 'Bầu_cử', 'ký_hiệu', 'Điện_toán', 'mây', 'máy', 'Tư_tưởng', 'Hiệu_điện_thế', 'điện_toán', 'Gió', 'hiện_tượng', 'vật_lý', 'Thẩm_thấu', 'lê_bê', 'Đèn', 'sợi', 'kim', 'giờ', 'Nhà_xuất_bản', 'Chủ_nghĩa_tư_bản', 'Quyền_lực', 'đông', 'thảo', 'Rối_loạn', 'Ngày', 'xuân', 'phân', 'hình_thoi', 'nhà', 'Zalo', 'Gấu_trúc', 'SEA_Games', 'Lao_động', 'dota', 'định_nghĩa', 'môi_trường', 'Web', 'con_trỏ', 'Trái_phiếu', 'zing', 'Nạn', 'Chiến_tranh_lạnh', 'củ', 'nhân_sâm', 'Di_truyền_học', 'Ánh_sáng', 'nguyên_lý', 'cực_hạn', 'Bảng', 'Hệ', 'hành_chính', 'Nón', 'lý_thuyết', 'dịch_vụ', 'thể_chất', 'Đội', 'chó', 'Kĩ_thuật', 'bóng_chuyền', 'công', 'Giờ', 'Đơn_vị', 'huyết_áp', 'visual', 'basic', 'Liên_minh', 'công_nghệ_thông_tin', 'the', 'từ_trường', 'đạo_luật', 'clo', 'dioxit', 'Kinh_tế_thị_trường', 'Môn', 'lịch_sử', 'Gà', 'Bào_ngư', 'Bạch_Mã', 'sự_kiện', 'Quyền_sở_hữu', 'chuột_túi', 'nhà_nước', 'Cúng', 'mụ', 'Protein', 'Khối_lượng', 'Hạn_ngạch', 'Một_mạch', 'di_truyền_học', 'tế_bào', 'Tụ_điện', 'Bộ_đội', 'Biên_phòng', 'Độ', 'thuật_toán', 'Vòi_rồng', 'cơ_sở_dữ_liệu', 'Kim_cương', 'bút_chì', 'axit', 'Hình_thang', 'Internet', 'Thiên_đường', 'thuế', 'Văn_bản', 'quy_phạm_pháp_luật', 'Quân_hàm', 'Quang_hợp', 'tensorflow', 'Xã', 'Bánh_chưng', 'bánh', 'tơ', 'bộ_nhớ', 'động_cơ', 'hơi_nước', 'ống', 'đồng', 'di_sản', 'văn_hoá', 'vật_thể', 'ếch', 'Kháng_sinh', 'mùng', 'Phơi', 'phân_loại_học', 'khu', 'Chủ_thể', 'siam', 'dách', 'Cơ_sở_dữ_liệu', 'Mô_hình', 'Ôxy', 'mức', 'hoà_bình', 'nhóm', 'Miễn_dịch', 'Tụ', 'thiên_văn_học', 'Lỗ_đen', 'Thông_tư', 'luật', 'chất', 'Phổ', 'Độc', 'cô', 'cầu', 'Anime', 'toàn_phần', 'tổ_chức', 'Nhà_thờ', 'Tháp', 'Kênh', 'Toà', 'Đền', 'Cầu', 'công_trình', 'trường', 'đại_học', 'Chùa', 'Báo', 'Lăng', 'Cố_đô', 'Cảng', 'giai_đoạn', 'Dự_án', 'hồi', 'Hầm', 'thẩm', 'Bến', 'Nhà_hát', 'toà', 'nghĩa', 'Landmark', 'Chiều', 'Núi', 'Phan_Xi_Păng', 'Kim_tự_tháp', 'nhiêu', 'Bà', 'Sông', 'tigris', 'độ', 'hoàng', 'hà', 'lương', 'vàm', 'Cỏ', 'thời', 'tên', 'Tên', 'dân_chủ', 'Thủ_Đô', 'chỗ', 'biệt_danh', 'Ngoài', 'Tiểu', 'châu_lục', 'Nam_sudan', 'Châu_lục', 'bermuda', 'Đảo', 'miền', 'địa_lý', 'lục_địa', 'Đất_nước', 'Quần_đảo', 'Nền', 'Đồng_tiền', 'Tiền_tệ', 'tiền', 'đơn_vị_tiền_tệ', 'tiền_tệ', 'Người_dân', 'Tương_lai', 'Tỷ_lệ', 'Tỷ_suất', 'sinh_đẻ', 'Tỉ_lệ', 'con_người', 'Chỗ', 'Nơi', 'đỉnh', 'vị_trí', 'Vị_trí', 'Quốc_gia', 'nơi', 'địa_hình', 'hát', 'lạm_phát', 'tiếng', 'bắc', 'người_dân', 'The', 'diện_tích', 'Tuổi_thọ', 'Tuổi', 'tuổi_thọ', 'tuổi', 'trung_bình_cộng', 'cá_voi', 'Điểm', 'Vùng', 'điểm', 'Vực', 'hôn_nhân', 'nam', 'nữ', 'luật_pháp', 'sự', 'công_dân', 'người_lớn', 'khẩu_hiệu', 'Khẩu_hiệu', 'Bang', 'việc', 'tỷ_lệ', 'Lễ', 'đền', 'thế_vận_hội_mùa', 'thế_vận_hội_mùa_hè', 'Chợ_nổi', 'mùa', 'Trận', 'chung_kết', 'sân_vận_động', 'Cuộc', 'Lễ_hội', 'voi', 'Kỳ', 'phong_kiến', 'Tuần_lễ', 'hội_nghị', 'lễ', 'giải', 'xã', 'World_Cup', 'cấp', 'tỉnh_thành', 'Chiến_tranh', 'ban', 'world_cup', 'Lãnh_đạo', 'Thế_vận_hội_Olympic', 'Seagames', 'cách_mạng_công_nghiệp', 'Đại_hội', 'vận_hội', 'bóng_đá', 'Olympic', 'thể_thao', 'Seagame', 'thời_đại_đồ_đá', 'Chiến_Tranh', 'Diễn_đàn', 'Khu_vực', 'nhà_giáo', 'hàng', 'đội_tuyển', 'diễu_binh', 'Giải', 'trâu', 'Kì', 'khoa_bảng', 'Đêm', 'Sự_kiện', 'quốc_hội', 'khoá', 'bầu', 'Quốc_hội', 'đầu_vào', 'đám_cưới', 'vợ', 'thương_mại', 'Điện_ảnh', 'kỷ_niệm', 'Cách_mạng', 'Chiến_dịch', 'Khi', 'miếu', 'Quốc_tế', 'Thể_thao', 'Tháng', 'chay', 'Hội', 'nghĩa_quân', 'chiến_tranh', 'biên_giới', 'cuộc', 'vô_địch', 'cờ_vua', 'Lần', 'Thế_vận_hội', 'Tục_lệ', 'thực_dân', 'thầy_thuốc', 'Thời_kỳ', 'cổ_đại', 'bữa', 'sinh_viên', 'giá', 'Quan_điểm', 'bạn', 'vắc_xin', 'thịt', 'động_lực', 'Điều', 'Cổ_đông', 'phổ_thông', 'cổ_đông', 'biểu_quyết', 'nhân_viên', 'văn_bằng', 'kỹ_sư', 'mã', 'trí', 'cảm_xúc', 'khía_cạnh', 'toán_học', 'vũ_trụ', 'vật_chất', 'năng_lượng', 'Kỹ_năng', 'nhà_khoa_học', 'dữ_liệu', 'lực', 'tối', 'hoạt_động', 'Hệ_thống', 'giáo_dục', 'lý_tưởng', 'Thực_trạng', 'xe_máy', 'xe_gắn_máy', 'Phó', 'thủ_tướng', 'thành_viên', 'nhện', 'tổ', 'gương', 'chiếu', 'Sự', 'máy_tính_xách_tay', 'máy_tính_để_bàn', 'điện_tử', 'Trình_bày', 'nội_chiến', 'Điều_kiện', 'Đối_tượng', 'đất', 'phèn', 'kiến_trúc', 'vòm', 'Nhân_quyền', 'dân_tộc', 'Tín_ngưỡng', 'tất_niên', 'trọng_lượng', 'ngôi_sao', 'byte', 'Học_viện', 'Xu_hướng', 'Bạn', 'võ_thuật', 'khái_niệm', 'Diện_tích', 'vi_khuẩn', 'tôn_giáo', 'đức_tin', 'kết_quả', 'Rác_thải', 'Tải_trọng', 'đồng_thau', 'không_gian', 'tốc_độ', 'bản_thân', 'tệ_nạn', 'xã_hội', 'tai', 'Giả_thuyết', 'cuộc_đời', 'chủ_tịch', 'giữa', 'án', 'tử_hình', 'khung_hình_phạt', 'thác', 'thượng_nguồn', 'nhau', 'chỉ_huy', 'vũ_khí_sinh_học', 'thỏ', 'vệ_sinh', 'lượng_tử', 'lỗ_đen', 'dạng', 'Học_bổng', 'chính_phủ', 'Kim_loại', 'xu_hướng', 'ion', 'thị_trường_chứng_khoán', 'tương_lai', 'đảng', 'súng', 'cách_mạng', 'sau', 'Văn_hoá', 'phòng', 'Nguyên_nhân', 'giới', 'chế_độ', 'chủng_tộc', 'Hướng', 'phía', 'triết_gia', 'cư_dân', 'lỗi', 'Lạc_đà', 'nước_biển', 'nhu_cầu', 'nền_móng', 'mặt_đất', 'tàu', 'phụ_nữ', 'rèm', 'nhiếp_chính', 'chương_trình', 'khoa_học', 'chữ_số', 'pi', 'Chủ_nghĩa', 'phép', 'viện', 'truyền_thông', 'khoảng_cách', 'tim', 'cơ_thể', 'nhà_phân_tích', 'địa_chính_trị', 'hệ_sinh_thái', 'rắn', 'mèo_tam_thể', 'Triết_học', 'Đảng', 'cơ_quan', 'lãnh_đạo', 'Chính_quyền', 'ảnh_hưởng', 'chính_trị', 'cá_nhân', 'cơ_hội', 'chiến_thắng', 'ma_tuý', 'Luật', 'nguồn_gốc', 'hố_đen', 'Đồng_tính', 'bệnh', 'phép_thuật', 'Vấn_nạn', 'dâm', 'trẻ_em', 'cửa_hàng', 'đô_la', 'dư_thừa', 'thư_điện_tử', 'toàn_quốc', 'phần', 'hình_dáng', 'não', 'động_vật', 'Ý_nghĩa', 'tài_sản', 'khí_quyển', 'mộ', 'mồ_mả', 'đáy', 'học_thuật', 'giấy', 'đóng_góp', 'Cây', 'rau_dền', 'huyết_dụ', 'diệp_lục', 'quang_hợp', 'crore', 'khí_thải', 'cách', 'cấu_trúc', 'nhiễm_sắc_thể', 'Công_việc', 'Trọng_tâm', 'vua_chúa', 'Cách', 'hệ', 'chủ', 'Nhà', 'chiêm_tinh', 'tội_phạm', 'mạng', 'bàn', 'Phạm_vi', 'công_việc', 'mô_hình', 'Nữ_hoàng', 'Nguyên_tắc', 'Pin', 'ánh_sáng', 'anh_em', 'Tình_hình', 'hối_lộ', 'Sách', 'mục_tiêu', 'kỹ_thuật', 'mồm', 'giống', 'chữ', 'ý_thức', 'sức_khoẻ', 'kim_loại', 'Gió_mùa', 'đặc_điểm', 'mức_độ', 'máy_bay', 'từ_ngữ', 'phẳng', 'machiavellianism', 'hiệu_quả', 'ngày_nay', 'sân_chơi', 'âm_nhạc', 'quần', 'quân_sự', 'Rupee', 'phương_tiện', 'hôm_nay', 'màu', 'trứng', 'trước', 'bướm', 'môn', 'vedic', 'Bản_chất', 'trò_chơi', 'điện_thoại_di_động', 'Thị_trường', 'cácbon', 'vũ', 'electron', 'kính_hiển_vi', 'truyền_thống', 'gián_điệp', 'lớp', 'sự_cố', 'Kinh_nghiệm', 'hợp_đồng', 'Trụ_sở', 'Viêm', 'ruột_thừa', 'biểu_trưng', 'Sinh_viên', 'Cá_voi', 'Hành_vi', 'trường_học', 'Lưu_huỳnh', 'Quan_niệm', 'pytago', 'loài_người', 'sradarcom', 'nhà_tù', 'địa_điểm', 'hình_cầu', 'Ra_đời', 'Thế_chiến', 'lý_do', 'côn_trùng', 'câu', 'bản_chất', 'giải_pháp', 'nguồn', 'nước_ngầm', 'vv', 'neet', 'Mối', 'quan_hệ', 'kho', 'Chủ_nghĩa_tự_do', 'tết_âm_lịch', 'tình_trạng', 'Ngựa', 'chuột_nhắt', 'nhịp', 'Nhân_viên', 'Ngân_hàng', 'giáp', 'đơn_vị', 'quân_đội', 'vấn_đề', 'men', 'coagulase', 'Toán_học', 'Loại', 'nhà_tư_tưởng', 'bang', 'sĩ_quan', 'hải_quân', 'Hồ', 'pushto', 'vật', 'sách_đỏ', 'cơ_sở', 'Cá', 'nước_ngọt', 'bộ_não', 'thần_học', 'Trang_web', 'mặt_trăng', 'sao_Hoả', 'điểm_số', 'nông_nghiệp', 'Mặt_trời', 'thực_vật', 'vi_sinh_vật', 'Bộ_trưởng', 'loại_hình', 'tóc', 'Giá_trị', 'nợ', 'quỹ', 'đất_liền', 'lực_lượng', 'biện_hộ', 'kinh', 'Quả', 'đoạn', 'võ_đường', 'phần_trăm', 'kỳ', 'cbse', 'vi_sinh', 'nguy_hiểm', 'Đạo_đức', 'giáo', 'thái', 'Vấn_đề', 'Lĩnh_vực', 'phạm_vi', 'công_nghệ_sinh_học', 'giáo_sư', 'hình_dạng', 'khung', 'muôn_hình_muôn_vẻ', 'bằng_chứng', 'Con_người', 'Nhện', 'sức_mạnh', 'Chế_độ', 'mẫu_hệ', 'cỏ', 'Khoảng_cách', 'ngựa', 'nhận_xét', 'sinh_quyển', 'tồn', 'chính_sách', 'hoàng_hôn', 'Hạt_nhân', 'chủ_đề', 'hoá_học', 'thân_thể', 'xương_sống', 'ridged', 'thành_tựu', 'nhân_vật', 'combo', 'quý', 'ko', 'vật_lí', 'hiến_pháp', 'rồng', 'phù_du', 'hình_thức', 'kỉ_luật', 'kẻ', 'ngoại_đạo', 'âm_thanh', 'thành_phần', 'Bằng_cấp', 'quá_trình', 'ý_tưởng', 'bên', 'phiếu', 'áo', 'cảnh_tượng', 'vòng_tròn', 'yếu_tố', 'nguy_cơ', 'neutered', 'tài_khoản', 'khối', 'Doanh_nghiệp', 'trung_ương', 'Sức_mua', 'cảnh_báo', 'tỷ_giá_hối_đoái', 'đồng_loại', 'Trung_tâm', 'thập_tự_chinh', 'xi', 'lô', 'Giáo_phận', 'địa_chỉ', 'Địa_chỉ', 'nội_thành', 'Đại_học', 'tháp', 'đại_nội', 'văn_miếu', 'uỷ_ban_nhân_dân', 'công_viên', 'công_viên_nước', 'chùa', 'Văn_miếu', 'suối', 'Công_viên', 'Ví', 'Đại_nội', 'Đồng_bằng', 'Biển', 'lãnh_thổ', 'Lãnh_thổ', 'cây_số', 'quần_đảo', 'Vùng_biển', 'chủ_quyền', 'mét_vuông', 'xưa', 'vùng_biển', 'Duyên_hải', 'vuông', 'hải_lý', 'cảnh_sát', 'Khu', 'công_nghiệp', 'Sân_bay', 'Sa_mạc', 'bàng', 'thị_xã', 'nội', 'thuỷ', 'Nội_thành', 'địa', 'hải', 'hecta', 'Rừng', 'bề_mặt', 'quảng_trường', 'tây', 'bán_đảo', 'balkan', 'bao', 'Eo_biển', 'Vinh', 'tích', 'nam_định', 'sân_bay', 'địa_phận', 'Biên_giới', 'đường', 'đại_dương', 'Cột', 'Vương_quốc', 'danh', 'Trung_du', 'Bắc', 'địa_danh', 'tình', 'hồ_chí_minh', 'Đường', 'Thành_Vatican', 'Toạ_độ', 'Kinh_độ', 'vĩ_độ', 'Vĩ_độ', 'vĩ_tuyến', 'địa_lí', 'bản_đồ', 'toạ_độ', 'Vĩ_tuyến', 'kinh_độ', 'Đặc_điểm', 'Lịch_sử', 'bưu_điện', 'Chi_tiết', 'Nét', 'Phố', 'Cửa', 'Âm_nhạc', 'nền', 'hang', 'thuộc_quốc_gia', 'Vườn', 'Thượng_nguồn', 'văn_minh', 'Mũi_Hảo_Vọng', 'Bãi', 'danh_lam_thắng_cảnh', 'Vườn_quốc_gia', 'Cù_Lao', 'làng', 'Nhà_máy', 'thuỷ_điện', 'ngói', 'Thành_đoàn', 'Cao_nguyên', 'Thị_xã', 'tỉnh_lỵ', 'thị_trấn', 'tư', 'Quân_cảng', 'Đại_La', 'hải_dương', 'Công_nghệ', 'Bưu_chính', 'Viễn_thông', 'Động', 'di_tích', 'Giáo_dục', 'Vườn_Quốc_gia', 'vườn_quốc_gia', 'Phật_Tích', 'Kinh_đô', 'Sân_vận_động', 'vùng_sâu_vùng_xa', 'Y_tế', 'Công_cộng', 'Đại_sứ_quán', 'Bến_xe', 'Đèo', 'tam_giác', 'quỷ', 'Khủng_long', 'Thánh_địa', 'Thiên_Đường_động', 'danh_thắng', 'cờ', 'Căn_cứ', 'địa_phương', 'Làng', 'Mộ', 'cụ', 'Công_trình', 'cao_nguyên', 'Cửa_biển', 'phố', 'Bảo_tàng', 'dân_tộc_học', 'rậm', 'Hoàng_thành', 'Thành_Phố', 'quần_thể', 'Nhà_tù', 'kinh_đô', 'Nghĩa_Trang', 'cổ', 'Phanxipang', 'phương', 'Quảng_trường', 'thời_đại', 'Hội_quán', 'Thủ_phủ', 'Lăng_Bác', 'Cửa_khẩu', 'hải_đăng', 'vùng_đất', 'Trại_giam', 'cực', 'trọng_điểm', 'du_lịch', 'phần_mềm', 'đồi', 'trung_thu', 'tuyết', 'Hòn', 'ngọc', 'trước_đây', 'địa_bàn', 'chợ_nổi', 'Hàng', 'hàng_đầu', 'cạnh', 'nhà_máy', 'đậu', 'Núi_non', 'bảo_tàng', 'nguyễn_văn', 'Câu_lạc_bộ', 'Đảo_quốc', 'Cung_điện', 'cồn_cỏ', 'Thôn', 'Tượng_đài', 'hạ_lưu', 'Lăng_mộ', 'Di_tích', 'tổ_tiên', 'giám_đốc', 'giám_đốc_điều_hành', 'tổng_giám_đốc', 'Tổng_giám_đốc', 'Hội_đồng', 'Giám_đốc', 'Tập_đoàn', 'cánh', 'việt', 'The_Trump_Organization', 'Công_ty', 'Đường_sắt', 'Tổng_công_ty', 'Liên_đoàn', 'Cổ_phần', 'trách_nhiệm', 'hữu_hạn', 'Dầu_khí', 'Cơ_quan', 'Năng_lượng', 'Chủ_tịch', 'tập_đoàn', 'tài_chính', 'Thời_điểm', 'thị_trường', 'Thời_gian', 'lúc', 'Hội_thánh', 'Cảnh_sát', 'hội', 'Tổ_chức', 'Hải_quân', 'Công_an', 'Quân_đội', 'Công_Thương', 'Lực_lượng', 'Môi_trường', 'Mặt_trận', 'Đoàn', 'Nhà_Văn', 'Tổng_liên_đoàn', 'lao_động', 'thiếu_niên', 'tiền_phong', 'y_khoa', 'Mạng', 'độc_lập', 'đồng_minh', 'lúc_nào', 'Uỷ_ban', 'báo', 'Viện', 'Hải_Dương_học', 'Tháng_VNG', 'chèo', 'Facebook', 'Cộng_đồng', 'Bộ_tư_lệnh', 'sản', 'hình_sự', 'tư_pháp', 'liên_hiệp', 'thanh_niên', 'Hãng', 'Nguyên_tử', 'Ngành', 'Ngày_tháng', 'Chính_phủ', 'zalo', 'công_an', 'YouTube', 'Quân_lực', 'Sở_Giao_dịch', 'nhân', 'cục', 'Hội_chữ_thập_đỏ', 'Kinh_tế', 'than', 'Nhà_sách', 'Cộng_sản', 'hoàng_đế', 'nhà_sáng_lập', 'tạp_chí', 'Cha_đẻ', 'triều_đại', 'Thành_viên', 'cha_đẻ', 'Nhà_sáng_lập', 'đội', 'giải_phóng_quân', 'nhà_văn', 'cộng_sản', 'phái', 'giải_thưởng', 'thiền', 'phật_giáo', 'Đạo_giáo', 'trụ_sở', 'Lợi_nhuận', 'lợi_nhuận', 'nhân_sự', 'Nhân_sự', 'sở_hữu', 'Chủ_sở_hữu', 'chủ_sở_hữu', 'hãng', 'tết', 'mậu', 'Triều_đại', 'quân_chủ', 'Chức', 'quan', 'Pb', 'Loài', 'bò_sát', 'giặc', 'quân', 'thảm_bại', 'trạng_nguyên', 'cường_độ', 'dòng_điện', 'vị', 'Ứng_dụng', 'kẽm', 'ki', 'mét', 'bánh_chưng', 'nguyên_liệu', 'đêm', 'biểu_tượng', 'Thầy', 'Phí', 'trường_ca', 'đạo', 'phật', 'Động_vật', 'chức', 'Nóc', 'kế_hoạch', 'Tam_Giác', 'bom_nguyên_tử', 'bờ', 'cọ', 'vàng', 'Liên_hoan_phim', 'thuỷ_sản', 'bia', 'Khúc_Thừa_Dụ', 'nghệ_thuật', 'tuồng', 'Danh_tướng', 'binh', 'kích_thước', 'Đĩa', 'đơn', 'Danh_nhân', 'quân_sư', 'chúa_Nguyễn', 'Hổ_phách', 'Pa', 'pỉnh', 'món', 'Tiền', 'Đại_diện', 'Axit', 'sulfuric', 'dịp', 'Tết_Nguyên_đán', 'Tổ_tiên', 'xích_đạo', 'Dòng', 'Chữ_Quốc_ngữ', 'bảng_chữ_cái', 'bóng', 'cúp', 'chị_em', 'nàng', 'Nhà_ga', 'hành_khách', 'Đội_tuyển', 'xe_đạp', 'chặng', 'bán_cầu', 'Tiền_thân', 'Hoan_Châu', 'Nhà_văn', 'kịch', 'Nữ_tướng', 'đàn_bà', 'tơ_lụa', 'trên', 'khối_lượng', 'đá_quý', 'kim_cương', 'định_luật', 'vạn_vật', 'Vua', 'Nguồn_gốc', 'Trước_kia', 'thuỷ_tổ', 'rượu', 'đạo_diễn', 'sáng', 'thầy', 'thất', 'Sóng_điện', 'bước_sóng', 'Vitamin', 'máu', 'thuật_ngữ', 'cửa_khẩu', 'Đại_dương', 'hiện_giờ', 'Danh_hiệu', 'giao_thông', 'bí_thư', 'khu_phố', 'Cao_tốc', 'huyện_thị', 'lưu_vực', 'ngành', 'khí_đốt', 'Tôn_giáo', 'quốc_giáo', 'Máy_tính', 'Ban_đầu', 'sử', 'Bộ_luật', 'Tim', 'cá_sấu', 'ngăn', 'sân_khấu', 'Vật_liệu', 'Dầu_gió', 'Tổng_thống', 'văn_học', 'trăng', 'đường_kính', 'truyền_thuyết', 'khuyết_tật', 'Hình_ảnh', 'lưỡi_liềm', 'Hành_tinh', 'Ngày_nay', 'một_nửa', 'Bờ', 'thủ_lĩnh', 'chính_quyền', 'Ảnh', 'gif', 'thiếu_nữ', 'em', 'bé', 'dãy', 'Tổng_tài', 'nữ_hoàng', 'điện_ảnh', 'Tố', 'làm_gương', 'ranh_giới', 'phong_trào', 'thực_tập_sinh', 'linh', 'phạt_trực_tiếp', 'Hoang_mạc', 'gương_mặt', 'Thầy_giáo', 'trưởng', 'thư_viện', 'Khởi_nghĩa', 'Điệu', 'điệu', 'Quỷ', 'câu_lạc_bộ', 'chân', 'Khoai_lang', 'Nhà_thơ', 'thế_kỉ', 'Vị', 'đại_biểu', 'Thế_kỷ', 'biệt_hiệu', 'đệ', 'động', 'Màu', 'Hoa_lan', 'diễn_viên', 'hè', 'Trục', 'mặt_phẳng', 'iphone', 'tướng', 'Nữ', 'tiến_sĩ', 'quê', 'ngôi_báu', 'niên_hiệu', 'chủ_đạo', 'ngoại_giao', 'đời', 'quốc_hiệu', 'Quốc_giáo', 'Dạ_dày', 'nhiệm_vụ', 'quốc_khánh', 'Hoa', 'cha_mẹ', 'ton', 'lĩnh_vực', 'danh_sách', 'quý_hiếm', 'sốt_rét', 'Cách_Mạng', 'Tiền_giấy', 'Hình', 'tablet', 'Khí_hậu', 'nguyên_phi', 'độ_ẩm', 'Hiến_pháp', 'ngọn', 'núi_lửa', 'phí', 'trạm', 'xì', 'cao_độ', 'Thánh_Gióng', 'Nhóm', 'đỉnh_cao', 'Địa_phận', 'Kẽm', 'ngoại_hối', 'Phạm_nhân', 'tử', 'rô_phi', 'danh_dự', 'sứ', 'Tết', 'Thành_phố_đông', 'cung_trăng', 'Đường_hầm', 'gốc', 'trung_tâm', 'công_suất', 'kiến_trúc_sư', 'Lăng_Thoại_Ngọc_Hầu', 'Đại_tướng', 'bông', 'sen', 'giang_mai', 'tình_dục', 'ngụ_ngôn', 'hổ', 'Danh_pháp', 'hà_mã', 'Mắt', 'Huân_chương', 'Bất_động_sản', 'thuốc_lá', 'ung_thư', 'Tỉnh_lỵ', 'Học_sinh', 'kì', 'Nguyên_tố', 'Hoàng_gia', 'vai_trò', 'bom', 'thứ_bảy', 'tuần_lễ', 'chứng_bệnh', 'tị_nạn', 'Vùng_đất', 'bộ_phận', 'danube', 'Phần_nào', 'cao_su', 'liên_minh', 'sa_mạc', 'đầu_lâu', 'Biểu_tượng', 'cầu_thủ', 'Phụ_nữ', 'nước_lớn', 'luật_chơi', 'Thiếu_nữ', 'Vai_trò', 'nhật_ký', 'hướng_dương', 'đào', 'xứ_sở', 'phong_lan', 'cá_heo', 'động_vật_có_vú', 'Đường_quốc_lộ', 'Nhiệm_vụ', 'thận', 'Đoàn_viên', 'số_lượng', 'trang_phục', 'Đạo', 'chúa', 'màu_sắc', 'nội_ô', 'Blockchain', 'tiềm_năng', 'vành_đai', 'xe_tăng', 'lãnh_tụ', 'Tiếng', 'công_chúa', 'vòng', 'Cơ_quan_quyền_lực', 'Tết_Nguyên_Đán', 'Ca_khúc', 'Tốc_độ', 'Quyền_hạn', 'Nam', 'tuyên_ngôn', 'sự_nghiệp', 'Trọng_lượng', 'tục', 'cá', 'trần', 'Quốc_kỳ', 'chọn_lọc_tự_nhiên', 'hươu_cao_cổ', 'châu_thổ', 'máy_in', 'lade', 'Thuyền_trưởng', 'quê_hương', 'Hoàng_tử', 'suy_tôn', 'trạng', 'clohydric', 'cú', 'khả_năng', 'Công_dụng', 'da_màu', 'thành', 'Hiệu_trưởng', 'ban_đầu', 'Bảng_chữ_cái', 'ký_tự', 'phát_minh', 'Dấu', 'Vận_động_viên', 'vận_động_viên', 'Di_sản', 'ngư_nghiệp', 'Thực_vật', 'Cao_đẳng', 'sư_phạm', 'danh_hiệu', 'quanh', 'Giáo_sư', 'Đoạn', 'kênh', 'tôn', 'hiệu', 'Quốc_hiệu', 'liên_hoan_phim', 'Lực_lượng_vũ_trang', 'Thực_dân', 'đất_đai', 'Chó_ngao', 'Trạng', 'Cửa_hàng', 'Tổng_thư_ký', 'đại_tướng', 'đồng_tiền', 'chồng', 'máy_phát_điện', 'tiền_thân', 'vitamin', 'Nhật_ký', 'hoàn_cảnh', 'thân', 'pháo', 'chiến_dịch', 'Chèo', 'Ký_hiệu', 'Thảo_Cầm_Viên', 'Dầu_mỏ', 'Hiệp_định', 'hòn', 'tỏi', 'Thành_phần', 'phở', 'thủ_phủ', 'hồ_tiêu', 'khoa_cử', 'lửng', 'mật', 'nhân_bản_vô_tính', 'xuất_xứ', 'mỹ_nhân', 'Đặc_sản', 'Cha', 'nghề', 'danh_nhân', 'nhạc', 'Thành_tích', 'Ông_già', 'cách_mạng_tháng_tám', 'tình_yêu', 'Hứa_Chử', 'Cơ_số', 'Thương_hiệu', 'Mục_đích', 'Thủ_tướng', 'Trung_thu', 'lễ_hội', 'tài_năng', 'Chúa_Chổm', 'người_đời', 'ngầm', 'chúa_trời', 'Mẹ', 'Tay', 'chức_năng', 'Hạt', 'hạc', 'Công', 'liên_đoàn', 'bậc', 'lái', 'thần_bí', 'đá_vôi', 'mục_đích', 'vụ', 'phò_tá', 'tuyến', 'thần_thoại', 'vương', 'phật_tử', 'Dân_gian', 'Thời_Hùng_Vương', 'Thiên_thể', 'quốc_phòng', 'hàm', 'Căn_bệnh', 'học_giả', 'Bán_kính', 'quốc_tịch', 'Thiên', 'hang_động', 'Lối', 'mực', 'Rãnh', 'Hoa_hậu', 'Cù_lao', 'Nhân_tài', 'phường', 'dòng', 'Ý_tưởng', 'cảm_hứng', 'phong_cách', 'Luật_hành_chính', 'muối', 'Thủ_lĩnh', 'khởi_nghĩa', 'lương_thực', 'Cầu_thủ', 'thẻ_đỏ', 'Pit', 'bin', 'thể_chế', 'Liên_hiệp', 'Giấm', 'chữ_viết', 'đơn_chất', 'quặng', 'Dân_tộc', 'Công_tử', 'sản_lượng', 'sắn', 'Diễn_biến', 'cuộc_chiến', 'khoai', 'Quốc_vương', 'Con', 'anh_chị_em', 'Ơreka', 'Vật_chất', 'xung_quanh', 'Bầu', 'vải_thiều', 'anh_hùng', 'Cửa_ô', 'bưởi', 'ảnh', 'quá_khứ', 'Thức_ăn', 'đời_sống', 'kem', 'Xứ_Huế', 'tranh_dân_gian', 'bách_khoa_toàn_thư', 'chế_độ_tư_bản', 'Đạo_diễn', 'Cacbon', 'thể', 'điều_kiện', 'hoàng_hậu', 'mũi_nhọn', 'Quốc_kì', 'Hình_học', 'trọng_lực', 'tuần_lộc', 'nguyên_tố', 'điện', 'tính_chất', 'Chim', 'trời', 'lưu_huỳnh', 'lượt', 'tê_tê', 'chương_hồi', 'đại_lượng', 'Chúa_Nguyễn', 'nóc', 'nobel', 'mặt_trận', 'tổ_quốc', 'đội_hình', 'Mộc_bản', 'Trường_Sinh', 'bí_danh', 'bút_danh', 'Hát_văn', 'Khí', 'kỳ_quan', 'Chữ_cái', 'nhiệt_kế', 'Thời_đại', 'liên_quân', 'điện_biên_phủ', 'không', 'nông_dân', 'hội_đồng_nhân_dân', 'Bí', 'tỉnh_uỷ', 'nhà_táng', 'Trạng_nguyên', 'Nhân_vật', 'Mùa', 'anh_đào', 'dầu_mỏ', 'hoàng_gia', 'nhiệt_đới', 'đa_dạng_sinh_học', 'thi_ca', 'Chòm_sao', 'ảo', 'smartphone', 'Địa_hình', 'Dân_tộc_thiểu_số', 'thiên_nhiên', 'mỡ', 'ông', 'Hậu_quả', 'lăng', 'căn_cứ', 'kháng_chiến', 'tác_dụng', 'nữ_thần', 'Hội_Thánh', 'Giáo_hội', 'quyền_lực', 'động_cơ_đốt_trong', 'Logo', 'cơm', 'Tia_UV', 'nguyên_nhân', 'nhánh', 'nhiệt_độ', 'nhôm', 'Chức_vụ', 'Thủ', 'vai', 'Em', 'Chứng', 'Hoạ_sĩ', 'đàng', 'máy_tính_cá_nhân', 'vỏ', 'Năng_suất', 'áp_suất', 'biệt_tài', 'Hoàng_đế', 'dặm', 'Đại_Lộ', 'Tại_sao', 'tư_nhân', 'Troia', 'Ngôi_sao', 'phò_mã', 'Bia', 'Tính_năng', 'thí_nghiệm', 'thám_hoa', 'chức_vụ', 'triều_đình', 'bác_hồ', 'Tiến_sĩ', 'tuần', 'Ong', 'tàu_sân_bay', 'trinh', 'trị_vì', 'cảng', 'thời_kỳ', 'Số_hiệu', 'nguyên_tử', 'họ', 'Noel', 'Nhà_khoa_học', 'thiên_tài', 'vẻ', 'ma_mị', 'trong', 'giải_vô_địch_bóng_đá', 'Chương_trình', 'tên_lửa_đạn_đạo', 'nhà_lãnh_đạo', 'cây_cảnh', 'Hoàn_cảnh', 'rể', 'Hoa_Hậu', 'folic', 'cấu_tạo', 'phân_tử', 'chữ_cái', 'trick', 'mệnh_giá', 'polyme', 'cây_ăn_trái', 'Nhã_nhạc', 'cung_đình', 'vốn', 'trĩ', 'Đất', 'Thuỷ_điện', 'nhiệm_kỳ', 'Trung_học_phổ_thông', 'Vắc_xin', 'vố', 'champion', 'kỷ_lục', 'chiến', 'sân', 'hướng', 'Dụng_cụ', 'storm', 'Nhiệm_kỳ', 'Copernicus', 'thời_kì', 'chuyện', 'nhạc_cụ', 'giai_thoại', 'Chức_năng', 'tổ_tông', 'pháp_luật', 'nhân_tài', 'hơi', 'Lá', 'khoai_lang', 'Chữ_viết', 'đái_tháo_đường', 'Hình_tròn', 'trục', 'cơ_nghiệp', 'đối_tác', 'quang_phổ', 'đằng', 'đảo_quốc', 'sư_tử', 'tầng', 'Tên_lửa', 'phòng_không', 'cự_ly', 'danh_từ', 'Cơ_thể', 'đại_hội', 'đảo_chính', 'thuốc', 'kháng_sinh', 'Đồng', 'chòm_sao', 'Nội_Vụ', 'Sở_Kiều', 'thế_vận_hội_Olympic', 'Vua_Minh_Mạng', 'đình', 'bát_giác', 'khuôn_viên', 'thai', 'khách', 'Món', 'Chữ', 'quốc_trạng_nguyên', 'Lịch', 'can', 'Trưởng', 'tai_nạn', 'đường_bộ', 'màn_hình', 'Chì', 'hải_lưu', 'ngoài', 'tuyến_tiền_liệt', 'hội_hoạ', 'Thiên_Mụ', 'Đội_trưởng', 'Sức', 'Giải_thưởng', 'khí', 'đa_số', 'dân_tộc_thiểu_số', 'Nguy_cơ', 'viêm', 'gan', 'Kỳ_quan', 'rượu_vang', 'bánh_đậu_xanh', 'đặc_sản', 'thần_tượng', 'hiện_thực', 'Đường_bộ', 'bull', 'Nữ_thần', 'kì_quan', 'mặt_nước', 'Ngã', 'Đại_thần', 'liêm_chính', 'Nhà_vật_lý', 'kế', 'cọc', 'gỗ', 'Nghệ_nhân', 'Mèo', 'Nhiệt_độ', 'em_trai', 'Thuốc_trừ_sâu', 'Toà_án', 'biệt_động', 'dân_quân', 'cụ_già', 'Máy_vi_tính', 'Công_dân', 'quốc_tế_ngữ', 'đồng_tính', 'anh_cả', 'xương_rồng', 'Vật_lý', 'thầy_giáo', 'chiến_công', 'sứ_quân', 'Hoa_hồng', 'dân_ca', 'Biệt_danh', 'thứ_sáu', 'công_thương', 'học_sĩ', 'doanh_số', 'công_thức', 'covellit', 'Điện_thoại', 'nhà_sản_xuất', 'đế_quốc', 'Miền', 'Bộ_Luật', 'Tỷ_số', 'Phiên_bản', 'võ', 'Voi', 'Ảnh_hưởng', 'hình_tượng', 'đế', 'đầu_nước', 'Sử_gia', 'Mỏ', 'trữ_lượng', 'tầm', 'kỷ', 'Hợp_chất', 'nhà_vật_lý', 'hạnh_phúc', 'Ga', 'tần_số', 'cổ_động_viên', 'trọng_tài', 'Củ', 'Cờ_tướng', 'hình_vị', 'thánh', 'di_chúc', 'Tướng_quân', 'công_lý', 'đại_sứ', 'thương_hiệu', 'cacao', 'huy_chương', 'Gia_phả', 'tay', 'Phái_đoàn', 'Hang_động', 'Công_ước', 'tem_thư', 'Giao', 'Lời', 'Thân', 'iPhone', 'dịch', 'Mức', 'san_hô', 'chu_kì', 'bàn_thắng_vàng', 'Cuộc_chiến', 'tài_nguyên', 'hậu_thế', 'nguyên_thủ', 'răng', 'sản_vật', 'seagame', 'Quần_thể', 'cố_đô', 'pit', 'Tết_nguyên_đán', 'Lục_địa', 'sư_đoàn', 'khuôn_mẫu', 'Khí_trơ', 'Nhiễm_trùng', 'huyết', 'thuốc_nổ', 'Ngũ', 'hổ_tướng', 'Tổng_trấn', 'flexo', 'Quốc_khánh', 'Rồng_Komodo', 'hữu', 'binh_chủng', 'quyền_hạn', 'Thanh_tra', 'thiên_hà', 'Doanh_thu', 'Đài_Truyền_hình', 'Chẩm', 'gia_vị', 'sao', 'Tập_tục', 'công_chúng', 'kim_tự_tháp', 'giáo_hội', 'công_giáo', 'Thuỷ_ngân', 'phương_pháp', 'tứ', 'hội_thánh', 'trạng_thái', 'ôxi', 'hoá', 'Ruộng_bậc_thang', 'bệnh_dịch', 'hạch', 'Quốc_ngữ', 'Titanic', 'cạn', 'mắt', 'thương_cảng', 'Mỡ', 'phúc', 'kiến', 'quà', 'mốc', 'da', 'Rắn', 'hổ_mang', 'miếu_hiệu', 'Sản_lượng', 'hình_học_giải_tích', 'phiên_bản', 'nhất_thể', 'danh_hoạ', 'Nghi_lễ', 'cộng_đồng', 'tả_ngạn', 'hiệp_định', 'pháo_thủ', 'Mục_tiêu', 'bằng_hữu', 'vương_triều', 'bụng', 'nước_ngoài', 'Phi_hành_gia', 'lực_lượng_vũ_trang', 'phu_tử', 'thể_tích', 'Hổ', 'võ_sĩ', 'Cá_rô_phi', 'võ_công', 'thủ', 'Cồng_Chiêng', 'bộ_tướng', 'toán', 'cá_bơn', 'Nguyên_lý', 'cơ', 'vũ_điệu', 'Mưa', 'Núi_lửa', 'roi', 'đặc_trưng', 'cải_lương', 'tổng_bí_thư', 'Ca_sĩ', 'Bác', 'tên_huý', 'hải_cẩu', 'quán_quân', 'Gương_mặt', 'ca_khúc', 'tiền_chiến', 'Axit_Axetic', 'Chim_cánh_cụt', 'chiến_sự', 'toàn', 'Rùa', 'học_trò', 'Bộ_phận', 'dơi', 'y_tế', 'thi_hào', 'băng', 'chứng_tích', 'Chiến_tích', 'tỷ_phú', 'Đái_tháo_đường', 'tim_mạch', 'cường_quốc', 'Nghề', 'tín_ngưỡng', 'ngôi', 'ong', 'đàn', 'quả', 'địa_cầu', 'Mũ_bảo_hiểm', 'áo_quần', 'Hệ_Mặt_Trời', 'Tết_Âm_lịch', 'Tuyến', 'đường_sắt', 'Quốc_Gia', 'Vụ', 'Thềm_lục_địa', 'thực_phẩm', 'hiệu_ứng', 'quang_điện', 'quan_niệm', 'hình_học', 'Mái', 'hình_chóp', 'nhà_ga', 'Dạng', 'Doanh_số', 'đĩa', 'Nguyên_liệu', 'ngoại_xâm', 'bề', 'mầm', 'không_khí', 'trẻ', 'cơ_đồ', 'căn_cứ_quân_sự', 'hạ_chí', 'dân_gian', 'triều_nguyễn', 'mã_hiệu', 'Ma_cà_rồng', 'mâm', 'ngũ_quả', 'Uỷ_viên', 'vải', 'Bí_thư', 'địa_đạo', 'Lợi_ích', 'thuỷ_lực', 'góc', 'Một_cách', 'quy_mô', 'tàu_hoả', 'sao_vàng', 'lệ', 'khởi_nguồn', 'buổi', 'Chủ_nghĩa_xã_hội', 'nắng', 'ban_mai', 'nhiệm_kì', 'Đảng_bộ', 'Động_cơ', 'Cờ', 'ca_sĩ', 'tàu_điện_ngầm', 'Tây', 'Thuỷ_cung', 'Nguồn', 'Súng_trường', 'Tàu_vũ_trụ', 'Chùm', 'thuốc_phiện', 'lông', 'giao_thừa', 'Đặc_trưng', 'thương_hàn', 'xuất_gia', 'Nhà_hàng', 'thần_công', 'tivi', 'Vua_Hùng', 'sán', 'lợn', 'vũ_khí_hạt_nhân', 'Kết_quả', 'hiệu_lực', 'Bí_danh', 'quận_huyện', 'Lớp', 'ong_thợ', 'xu', 'kinh_thành', 'dự_án', 'thông', 'cánh_tay', 'đồn', 'địch', 'âm_lịch', 'số_một', 'Vạch', 'Truyền_thống', 'nét', 'pin', 'Dấu_tích', 'Gương', 'ô_tô', 'nam_cao', 'bộ_trưởng', 'mối', 'dung_dịch', 'ph', 'Thư_viện', 'sử_thi', 'trăn', 'financial', 'Tam', 'sư', 'khách_sạn', 'sàn', 'chứng_khoán', 'Vợ', 'xứ', 'giảng', 'Tục', 'trạng_Nguyên', 'Máy_bay_trực_thăng', 'cánh_quạt', 'điện_thế', 'Giao_thông', 'phần_lớn', 'kĩ_thuật', 'Cleopatre', 'y_học', 'Mạch', 'nô_lệ', 'bản', 'Chiếu', 'gọi_Nôm', 'đối_tượng', 'anh', 'Phe', 'Ứng_cử_viên', 'đại_diện', 'Quạt_điện', 'Ung_thư', 'Xương_rồng', 'dấu_tích', 'trước_kia', 'đường_bay', 'học_sinh', 'Quê_hương', 'Chiêu_Văn_Vương', 'Câu', 'quân_thù', 'kệ', 'Sư_phạm', 'Dấu_hiệu', 'Nghệ_thuật', 'tướng_quân', 'Đầu', 'Sân_nhà', 'Sao', 'danh_nghĩa', 'chủ_nhân', 'von', 'Thể_loại', 'phim_nổi', 'châu_mỹ', 'quốc_dân', 'chủ_lực', 'Áp_suất', 'đồng_bào', 'tướng_lĩnh', 'tư_liệu', 'Dân_ca', 'dây', 'tên_hiệu', 'Nhiệm_kì', 'cần_cẩu', 'sử_sách', 'Vương_triều', 'Trước_đây', 'Thuật_ngữ', 'Công_nghệ_thông_tin', 'Số_nguyên', 'Cục', 'bất_động_sản', 'Hành', 'paro', 'Nguyên_tố_hoá_học', 'chử', 'hố', 'ngân_hà', 'chuỗi', 'thức_ăn', 'hài_cốt', 'trung_đại', 'đấu_trường', 'phim_truyền_hình', 'Cánh', 'diều', 'phim_tài_liệu', 'truyền_hình', 'Cặp', 'giới_tính', 'ruồi', 'dấm', 'sớ', 'độc_tố', 'khoai_mì', 'bán_dẫn', 'nguyên_âm', 'Bá_Kiến', 'kumkum', 'Thuốc_súng', 'hỗn_hợp', 'Nhà_giáo', 'Chủ_Tịch', 'lúa', 'tài', 'gốm', 'danh_pháp', 'Trang_phục', 'thủ_môn', 'vật_dụng', 'Êch', 'hình_ảnh', 'Thận', 'nhi_đồng', 'Thịt', 'bóng_đèn', 'Đường_biển', 'danh_tác', 'hoạ_sĩ', 'Ung', 'hộp', 'sọ', 'hạt_tiêu', 'ao', 'cổ_phiếu', 'luật_lệ', 'trân_châu', 'Kem', 'máy_vi_tính', 'Nước_biển', 'Bom_nguyên_tử', 'ông_già', 'Dế_Mèn', 'ngữ_văn', 'Tượng', 'tiểu_liên', 'Nhạc', 'danh_thủ', 'tàu_ngầm', 'tổ_hợp', 'tên_lửa', 'tước_hiệu', 'cương', 'cừu', 'động_đất', 'bầu_trời', 'kính_viễn_vọng', 'chủ_nghĩa_cộng_sản', 'căn_hộ', 'nghĩa_sĩ', 'Thời', 'Đại_biểu', 'quan_lại', 'thói', 'uỷ_viên', 'Giai_đoạn', 'sôcôla', 'kỉ_lục', 'Tàu_ngầm', 'đồng_vị', 'lập_trình_viên', 'Ruột_thừa', 'chuối', 'trái_cây', 'cầu_mây', 'Thân_Nhân', 'danh_sĩ', 'Quái_vật', 'vở', 'tre', 'hợp_chất', 'Niên_hiệu', 'Chồn', 'tạng', 'tộc', 'Thượng_đế', 'đạo_giáo', 'đỗ', 'hạng', 'nho_học', 'tổng_cục', 'Ngày_ngày', 'Máu', 'độ_pH', 'hậu_duệ', 'bước_tiến', 'quân_Nguyên', 'bánh_mì', 'Phong_cầm', 'phản_ứng', 'hạt_nhân', 'Trâu_Vàng', 'hiệu_trưởng', 'Mâm', 'Cầu_vồng', 'Thương_cảng', 'danh_tướng', 'thuyền_trưởng', 'tinh', 'Tiêu_chuẩn', 'Sản_phẩm', 'hit', 'Ure', 'mí', 'Bố', 'Chu_kỳ', 'câu_chuyện', 'vắcxin', 'bộ_lạc', 'Cá_heo', 'thắng_lợi', 'Chủ_nhiệm', 'thổ_ngữ', 'nhựa', 'nữ_tướng', 'quy_ước', 'chì', 'Cân', 'vận_hội_nhiều', 'vật_liệu', 'Lúa_mì', 'thành_công_chức', 'than_đá', 'hàng_hải', 'dinh', 'vạn_đại', 'thuỷ_bộ', 'Thuốc', 'cường_dương', 'Quỹ', 'học_bổng', 'Thứ', 'Thái_sư', 'tá', 'tường', 'Hippocrates', 'bảng', 'Kim_ngạch', 'cá_rô_phi', 'con_số', 'dây_tóc', 'Nghệ_sĩ', 'hải_ngoại', 'nghệ_sĩ_ưu_tú', 'Sân_cỏ', 'đê', 'đồng_hồ_quả_lắc', 'Ranh_giới', 'Thông_số', 'phản_ứng_hoá_học', 'cà_phê', 'Thuốc_lá', 'Trùng_roi', 'quái_vật', 'Quan_hệ', 'hương', 'Sen', 'Thượng_viện', 'đội_trưởng', 'gạo', 'quang', 'giọng', 'Làng_nước', 'Kính_thiên_văn', 'sâu_bọ', 'triều_Nguyễn', 'lợi', 'chính_cung', 'Titan', 'sắc_đẹp', 'Pháp_luật', 'Tiêu_Thập_Nhất_Lang', 'ông_táo', 'Đại_nghĩa', 'Bản_đồ', 'vệ_tinh_tự_nhiên', 'mạc', 'mì', 'soba', 'Nữ_giới', 'lối', 'Thắng_lợi', 'nam_giới', 'Chợ', 'tiền_giấy', 'Tổng_tư_lệnh', 'cháu', 'ngoại', 'hợp_lưu', 'Lục', 'quốc_lộ', 'ấn_độ', 'film', 'ngô', 'Cà_phê', 'Thính_giác', 'vận_tải', 'hệ_điều_hành', 'Công_thức', 'thuốc_súng', 'Trạng_Quỳnh', 'quán', 'kho_tàu', 'Cồng', 'chiêng', 'văn_phòng', 'đồ_ăn', 'Bánh_cuốn', 'tước', 'Hạng', 'Bảo_Đại', 'công_cụ', 'chấn_động', 'đai', 'Cung', 'đèo', 'thiên_hạ', 'dấu', 'bằng', 'phương_trình', 'đại_số', 'bác_học', 'khinh_khí_cầu', 'Chuyến', 'Tỉnh_lị', 'Triều', 'lưu_lượng', 'kinh_tuyến', 'cù_lao', 'đôn', 'nhân_loại', 'sủng_ái', 'mộc', 'sản_phẩm', 'Tuổi_thơ', 'thần_lực', 'đề_tài', 'chuyến', 'trang_trại', 'lao', 'eV', 'chân_dung', 'Virus', 'màn', 'phát_tích', 'Triệu_chứng', 'bệnh_lý', 'u_xơ', 'chiến_sĩ', 'tình_hình', 'công_cuộc', 'bóng_rổ', 'phim_hoạt_hình', 'ngày_xưa', 'số_nguyên', 'Trạm', 'chi_phí', 'nhân_sư', 'Giỗ_Tổ_Hùng_Vương', 'chương', 'ngai_vàng', 'dạ_dày', 'cử_tri', 'ga', 'Tên_thánh', 'dưỡng_khí', 'giáp_biển', 'nhật_thực', 'vé', 'Ngưu_Lang_Chức_Nữ', 'Hậu_duệ', 'hình_luật', 'Nhà_sản_xuất', 'bánh_cuốn', 'lễ_tết', 'liên_bang', 'quân_dân', 'Tử', 'công_thức_hoá_học', 'pizza', 'bước', 'tuyệt_chiêu', 'Phương_tiện', 'đường_thuỷ', 'bằng_sáng_chế', 'hệ_số', 'Tiểu_bang', 'Công_thức_hoá_học', 'Ca_trù', 'Dưới', 'Súng', 'sa_đoạ', 'sọc', 'á', 'uy_tín', 'kỉ', 'băng_hà', 'Địa_điểm', 'Nhẫn_cưới', 'Việc', 'Anh_hùng', 'toà_án', 'đảng_viên', 'Rượu', 'vai_vế', 'Vệ_tinh', 'gang', 'giày', 'Trái', 'bòn_bon', 'thuyết', 'Ông', 'Boku', 'Tướng', 'công_thần', 'Xóm', 'doanh_nghiệp', 'bản_sao', 'Phốt_pho', 'sắt', 'ách', 'Hình_dạng', 'Kẻ', 'tỉ_số', 'lý', 'quyển', 'cửa_ngõ', 'Tước_hiệu', 'tấn_phong', 'tuyển', 'tô', 'thảm', 'Chồng', 'hera', 'chợ', 'phượng_hoàng', 'Dấu_câu', 'vế', 'Phim_hoạt_hình', 'động_vật_nguyên_sinh', 'Bao_cao_su', 'chủ_nhật', 'Hàng_hoá', 'hàng_hoá', 'Chủ', 'Cao_lầu', 'sử_học', 'Vợ_chồng', 'đa', 'Tác_nhân', 'Tổng_cục', 'đồng_chí', 'đồi_núi', 'Áo_dài', 'an_ninh', 'Sắn', 'Cỗ', 'Bàn', 'horus', 'Thể_chế', 'thời_tiết', 'Bộ_tộc', 'nghệ_sĩ', 'tay_trong', 'mặt_hàng', 'thiết_bị', 'cửa', 'tín_đồ', 'nghệ_danh', 'dừa', 'thục', 'Kịch_bản', 'kong', 'huyền_thoại', 'Trò_chơi', 'nỏ', 'thương_binh', 'du_hành_vũ_trụ', 'ý', 'mít_tinh', 'thuỷ_ngân', 'bụi', 'văn_tự', 'triển_lãm', 'Tứ_giác', 'mảng', 'Quá_trình', 'ngọc_trai', 'Tản_Viên_Sơn_Thánh', 'Vũ_điệu', 'mỹ_đình', 'Sốt', 'Dân_cư', 'Thời_kì', 'thập_niên', 'thành_phố_đông', 'dan', 'gian', 'cơ_cấu', 'ban_đêm', 'Phóng_viên', 'chiến_trường', 'điểu', 'Tàu_sân_bay', 'Hoá_trị', 'tính_mạng', 'Đàn_ông', 'váy', 'kiềm', 'Chất_lỏng', 'chất_lỏng', 'Nghĩa_quân', 'đầm', 'Vua_phá_lưới', 'Thái_hậu', 'quân_phục', 'ruộng', 'sứ_thần', 'Dòng_họ', 'tử_cung', 'ứng_viên', 'máy_ảnh', 'Đồng_hồ', 'Hạng_mục', 'Thủ_môn', 'đường_thẳng', 'Xe_máy', 'Trẻ_em', 'răng_sữa', 'nhà_nghỉ', 'Tổng_cộng', 'tiền_tuyến', 'phi_công', 'buồng_lái', 'ôzôn', 'bình', 'thuần_hoá', 'cổ_phần', 'thượng_lưu', 'Truyền_thuyết', 'Tác_dụng', 'Tình', 'lượng', 'sĩ', 'ứng_cử_viên', 'nước_bọt', 'phòng_thí_nghiệm', 'cà_ri', 'XBOX', 'thịnh_vượng', 'Achilles', 'hoàng_tử', 'Trung_tướng', 'Bàu_Sấu', 'Mặt_hàng', 'ngắn_hạn', 'cần_sa', 'trưa', 'lứa', 'ngư_dân', 'hiệp_ước', 'Thời_Pháp', 'ven', 'cùi', 'hải_cảng', 'Lò', 'Nồng_độ', 'lệnh', 'vũ_khí', 'di_chỉ', 'tự_nhiên', 'tờ', 'Gmail', 'chu_vi', 'tiến_sĩ_khoa_học', 'triệu_chứng', 'hiệu_điện_thế', 'cõi', 'Kích_thước', 'đôi_lúc', 'đấu_vật', 'Bánh_phở', 'nhân_gian', 'hát_xoan', 'ca', 'vườn', 'pho_mát', 'Máy_bay', 'cẩu', 'Tháp_nước', 'chuẩn', 'Phần_lớn', 'biện_pháp', 'sóng_thần', 'lưọng', 'Hươu_cao_cổ', 'Tam_giác', 'sonat', 'Đặc_tính', 'tố', 'Nhạc_cụ', 'cấp_bậc', 'đồ', 'quan_tiền', 'apollo', 'quyền_năng', 'Ấn_độ_giáo', 'Đạo_Hồi', 'Tay_đua', 'chung_cuộc', 'cảnh', 'phe', 'Nhà_lãnh_đạo', 'tiêu_chuẩn', 'lưỡi', 'Nhập_khẩu', 'Đấu_trường', 'phát_xít', 'trí_tuệ_nhân_tạo', 'sông_cửu_long', 'thôn', 'bối_cảnh', 'olympia', 'tru_di_tam_tộc', 'Tổ_quốc', 'nitơ', 'Nhà_Rông', 'nguyên_tắc', 'bùa', 'Phiên', 'ban_ngày', 'Quân_số', 'lăng_mộ', 'quốc_huy', 'căn_bệnh', 'thiệp', 'Giáng_sinh', 'cầu_là', 'đường_biển', 'Vôn', 'trung_học_cơ_sở', 'thang_máy', 'ác_quỷ', 'Chính_thể', 'Nhà_sàn', 'tem', 'bưu_chính', 'Nguyên_tác', 'đá_ong', 'Đám_cưới', 'đợt', 'Tổ_Chức', 'Festival', 'định_kỳ', 'cơ_quan_ngôn_luận', 'giỗ', 'Quan_Họ', 'tháng_giêng', 'Nhân_dân', 'khoa', 'Cách_thức', 'Cơ_cấu', 'bộ_máy', 'sơn', 'năm_tuổi', 'thọ', 'cruise', 'Chân', 'thành_tích', 'Chức_nghiệp', 'Nghề_nghiệp', 'Thái_tử', 'Thân_sinh', 'Pháo_hoa', 'lí_do', 'Lý_do', 'Nguyên_do', 'Bế_Văn_Đàn', 'unk', 'phụ_mẫu', 'phụ_thân', 'Phong_Nhã', 'Con_cái', 'thân_phụ', 'con_cái', 'mẫu', 'A', 'Thiệu_Trị', 'Sinh_nhật', 'Diễn_viên', 'Ngày_sinh', 'Friedrich_II', 'sanh', 'tùng', 'mtp', 'Nghệ_sỹ', 'Tư_Mã', 'diệu', 'Sơn_Tùng_M', 'sinh_nhật', 'Ăngghen', 'Hàn_Mạc_Tử', 'Hindenburg', 'ceo', 'phiến', 'thiết', 'huyền', 'Tiểu_sử', 'chú', 'Nông', 'văn', 'dền', 'thái_hậu', 'Đô_đốc', 'Mark_Elliot_Zuckerberg', 'Lý_lịch', 'mỵ', 'nương', 'Phúc_Thần', 'đường_cao', 'Phương_Lựu', 'dũng', 'bà_chúa', 'nôm', 'phoenix', 'Trưng', 'nữ_vương', 'sầu', 'thủ_khoa', 'Tía', 'Ba', 'cha_ông', 'ba', 'chúa_tể', 'Phụ_thân', 'phu_quân', 'phu_nhân', 'Phu_quân', 'thê_tử', 'Đát_Kỷ', 'Má', 'Phụ_mẫu', 'Quốc_tịch', 'Cha_mẹ', 'Bố_mẹ', 'Quách_Tương', 'Phụ_huynh', 'Quê_quán', 'Quê', 'Nhật_Tinh_Anh', 'viện_sĩ', 'danh_y', 'siêu_sao', 'di', 'cố_chủ_tịch', 'cối_xay_gió', 'Tuyển_thủ', 'danh_xưng', 'Tiền_Ngô_Vương', 'công_tử', 'Thanh_Hiên', 'Minh_Mạng', 'liệt_sĩ', 'trái', 'Hùm', 'cân', 'Phu_nhân', 'Thê_tử', 'của_son', 'chế_độ_quân_chủ', 'hiện_thời', 'hội_đồng_quản_trị', 'huấn_luyện_viên', 'thành_uỷ', 'Chánh_án', 'Huấn_luyện_viên', 'phó', 'Tổng_bí_thư', 'ban_chấp_hành', 'Xã_hội', 'thứ_trưởng', 'Tài_chính', 'Thứ_trưởng', 'công_nhân', 'Tổng_thư_kí', 'Ban_Chấp_hành', 'quốc_trưởng', 'Nước_Hoa', 'Số_liệu', 'tiểu_bang', 'trung_du', 'ra_bộ', 'diện', 'unicode', 'Danh_từ', 'Đố', 'Thần_thoại', 'nhiễm_trùng', 'Thôi_miên', 'Lễ_Giáng_Sinh', 'Công_suất', 'Cấp_số', 'bê_tông_cốt_thép', 'dino', 'Bọ_chét', 'Đô_thị', 'Hình_vuông', 'Vốn_điều_lệ', 'Câu_lạc_bộ_thể', 'Bách_khoa_toàn_thư', 'Phần_mềm', 'Bảng_tuần_hoàn', 'miễu', 'hầm', 'Cuộc_Cách', 'Đỉnh_cao', 'hình_phạt', 'Khả_năng', 'kích_thích', 'công_ước', 'boomerang', 'tư_tưởng', 'tân_tự_do', 'nạn', 'Sừng', 'kỹ_thuật_số', 'người_thân', 'quan_chức', 'Cơ', 'thương_thuyết', 'khâu', 'Trường_hợp', 'Cation', 'Sinh_vật', 'cuộc_sống', 'samurai', 'tác_hại', 'Tính', 'hạt_giống', 'Tai', 'hậu_quả', 'phân_cực', 'Bò_sát', 'nhiệt', 'Trước_tiên', 'Tác_động', 'móng', 'hooligan', 'dê', 'giả_thuyết', 'nửa', 'Cơ_khí', 'Ý_thức', 'hoang_mạc', 'mũi', 'đường_hầm', 'ngã', 'thung_lũng', 'lòng_sông', 'thuỷ_lợi', 'Cực_Bắc', 'Liên_bang', 'chủ_nghĩa', 'quân_nhân', 'Di_trú', 'Khối', 'Cựu_chiến_binh', 'môn_phái', 'Hội_Chữ_thập_đỏ', 'tắc', 'tam', 'Tay_vợt', 'tay_vợt', 'tập_quyền', 'Khu_phố', 'sức', 'Quy_tắc', 'đô_đốc', 'Doraemon', 'Me', 'before', 'đô', 'quần_vợt', 'Tam_Quốc', 'Ông_tổ', 'rãnh', 'Gang', 'trợ_lý', 'rác_thải', 'nhà_chọc_trời', 'nhà_sử_học', 'bệ_phóng', 'tinh_bột', 'tàu_vũ_trụ', 'Khoáng_sản', 'Khứu_giác', 'đèn_điện', 'cửu', 'ứng_dụng', 'Người_mẫu', 'thực_quyền', 'Chúa', 'sứ_mệnh', 'Bánh_đậu_xanh', 'Bánh_tổ', 'Thang_máy', 'đường_cao_tốc', 'Bằng_chứng', 'Lợi_thế', 'rogan', 'nguyên_liệu_chính', 'Báo_điện_tử', 'nội_tạng', 'đặc_khu', 'Tài_nguyên', 'mì_ăn_liền', 'Vệ_sĩ', 'âm_mưu', 'Công_nhân', 'blockchain', 'Lễ_vật', 'mồi', 'thực_chất', 'hành_trình', 'rằm', 'viôlông', 'Hệ_sinh_thái', 'Bánh_canh', 'cá_lóc', 'thế_vận_hội', 'huỷ_diệt', 'tulip', 'carbon', 'Hôm', 'thành_quách', 'cung_điện', 'đuôi', 'chuông', 'định_mức', 'đốt', 'hai_châu', 'vôi', 'không_trung', 'lập_quốc', 'bàn_tay', 'Máy_hơi_nước', 'your', 'name', 'lò', 'lạc_đà', 'bướu', 'mã_vạch', 'sashimi', 'Con_nuôi', 'soda', 'phố_phường', 'Tống_thống', 'ôn_đới', 'Cao_ốc', 'máy_bay_trực_thăng', 'hồi_môn', 'Đài_truyền_hình', 'Khoa_học', 'Quốc_Kỳ', 'hiệp_hội', 'Tây_Du_Ký', 'xoài', 'mỏ', 'Đông', 'Wikipedia', 'người_máy', 'Thỏ', 'hồng', 'gấu_trúc', 'quốc_tế_ca', 'độ_kinh', 'chiến_thuật', 'nhân_bản', 'gen', 'thi_sĩ', 'chocolate', 'kính', 'chuyên_ngành', 'gươm', 'hiền_tài', 'nguyên_khí', 'mật_danh', 'cơ_học', 'Sát_Thát', 'Thiết_bị', 'jazz', 'jin', 'tiêu_chí', 'dầu', 'vạch', 'bitcoin', 'El_Classico', 'Youtube', 'trang_web', 'phường_xã', 'Bộ_môn', 'ong_chúa', 'nhí', 'rau', 'thoại', 'giáo_sỹ', 'eo_biển', 'Máy_phát_điện', 'bảng_nhãn', 'thiệt_hại', 'con_lắc', 'Tỷ_phú', 'người_mẫu', 'Hộp_đen', 'điôxít', 'tư_lệnh', 'quân_khu', 'Trường_sinh', 'xã_phường', 'vợ_chồng', 'Thuỷ_thủ', 'biên_phòng', 'Danh_sĩ', 'nhiệt_lượng', 'Tuần', 'nguyên_tác', 'sứ_giả', 'xe_lửa', 'Hạ_viện', 'Sáng', 'chất_liệu', 'Bệnh_nhân', 'tuỵ', 'glass', 'vệ_tinh_nhân_tạo', 'đại_thần', 'Robot', 'Chocolate', 'tội', 'chầu', 'Cồ', 'đàm', 'giấm', 'Shiseido', 'mỹ_phẩm', 'Dây_tóc', 'Trọng_lực', 'đường_dây', 'bóng_nước', 'số_hiệu', 'thiên_chúa_giáo', 'giái', 'sức_mua', 'Bánh_cáy', 'binh_nghiệp', 'tổng_thư_kí', 'Căn_nguyên', 'bến', 'thuyền', 'Danh_thắng', 'Quốc_Phòng', 'Hình_dáng', 'chó_ngao', 'Màn', 'thân_phận', 'túi', 'gió_trăng', 'Ma_tuý', 'hội_chứng', 'dân_nghèo', 'bang_giao', 'năng_suất', 'Sách_đỏ', 'nền_tảng', 'pencakxilat', 'Thị_trấn', 'Thời_đại_đồ_đá', 'thái_tử', 'tiên', 'đế_chế', 'tảng', 'du_khách', 'đặc_quyền', 'Cờ_vua', 'tỉnh_lị', 'Hậu_cung', 'thừa_tướng', 'đức', 'Hàn_Mặc_Tử', 'Võ', 'thị', 'Quan_Âm', 'tiểu_sử', 'hưng', 'đại_vương', 'ơle', 'metis', 'lê_văn', 'Ngô_Y_Linh_học', 'con_nuôi', 'lê_hãn', 'hoà_thượng', 'thuở', 'bệnh_viện', 'phim_điện_ảnh', 'nguyên_mẫu', 'nan', 'dạ', 'khúc', 'Hình_bình_hành', 'Lạm_phát', 'Mặt_phẳng', 'hoàng_đạo', 'Trái_tim', 'dãi', 'U_xơ', 'tiền_liệt_tuyến', 'hoá_đơn', 'Bộ_nhớ', 'Hoá_học', 'Hình_chữ_nhật', 'ma', 'Glucose', 'hướng_ngoại', 'kỳ_tích', 'việt_vị', 'Mẫu', 'Định_nghĩa', 'Thương_hàn', 'vi', 'Máy_tính_xách_tay', 'Luỹ_thừa', 'bán_phá_giá', 'súng_trường', 'lụa', 'glycogen', 'Phenol', 'Nhà_Hát', 'Liên_Bang', 'quốc_ngữ', 'World_cup', 'Quốc_tế_Phụ_nữ', 'đạn', 'đặc_tính', 'dương_cầm', 'cảm_tính', 'thần_kinh', 'elegans', 'trái_nghĩa', 'rupee', 'thiểu', 'diên', 'sổ', 'hiệu_ứng_nhà_kính', 'đàn_ông', 'tài_liệu', 'Kế_hoạch', 'demonetisation', 'Phòng', 'trung_lập', 'không_tưởng', 'dầu_khí', 'thiên_vị', 'chi_tiết', 'dược_phẩm', 'hoá_sinh', 'Trách_nhiệm', 'dân_sự', 'Trạng_thái', 'lưỡng_cư', 'Tầm', 'tính_toán', 'k', 'lý_lịch', 'giá_trị_thặng_dư', 'Ếch', 'Hôn_nhân', 'Tỉnh_đoàn', 'nghĩa_đàn', 'keo', 'DIện_tích', 'Phía', 'Hang', 'Bán_đảo', 'Hang_Con_Moong', 'Hàng_Đào', 'bãi', 'Làng_nghề', 'Nhạc_viện', 'Non_nước', 'Nội', 'Sơn_Đoòng', 'Đầm', 'Cơ_sở', 'Uỷ_ban_nhân_dân', 'Quân_Đội', 'Chữ_thập_đỏ', 'khí_tượng', 'Marketing', 'dược', 'OnePlus', 'kiểm_soát', 'ngày_đêm', 'Nhà_rông', 'nghi_lễ', 'cây_gỗ', 'uỷ_ban', 'mình', 'lưới', 'phút', 'Bưu_điện', 'mẫu_tự', 'đề', 'Bộ_Trưởng', 'Nội_vụ', 'nội_vụ', 'chức_danh', 'Chính_uỷ', 'viện_kiểm_sát', 'nông_sản', 'Hồi', 'Cầu_đường', 'Cồng_chiêng', 'Cổ_phiếu', 'Cụ', 'Dũng_tướng', 'dâu', 'tuần_san', 'thủ_công', 'cáp', 'Tuyên_ngôn', 'Hổ_tướng', 'thường_trực', 'Instagram', 'follow', 'Kỷ_lục', 'Luật_hình_sự', 'giấc', 'tỷ_trọng', 'kết_cấu', 'ngoại_quốc', 'Nhân_công', 'trường_thành', 'hội_đồng', 'triết_học', 'số_thành_viên', 'nôi', 'thể_loại', 'Phần_đông', 'Quà', 'cáo', 'đặc_công', 'dải', 'tên_tuổi', 'cốt_truyện', 'thể_nào', 'Truyện_thơ', 'của_nổi', 'môn_khách', 'bản_án', 'điêu_khắc', 'rặng', 'chi_lưu', 'đại_sứ_quán', 'đới', 'hoa_cúc', 'Vòng', 'Võ_đường', 'môn_sinh', 'nước_tương', 'Văn_Miếu', 'sĩ_phu', 'Vụ_việc', 'Xứ_sở', 'trường_thành_viên', 'đình_đám', 'hạn_hán', 'Đời', 'Trạng_Nguyên', 'chim_cánh_cụt', 'Tuxedo', 'mặt_nạ', 'khoa_học_cơ_bản', 'lũ', 'nghi_thức', 'mạch', 'Hội_đồng_nhân_dân', 'Tên_tự', 'cột', 'rạng_đông', 'cực_đoan', 'vảy', 'ngựa_vằn', 'xương', 'Vi_sinh_vật', 'Bánh', 'ka', 'Hình_thoi', 'đường_chéo', 'Linh_miêu', 'com', 'Tam_tòng_tứ_đức', 'chuẩn_mực', 'vua_phá_lưới', 'goku', 'Cà_ri', 'công_nghệ_cao', 'thính', 'bánh_trôi', 'bán_kính', 'Tết_âm_lịch', 'biến_chứng', 'Hoá_thạch', 'Công_cụ', 'thằn_lằn', 'gfriend', 'Biệt_thự', 'Kiểu', 'Quốc_sử', 'Cá_thể', 'quạt_điện', 'trường_sinh', 'thiền_sư', 'kính_thiên_văn', 'khói_lửa', 'Cò_lả', 'Truyện_kiều', 'Tết_Dương_lịch', 'Nón_quai_thao', 'Sợi', 'Mạch_máu', 'sinh_học', 'kẹo', 'nguyên', 'Em_trai', 'kách', 'mệnh', 'tiềm_lực', 'Keangnam_Hanoi_Landmark_Tower', 'Âm_thanh', 've_sầu', 'thiên_cổ', 'bút', 'đại_gia', 'Ong_chúa', 'di_chứng', 'liên_cầu_khuẩn', 'Tứ_Giác', 'cụm_từ', 'đoan_chính', 'lòng', 'Tên_tuổi', 'nhạc_sỹ', 'mõm', 'tiếng_động', 'mát_mẻ', 'phù_dâu', 'phù_rể', 'Thời_tiết', 'ngày_mai', 'Mì', 'udon', 'yêu_cầu', 'trọng_tải', 'khoáng_sản', 'Chất_béo', 'đại_quân', 'penixilin', 'Bóng_bầu_dục', 'thanh_điệu', 'xe_hơi', 'Trình_độ', 'học_vấn', 'máy_hơi_nước', 'phong', 'viễn_thông', 'Hiệu', 'kim_ngạch', 'Trí_tuệ', 'giàu_có', 'Xúc_giác', 'phần_nhiều', 'tàng_hình', 'khoảng_không', 'Văn_học', 'láng_giềng', 'cơ_quan_hành_chính', 'tenis', 'tôm', 'siêu_thanh', 'cô_hồn', 'quang_năng', 'Râm_bụt', 'ngoại_hạng', 'Diêm', 'Sở_trường', 'thư_kí', 'Paris_SG', 'hợp_kim', 'báo_cáo', 'Bài_toán', 'Vỏ', 'phái_đoàn', 'phù_sa', 'Anh_trai', 'cảm_ứng', 'công_dụng', 'Nhãn_hiệu', 'Vốn', 'tục_ngữ', 'văn_thơ', 'cầu_vượt', 'thẻ', 'vườn_không_nhà_trống', 'Thị_giác', 'nước_nhà', 'hạm', 'Bạc', 'cách_mạng_tháng', 'thánh_giá', 'bình_bầu', 'phái_mạnh', 'Nhựa_mủ', 'Quận_huyện', 'thiên_lôi', 'Sự_nghiệp', 'Biện_pháp', 'tất', 'thiên_hướng', 'tính_dục', 'luật_bóng_đá', 'rắn_độc', 'cây_công_nghiệp', 'kim_loại_đen', 'Kiến_trúc', 'tiểu', 'nghệ', 'Trại', 'cụm', 'Logarit', 'trọng_thần', 'Dân', 'gray', 'bánh_chay', 'thần_tình', 'quy', 'phật_thủ', 'nguyên_bản', 'Chân_dung', 'lâm', 'điện_năng', 'Hiệu_suất', 'nồng_độ', 'Xe', 'bộ_binh', 'quỹ_đạo', 'Cửa_ải', 'phần_thưởng', 'cầu_khuẩn', 'hẻm', 'Thái_Dương', 'Cương_lĩnh', 'chàng', 'Đám_tang', 'tiếng_anh', 'Tàu_con_thoi', 'sáng_tạo', 'Nậm_Pịa', 'ruột_non', 'Chính_sách', 'Bạch_đàn', 'Kinh_phí', 'garrix', 'Vừ_A_Dính', 'nhà_phát_minh', 'Cụt', 'Bà_Huyện_Thanh_Quan', 'Công_Tôn_Lệ', 'quách', 'Hokage', 'Trường_học', 'Danh_Nhưỡng', 'Thần_đồng', 'Thừa_tướng', 'Hoàng_hậu', 'chủng', 'quân_hàm', 'Quốc_Hội', 'Thế_vận_hội_mùa_hè', 'xe_lăn', 'hiệp_thương', 'olympic', 'đèn_lồng', 'bái', 'Cách_mạng_tháng', 'Chiến_lược', 'năm_học', 'sea_games', 'Zing_Music_Awards', 'Cúp', 'cồng_chiêng', 'Khủng_hoảng', 'cá_ngừ', 'dưa', 'Lũ', 'bê_tông', 'rạn', 'SPG-9', 'Siêu', 'Ibrahimović', 'Kim_đồng', 'mùi', 'hy', 'nha', 'doraemon', 'thào', 'Vuờn', 'gi', 'vừ', 'Ban_ngày', 'Hiện_vật', 'kh', 'ka-tom', 'pơ', 'tác_gia', 'bệ_hạ', 'chế_độ_phong_kiến', 'biệt_danh_Trạng', 'vac', 'nứơc', 'phụ', 'đựơc', 'tá_tràng', 'đc', 'COn', 'sầu_riêng', 'mồng', 'hải_lí', 'lưỡng_thê', 'Hải_dương_học', 'ngụ_cư', 'phú', 'Nữ_Thần', 'n\\xadước', 'đà_điểu', 'Ngạc', 'ngư', 'óc-om-boóc', 'Tổng_Bí_Thư', 'biển_hồ', 'nhị', 'nhiu', 'gô', 'cây_xanh', 'hoa_hồng', 'kí_hiệu', 'ván', 'nhân_văn', 'Mặt', 'ianta', 'màu_da', 'nự', 'Mốc', '”', 'chổi', 'Tiến_quân', 'điện_biên', 'Hát_xẩm', 'trò', 'xác_suất', 'ng', 'sim', 'Dự_Trữ', 'tích_phân', 'thiếu_nhi', 'Hoa_Nhài', 'điện_tín', 'apatit', 'trường_phái', 'hoa_hậu', 'new', 'nhieu', '\\x08nhân', 'Số_nguyên_tố', 'hoach', 'Lãnh_hải', 'sương', 'Bên', 'bóng_điện', 'Dung_dịch', 'thuốc_tím', 'Cơm', 'quân_kỳ', 'Gdp', 'phiên_toà', 'Kiểm_toán', 'Thủ_trưởng', 'Khủng_hoảng_kinh_tế', '\\x08hệ_thống', 'luật_hình_sự', 'Cấu_thành', 'vòi', 'Cá_sấu', 'nước_mặn', 'chúa_sơn_lâm', 'mận', 'gai', 'Tình_trạng', 'đương', 'Quang_phổ', 'biên_chế', 'Thủ_Tướng', 'nông', 'thiên_thần', 'everest', 'nhiên', 'vaò', 'rạch', 'hình_thái_kinh_tế', 'ninh', 'đì', 'Dinh', 'formosa', 'hành_vi', 'Hậu_cần', 'thiêm', 'lỗ', 'Byte', 'bit', 'Đáo', 'nịnh_thần', 'thiên_đường', 'tử_suất', 'dị′′', 'đảng_cộng_sản_Việt_Nam', 'Quán_quân', 'bút_bi', 'vòng_loại', 'cá_thu', 'Chi_phí', 'siêu_vi', 'wolfram', 'tổng_hội', 'bế_mạc', 'bá', 'cáy', 'mắm', 'Sashimi', 'làng_nghề', 'sắc_lệnh', 'Nông_dân', 'air', 'france', 'Xa_lộ', 'soạn_giả', 'Hình_thái', 'chọp', 'punta', 'gorda', 'Thành_Thị', 'đan_mạch', 'i', 'phương_thức', 'buồng_trứng', 'hủ', 'phong_tục', 'Thuỷ_Ba', 'tác_động', 'kai-tak', 'Cấp', 'hộ', 'khí_cầu', 'Rạn', 'hải_dương_học', 'Bộ_máy', 'cung_thánh', 'Quyết_định', 'thẩm_phán', 'nhược_điểm', 'Hồ_chứa_nước', 'YxineFF', 'zayed', 'quý_phi', 'riel', 'Đèn_lồng', 'năm_âm_lịch', 'ngoài_trời', 'cá_chép', 'thập_kỷ', 'sinh_thời', 'vọng', 'Đá', 'Nguyên_quán', 'luận_án', 'văn_khoa', 'cây_thân_gỗ', 'đổng', 'Chủ_đề', 'Trăn', 'Cựa', 'hậu_môn', 'Giới_tính', 'Màu_sắc', 'quốc_vương', 'ký_sinh_trùng', 'hoàng_tộc', 'Trứng', 'ấp', 'sinh_dục', 'tính_năng', 'Tầng', 'lý_thuyết_lực', 'sinh_lý', 'tràm', 'Elizabeth_II', 'Máy_ảnh', 'đời_mới', 'muối_ăn', 'iốt', 'La_bàn', 'la_bàn', 'Bóng_rổ', 'Bản_đồ_học', 'bản_đồ_học', 'số_liệu', 'Na_Bon', 'united', 'Ninh_Chử', 'lỡ_cơ', 'Phù_Sai', 'Tài_sản', 'quốc_phục', 'Nhôm', 'Chỉ_thị', 'chỉ_thị', 'Trà', 'trà', 'nhài', 'carat', 'Tính_chất', 'Xe_lửa', 'chuồng', 'tháng_nuôi', 'grab', 'tuỷ_sống', 'thuật', 'Brochure', 'mandeville', 'nòng', 'Thứ_hạng', 'cầu_lông', 'bán_kết', 'bóng_chày', 'nghĩa_trang', 'hoả_khí', 'cá_sấu_dương', 'Zing', 'quan_sát_viên', 'apec', 'môn_học', 'chuyên_viên', 'dân_cử', 'tuỷ', 'vân', 'rễ', 'bùn', 'Luiz_Inácio_Lula', 'chủng_loại', 'lư', 'ngạn', 'aspirin', 'pháo_hoa', 'tinh_thần', 'nhẫn', 'tính_cách', 'sừng', 'tê_giác', 'hô_hấp', 'Chúa_tể', 'bản_vẽ', 'lắk', 'nhân_quyền', 'vận_tốc', 'Zing_Me', 'đệ_tử', 'Thân_hữu', 'Nữ_Hướng', 'Luật_dân_sự', 'Tê_giác', 'Hello', 'Sao_Hoả', 'Loại_hình', 'bài_tây', 'gốc_từ', '\\x1dBộ', 'Quỹ_đạo', 'khmer', 'thiên_đỉnh', 'ngọ', 'sườn', 'Sóc', 'vự', 'Múa', 'sạp', 'nhà_kính', '\\x1dHoa', 'noel'])"
            ]
          },
          "execution_count": 258,
          "metadata": {},
          "output_type": "execute_result"
        }
      ],
      "source": [
        "noun_and_question_list.keys()"
      ]
    },
    {
      "cell_type": "code",
      "execution_count": null,
      "metadata": {
        "id": "0aoktMa4gTTF"
      },
      "outputs": [],
      "source": [
        "with open(\"/content/drive/MyDrive/Final Project Zalo Internship/Final Project/Categorized vocab (No Trec57)/noun_and_question.json\",\"w\", encoding='utf-8') as jsonfile:\n",
        "    json.dump(noun_and_question_list,jsonfile,ensure_ascii=False, indent=2)"
      ]
    },
    {
      "cell_type": "code",
      "execution_count": null,
      "metadata": {
        "id": "EVKsDGSZziKc"
      },
      "outputs": [],
      "source": [
        "with open(\"/content/drive/MyDrive/Final Project Zalo Internship/Final Project/Categorized vocab (No Trec57)/adj_and_question.json\",\"w\", encoding='utf-8') as jsonfile:\n",
        "    json.dump(adj_and_question_list,jsonfile,ensure_ascii=False, indent=2)"
      ]
    },
    {
      "cell_type": "code",
      "execution_count": null,
      "metadata": {
        "id": "bdL1J1s66-cI"
      },
      "outputs": [],
      "source": [
        "with open(\"/content/drive/MyDrive/Final Project Zalo Internship/Final Project/Categorized vocab (No Trec57)/verb_and_question.json\",\"w\", encoding='utf-8') as jsonfile:\n",
        "    json.dump(verb_and_question_list,jsonfile,ensure_ascii=False, indent=2)"
      ]
    },
    {
      "cell_type": "code",
      "execution_count": null,
      "metadata": {
        "id": "hp2MRikJ7IFj"
      },
      "outputs": [],
      "source": [
        "with open(\"/content/drive/MyDrive/Final Project Zalo Internship/Final Project/Categorized vocab (No Trec57)/np_and_question.json\",\"w\", encoding='utf-8') as jsonfile:\n",
        "    json.dump(np_and_question_list,jsonfile,ensure_ascii=False, indent=2)"
      ]
    },
    {
      "cell_type": "code",
      "execution_count": null,
      "metadata": {
        "id": "h83qoOqm7LpJ"
      },
      "outputs": [],
      "source": [
        "with open(\"/content/drive/MyDrive/Final Project Zalo Internship/Final Project/Categorized vocab (No Trec57)/nc_and_question.json\",\"w\", encoding='utf-8') as jsonfile:\n",
        "    json.dump(nc_and_question_list,jsonfile,ensure_ascii=False, indent=2)"
      ]
    },
    {
      "cell_type": "code",
      "execution_count": null,
      "metadata": {
        "id": "JBezesFQ7cQy"
      },
      "outputs": [],
      "source": [
        "with open(\"/content/drive/MyDrive/Final Project Zalo Internship/Final Project/Categorized vocab (No Trec57)/b_and_question.json\",\"w\", encoding='utf-8') as jsonfile:\n",
        "    json.dump(b_and_question_list,jsonfile,ensure_ascii=False, indent=2)"
      ]
    },
    {
      "cell_type": "code",
      "execution_count": null,
      "metadata": {
        "id": "1qPRCcH97eA3"
      },
      "outputs": [],
      "source": [
        "with open(\"/content/drive/MyDrive/Final Project Zalo Internship/Final Project/Categorized vocab (No Trec57)/p_and_question.json\",\"w\", encoding='utf-8') as jsonfile:\n",
        "    json.dump(p_and_question_list,jsonfile,ensure_ascii=False, indent=2)"
      ]
    },
    {
      "cell_type": "code",
      "execution_count": null,
      "metadata": {
        "colab": {
          "base_uri": "https://localhost:8080/"
        },
        "id": "T2m61VZII48J",
        "outputId": "64da5241-533a-4036-ea37-05b89c477662"
      },
      "outputs": [
        {
          "data": {
            "text/plain": [
              "4237"
            ]
          },
          "execution_count": 270,
          "metadata": {},
          "output_type": "execute_result"
        }
      ],
      "source": [
        "len(noun_and_question_list.keys())"
      ]
    },
    {
      "cell_type": "code",
      "execution_count": null,
      "metadata": {
        "id": "M223zonvJuyC"
      },
      "outputs": [],
      "source": [
        "noun_file = open('/content/drive/MyDrive/Final Project Zalo Internship/Final Project/Categorized vocab (No Trec57)/noun_and_question.json')\n",
        "data = json.load(noun_file)\n",
        "\n",
        "for key in data.keys():\n",
        "  if '\\x1d' in key:\n",
        "    key = key.replace('\\x1d','')\n",
        "    for i in range(len(data[key])):\n",
        "      data[key][i] = data[key][i].replace('\\x1d','')"
      ]
    },
    {
      "cell_type": "code",
      "execution_count": null,
      "metadata": {
        "colab": {
          "base_uri": "https://localhost:8080/"
        },
        "id": "g3k7q2MNxYuf",
        "outputId": "3dd37ae1-7bba-4472-fb9c-e2f134e2b152"
      },
      "outputs": [
        {
          "name": "stderr",
          "output_type": "stream",
          "text": [
            "Special tokens have been added in the vocabulary, make sure the associated word embeddings are fine-tuned or trained.\n"
          ]
        }
      ],
      "source": [
        "from transformers import pipeline\n",
        "unmasker = pipeline('fill-mask', model='vinai/phobert-base')"
      ]
    },
    {
      "cell_type": "code",
      "execution_count": null,
      "metadata": {
        "colab": {
          "base_uri": "https://localhost:8080/"
        },
        "id": "n6JwguiofKsP",
        "outputId": "27146cf4-7bac-423a-97ec-14887b5e482e"
      },
      "outputs": [
        {
          "name": "stderr",
          "output_type": "stream",
          "text": [
            "  0%|          | 10/4237 [03:38<8:12:48,  7.00s/it]"
          ]
        }
      ],
      "source": [
        "list_of_pos_synonym = {}\n",
        "for key in tqdm(data.keys()):\n",
        "  question_word_dict = {}\n",
        "  for sentence in data[key]:\n",
        "    raw_sentence = sentence\n",
        "    mask_sentence = sentence.replace(key, '<mask>', 1)\n",
        "    unmasked_result = unmasker(mask_sentence, top_k=50)\n",
        "    \n",
        "    for i in range(50):\n",
        "      word = unmasked_result[i]['token_str']\n",
        "      prob = unmasked_result[i]['score']\n",
        "      if sentence in question_word_dict.keys():\n",
        "        if word not in question_word_dict[sentence] and word not in punctuation_set and '@' not in word:\n",
        "          question_word_dict[sentence].append([word, prob])\n",
        "      else:\n",
        "        question_word_dict[sentence] = [[word, prob]]\n",
        "\n",
        "  list_of_pos_synonym[key] = question_word_dict  "
      ]
    },
    {
      "cell_type": "code",
      "execution_count": null,
      "metadata": {
        "id": "W4rcB9PDmV2D"
      },
      "outputs": [],
      "source": [
        "with open(\"/content/drive/MyDrive/Final Project Zalo Internship/Final Project/Categorized vocab (No Trec57)/list_of_pos_synonym.json\",\"w\", encoding='utf-8') as jsonfile:\n",
        "    json.dump(list_of_pos_synonym,jsonfile,ensure_ascii=False, indent=2)"
      ]
    },
    {
      "cell_type": "code",
      "execution_count": null,
      "metadata": {
        "id": "o3k1DfS2ULRS"
      },
      "outputs": [],
      "source": [
        "import json\n",
        "pos_synonym_file = open('/content/drive/MyDrive/Final Project Zalo Internship/Final Project/Categorized vocab (No Trec57)/list_of_pos_synonym.json', encoding='utf-8')\n",
        "pos_synonym_list = json.loads(pos_synonym_file.read())"
      ]
    },
    {
      "cell_type": "code",
      "execution_count": null,
      "metadata": {
        "colab": {
          "base_uri": "https://localhost:8080/"
        },
        "id": "FRucxXuzQuwe",
        "outputId": "446abd18-fad1-4949-ff00-b065365fcf45"
      },
      "outputs": [
        {
          "data": {
            "text/plain": [
              "46"
            ]
          },
          "execution_count": 24,
          "metadata": {},
          "output_type": "execute_result"
        }
      ],
      "source": [
        "len(pos_synonym_list['dân_chính']['Số dân_chính xác của nước Việt_Nam'])"
      ]
    },
    {
      "cell_type": "code",
      "execution_count": null,
      "metadata": {
        "colab": {
          "base_uri": "https://localhost:8080/"
        },
        "id": "C9Jjcnz9XcbJ",
        "outputId": "e2e28ea7-5df3-45a5-d122-33d0e1911556"
      },
      "outputs": [
        {
          "data": {
            "text/plain": [
              "dict_keys(['tổng_sản_phẩm', 'năm', 'nội_địa', 'Chỉ_số', 'Tổng_sản_phẩm', 'Cộng_hoà_Trung_Phi', 'chỉ_số', 'khu_vực', 'Tổng', 'giá_trị', 'nước', 'Thành_phố', 'Ma', 'tỉ_lệ', 'triệu_phú', 'Năm', 'đầu', 'người', 'thu_nhập', 'Thu_nhập', 'khoảng', 'châu', 'mã_số', 'điện_thoại', 'Mã_số', 'quốc_tế', 'Nước', 'quốc_gia', 'Mã', 'dân_số', 'số', 'dân', 'Tỉnh', 'Dân_số', 'tỉnh', 'hiện_nay', 'Huyện', 'hiện_tại', 'thời_điểm', 'đất_nước', 'Hiện', 'Số', 'Tổng_số', 'huyện', 'tháng', 'Cộng_hoà', 'tp', 'thành_phố', 'thế_giới', 'cuối', 'dân_chính', 'xác', 'vịnh', 'cộng_hoà', 'nhân_dân', 'Hiện_nay', 'quận', 'vùng', 'đô_thị', 'Hiện_tại', 'núi', 'vương_quốc', 'Quận', 'hiện', 'Vịnh', 'tổng', 'thủ_đô', 'dân_cư', 'Thủ_đô', 'đồng_bằng', 'sông', 'Dân_chủ', 'mo', 'Số_lượng', 'đân', 'đảo', 'Mật_độ', 'mật_độ', 'Thế_giới', 'Múi_giờ', 'múi_giờ', 'thứ', 'múi', 'Tác_giả', 'bộ', 'truyện_tranh', 'Ngư', 'tiều', 'y_thuật', 'tác_phẩm', 'Người', 'tác_giả', 'tiểu_thuyết', 'quốc_ca', 'hoạ', 'hồ', 'thiên_nga', 'Quốc_ca', 'tranh', 'nhạc_sĩ', 'opera', 'Cô', 'tượng', 'thép', 'Bộ', 'manga', 'truyện', 'truyền_kỳ', 'trai', 'chí', 'dị', 'lịch', 'triều', 'hiến_chương', 'loại', 'unikey', 'Tiểu_thuyết', 'Thần', 'điêu', 'hiệp', 'lữ', 'hồng_lâu', 'mộng', 'bài', 'quốc_kì', 'Tác_phẩm', 'tuổi_thơ', 'ông_tổ', 'ca_trù', 'thần', 'lời', 'Dạ', 'lang', 'nhà_thờ', 'đức_bà', 'nhạc_phẩm', 'huy_hiệu', 'đoàn', 'Nhạc_sĩ', 'câu_thơ', 'dưới', 'tướng_sĩ', 'toán_pháp', 'tập', 'thơ', 'tù', 'Bài', 'thơ_Nôm', 'quốc', 'diễn_nghĩa', 'ký_sự', 'ngôn_ngữ', 'thư', 'kịch_bản_phim', 'sách', 'ngôn_ngữ_lập_trình', 'thám_tử', 'Truyện_Kiều', 'binh_pháp', 'bộ_luật', 'Ván', 'Thuyết_tương_đối', 'truyện_ngắn', 'lá', 'nhà_thơ', 'quốc_kỳ', 'Truyền_kỳ', 'mạn', 'đèn', 'Tiểu_đoàn', 'đá', 'phù_thuỷ', 'ngày', 'thời_gian', 'Truyện_tranh', 'khi', 'Chiến_thắng', 'ngày_tháng', 'Bản', 'giao_hưởng', 'Liêu', 'chiều', 'gió', 'lần', 'Ngôn_ngữ', 'sữa', 'Phần', 'phim', 'thế_kỷ', 'Phim', 'gia_đình', 'Album', 'cốc', 'lửa', 'Chữ_Nôm', 'lái_đò', 'darwin', 'loài', 'xạ', 'mông', 'đại_cáo', 'tâm', 'Nội_dung', 'ý_nghĩa', 'nội_dung', 'Thông_tin', 'thuyết_tương_đối', 'điều', 'Dư_địa_chí', 'bát', 'Chuyện', 'con', 'gái', 'Cốt_truyện', 'rừng', 'xà', 'rùa', 'trận', 'chim', 'te_te', 'ba_ba', 'cây', 'đồng_hồ', 'cái', 'hoa', 'mai', 'cu', 'tổng_thống', 'vua', 'mẹ', 'má', 'bố', 'cha', 'tía', 'công_ty', 'gà', 'heo', 'Máy', 'khí_hậu', 'Dòng_điện', 'Tấm_Cám', 'tứ_giác', 'nội_tiếp', 'Máy_in', 'Cu', 'rốc', 'hành_tinh', 'kinh_tế', 'cò_lả', 'Khái_niệm', 'mèo', 'Trợ_lý', 'hình_tam_giác', 'Chó', 'mặt', 'sệ', 'tính', 'sinh_vật', 'Hiệp_ước', 'bạo_chúa', 'Phong_trào', 'Số_đề', 'công_nghệ', 'de', 'bò', 'bạc', 'Hội_nghị', 'Bệnh', 'vẩy_nến', 'Giao_dịch', 'kỳ_hạn', 'xe', 'máy_tính', 'đầm_phá', 'vòi_rồng', 'Công_nghiệp', 'Công_nguyên', 'Ngọc_trai', 'Mao_mạch', 'Hiện_tượng', 'thuỷ_triều', 'hệ_thống', 'vệ_tinh', 'toàn_cầu', 'Chu_vi', 'hình_tròn', 'thông_tin', 'cung', 'minh', 'mõ', 'Sốt_xuất_huyết', 'Bitcoin', 'cổng', 'mặt_trời', 'Ban', 'Trung_ương', 'Nhà_nước', 'bảng_tuần_hoàn', 'hình', 'quyền', 'ngựa_ô', 'báp', 'nho', 'ngân_hàng', 'áo_dài', 'Gia_đình', 'thương_vụ', 'lữ_đoàn', 'công_binh', 'Euro', 'mưa', 'axít', 'nguyên_tố_hoá_học', 'Hiệp_hội', 'bão', 'Mặt_Trời', 'sở', 'thú', 'Bóng_đá', 'biển', 'Lễ_tết', 'tâm_linh', 'sóng', 'Futsal', 'Bầu_cử', 'ký_hiệu', 'Điện_toán', 'mây', 'máy', 'Tư_tưởng', 'Hiệu_điện_thế', 'điện_toán', 'Gió', 'hiện_tượng', 'vật_lý', 'Thẩm_thấu', 'lê_bê', 'Đèn', 'sợi', 'kim', 'giờ', 'Nhà_xuất_bản', 'Chủ_nghĩa_tư_bản', 'Quyền_lực', 'đông', 'thảo', 'Rối_loạn', 'Ngày', 'xuân', 'phân', 'hình_thoi', 'nhà', 'Zalo', 'Gấu_trúc', 'SEA_Games', 'Lao_động', 'dota', 'định_nghĩa', 'môi_trường', 'Web', 'con_trỏ', 'Trái_phiếu', 'zing', 'Nạn', 'Chiến_tranh_lạnh', 'củ', 'nhân_sâm', 'Di_truyền_học', 'Ánh_sáng', 'nguyên_lý', 'cực_hạn', 'Bảng', 'Hệ', 'hành_chính', 'Nón', 'lý_thuyết', 'dịch_vụ', 'thể_chất', 'Đội', 'chó', 'Kĩ_thuật', 'bóng_chuyền', 'công', 'Giờ', 'Đơn_vị', 'huyết_áp', 'visual', 'basic', 'Liên_minh', 'công_nghệ_thông_tin', 'the', 'từ_trường', 'đạo_luật', 'clo', 'dioxit', 'Kinh_tế_thị_trường', 'Môn', 'lịch_sử', 'Gà', 'Bào_ngư', 'Bạch_Mã', 'sự_kiện', 'Quyền_sở_hữu', 'chuột_túi', 'nhà_nước', 'Cúng', 'mụ', 'Protein', 'Khối_lượng', 'Hạn_ngạch', 'Một_mạch', 'di_truyền_học', 'tế_bào', 'Tụ_điện', 'Bộ_đội', 'Biên_phòng', 'Độ', 'thuật_toán', 'Vòi_rồng', 'cơ_sở_dữ_liệu', 'Kim_cương', 'bút_chì', 'axit', 'Hình_thang', 'Internet', 'Thiên_đường', 'thuế', 'Văn_bản', 'quy_phạm_pháp_luật', 'Quân_hàm', 'Quang_hợp', 'tensorflow', 'Xã', 'Bánh_chưng', 'bánh', 'tơ', 'bộ_nhớ', 'động_cơ', 'hơi_nước', 'ống', 'đồng', 'di_sản', 'văn_hoá', 'vật_thể', 'ếch', 'Kháng_sinh', 'mùng', 'Phơi', 'phân_loại_học', 'khu', 'Chủ_thể', 'siam', 'dách', 'Cơ_sở_dữ_liệu', 'Mô_hình', 'Ôxy', 'mức', 'hoà_bình', 'nhóm', 'Miễn_dịch', 'Tụ', 'thiên_văn_học', 'Lỗ_đen', 'Thông_tư', 'luật', 'chất', 'Phổ', 'Độc', 'cô', 'cầu', 'Anime', 'toàn_phần', 'tổ_chức', 'Nhà_thờ', 'Tháp', 'Kênh', 'Toà', 'Đền', 'Cầu', 'công_trình', 'trường', 'đại_học', 'Chùa', 'Báo', 'Lăng', 'Cố_đô', 'Cảng', 'giai_đoạn', 'Dự_án', 'hồi', 'Hầm', 'thẩm', 'Bến', 'Nhà_hát', 'toà', 'nghĩa', 'Landmark', 'Chiều', 'Núi', 'Phan_Xi_Păng', 'Kim_tự_tháp', 'nhiêu', 'Bà', 'Sông', 'tigris', 'độ', 'hoàng', 'hà', 'lương', 'vàm', 'Cỏ', 'thời', 'tên', 'Tên', 'dân_chủ', 'Thủ_Đô', 'chỗ', 'biệt_danh', 'Ngoài', 'Tiểu', 'châu_lục', 'Nam_sudan', 'Châu_lục', 'bermuda', 'Đảo', 'miền', 'địa_lý', 'lục_địa', 'Đất_nước', 'Quần_đảo', 'Nền', 'Đồng_tiền', 'Tiền_tệ', 'tiền', 'đơn_vị_tiền_tệ', 'tiền_tệ', 'Người_dân', 'Tương_lai', 'Tỷ_lệ', 'Tỷ_suất', 'sinh_đẻ', 'Tỉ_lệ', 'con_người', 'Chỗ', 'Nơi', 'đỉnh', 'vị_trí', 'Vị_trí', 'Quốc_gia', 'nơi', 'địa_hình', 'hát', 'lạm_phát', 'tiếng', 'bắc', 'người_dân', 'The', 'diện_tích', 'Tuổi_thọ', 'Tuổi', 'tuổi_thọ', 'tuổi', 'trung_bình_cộng', 'cá_voi', 'Điểm', 'Vùng', 'điểm', 'Vực', 'hôn_nhân', 'nam', 'nữ', 'luật_pháp', 'sự', 'công_dân', 'người_lớn', 'khẩu_hiệu', 'Khẩu_hiệu', 'Bang', 'việc', 'tỷ_lệ', 'Lễ', 'đền', 'thế_vận_hội_mùa', 'thế_vận_hội_mùa_hè', 'Chợ_nổi', 'mùa', 'Trận', 'chung_kết', 'sân_vận_động', 'Cuộc', 'Lễ_hội', 'voi', 'Kỳ', 'phong_kiến', 'Tuần_lễ', 'hội_nghị', 'lễ', 'giải', 'xã', 'World_Cup', 'cấp', 'tỉnh_thành', 'Chiến_tranh', 'ban', 'world_cup', 'Lãnh_đạo', 'Thế_vận_hội_Olympic', 'Seagames', 'cách_mạng_công_nghiệp', 'Đại_hội', 'vận_hội', 'bóng_đá', 'Olympic', 'thể_thao', 'Seagame', 'thời_đại_đồ_đá', 'Chiến_Tranh', 'Diễn_đàn', 'Khu_vực', 'nhà_giáo', 'hàng', 'đội_tuyển', 'diễu_binh', 'Giải', 'trâu', 'Kì', 'khoa_bảng', 'Đêm', 'Sự_kiện', 'quốc_hội', 'khoá', 'bầu', 'Quốc_hội', 'đầu_vào', 'đám_cưới', 'vợ', 'thương_mại', 'Điện_ảnh', 'kỷ_niệm', 'Cách_mạng', 'Chiến_dịch', 'Khi', 'miếu', 'Quốc_tế', 'Thể_thao', 'Tháng', 'chay', 'Hội', 'nghĩa_quân', 'chiến_tranh', 'biên_giới', 'cuộc', 'vô_địch', 'cờ_vua', 'Lần', 'Thế_vận_hội', 'Tục_lệ', 'thực_dân', 'thầy_thuốc', 'Thời_kỳ', 'cổ_đại', 'bữa', 'sinh_viên', 'giá', 'Quan_điểm', 'bạn', 'vắc_xin', 'thịt', 'động_lực', 'Điều', 'Cổ_đông', 'phổ_thông', 'cổ_đông', 'biểu_quyết', 'nhân_viên', 'văn_bằng', 'kỹ_sư', 'mã', 'trí', 'cảm_xúc', 'khía_cạnh', 'toán_học', 'vũ_trụ', 'vật_chất', 'năng_lượng', 'Kỹ_năng', 'nhà_khoa_học', 'dữ_liệu', 'lực', 'tối', 'hoạt_động', 'Hệ_thống', 'giáo_dục', 'lý_tưởng', 'Thực_trạng', 'xe_máy', 'xe_gắn_máy', 'Phó', 'thủ_tướng', 'thành_viên', 'nhện', 'tổ', 'gương', 'chiếu', 'Sự', 'máy_tính_xách_tay', 'máy_tính_để_bàn', 'điện_tử', 'Trình_bày', 'nội_chiến', 'Điều_kiện', 'Đối_tượng', 'đất', 'phèn', 'kiến_trúc', 'vòm', 'Nhân_quyền', 'dân_tộc', 'Tín_ngưỡng', 'tất_niên', 'trọng_lượng', 'ngôi_sao', 'byte', 'Học_viện', 'Xu_hướng', 'Bạn', 'võ_thuật', 'khái_niệm', 'Diện_tích', 'vi_khuẩn', 'tôn_giáo', 'đức_tin', 'kết_quả', 'Rác_thải', 'Tải_trọng', 'đồng_thau', 'không_gian', 'tốc_độ', 'bản_thân', 'tệ_nạn', 'xã_hội', 'tai', 'Giả_thuyết', 'cuộc_đời', 'chủ_tịch', 'giữa', 'án', 'tử_hình', 'khung_hình_phạt', 'thác', 'thượng_nguồn', 'nhau', 'chỉ_huy', 'vũ_khí_sinh_học', 'thỏ', 'vệ_sinh', 'lượng_tử', 'lỗ_đen', 'dạng', 'Học_bổng', 'chính_phủ', 'Kim_loại', 'xu_hướng', 'ion', 'thị_trường_chứng_khoán', 'tương_lai', 'đảng', 'súng', 'cách_mạng', 'sau', 'Văn_hoá', 'phòng', 'Nguyên_nhân', 'giới', 'chế_độ', 'chủng_tộc', 'Hướng', 'phía', 'triết_gia', 'cư_dân', 'lỗi', 'Lạc_đà', 'nước_biển', 'nhu_cầu', 'nền_móng', 'mặt_đất', 'tàu', 'phụ_nữ', 'rèm', 'nhiếp_chính', 'chương_trình', 'khoa_học', 'chữ_số', 'pi', 'Chủ_nghĩa', 'phép', 'viện', 'truyền_thông', 'khoảng_cách', 'tim', 'cơ_thể', 'nhà_phân_tích', 'địa_chính_trị', 'hệ_sinh_thái', 'rắn', 'mèo_tam_thể', 'Triết_học', 'Đảng', 'cơ_quan', 'lãnh_đạo', 'Chính_quyền', 'ảnh_hưởng', 'chính_trị', 'cá_nhân', 'cơ_hội', 'chiến_thắng', 'ma_tuý', 'Luật', 'nguồn_gốc', 'hố_đen', 'Đồng_tính', 'bệnh', 'phép_thuật', 'Vấn_nạn', 'dâm', 'trẻ_em', 'cửa_hàng', 'đô_la', 'dư_thừa', 'thư_điện_tử', 'toàn_quốc', 'phần', 'hình_dáng', 'não', 'động_vật', 'Ý_nghĩa', 'tài_sản', 'khí_quyển', 'mộ', 'mồ_mả', 'đáy', 'học_thuật', 'giấy', 'đóng_góp', 'Cây', 'rau_dền', 'huyết_dụ', 'diệp_lục', 'quang_hợp', 'crore', 'khí_thải', 'cách', 'cấu_trúc', 'nhiễm_sắc_thể', 'Công_việc', 'Trọng_tâm', 'vua_chúa', 'Cách', 'hệ', 'chủ', 'Nhà', 'chiêm_tinh', 'tội_phạm', 'mạng', 'bàn', 'Phạm_vi', 'công_việc', 'mô_hình', 'Nữ_hoàng', 'Nguyên_tắc', 'Pin', 'ánh_sáng', 'anh_em', 'Tình_hình', 'hối_lộ', 'Sách', 'mục_tiêu', 'kỹ_thuật', 'mồm', 'giống', 'chữ', 'ý_thức', 'sức_khoẻ', 'kim_loại', 'Gió_mùa', 'đặc_điểm', 'mức_độ', 'máy_bay', 'từ_ngữ', 'phẳng', 'machiavellianism', 'hiệu_quả', 'ngày_nay', 'sân_chơi', 'âm_nhạc', 'quần', 'quân_sự', 'Rupee', 'phương_tiện', 'hôm_nay', 'màu', 'trứng', 'trước', 'bướm', 'môn', 'vedic', 'Bản_chất', 'trò_chơi', 'điện_thoại_di_động', 'Thị_trường', 'cácbon', 'vũ', 'electron', 'kính_hiển_vi', 'truyền_thống', 'gián_điệp', 'lớp', 'sự_cố', 'Kinh_nghiệm', 'hợp_đồng', 'Trụ_sở', 'Viêm', 'ruột_thừa', 'biểu_trưng', 'Sinh_viên', 'Cá_voi', 'Hành_vi', 'trường_học', 'Lưu_huỳnh', 'Quan_niệm', 'pytago', 'loài_người', 'sradarcom', 'nhà_tù', 'địa_điểm', 'hình_cầu', 'Ra_đời', 'Thế_chiến', 'lý_do', 'côn_trùng', 'câu', 'bản_chất', 'giải_pháp', 'nguồn', 'nước_ngầm', 'vv', 'neet', 'Mối', 'quan_hệ', 'kho', 'Chủ_nghĩa_tự_do', 'tết_âm_lịch', 'tình_trạng', 'Ngựa', 'chuột_nhắt', 'nhịp', 'Nhân_viên', 'Ngân_hàng', 'giáp', 'đơn_vị', 'quân_đội', 'vấn_đề', 'men', 'coagulase', 'Toán_học', 'Loại', 'nhà_tư_tưởng', 'bang', 'sĩ_quan', 'hải_quân', 'Hồ', 'pushto', 'vật', 'sách_đỏ', 'cơ_sở', 'Cá', 'nước_ngọt', 'bộ_não', 'thần_học', 'Trang_web', 'mặt_trăng', 'sao_Hoả', 'điểm_số', 'nông_nghiệp', 'Mặt_trời', 'thực_vật', 'vi_sinh_vật', 'Bộ_trưởng', 'loại_hình', 'tóc', 'Giá_trị', 'nợ', 'quỹ', 'đất_liền', 'lực_lượng', 'biện_hộ', 'kinh', 'Quả', 'đoạn', 'võ_đường', 'phần_trăm', 'kỳ', 'cbse', 'vi_sinh', 'nguy_hiểm', 'Đạo_đức', 'giáo', 'thái', 'Vấn_đề', 'Lĩnh_vực', 'phạm_vi', 'công_nghệ_sinh_học', 'giáo_sư', 'hình_dạng', 'khung', 'muôn_hình_muôn_vẻ', 'bằng_chứng', 'Con_người', 'Nhện', 'sức_mạnh', 'Chế_độ', 'mẫu_hệ', 'cỏ', 'Khoảng_cách', 'ngựa', 'nhận_xét', 'sinh_quyển', 'tồn', 'chính_sách', 'hoàng_hôn', 'Hạt_nhân', 'chủ_đề', 'hoá_học', 'thân_thể', 'xương_sống', 'ridged', 'thành_tựu', 'nhân_vật', 'combo', 'quý', 'ko', 'vật_lí', 'hiến_pháp', 'rồng', 'phù_du', 'hình_thức', 'kỉ_luật', 'kẻ', 'ngoại_đạo', 'âm_thanh', 'thành_phần', 'Bằng_cấp', 'quá_trình', 'ý_tưởng', 'bên', 'phiếu', 'áo', 'cảnh_tượng', 'vòng_tròn', 'yếu_tố', 'nguy_cơ', 'neutered', 'tài_khoản', 'khối', 'Doanh_nghiệp', 'trung_ương', 'Sức_mua', 'cảnh_báo', 'tỷ_giá_hối_đoái', 'đồng_loại', 'Trung_tâm', 'thập_tự_chinh', 'xi', 'lô', 'Giáo_phận', 'địa_chỉ', 'Địa_chỉ', 'nội_thành', 'Đại_học', 'tháp', 'đại_nội', 'văn_miếu', 'uỷ_ban_nhân_dân', 'công_viên', 'công_viên_nước', 'chùa', 'Văn_miếu', 'suối', 'Công_viên', 'Ví', 'Đại_nội', 'Đồng_bằng', 'Biển', 'lãnh_thổ', 'Lãnh_thổ', 'cây_số', 'quần_đảo', 'Vùng_biển', 'chủ_quyền', 'mét_vuông', 'xưa', 'vùng_biển', 'Duyên_hải', 'vuông', 'hải_lý', 'cảnh_sát', 'Khu', 'công_nghiệp', 'Sân_bay', 'Sa_mạc', 'bàng', 'thị_xã', 'nội', 'thuỷ', 'Nội_thành', 'địa', 'hải', 'hecta', 'Rừng', 'bề_mặt', 'quảng_trường', 'tây', 'bán_đảo', 'balkan', 'bao', 'Eo_biển', 'Vinh', 'tích', 'nam_định', 'sân_bay', 'địa_phận', 'Biên_giới', 'đường', 'đại_dương', 'Cột', 'Vương_quốc', 'danh', 'Trung_du', 'Bắc', 'địa_danh', 'tình', 'hồ_chí_minh', 'Đường', 'Thành_Vatican', 'Toạ_độ', 'Kinh_độ', 'vĩ_độ', 'Vĩ_độ', 'vĩ_tuyến', 'địa_lí', 'bản_đồ', 'toạ_độ', 'Vĩ_tuyến', 'kinh_độ', 'Đặc_điểm', 'Lịch_sử', 'bưu_điện', 'Chi_tiết', 'Nét', 'Phố', 'Cửa', 'Âm_nhạc', 'nền', 'hang', 'thuộc_quốc_gia', 'Vườn', 'Thượng_nguồn', 'văn_minh', 'Mũi_Hảo_Vọng', 'Bãi', 'danh_lam_thắng_cảnh', 'Vườn_quốc_gia', 'Cù_Lao', 'làng', 'Nhà_máy', 'thuỷ_điện', 'ngói', 'Thành_đoàn', 'Cao_nguyên', 'Thị_xã', 'tỉnh_lỵ', 'thị_trấn', 'tư', 'Quân_cảng', 'Đại_La', 'hải_dương', 'Công_nghệ', 'Bưu_chính', 'Viễn_thông', 'Động', 'di_tích', 'Giáo_dục', 'Vườn_Quốc_gia', 'vườn_quốc_gia', 'Phật_Tích', 'Kinh_đô', 'Sân_vận_động', 'vùng_sâu_vùng_xa', 'Y_tế', 'Công_cộng', 'Đại_sứ_quán', 'Bến_xe', 'Đèo', 'tam_giác', 'quỷ', 'Khủng_long', 'Thánh_địa', 'Thiên_Đường_động', 'danh_thắng', 'cờ', 'Căn_cứ', 'địa_phương', 'Làng', 'Mộ', 'cụ', 'Công_trình', 'cao_nguyên', 'Cửa_biển', 'phố', 'Bảo_tàng', 'dân_tộc_học', 'rậm', 'Hoàng_thành', 'Thành_Phố', 'quần_thể', 'Nhà_tù', 'kinh_đô', 'Nghĩa_Trang', 'cổ', 'Phanxipang', 'phương', 'Quảng_trường', 'thời_đại', 'Hội_quán', 'Thủ_phủ', 'Lăng_Bác', 'Cửa_khẩu', 'hải_đăng', 'vùng_đất', 'Trại_giam', 'cực', 'trọng_điểm', 'du_lịch', 'phần_mềm', 'đồi', 'trung_thu', 'tuyết', 'Hòn', 'ngọc', 'trước_đây', 'địa_bàn', 'chợ_nổi', 'Hàng', 'hàng_đầu', 'cạnh', 'nhà_máy', 'đậu', 'Núi_non', 'bảo_tàng', 'nguyễn_văn', 'Câu_lạc_bộ', 'Đảo_quốc', 'Cung_điện', 'cồn_cỏ', 'Thôn', 'Tượng_đài', 'hạ_lưu', 'Lăng_mộ', 'Di_tích', 'tổ_tiên', 'giám_đốc', 'giám_đốc_điều_hành', 'tổng_giám_đốc', 'Tổng_giám_đốc', 'Hội_đồng', 'Giám_đốc', 'Tập_đoàn', 'cánh', 'việt', 'The_Trump_Organization', 'Công_ty', 'Đường_sắt', 'Tổng_công_ty', 'Liên_đoàn', 'Cổ_phần', 'trách_nhiệm', 'hữu_hạn', 'Dầu_khí', 'Cơ_quan', 'Năng_lượng', 'Chủ_tịch', 'tập_đoàn', 'tài_chính', 'Thời_điểm', 'thị_trường', 'Thời_gian', 'lúc', 'Hội_thánh', 'Cảnh_sát', 'hội', 'Tổ_chức', 'Hải_quân', 'Công_an', 'Quân_đội', 'Công_Thương', 'Lực_lượng', 'Môi_trường', 'Mặt_trận', 'Đoàn', 'Nhà_Văn', 'Tổng_liên_đoàn', 'lao_động', 'thiếu_niên', 'tiền_phong', 'y_khoa', 'Mạng', 'độc_lập', 'đồng_minh', 'lúc_nào', 'Uỷ_ban', 'báo', 'Viện', 'Hải_Dương_học', 'Tháng_VNG', 'chèo', 'Facebook', 'Cộng_đồng', 'Bộ_tư_lệnh', 'sản', 'hình_sự', 'tư_pháp', 'liên_hiệp', 'thanh_niên', 'Hãng', 'Nguyên_tử', 'Ngành', 'Ngày_tháng', 'Chính_phủ', 'zalo', 'công_an', 'YouTube', 'Quân_lực', 'Sở_Giao_dịch', 'nhân', 'cục', 'Hội_chữ_thập_đỏ', 'Kinh_tế', 'than', 'Nhà_sách', 'Cộng_sản', 'hoàng_đế', 'nhà_sáng_lập', 'tạp_chí', 'Cha_đẻ', 'triều_đại', 'Thành_viên', 'cha_đẻ', 'Nhà_sáng_lập', 'đội', 'giải_phóng_quân', 'nhà_văn', 'cộng_sản', 'phái', 'giải_thưởng', 'thiền', 'phật_giáo', 'Đạo_giáo', 'trụ_sở', 'Lợi_nhuận', 'lợi_nhuận', 'nhân_sự', 'Nhân_sự', 'sở_hữu', 'Chủ_sở_hữu', 'chủ_sở_hữu', 'hãng', 'tết', 'mậu', 'Triều_đại', 'quân_chủ', 'Chức', 'quan', 'Pb', 'Loài', 'bò_sát', 'giặc', 'quân', 'thảm_bại', 'trạng_nguyên', 'cường_độ', 'dòng_điện', 'vị', 'Ứng_dụng', 'kẽm', 'ki', 'mét', 'bánh_chưng', 'nguyên_liệu', 'đêm', 'biểu_tượng', 'Thầy', 'Phí', 'trường_ca', 'đạo', 'phật', 'Động_vật', 'chức', 'Nóc', 'kế_hoạch', 'Tam_Giác', 'bom_nguyên_tử', 'bờ', 'cọ', 'vàng', 'Liên_hoan_phim', 'thuỷ_sản', 'bia', 'Khúc_Thừa_Dụ', 'nghệ_thuật', 'tuồng', 'Danh_tướng', 'binh', 'kích_thước', 'Đĩa', 'đơn', 'Danh_nhân', 'quân_sư', 'chúa_Nguyễn', 'Hổ_phách', 'Pa', 'pỉnh', 'món', 'Tiền', 'Đại_diện', 'Axit', 'sulfuric', 'dịp', 'Tết_Nguyên_đán', 'Tổ_tiên', 'xích_đạo', 'Dòng', 'Chữ_Quốc_ngữ', 'bảng_chữ_cái', 'bóng', 'cúp', 'chị_em', 'nàng', 'Nhà_ga', 'hành_khách', 'Đội_tuyển', 'xe_đạp', 'chặng', 'bán_cầu', 'Tiền_thân', 'Hoan_Châu', 'Nhà_văn', 'kịch', 'Nữ_tướng', 'đàn_bà', 'tơ_lụa', 'trên', 'khối_lượng', 'đá_quý', 'kim_cương', 'định_luật', 'vạn_vật', 'Vua', 'Nguồn_gốc', 'Trước_kia', 'thuỷ_tổ', 'rượu', 'đạo_diễn', 'sáng', 'thầy', 'thất', 'Sóng_điện', 'bước_sóng', 'Vitamin', 'máu', 'thuật_ngữ', 'cửa_khẩu', 'Đại_dương', 'hiện_giờ', 'Danh_hiệu', 'giao_thông', 'bí_thư', 'khu_phố', 'Cao_tốc', 'huyện_thị', 'lưu_vực', 'ngành', 'khí_đốt', 'Tôn_giáo', 'quốc_giáo', 'Máy_tính', 'Ban_đầu', 'sử', 'Bộ_luật', 'Tim', 'cá_sấu', 'ngăn', 'sân_khấu', 'Vật_liệu', 'Dầu_gió', 'Tổng_thống', 'văn_học', 'trăng', 'đường_kính', 'truyền_thuyết', 'khuyết_tật', 'Hình_ảnh', 'lưỡi_liềm', 'Hành_tinh', 'Ngày_nay', 'một_nửa', 'Bờ', 'thủ_lĩnh', 'chính_quyền', 'Ảnh', 'gif', 'thiếu_nữ', 'em', 'bé', 'dãy', 'Tổng_tài', 'nữ_hoàng', 'điện_ảnh', 'Tố', 'làm_gương', 'ranh_giới', 'phong_trào', 'thực_tập_sinh', 'linh', 'phạt_trực_tiếp', 'Hoang_mạc', 'gương_mặt', 'Thầy_giáo', 'trưởng', 'thư_viện', 'Khởi_nghĩa', 'Điệu', 'điệu', 'Quỷ', 'câu_lạc_bộ', 'chân', 'Khoai_lang', 'Nhà_thơ', 'thế_kỉ', 'Vị', 'đại_biểu', 'Thế_kỷ', 'biệt_hiệu', 'đệ', 'động', 'Màu', 'Hoa_lan', 'diễn_viên', 'hè', 'Trục', 'mặt_phẳng', 'iphone', 'tướng', 'Nữ', 'tiến_sĩ', 'quê', 'ngôi_báu', 'niên_hiệu', 'chủ_đạo', 'ngoại_giao', 'đời', 'quốc_hiệu', 'Quốc_giáo', 'Dạ_dày', 'nhiệm_vụ', 'quốc_khánh', 'Hoa', 'cha_mẹ', 'ton', 'lĩnh_vực', 'danh_sách', 'quý_hiếm', 'sốt_rét', 'Cách_Mạng', 'Tiền_giấy', 'Hình', 'tablet', 'Khí_hậu', 'nguyên_phi', 'độ_ẩm', 'Hiến_pháp', 'ngọn', 'núi_lửa', 'phí', 'trạm', 'xì', 'cao_độ', 'Thánh_Gióng', 'Nhóm', 'đỉnh_cao', 'Địa_phận', 'Kẽm', 'ngoại_hối', 'Phạm_nhân', 'tử', 'rô_phi', 'danh_dự', 'sứ', 'Tết', 'Thành_phố_đông', 'cung_trăng', 'Đường_hầm', 'gốc', 'trung_tâm', 'công_suất', 'kiến_trúc_sư', 'Lăng_Thoại_Ngọc_Hầu', 'Đại_tướng', 'bông', 'sen', 'giang_mai', 'tình_dục', 'ngụ_ngôn', 'hổ', 'Danh_pháp', 'hà_mã', 'Mắt', 'Huân_chương', 'Bất_động_sản', 'thuốc_lá', 'ung_thư', 'Tỉnh_lỵ', 'Học_sinh', 'kì', 'Nguyên_tố', 'Hoàng_gia', 'vai_trò', 'bom', 'thứ_bảy', 'tuần_lễ', 'chứng_bệnh', 'tị_nạn', 'Vùng_đất', 'bộ_phận', 'danube', 'Phần_nào', 'cao_su', 'liên_minh', 'sa_mạc', 'đầu_lâu', 'Biểu_tượng', 'cầu_thủ', 'Phụ_nữ', 'nước_lớn', 'luật_chơi', 'Thiếu_nữ', 'Vai_trò', 'nhật_ký', 'hướng_dương', 'đào', 'xứ_sở', 'phong_lan', 'cá_heo', 'động_vật_có_vú', 'Đường_quốc_lộ', 'Nhiệm_vụ', 'thận', 'Đoàn_viên', 'số_lượng', 'trang_phục', 'Đạo', 'chúa', 'màu_sắc', 'nội_ô', 'Blockchain', 'tiềm_năng', 'vành_đai', 'xe_tăng', 'lãnh_tụ', 'Tiếng', 'công_chúa', 'vòng', 'Cơ_quan_quyền_lực', 'Tết_Nguyên_Đán', 'Ca_khúc', 'Tốc_độ', 'Quyền_hạn', 'Nam', 'tuyên_ngôn', 'sự_nghiệp', 'Trọng_lượng', 'tục', 'cá', 'trần', 'Quốc_kỳ', 'chọn_lọc_tự_nhiên', 'hươu_cao_cổ', 'châu_thổ', 'máy_in', 'lade', 'Thuyền_trưởng', 'quê_hương', 'Hoàng_tử', 'suy_tôn', 'trạng', 'clohydric', 'cú', 'khả_năng', 'Công_dụng', 'da_màu', 'thành', 'Hiệu_trưởng', 'ban_đầu', 'Bảng_chữ_cái', 'ký_tự', 'phát_minh', 'Dấu', 'Vận_động_viên', 'vận_động_viên', 'Di_sản', 'ngư_nghiệp', 'Thực_vật', 'Cao_đẳng', 'sư_phạm', 'danh_hiệu', 'quanh', 'Giáo_sư', 'Đoạn', 'kênh', 'tôn', 'hiệu', 'Quốc_hiệu', 'liên_hoan_phim', 'Lực_lượng_vũ_trang', 'Thực_dân', 'đất_đai', 'Chó_ngao', 'Trạng', 'Cửa_hàng', 'Tổng_thư_ký', 'đại_tướng', 'đồng_tiền', 'chồng', 'máy_phát_điện', 'tiền_thân', 'vitamin', 'Nhật_ký', 'hoàn_cảnh', 'thân', 'pháo', 'chiến_dịch', 'Chèo', 'Ký_hiệu', 'Thảo_Cầm_Viên', 'Dầu_mỏ', 'Hiệp_định', 'hòn', 'tỏi', 'Thành_phần', 'phở', 'thủ_phủ', 'hồ_tiêu', 'khoa_cử', 'lửng', 'mật', 'nhân_bản_vô_tính', 'xuất_xứ', 'mỹ_nhân', 'Đặc_sản', 'Cha', 'nghề', 'danh_nhân', 'nhạc', 'Thành_tích', 'Ông_già', 'cách_mạng_tháng_tám', 'tình_yêu', 'Hứa_Chử', 'Cơ_số', 'Thương_hiệu', 'Mục_đích', 'Thủ_tướng', 'Trung_thu', 'lễ_hội', 'tài_năng', 'Chúa_Chổm', 'người_đời', 'ngầm', 'chúa_trời', 'Mẹ', 'Tay', 'chức_năng', 'Hạt', 'hạc', 'Công', 'liên_đoàn', 'bậc', 'lái', 'thần_bí', 'đá_vôi', 'mục_đích', 'vụ', 'phò_tá', 'tuyến', 'thần_thoại', 'vương', 'phật_tử', 'Dân_gian', 'Thời_Hùng_Vương', 'Thiên_thể', 'quốc_phòng', 'hàm', 'Căn_bệnh', 'học_giả', 'Bán_kính', 'quốc_tịch', 'Thiên', 'hang_động', 'Lối', 'mực', 'Rãnh', 'Hoa_hậu', 'Cù_lao', 'Nhân_tài', 'phường', 'dòng', 'Ý_tưởng', 'cảm_hứng', 'phong_cách', 'Luật_hành_chính', 'muối', 'Thủ_lĩnh', 'khởi_nghĩa', 'lương_thực', 'Cầu_thủ', 'thẻ_đỏ', 'Pit', 'bin', 'thể_chế', 'Liên_hiệp', 'Giấm', 'chữ_viết', 'đơn_chất', 'quặng', 'Dân_tộc', 'Công_tử', 'sản_lượng', 'sắn', 'Diễn_biến', 'cuộc_chiến', 'khoai', 'Quốc_vương', 'Con', 'anh_chị_em', 'Ơreka', 'Vật_chất', 'xung_quanh', 'Bầu', 'vải_thiều', 'anh_hùng', 'Cửa_ô', 'bưởi', 'ảnh', 'quá_khứ', 'Thức_ăn', 'đời_sống', 'kem', 'Xứ_Huế', 'tranh_dân_gian', 'bách_khoa_toàn_thư', 'chế_độ_tư_bản', 'Đạo_diễn', 'Cacbon', 'thể', 'điều_kiện', 'hoàng_hậu', 'mũi_nhọn', 'Quốc_kì', 'Hình_học', 'trọng_lực', 'tuần_lộc', 'nguyên_tố', 'điện', 'tính_chất', 'Chim', 'trời', 'lưu_huỳnh', 'lượt', 'tê_tê', 'chương_hồi', 'đại_lượng', 'Chúa_Nguyễn', 'nóc', 'nobel', 'mặt_trận', 'tổ_quốc', 'đội_hình', 'Mộc_bản', 'Trường_Sinh', 'bí_danh', 'bút_danh', 'Hát_văn', 'Khí', 'kỳ_quan', 'Chữ_cái', 'nhiệt_kế', 'Thời_đại', 'liên_quân', 'điện_biên_phủ', 'không', 'nông_dân', 'hội_đồng_nhân_dân', 'Bí', 'tỉnh_uỷ', 'nhà_táng', 'Trạng_nguyên', 'Nhân_vật', 'Mùa', 'anh_đào', 'dầu_mỏ', 'hoàng_gia', 'nhiệt_đới', 'đa_dạng_sinh_học', 'thi_ca', 'Chòm_sao', 'ảo', 'smartphone', 'Địa_hình', 'Dân_tộc_thiểu_số', 'thiên_nhiên', 'mỡ', 'ông', 'Hậu_quả', 'lăng', 'căn_cứ', 'kháng_chiến', 'tác_dụng', 'nữ_thần', 'Hội_Thánh', 'Giáo_hội', 'quyền_lực', 'động_cơ_đốt_trong', 'Logo', 'cơm', 'Tia_UV', 'nguyên_nhân', 'nhánh', 'nhiệt_độ', 'nhôm', 'Chức_vụ', 'Thủ', 'vai', 'Em', 'Chứng', 'Hoạ_sĩ', 'đàng', 'máy_tính_cá_nhân', 'vỏ', 'Năng_suất', 'áp_suất', 'biệt_tài', 'Hoàng_đế', 'dặm', 'Đại_Lộ', 'Tại_sao', 'tư_nhân', 'Troia', 'Ngôi_sao', 'phò_mã', 'Bia', 'Tính_năng', 'thí_nghiệm', 'thám_hoa', 'chức_vụ', 'triều_đình', 'bác_hồ', 'Tiến_sĩ', 'tuần', 'Ong', 'tàu_sân_bay', 'trinh', 'trị_vì', 'cảng', 'thời_kỳ', 'Số_hiệu', 'nguyên_tử', 'họ', 'Noel', 'Nhà_khoa_học', 'thiên_tài', 'vẻ', 'ma_mị', 'trong', 'giải_vô_địch_bóng_đá', 'Chương_trình', 'tên_lửa_đạn_đạo', 'nhà_lãnh_đạo', 'cây_cảnh', 'Hoàn_cảnh', 'rể', 'Hoa_Hậu', 'folic', 'cấu_tạo', 'phân_tử', 'chữ_cái', 'trick', 'mệnh_giá', 'polyme', 'cây_ăn_trái', 'Nhã_nhạc', 'cung_đình', 'vốn', 'trĩ', 'Đất', 'Thuỷ_điện', 'nhiệm_kỳ', 'Trung_học_phổ_thông', 'Vắc_xin', 'vố', 'champion', 'kỷ_lục', 'chiến', 'sân', 'hướng', 'Dụng_cụ', 'storm', 'Nhiệm_kỳ', 'Copernicus', 'thời_kì', 'chuyện', 'nhạc_cụ', 'giai_thoại', 'Chức_năng', 'tổ_tông', 'pháp_luật', 'nhân_tài', 'hơi', 'Lá', 'khoai_lang', 'Chữ_viết', 'đái_tháo_đường', 'Hình_tròn', 'trục', 'cơ_nghiệp', 'đối_tác', 'quang_phổ', 'đằng', 'đảo_quốc', 'sư_tử', 'tầng', 'Tên_lửa', 'phòng_không', 'cự_ly', 'danh_từ', 'Cơ_thể', 'đại_hội', 'đảo_chính', 'thuốc', 'kháng_sinh', 'Đồng', 'chòm_sao', 'Nội_Vụ', 'Sở_Kiều', 'thế_vận_hội_Olympic', 'Vua_Minh_Mạng', 'đình', 'bát_giác', 'khuôn_viên', 'thai', 'khách', 'Món', 'Chữ', 'quốc_trạng_nguyên', 'Lịch', 'can', 'Trưởng', 'tai_nạn', 'đường_bộ', 'màn_hình', 'Chì', 'hải_lưu', 'ngoài', 'tuyến_tiền_liệt', 'hội_hoạ', 'Thiên_Mụ', 'Đội_trưởng', 'Sức', 'Giải_thưởng', 'khí', 'đa_số', 'dân_tộc_thiểu_số', 'Nguy_cơ', 'viêm', 'gan', 'Kỳ_quan', 'rượu_vang', 'bánh_đậu_xanh', 'đặc_sản', 'thần_tượng', 'hiện_thực', 'Đường_bộ', 'bull', 'Nữ_thần', 'kì_quan', 'mặt_nước', 'Ngã', 'Đại_thần', 'liêm_chính', 'Nhà_vật_lý', 'kế', 'cọc', 'gỗ', 'Nghệ_nhân', 'Mèo', 'Nhiệt_độ', 'em_trai', 'Thuốc_trừ_sâu', 'Toà_án', 'biệt_động', 'dân_quân', 'cụ_già', 'Máy_vi_tính', 'Công_dân', 'quốc_tế_ngữ', 'đồng_tính', 'anh_cả', 'xương_rồng', 'Vật_lý', 'thầy_giáo', 'chiến_công', 'sứ_quân', 'Hoa_hồng', 'dân_ca', 'Biệt_danh', 'thứ_sáu', 'công_thương', 'học_sĩ', 'doanh_số', 'công_thức', 'covellit', 'Điện_thoại', 'nhà_sản_xuất', 'đế_quốc', 'Miền', 'Bộ_Luật', 'Tỷ_số', 'Phiên_bản', 'võ', 'Voi', 'Ảnh_hưởng', 'hình_tượng', 'đế', 'đầu_nước', 'Sử_gia', 'Mỏ', 'trữ_lượng', 'tầm', 'kỷ', 'Hợp_chất', 'nhà_vật_lý', 'hạnh_phúc', 'Ga', 'tần_số', 'cổ_động_viên', 'trọng_tài', 'Củ', 'Cờ_tướng', 'hình_vị', 'thánh', 'di_chúc', 'Tướng_quân', 'công_lý', 'đại_sứ', 'thương_hiệu', 'cacao', 'huy_chương', 'Gia_phả', 'tay', 'Phái_đoàn', 'Hang_động', 'Công_ước', 'tem_thư', 'Giao', 'Lời', 'Thân', 'iPhone', 'dịch', 'Mức', 'san_hô', 'chu_kì', 'bàn_thắng_vàng', 'Cuộc_chiến', 'tài_nguyên', 'hậu_thế', 'nguyên_thủ', 'răng', 'sản_vật', 'seagame', 'Quần_thể', 'cố_đô', 'pit', 'Tết_nguyên_đán', 'Lục_địa', 'sư_đoàn', 'khuôn_mẫu', 'Khí_trơ', 'Nhiễm_trùng', 'huyết', 'thuốc_nổ', 'Ngũ', 'hổ_tướng', 'Tổng_trấn', 'flexo', 'Quốc_khánh', 'Rồng_Komodo', 'hữu', 'binh_chủng', 'quyền_hạn', 'Thanh_tra', 'thiên_hà', 'Doanh_thu', 'Đài_Truyền_hình', 'Chẩm', 'gia_vị', 'sao', 'Tập_tục', 'công_chúng', 'kim_tự_tháp', 'giáo_hội', 'công_giáo', 'Thuỷ_ngân', 'phương_pháp', 'tứ', 'hội_thánh', 'trạng_thái', 'ôxi', 'hoá', 'Ruộng_bậc_thang', 'bệnh_dịch', 'hạch', 'Quốc_ngữ', 'Titanic', 'cạn', 'mắt', 'thương_cảng', 'Mỡ', 'phúc', 'kiến', 'quà', 'mốc', 'da', 'Rắn', 'hổ_mang', 'miếu_hiệu', 'Sản_lượng', 'hình_học_giải_tích', 'phiên_bản', 'nhất_thể', 'danh_hoạ', 'Nghi_lễ', 'cộng_đồng', 'tả_ngạn', 'hiệp_định', 'pháo_thủ', 'Mục_tiêu', 'bằng_hữu', 'vương_triều', 'bụng', 'nước_ngoài', 'Phi_hành_gia', 'lực_lượng_vũ_trang', 'phu_tử', 'thể_tích', 'Hổ', 'võ_sĩ', 'Cá_rô_phi', 'võ_công', 'thủ', 'Cồng_Chiêng', 'bộ_tướng', 'toán', 'cá_bơn', 'Nguyên_lý', 'cơ', 'vũ_điệu', 'Mưa', 'Núi_lửa', 'roi', 'đặc_trưng', 'cải_lương', 'tổng_bí_thư', 'Ca_sĩ', 'Bác', 'tên_huý', 'hải_cẩu', 'quán_quân', 'Gương_mặt', 'ca_khúc', 'tiền_chiến', 'Axit_Axetic', 'Chim_cánh_cụt', 'chiến_sự', 'toàn', 'Rùa', 'học_trò', 'Bộ_phận', 'dơi', 'y_tế', 'thi_hào', 'băng', 'chứng_tích', 'Chiến_tích', 'tỷ_phú', 'Đái_tháo_đường', 'tim_mạch', 'cường_quốc', 'Nghề', 'tín_ngưỡng', 'ngôi', 'ong', 'đàn', 'quả', 'địa_cầu', 'Mũ_bảo_hiểm', 'áo_quần', 'Hệ_Mặt_Trời', 'Tết_Âm_lịch', 'Tuyến', 'đường_sắt', 'Quốc_Gia', 'Vụ', 'Thềm_lục_địa', 'thực_phẩm', 'hiệu_ứng', 'quang_điện', 'quan_niệm', 'hình_học', 'Mái', 'hình_chóp', 'nhà_ga', 'Dạng', 'Doanh_số', 'đĩa', 'Nguyên_liệu', 'ngoại_xâm', 'bề', 'mầm', 'không_khí', 'trẻ', 'cơ_đồ', 'căn_cứ_quân_sự', 'hạ_chí', 'dân_gian', 'triều_nguyễn', 'mã_hiệu', 'Ma_cà_rồng', 'mâm', 'ngũ_quả', 'Uỷ_viên', 'vải', 'Bí_thư', 'địa_đạo', 'Lợi_ích', 'thuỷ_lực', 'góc', 'Một_cách', 'quy_mô', 'tàu_hoả', 'sao_vàng', 'lệ', 'khởi_nguồn', 'buổi', 'Chủ_nghĩa_xã_hội', 'nắng', 'ban_mai', 'nhiệm_kì', 'Đảng_bộ', 'Động_cơ', 'Cờ', 'ca_sĩ', 'tàu_điện_ngầm', 'Tây', 'Thuỷ_cung', 'Nguồn', 'Súng_trường', 'Tàu_vũ_trụ', 'Chùm', 'thuốc_phiện', 'lông', 'giao_thừa', 'Đặc_trưng', 'thương_hàn', 'xuất_gia', 'Nhà_hàng', 'thần_công', 'tivi', 'Vua_Hùng', 'sán', 'lợn', 'vũ_khí_hạt_nhân', 'Kết_quả', 'hiệu_lực', 'Bí_danh', 'quận_huyện', 'Lớp', 'ong_thợ', 'xu', 'kinh_thành', 'dự_án', 'thông', 'cánh_tay', 'đồn', 'địch', 'âm_lịch', 'số_một', 'Vạch', 'Truyền_thống', 'nét', 'pin', 'Dấu_tích', 'Gương', 'ô_tô', 'nam_cao', 'bộ_trưởng', 'mối', 'dung_dịch', 'ph', 'Thư_viện', 'sử_thi', 'trăn', 'financial', 'Tam', 'sư', 'khách_sạn', 'sàn', 'chứng_khoán', 'Vợ', 'xứ', 'giảng', 'Tục', 'trạng_Nguyên', 'Máy_bay_trực_thăng', 'cánh_quạt', 'điện_thế', 'Giao_thông', 'phần_lớn', 'kĩ_thuật', 'Cleopatre', 'y_học', 'Mạch', 'nô_lệ', 'bản', 'Chiếu', 'gọi_Nôm', 'đối_tượng', 'anh', 'Phe', 'Ứng_cử_viên', 'đại_diện', 'Quạt_điện', 'Ung_thư', 'Xương_rồng', 'dấu_tích', 'trước_kia', 'đường_bay', 'học_sinh', 'Quê_hương', 'Chiêu_Văn_Vương', 'Câu', 'quân_thù', 'kệ', 'Sư_phạm', 'Dấu_hiệu', 'Nghệ_thuật', 'tướng_quân', 'Đầu', 'Sân_nhà', 'Sao', 'danh_nghĩa', 'chủ_nhân', 'von', 'Thể_loại', 'phim_nổi', 'châu_mỹ', 'quốc_dân', 'chủ_lực', 'Áp_suất', 'đồng_bào', 'tướng_lĩnh', 'tư_liệu', 'Dân_ca', 'dây', 'tên_hiệu', 'Nhiệm_kì', 'cần_cẩu', 'sử_sách', 'Vương_triều', 'Trước_đây', 'Thuật_ngữ', 'Công_nghệ_thông_tin', 'Số_nguyên', 'Cục', 'bất_động_sản', 'Hành', 'paro', 'Nguyên_tố_hoá_học', 'chử', 'hố', 'ngân_hà', 'chuỗi', 'thức_ăn', 'hài_cốt', 'trung_đại', 'đấu_trường', 'phim_truyền_hình', 'Cánh', 'diều', 'phim_tài_liệu', 'truyền_hình', 'Cặp', 'giới_tính', 'ruồi', 'dấm', 'sớ', 'độc_tố', 'khoai_mì', 'bán_dẫn', 'nguyên_âm', 'Bá_Kiến', 'kumkum', 'Thuốc_súng', 'hỗn_hợp', 'Nhà_giáo', 'Chủ_Tịch', 'lúa', 'tài', 'gốm', 'danh_pháp', 'Trang_phục', 'thủ_môn', 'vật_dụng', 'Êch', 'hình_ảnh', 'Thận', 'nhi_đồng', 'Thịt', 'bóng_đèn', 'Đường_biển', 'danh_tác', 'hoạ_sĩ', 'Ung', 'hộp', 'sọ', 'hạt_tiêu', 'ao', 'cổ_phiếu', 'luật_lệ', 'trân_châu', 'Kem', 'máy_vi_tính', 'Nước_biển', 'Bom_nguyên_tử', 'ông_già', 'Dế_Mèn', 'ngữ_văn', 'Tượng', 'tiểu_liên', 'Nhạc', 'danh_thủ', 'tàu_ngầm', 'tổ_hợp', 'tên_lửa', 'tước_hiệu', 'cương', 'cừu', 'động_đất', 'bầu_trời', 'kính_viễn_vọng', 'chủ_nghĩa_cộng_sản', 'căn_hộ', 'nghĩa_sĩ', 'Thời', 'Đại_biểu', 'quan_lại', 'thói', 'uỷ_viên', 'Giai_đoạn', 'sôcôla', 'kỉ_lục', 'Tàu_ngầm', 'đồng_vị', 'lập_trình_viên', 'Ruột_thừa', 'chuối', 'trái_cây', 'cầu_mây', 'Thân_Nhân', 'danh_sĩ', 'Quái_vật', 'vở', 'tre', 'hợp_chất', 'Niên_hiệu', 'Chồn', 'tạng', 'tộc', 'Thượng_đế', 'đạo_giáo', 'đỗ', 'hạng', 'nho_học', 'tổng_cục', 'Ngày_ngày', 'Máu', 'độ_pH', 'hậu_duệ', 'bước_tiến', 'quân_Nguyên', 'bánh_mì', 'Phong_cầm', 'phản_ứng', 'hạt_nhân', 'Trâu_Vàng', 'hiệu_trưởng', 'Mâm', 'Cầu_vồng', 'Thương_cảng', 'danh_tướng', 'thuyền_trưởng', 'tinh', 'Tiêu_chuẩn', 'Sản_phẩm', 'hit', 'Ure', 'mí', 'Bố', 'Chu_kỳ', 'câu_chuyện', 'vắcxin', 'bộ_lạc', 'Cá_heo', 'thắng_lợi', 'Chủ_nhiệm', 'thổ_ngữ', 'nhựa', 'nữ_tướng', 'quy_ước', 'chì', 'Cân', 'vận_hội_nhiều', 'vật_liệu', 'Lúa_mì', 'thành_công_chức', 'than_đá', 'hàng_hải', 'dinh', 'vạn_đại', 'thuỷ_bộ', 'Thuốc', 'cường_dương', 'Quỹ', 'học_bổng', 'Thứ', 'Thái_sư', 'tá', 'tường', 'Hippocrates', 'bảng', 'Kim_ngạch', 'cá_rô_phi', 'con_số', 'dây_tóc', 'Nghệ_sĩ', 'hải_ngoại', 'nghệ_sĩ_ưu_tú', 'Sân_cỏ', 'đê', 'đồng_hồ_quả_lắc', 'Ranh_giới', 'Thông_số', 'phản_ứng_hoá_học', 'cà_phê', 'Thuốc_lá', 'Trùng_roi', 'quái_vật', 'Quan_hệ', 'hương', 'Sen', 'Thượng_viện', 'đội_trưởng', 'gạo', 'quang', 'giọng', 'Làng_nước', 'Kính_thiên_văn', 'sâu_bọ', 'triều_Nguyễn', 'lợi', 'chính_cung', 'Titan', 'sắc_đẹp', 'Pháp_luật', 'Tiêu_Thập_Nhất_Lang', 'ông_táo', 'Đại_nghĩa', 'Bản_đồ', 'vệ_tinh_tự_nhiên', 'mạc', 'mì', 'soba', 'Nữ_giới', 'lối', 'Thắng_lợi', 'nam_giới', 'Chợ', 'tiền_giấy', 'Tổng_tư_lệnh', 'cháu', 'ngoại', 'hợp_lưu', 'Lục', 'quốc_lộ', 'ấn_độ', 'film', 'ngô', 'Cà_phê', 'Thính_giác', 'vận_tải', 'hệ_điều_hành', 'Công_thức', 'thuốc_súng', 'Trạng_Quỳnh', 'quán', 'kho_tàu', 'Cồng', 'chiêng', 'văn_phòng', 'đồ_ăn', 'Bánh_cuốn', 'tước', 'Hạng', 'Bảo_Đại', 'công_cụ', 'chấn_động', 'đai', 'Cung', 'đèo', 'thiên_hạ', 'dấu', 'bằng', 'phương_trình', 'đại_số', 'bác_học', 'khinh_khí_cầu', 'Chuyến', 'Tỉnh_lị', 'Triều', 'lưu_lượng', 'kinh_tuyến', 'cù_lao', 'đôn', 'nhân_loại', 'sủng_ái', 'mộc', 'sản_phẩm', 'Tuổi_thơ', 'thần_lực', 'đề_tài', 'chuyến', 'trang_trại', 'lao', 'eV', 'chân_dung', 'Virus', 'màn', 'phát_tích', 'Triệu_chứng', 'bệnh_lý', 'u_xơ', 'chiến_sĩ', 'tình_hình', 'công_cuộc', 'bóng_rổ', 'phim_hoạt_hình', 'ngày_xưa', 'số_nguyên', 'Trạm', 'chi_phí', 'nhân_sư', 'Giỗ_Tổ_Hùng_Vương', 'chương', 'ngai_vàng', 'dạ_dày', 'cử_tri', 'ga', 'Tên_thánh', 'dưỡng_khí', 'giáp_biển', 'nhật_thực', 'vé', 'Ngưu_Lang_Chức_Nữ', 'Hậu_duệ', 'hình_luật', 'Nhà_sản_xuất', 'bánh_cuốn', 'lễ_tết', 'liên_bang', 'quân_dân', 'Tử', 'công_thức_hoá_học', 'pizza', 'bước', 'tuyệt_chiêu', 'Phương_tiện', 'đường_thuỷ', 'bằng_sáng_chế', 'hệ_số', 'Tiểu_bang', 'Công_thức_hoá_học', 'Ca_trù', 'Dưới', 'Súng', 'sa_đoạ', 'sọc', 'á', 'uy_tín', 'kỉ', 'băng_hà', 'Địa_điểm', 'Nhẫn_cưới', 'Việc', 'Anh_hùng', 'toà_án', 'đảng_viên', 'Rượu', 'vai_vế', 'Vệ_tinh', 'gang', 'giày', 'Trái', 'bòn_bon', 'thuyết', 'Ông', 'Boku', 'Tướng', 'công_thần', 'Xóm', 'doanh_nghiệp', 'bản_sao', 'Phốt_pho', 'sắt', 'ách', 'Hình_dạng', 'Kẻ', 'tỉ_số', 'lý', 'quyển', 'cửa_ngõ', 'Tước_hiệu', 'tấn_phong', 'tuyển', 'tô', 'thảm', 'Chồng', 'hera', 'chợ', 'phượng_hoàng', 'Dấu_câu', 'vế', 'Phim_hoạt_hình', 'động_vật_nguyên_sinh', 'Bao_cao_su', 'chủ_nhật', 'Hàng_hoá', 'hàng_hoá', 'Chủ', 'Cao_lầu', 'sử_học', 'Vợ_chồng', 'đa', 'Tác_nhân', 'Tổng_cục', 'đồng_chí', 'đồi_núi', 'Áo_dài', 'an_ninh', 'Sắn', 'Cỗ', 'Bàn', 'horus', 'Thể_chế', 'thời_tiết', 'Bộ_tộc', 'nghệ_sĩ', 'tay_trong', 'mặt_hàng', 'thiết_bị', 'cửa', 'tín_đồ', 'nghệ_danh', 'dừa', 'thục', 'Kịch_bản', 'kong', 'huyền_thoại', 'Trò_chơi', 'nỏ', 'thương_binh', 'du_hành_vũ_trụ', 'ý', 'mít_tinh', 'thuỷ_ngân', 'bụi', 'văn_tự', 'triển_lãm', 'Tứ_giác', 'mảng', 'Quá_trình', 'ngọc_trai', 'Tản_Viên_Sơn_Thánh', 'Vũ_điệu', 'mỹ_đình', 'Sốt', 'Dân_cư', 'Thời_kì', 'thập_niên', 'thành_phố_đông', 'dan', 'gian', 'cơ_cấu', 'ban_đêm', 'Phóng_viên', 'chiến_trường', 'điểu', 'Tàu_sân_bay', 'Hoá_trị', 'tính_mạng', 'Đàn_ông', 'váy', 'kiềm', 'Chất_lỏng', 'chất_lỏng', 'Nghĩa_quân', 'đầm', 'Vua_phá_lưới', 'Thái_hậu', 'quân_phục', 'ruộng', 'sứ_thần', 'Dòng_họ', 'tử_cung', 'ứng_viên', 'máy_ảnh', 'Đồng_hồ', 'Hạng_mục', 'Thủ_môn', 'đường_thẳng', 'Xe_máy', 'Trẻ_em', 'răng_sữa', 'nhà_nghỉ', 'Tổng_cộng', 'tiền_tuyến', 'phi_công', 'buồng_lái', 'ôzôn', 'bình', 'thuần_hoá', 'cổ_phần', 'thượng_lưu', 'Truyền_thuyết', 'Tác_dụng', 'Tình', 'lượng', 'sĩ', 'ứng_cử_viên', 'nước_bọt', 'phòng_thí_nghiệm', 'cà_ri', 'XBOX', 'thịnh_vượng', 'Achilles', 'hoàng_tử', 'Trung_tướng', 'Bàu_Sấu', 'Mặt_hàng', 'ngắn_hạn', 'cần_sa', 'trưa', 'lứa', 'ngư_dân', 'hiệp_ước', 'Thời_Pháp', 'ven', 'cùi', 'hải_cảng', 'Lò', 'Nồng_độ', 'lệnh', 'vũ_khí', 'di_chỉ', 'tự_nhiên', 'tờ', 'Gmail', 'chu_vi', 'tiến_sĩ_khoa_học', 'triệu_chứng', 'hiệu_điện_thế', 'cõi', 'Kích_thước', 'đôi_lúc', 'đấu_vật', 'Bánh_phở', 'nhân_gian', 'hát_xoan', 'ca', 'vườn', 'pho_mát', 'Máy_bay', 'cẩu', 'Tháp_nước', 'chuẩn', 'Phần_lớn', 'biện_pháp', 'sóng_thần', 'lưọng', 'Hươu_cao_cổ', 'Tam_giác', 'sonat', 'Đặc_tính', 'tố', 'Nhạc_cụ', 'cấp_bậc', 'đồ', 'quan_tiền', 'apollo', 'quyền_năng', 'Ấn_độ_giáo', 'Đạo_Hồi', 'Tay_đua', 'chung_cuộc', 'cảnh', 'phe', 'Nhà_lãnh_đạo', 'tiêu_chuẩn', 'lưỡi', 'Nhập_khẩu', 'Đấu_trường', 'phát_xít', 'trí_tuệ_nhân_tạo', 'sông_cửu_long', 'thôn', 'bối_cảnh', 'olympia', 'tru_di_tam_tộc', 'Tổ_quốc', 'nitơ', 'Nhà_Rông', 'nguyên_tắc', 'bùa', 'Phiên', 'ban_ngày', 'Quân_số', 'lăng_mộ', 'quốc_huy', 'căn_bệnh', 'thiệp', 'Giáng_sinh', 'cầu_là', 'đường_biển', 'Vôn', 'trung_học_cơ_sở', 'thang_máy', 'ác_quỷ', 'Chính_thể', 'Nhà_sàn', 'tem', 'bưu_chính', 'Nguyên_tác', 'đá_ong', 'Đám_cưới', 'đợt', 'Tổ_Chức', 'Festival', 'định_kỳ', 'cơ_quan_ngôn_luận', 'giỗ', 'Quan_Họ', 'tháng_giêng', 'Nhân_dân', 'khoa', 'Cách_thức', 'Cơ_cấu', 'bộ_máy', 'sơn', 'năm_tuổi', 'thọ', 'cruise', 'Chân', 'thành_tích', 'Chức_nghiệp', 'Nghề_nghiệp', 'Thái_tử', 'Thân_sinh', 'Pháo_hoa', 'lí_do', 'Lý_do', 'Nguyên_do', 'Bế_Văn_Đàn', 'unk', 'phụ_mẫu', 'phụ_thân', 'Phong_Nhã', 'Con_cái', 'thân_phụ', 'con_cái', 'mẫu', 'A', 'Thiệu_Trị', 'Sinh_nhật', 'Diễn_viên', 'Ngày_sinh', 'Friedrich_II', 'sanh', 'tùng', 'mtp', 'Nghệ_sỹ', 'Tư_Mã', 'diệu', 'Sơn_Tùng_M', 'sinh_nhật', 'Ăngghen', 'Hàn_Mạc_Tử', 'Hindenburg', 'ceo', 'phiến', 'thiết', 'huyền', 'Tiểu_sử', 'chú', 'Nông', 'văn', 'dền', 'thái_hậu', 'Đô_đốc', 'Mark_Elliot_Zuckerberg', 'Lý_lịch', 'mỵ', 'nương', 'Phúc_Thần', 'đường_cao', 'Phương_Lựu', 'dũng', 'bà_chúa', 'nôm', 'phoenix', 'Trưng', 'nữ_vương', 'sầu', 'thủ_khoa', 'Tía', 'Ba', 'cha_ông', 'ba', 'chúa_tể', 'Phụ_thân', 'phu_quân', 'phu_nhân', 'Phu_quân', 'thê_tử', 'Đát_Kỷ', 'Má', 'Phụ_mẫu', 'Quốc_tịch', 'Cha_mẹ', 'Bố_mẹ', 'Quách_Tương', 'Phụ_huynh', 'Quê_quán', 'Quê', 'Nhật_Tinh_Anh', 'viện_sĩ', 'danh_y', 'siêu_sao', 'di', 'cố_chủ_tịch', 'cối_xay_gió', 'Tuyển_thủ', 'danh_xưng', 'Tiền_Ngô_Vương', 'công_tử', 'Thanh_Hiên', 'Minh_Mạng', 'liệt_sĩ', 'trái', 'Hùm', 'cân', 'Phu_nhân', 'Thê_tử', 'của_son', 'chế_độ_quân_chủ', 'hiện_thời', 'hội_đồng_quản_trị', 'huấn_luyện_viên', 'thành_uỷ', 'Chánh_án', 'Huấn_luyện_viên', 'phó', 'Tổng_bí_thư', 'ban_chấp_hành', 'Xã_hội', 'thứ_trưởng', 'Tài_chính', 'Thứ_trưởng', 'công_nhân', 'Tổng_thư_kí', 'Ban_Chấp_hành', 'quốc_trưởng', 'Nước_Hoa', 'Số_liệu', 'tiểu_bang', 'trung_du', 'ra_bộ', 'diện', 'unicode', 'Danh_từ', 'Đố', 'Thần_thoại', 'nhiễm_trùng', 'Thôi_miên', 'Lễ_Giáng_Sinh', 'Công_suất', 'Cấp_số', 'bê_tông_cốt_thép', 'dino', 'Bọ_chét', 'Đô_thị', 'Hình_vuông', 'Vốn_điều_lệ', 'Câu_lạc_bộ_thể', 'Bách_khoa_toàn_thư', 'Phần_mềm', 'Bảng_tuần_hoàn', 'miễu', 'hầm', 'Cuộc_Cách', 'Đỉnh_cao', 'hình_phạt', 'Khả_năng', 'kích_thích', 'công_ước', 'boomerang', 'tư_tưởng', 'tân_tự_do', 'nạn', 'Sừng', 'kỹ_thuật_số', 'người_thân', 'quan_chức', 'Cơ', 'thương_thuyết', 'khâu', 'Trường_hợp', 'Cation', 'Sinh_vật', 'cuộc_sống', 'samurai', 'tác_hại', 'Tính', 'hạt_giống', 'Tai', 'hậu_quả', 'phân_cực', 'Bò_sát', 'nhiệt', 'Trước_tiên', 'Tác_động', 'móng', 'hooligan', 'dê', 'giả_thuyết', 'nửa', 'Cơ_khí', 'Ý_thức', 'hoang_mạc', 'mũi', 'đường_hầm', 'ngã', 'thung_lũng', 'lòng_sông', 'thuỷ_lợi', 'Cực_Bắc', 'Liên_bang', 'chủ_nghĩa', 'quân_nhân', 'Di_trú', 'Khối', 'Cựu_chiến_binh', 'môn_phái', 'Hội_Chữ_thập_đỏ', 'tắc', 'tam', 'Tay_vợt', 'tay_vợt', 'tập_quyền', 'Khu_phố', 'sức', 'Quy_tắc', 'đô_đốc', 'Doraemon', 'Me', 'before', 'đô', 'quần_vợt', 'Tam_Quốc', 'Ông_tổ', 'rãnh', 'Gang', 'trợ_lý', 'rác_thải', 'nhà_chọc_trời', 'nhà_sử_học', 'bệ_phóng', 'tinh_bột', 'tàu_vũ_trụ', 'Khoáng_sản', 'Khứu_giác', 'đèn_điện', 'cửu', 'ứng_dụng', 'Người_mẫu', 'thực_quyền', 'Chúa', 'sứ_mệnh', 'Bánh_đậu_xanh', 'Bánh_tổ', 'Thang_máy', 'đường_cao_tốc', 'Bằng_chứng', 'Lợi_thế', 'rogan', 'nguyên_liệu_chính', 'Báo_điện_tử', 'nội_tạng', 'đặc_khu', 'Tài_nguyên', 'mì_ăn_liền', 'Vệ_sĩ', 'âm_mưu', 'Công_nhân', 'blockchain', 'Lễ_vật', 'mồi', 'thực_chất', 'hành_trình', 'rằm', 'viôlông', 'Hệ_sinh_thái', 'Bánh_canh', 'cá_lóc', 'thế_vận_hội', 'huỷ_diệt', 'tulip', 'carbon', 'Hôm', 'thành_quách', 'cung_điện', 'đuôi', 'chuông', 'định_mức', 'đốt', 'hai_châu', 'vôi', 'không_trung', 'lập_quốc', 'bàn_tay', 'Máy_hơi_nước', 'your', 'name', 'lò', 'lạc_đà', 'bướu', 'mã_vạch', 'sashimi', 'Con_nuôi', 'soda', 'phố_phường', 'Tống_thống', 'ôn_đới', 'Cao_ốc', 'máy_bay_trực_thăng', 'hồi_môn', 'Đài_truyền_hình', 'Khoa_học', 'Quốc_Kỳ', 'hiệp_hội', 'Tây_Du_Ký', 'xoài', 'mỏ', 'Đông', 'Wikipedia', 'người_máy', 'Thỏ', 'hồng', 'gấu_trúc', 'quốc_tế_ca', 'độ_kinh', 'chiến_thuật', 'nhân_bản', 'gen', 'thi_sĩ', 'chocolate', 'kính', 'chuyên_ngành', 'gươm', 'hiền_tài', 'nguyên_khí', 'mật_danh', 'cơ_học', 'Sát_Thát', 'Thiết_bị', 'jazz', 'jin', 'tiêu_chí', 'dầu', 'vạch', 'bitcoin', 'El_Classico', 'Youtube', 'trang_web', 'phường_xã', 'Bộ_môn', 'ong_chúa', 'nhí', 'rau', 'thoại', 'giáo_sỹ', 'eo_biển', 'Máy_phát_điện', 'bảng_nhãn', 'thiệt_hại', 'con_lắc', 'Tỷ_phú', 'người_mẫu', 'Hộp_đen', 'điôxít', 'tư_lệnh', 'quân_khu', 'Trường_sinh', 'xã_phường', 'vợ_chồng', 'Thuỷ_thủ', 'biên_phòng', 'Danh_sĩ', 'nhiệt_lượng', 'Tuần', 'nguyên_tác', 'sứ_giả', 'xe_lửa', 'Hạ_viện', 'Sáng', 'chất_liệu', 'Bệnh_nhân', 'tuỵ', 'glass', 'vệ_tinh_nhân_tạo', 'đại_thần', 'Robot', 'Chocolate', 'tội', 'chầu', 'Cồ', 'đàm', 'giấm', 'Shiseido', 'mỹ_phẩm', 'Dây_tóc', 'Trọng_lực', 'đường_dây', 'bóng_nước', 'số_hiệu', 'thiên_chúa_giáo', 'giái', 'sức_mua', 'Bánh_cáy', 'binh_nghiệp', 'tổng_thư_kí', 'Căn_nguyên', 'bến', 'thuyền', 'Danh_thắng', 'Quốc_Phòng', 'Hình_dáng', 'chó_ngao', 'Màn', 'thân_phận', 'túi', 'gió_trăng', 'Ma_tuý', 'hội_chứng', 'dân_nghèo', 'bang_giao', 'năng_suất', 'Sách_đỏ', 'nền_tảng', 'pencakxilat', 'Thị_trấn', 'Thời_đại_đồ_đá', 'thái_tử', 'tiên', 'đế_chế', 'tảng', 'du_khách', 'đặc_quyền', 'Cờ_vua', 'tỉnh_lị', 'Hậu_cung', 'thừa_tướng', 'đức', 'Hàn_Mặc_Tử', 'Võ', 'thị', 'Quan_Âm', 'tiểu_sử', 'hưng', 'đại_vương', 'ơle', 'metis', 'lê_văn', 'Ngô_Y_Linh_học', 'con_nuôi', 'lê_hãn', 'hoà_thượng', 'thuở', 'bệnh_viện', 'phim_điện_ảnh', 'nguyên_mẫu', 'nan', 'dạ', 'khúc', 'Hình_bình_hành', 'Lạm_phát', 'Mặt_phẳng', 'hoàng_đạo', 'Trái_tim', 'dãi', 'U_xơ', 'tiền_liệt_tuyến', 'hoá_đơn', 'Bộ_nhớ', 'Hoá_học', 'Hình_chữ_nhật', 'ma', 'Glucose', 'hướng_ngoại', 'kỳ_tích', 'việt_vị', 'Mẫu', 'Định_nghĩa', 'Thương_hàn', 'vi', 'Máy_tính_xách_tay', 'Luỹ_thừa', 'bán_phá_giá', 'súng_trường', 'lụa', 'glycogen', 'Phenol', 'Nhà_Hát', 'Liên_Bang', 'quốc_ngữ', 'World_cup', 'Quốc_tế_Phụ_nữ', 'đạn', 'đặc_tính', 'dương_cầm', 'cảm_tính', 'thần_kinh', 'elegans', 'trái_nghĩa', 'rupee', 'thiểu', 'diên', 'sổ', 'hiệu_ứng_nhà_kính', 'đàn_ông', 'tài_liệu', 'Kế_hoạch', 'demonetisation', 'Phòng', 'trung_lập', 'không_tưởng', 'dầu_khí', 'thiên_vị', 'chi_tiết', 'dược_phẩm', 'hoá_sinh', 'Trách_nhiệm', 'dân_sự', 'Trạng_thái', 'lưỡng_cư', 'Tầm', 'tính_toán', 'k', 'lý_lịch', 'giá_trị_thặng_dư', 'Ếch', 'Hôn_nhân', 'Tỉnh_đoàn', 'nghĩa_đàn', 'keo', 'DIện_tích', 'Phía', 'Hang', 'Bán_đảo', 'Hang_Con_Moong', 'Hàng_Đào', 'bãi', 'Làng_nghề', 'Nhạc_viện', 'Non_nước', 'Nội', 'Sơn_Đoòng', 'Đầm', 'Cơ_sở', 'Uỷ_ban_nhân_dân', 'Quân_Đội', 'Chữ_thập_đỏ', 'khí_tượng', 'Marketing', 'dược', 'OnePlus', 'kiểm_soát', 'ngày_đêm', 'Nhà_rông', 'nghi_lễ', 'cây_gỗ', 'uỷ_ban', 'mình', 'lưới', 'phút', 'Bưu_điện', 'mẫu_tự', 'đề', 'Bộ_Trưởng', 'Nội_vụ', 'nội_vụ', 'chức_danh', 'Chính_uỷ', 'viện_kiểm_sát', 'nông_sản', 'Hồi', 'Cầu_đường', 'Cồng_chiêng', 'Cổ_phiếu', 'Cụ', 'Dũng_tướng', 'dâu', 'tuần_san', 'thủ_công', 'cáp', 'Tuyên_ngôn', 'Hổ_tướng', 'thường_trực', 'Instagram', 'follow', 'Kỷ_lục', 'Luật_hình_sự', 'giấc', 'tỷ_trọng', 'kết_cấu', 'ngoại_quốc', 'Nhân_công', 'trường_thành', 'hội_đồng', 'triết_học', 'số_thành_viên', 'nôi', 'thể_loại', 'Phần_đông', 'Quà', 'cáo', 'đặc_công', 'dải', 'tên_tuổi', 'cốt_truyện', 'thể_nào', 'Truyện_thơ', 'của_nổi', 'môn_khách', 'bản_án', 'điêu_khắc', 'rặng', 'chi_lưu', 'đại_sứ_quán', 'đới', 'hoa_cúc', 'Vòng', 'Võ_đường', 'môn_sinh', 'nước_tương', 'Văn_Miếu', 'sĩ_phu', 'Vụ_việc', 'Xứ_sở', 'trường_thành_viên', 'đình_đám', 'hạn_hán', 'Đời', 'Trạng_Nguyên', 'chim_cánh_cụt', 'Tuxedo', 'mặt_nạ', 'khoa_học_cơ_bản', 'lũ', 'nghi_thức', 'mạch', 'Hội_đồng_nhân_dân', 'Tên_tự', 'cột', 'rạng_đông', 'cực_đoan', 'vảy', 'ngựa_vằn', 'xương', 'Vi_sinh_vật', 'Bánh', 'ka', 'Hình_thoi', 'đường_chéo', 'Linh_miêu', 'com', 'Tam_tòng_tứ_đức', 'chuẩn_mực', 'vua_phá_lưới', 'goku', 'Cà_ri', 'công_nghệ_cao', 'thính', 'bánh_trôi', 'bán_kính', 'Tết_âm_lịch', 'biến_chứng', 'Hoá_thạch', 'Công_cụ', 'thằn_lằn', 'gfriend', 'Biệt_thự', 'Kiểu', 'Quốc_sử', 'Cá_thể', 'quạt_điện', 'trường_sinh', 'thiền_sư', 'kính_thiên_văn', 'khói_lửa', 'Cò_lả', 'Truyện_kiều', 'Tết_Dương_lịch', 'Nón_quai_thao', 'Sợi', 'Mạch_máu', 'sinh_học', 'kẹo', 'nguyên', 'Em_trai', 'kách', 'mệnh', 'tiềm_lực', 'Keangnam_Hanoi_Landmark_Tower', 'Âm_thanh', 've_sầu', 'thiên_cổ', 'bút', 'đại_gia', 'Ong_chúa', 'di_chứng', 'liên_cầu_khuẩn', 'Tứ_Giác', 'cụm_từ', 'đoan_chính', 'lòng', 'Tên_tuổi', 'nhạc_sỹ', 'mõm', 'tiếng_động', 'mát_mẻ', 'phù_dâu', 'phù_rể', 'Thời_tiết', 'ngày_mai', 'Mì', 'udon', 'yêu_cầu', 'trọng_tải', 'khoáng_sản', 'Chất_béo', 'đại_quân', 'penixilin', 'Bóng_bầu_dục', 'thanh_điệu', 'xe_hơi', 'Trình_độ', 'học_vấn', 'máy_hơi_nước', 'phong', 'viễn_thông', 'Hiệu', 'kim_ngạch', 'Trí_tuệ', 'giàu_có', 'Xúc_giác', 'phần_nhiều', 'tàng_hình', 'khoảng_không', 'Văn_học', 'láng_giềng', 'cơ_quan_hành_chính', 'tenis', 'tôm', 'siêu_thanh', 'cô_hồn', 'quang_năng', 'Râm_bụt', 'ngoại_hạng', 'Diêm', 'Sở_trường', 'thư_kí', 'Paris_SG', 'hợp_kim', 'báo_cáo', 'Bài_toán', 'Vỏ', 'phái_đoàn', 'phù_sa', 'Anh_trai', 'cảm_ứng', 'công_dụng', 'Nhãn_hiệu', 'Vốn', 'tục_ngữ', 'văn_thơ', 'cầu_vượt', 'thẻ', 'vườn_không_nhà_trống', 'Thị_giác', 'nước_nhà', 'hạm', 'Bạc', 'cách_mạng_tháng', 'thánh_giá', 'bình_bầu', 'phái_mạnh', 'Nhựa_mủ', 'Quận_huyện', 'thiên_lôi', 'Sự_nghiệp', 'Biện_pháp', 'tất', 'thiên_hướng', 'tính_dục', 'luật_bóng_đá', 'rắn_độc', 'cây_công_nghiệp', 'kim_loại_đen', 'Kiến_trúc', 'tiểu', 'nghệ', 'Trại', 'cụm', 'Logarit', 'trọng_thần', 'Dân', 'gray', 'bánh_chay', 'thần_tình', 'quy', 'phật_thủ', 'nguyên_bản', 'Chân_dung', 'lâm', 'điện_năng', 'Hiệu_suất', 'nồng_độ', 'Xe', 'bộ_binh', 'quỹ_đạo', 'Cửa_ải', 'phần_thưởng', 'cầu_khuẩn', 'hẻm', 'Thái_Dương', 'Cương_lĩnh', 'chàng', 'Đám_tang', 'tiếng_anh', 'Tàu_con_thoi', 'sáng_tạo', 'Nậm_Pịa', 'ruột_non', 'Chính_sách', 'Bạch_đàn', 'Kinh_phí', 'garrix', 'Vừ_A_Dính', 'nhà_phát_minh', 'Cụt', 'Bà_Huyện_Thanh_Quan', 'Công_Tôn_Lệ', 'quách', 'Hokage', 'Trường_học', 'Danh_Nhưỡng', 'Thần_đồng', 'Thừa_tướng', 'Hoàng_hậu', 'chủng', 'quân_hàm', 'Quốc_Hội', 'Thế_vận_hội_mùa_hè', 'xe_lăn', 'hiệp_thương', 'olympic', 'đèn_lồng', 'bái', 'Cách_mạng_tháng', 'Chiến_lược', 'năm_học', 'sea_games', 'Zing_Music_Awards', 'Cúp', 'cồng_chiêng', 'Khủng_hoảng', 'cá_ngừ', 'dưa', 'Lũ', 'bê_tông', 'rạn', 'SPG-9', 'Siêu', 'Ibrahimović', 'Kim_đồng', 'mùi', 'hy', 'nha', 'doraemon', 'thào', 'Vuờn', 'gi', 'vừ', 'Ban_ngày', 'Hiện_vật', 'kh', 'ka-tom', 'pơ', 'tác_gia', 'bệ_hạ', 'chế_độ_phong_kiến', 'biệt_danh_Trạng', 'vac', 'nứơc', 'phụ', 'đựơc', 'tá_tràng', 'đc', 'COn', 'sầu_riêng', 'mồng', 'hải_lí', 'lưỡng_thê', 'Hải_dương_học', 'ngụ_cư', 'phú', 'Nữ_Thần', 'n\\xadước', 'đà_điểu', 'Ngạc', 'ngư', 'óc-om-boóc', 'Tổng_Bí_Thư', 'biển_hồ', 'nhị', 'nhiu', 'gô', 'cây_xanh', 'hoa_hồng', 'kí_hiệu', 'ván', 'nhân_văn', 'Mặt', 'ianta', 'màu_da', 'nự', 'Mốc', '”', 'chổi', 'Tiến_quân', 'điện_biên', 'Hát_xẩm', 'trò', 'xác_suất', 'ng', 'sim', 'Dự_Trữ', 'tích_phân', 'thiếu_nhi', 'Hoa_Nhài', 'điện_tín', 'apatit', 'trường_phái', 'hoa_hậu', 'new', 'nhieu', '\\x08nhân', 'Số_nguyên_tố', 'hoach', 'Lãnh_hải', 'sương', 'Bên', 'bóng_điện', 'Dung_dịch', 'thuốc_tím', 'Cơm', 'quân_kỳ', 'Gdp', 'phiên_toà', 'Kiểm_toán', 'Thủ_trưởng', 'Khủng_hoảng_kinh_tế', '\\x08hệ_thống', 'luật_hình_sự', 'Cấu_thành', 'vòi', 'Cá_sấu', 'nước_mặn', 'chúa_sơn_lâm', 'mận', 'gai', 'Tình_trạng', 'đương', 'Quang_phổ', 'biên_chế', 'Thủ_Tướng', 'nông', 'thiên_thần', 'everest', 'nhiên', 'vaò', 'rạch', 'hình_thái_kinh_tế', 'ninh', 'đì', 'Dinh', 'formosa', 'hành_vi', 'Hậu_cần', 'thiêm', 'lỗ', 'Byte', 'bit', 'Đáo', 'nịnh_thần', 'thiên_đường', 'tử_suất', 'dị′′', 'đảng_cộng_sản_Việt_Nam', 'Quán_quân', 'bút_bi', 'vòng_loại', 'cá_thu', 'Chi_phí', 'siêu_vi', 'wolfram', 'tổng_hội', 'bế_mạc', 'bá', 'cáy', 'mắm', 'Sashimi', 'làng_nghề', 'sắc_lệnh', 'Nông_dân', 'air', 'france', 'Xa_lộ', 'soạn_giả', 'Hình_thái', 'chọp', 'punta', 'gorda', 'Thành_Thị', 'đan_mạch', 'i', 'phương_thức', 'buồng_trứng', 'hủ', 'phong_tục', 'Thuỷ_Ba', 'tác_động', 'kai-tak', 'Cấp', 'hộ', 'khí_cầu', 'Rạn', 'hải_dương_học', 'Bộ_máy', 'cung_thánh', 'Quyết_định', 'thẩm_phán', 'nhược_điểm', 'Hồ_chứa_nước', 'YxineFF', 'zayed', 'quý_phi', 'riel', 'Đèn_lồng', 'năm_âm_lịch', 'ngoài_trời', 'cá_chép', 'thập_kỷ', 'sinh_thời', 'vọng', 'Đá', 'Nguyên_quán', 'luận_án', 'văn_khoa', 'cây_thân_gỗ', 'đổng', 'Chủ_đề', 'Trăn', 'Cựa', 'hậu_môn', 'Giới_tính', 'Màu_sắc', 'quốc_vương', 'ký_sinh_trùng', 'hoàng_tộc', 'Trứng', 'ấp', 'sinh_dục', 'tính_năng', 'Tầng', 'lý_thuyết_lực', 'sinh_lý', 'tràm', 'Elizabeth_II', 'Máy_ảnh', 'đời_mới', 'muối_ăn', 'iốt', 'La_bàn', 'la_bàn', 'Bóng_rổ', 'Bản_đồ_học', 'bản_đồ_học', 'số_liệu', 'Na_Bon', 'united', 'Ninh_Chử', 'lỡ_cơ', 'Phù_Sai', 'Tài_sản', 'quốc_phục', 'Nhôm', 'Chỉ_thị', 'chỉ_thị', 'Trà', 'trà', 'nhài', 'carat', 'Tính_chất', 'Xe_lửa', 'chuồng', 'tháng_nuôi', 'grab', 'tuỷ_sống', 'thuật', 'Brochure', 'mandeville', 'nòng', 'Thứ_hạng', 'cầu_lông', 'bán_kết', 'bóng_chày', 'nghĩa_trang', 'hoả_khí', 'cá_sấu_dương', 'Zing', 'quan_sát_viên', 'apec', 'môn_học', 'chuyên_viên', 'dân_cử', 'tuỷ', 'vân', 'rễ', 'bùn', 'Luiz_Inácio_Lula', 'chủng_loại', 'lư', 'ngạn', 'aspirin', 'pháo_hoa', 'tinh_thần', 'nhẫn', 'tính_cách', 'sừng', 'tê_giác', 'hô_hấp', 'Chúa_tể', 'bản_vẽ', 'lắk', 'nhân_quyền', 'vận_tốc', 'Zing_Me', 'đệ_tử', 'Thân_hữu', 'Nữ_Hướng', 'Luật_dân_sự', 'Tê_giác', 'Hello', 'Sao_Hoả', 'Loại_hình', 'bài_tây', 'gốc_từ', '\\x1dBộ', 'Quỹ_đạo', 'khmer', 'thiên_đỉnh', 'ngọ', 'sườn', 'Sóc', 'vự', 'Múa', 'sạp', 'nhà_kính', '\\x1dHoa', 'noel'])"
            ]
          },
          "execution_count": 19,
          "metadata": {},
          "output_type": "execute_result"
        }
      ],
      "source": [
        "pos_synonym_list.keys()"
      ]
    },
    {
      "cell_type": "code",
      "execution_count": null,
      "metadata": {
        "id": "xmrmp_KgR92y"
      },
      "outputs": [],
      "source": [
        "class_names = ['False', 'True']\n",
        "\n",
        "def infer(text1, text2, tokenizer, max_len=128):\n",
        "    #text1 = word_segment(text1)\n",
        "    #text2 = word_segment(text2)\n",
        "    encoded_review = tokenizer(\n",
        "        text1,\n",
        "        text2,\n",
        "        max_length=max_len,\n",
        "        truncation=True,\n",
        "        add_special_tokens=True,\n",
        "        padding='max_length',\n",
        "        return_attention_mask=True,\n",
        "        return_token_type_ids=False,\n",
        "        return_tensors='pt',\n",
        "    )\n",
        "\n",
        "    input_ids = encoded_review['input_ids'].to(device)\n",
        "    attention_mask = encoded_review['attention_mask'].to(device)\n",
        "\n",
        "    output = model(input_ids, attention_mask)\n",
        "    _, y_pred = torch.max(output, dim=1)\n",
        "\n",
        "    #print(f'Text1: {text1}')\n",
        "    #print(f'Text2: {text2}')\n",
        "    #print(f'Is_equivalence: {class_names[y_pred]}')\n",
        "    return y_pred.item()"
      ]
    },
    {
      "cell_type": "code",
      "execution_count": null,
      "metadata": {
        "id": "-23Z4zxPGRda"
      },
      "outputs": [],
      "source": [
        "class_names = ['False', 'True']\n",
        "\n",
        "def infer1(tmp_dict, tokenizer, max_len=128):\n",
        "    #text1 = word_segment(text1)\n",
        "    #text2 = word_segment(text2)\n",
        "    encoded_review = tokenizer(\n",
        "        tmp_dict['text1'],\n",
        "        tmp_dict['text2'],\n",
        "        max_length=max_len,\n",
        "        truncation=True,\n",
        "        add_special_tokens=True,\n",
        "        padding='max_length',\n",
        "        return_attention_mask=True,\n",
        "        return_token_type_ids=False,\n",
        "        return_tensors='pt',\n",
        "    )\n",
        "\n",
        "    input_ids = encoded_review['input_ids'].to(device)\n",
        "    attention_mask = encoded_review['attention_mask'].to(device)\n",
        "\n",
        "    output = model(input_ids, attention_mask)\n",
        "    _, y_pred = torch.max(output, dim=1)\n",
        "\n",
        "    #print(f'Text1: {text1}')\n",
        "    #print(f'Text2: {text2}')\n",
        "    #print(f'Is_equivalence: {class_names[y_pred]}')\n",
        "    return y_pred"
      ]
    },
    {
      "cell_type": "code",
      "execution_count": null,
      "metadata": {
        "colab": {
          "background_save": true,
          "base_uri": "https://localhost:8080/"
        },
        "id": "2TKF7Yx9Czwm",
        "outputId": "21b4b210-550f-4a08-c005-80e8d6a04486"
      },
      "outputs": [
        {
          "name": "stderr",
          "output_type": "stream",
          "text": [
            "100%|██████████| 4237/4237 [5:08:18<00:00,  4.37s/it]\n"
          ]
        }
      ],
      "source": [
        "synonym_dict = {}\n",
        "\n",
        "batch_sentence = {\n",
        "    'text1': [],\n",
        "    'text2': []\n",
        "}\n",
        "\n",
        "word_and_prob = {\n",
        "    'word': [],\n",
        "    'prob': [],\n",
        "    'sentence': []\n",
        "}\n",
        "\n",
        "batch_size = 0\n",
        "cnt = 0\n",
        "\n",
        "for key in tqdm(pos_synonym_list.keys()):\n",
        "  small_synonym_dict = {}\n",
        "  for sub_key in pos_synonym_list[key]:\n",
        "    for i in range(len(pos_synonym_list[key][sub_key])):\n",
        "      pos_synonym_word = pos_synonym_list[key][sub_key][i][0]\n",
        "      if pos_synonym_word in punctuation_set:\n",
        "        continue\n",
        "      \n",
        "      synonym_score = pos_synonym_list[key][sub_key][i][1]\n",
        "      sentence = sub_key.replace(key, pos_synonym_word)\n",
        "\n",
        "      if batch_size < 16:\n",
        "        batch_sentence['text1'].append(sub_key)\n",
        "        batch_sentence['text2'].append(sentence)\n",
        "        word_and_prob['word'].append(pos_synonym_word)\n",
        "        word_and_prob['prob'].append(synonym_score)\n",
        "        word_and_prob['sentence'].append(sub_key)\n",
        "\n",
        "        batch_size += 1\n",
        "        cnt += 1\n",
        "      else:\n",
        "        batch_size = 0\n",
        "        list_similarity_score = infer1(batch_sentence, tokenizer)\n",
        "        batch_sentence['text1'] = []\n",
        "        batch_sentence['text2'] = []\n",
        "\n",
        "        for k in range(len(list_similarity_score.tolist())):\n",
        "          similarity_score = list_similarity_score.tolist()[k]\n",
        "          if similarity_score == 1:\n",
        "            if word_and_prob['sentence'][k] in small_synonym_dict.keys():\n",
        "              if word_and_prob['word'][k] not in small_synonym_dict[word_and_prob['sentence'][k]].keys():\n",
        "                small_synonym_dict[word_and_prob['sentence'][k]][word_and_prob['word'][k]] = word_and_prob['prob'][k]\n",
        "            else:\n",
        "              small_synonym_dict[word_and_prob['sentence'][k]] = {word_and_prob['word'][k]: word_and_prob['prob'][k]}\n",
        "\n",
        "        word_and_prob['word'] = []\n",
        "        word_and_prob['prob'] = []\n",
        "        word_and_prob['sentence'] = []\n",
        "    \n",
        "    if batch_size > 0:\n",
        "      batch_size = 0\n",
        "      list_similarity_score = infer1(batch_sentence, tokenizer)\n",
        "      batch_sentence['text1'] = []\n",
        "      batch_sentence['text2'] = []\n",
        "\n",
        "      for k in range(len(list_similarity_score.tolist())):\n",
        "        similarity_score = list_similarity_score.tolist()[k]\n",
        "        if similarity_score == 1:\n",
        "          if word_and_prob['sentence'][k] in small_synonym_dict.keys():\n",
        "            if word_and_prob['word'][k] not in small_synonym_dict[word_and_prob['sentence'][k]].keys():\n",
        "              small_synonym_dict[word_and_prob['sentence'][k]][word_and_prob['word'][k]] = word_and_prob['prob'][k]\n",
        "          else:\n",
        "            small_synonym_dict[word_and_prob['sentence'][k]] = {word_and_prob['word'][k]: word_and_prob['prob'][k]}\n",
        "\n",
        "      word_and_prob['word'] = []\n",
        "      word_and_prob['prob'] = []\n",
        "      word_and_prob['sentence'] = []\n",
        "    synonym_dict[key] = small_synonym_dict\n",
        "\n"
      ]
    },
    {
      "cell_type": "code",
      "execution_count": null,
      "metadata": {
        "colab": {
          "background_save": true
        },
        "id": "fwdMdBicKcR_"
      },
      "outputs": [],
      "source": [
        "with open(\"/content/drive/MyDrive/Final Project Zalo Internship/Final Project/Categorized vocab (No Trec57)/list_of_synonym.json\",\"w\", encoding='utf-8') as jsonfile:\n",
        "    json.dump(synonym_dict,jsonfile,ensure_ascii=False, indent=2)"
      ]
    },
    {
      "cell_type": "code",
      "execution_count": 10,
      "metadata": {
        "id": "XjhYF5q-eeRL"
      },
      "outputs": [],
      "source": [
        "import json\n",
        "synonym_file = open('/content/drive/MyDrive/Final Project Zalo Internship/Final Project/Categorized vocab (No Trec57)/list_of_synonym.json', encoding='utf-8')\n",
        "synonym_dict = json.loads(synonym_file.read())"
      ]
    },
    {
      "cell_type": "code",
      "source": [
        "synonym_dict.keys()"
      ],
      "metadata": {
        "colab": {
          "base_uri": "https://localhost:8080/"
        },
        "id": "Y7stAAKG2ASc",
        "outputId": "bae42de0-81f3-4649-ca36-4d4c6388ec35"
      },
      "execution_count": 12,
      "outputs": [
        {
          "output_type": "execute_result",
          "data": {
            "text/plain": [
              "dict_keys(['tổng_sản_phẩm', 'năm', 'nội_địa', 'Chỉ_số', 'Tổng_sản_phẩm', 'Cộng_hoà_Trung_Phi', 'chỉ_số', 'khu_vực', 'Tổng', 'giá_trị', 'nước', 'Thành_phố', 'Ma', 'tỉ_lệ', 'triệu_phú', 'Năm', 'đầu', 'người', 'thu_nhập', 'Thu_nhập', 'khoảng', 'châu', 'mã_số', 'điện_thoại', 'Mã_số', 'quốc_tế', 'Nước', 'quốc_gia', 'Mã', 'dân_số', 'số', 'dân', 'Tỉnh', 'Dân_số', 'tỉnh', 'hiện_nay', 'Huyện', 'hiện_tại', 'thời_điểm', 'đất_nước', 'Hiện', 'Số', 'Tổng_số', 'huyện', 'tháng', 'Cộng_hoà', 'tp', 'thành_phố', 'thế_giới', 'cuối', 'dân_chính', 'xác', 'vịnh', 'cộng_hoà', 'nhân_dân', 'Hiện_nay', 'quận', 'vùng', 'đô_thị', 'Hiện_tại', 'núi', 'vương_quốc', 'Quận', 'hiện', 'Vịnh', 'tổng', 'thủ_đô', 'dân_cư', 'Thủ_đô', 'đồng_bằng', 'sông', 'Dân_chủ', 'mo', 'Số_lượng', 'đân', 'đảo', 'Mật_độ', 'mật_độ', 'Thế_giới', 'Múi_giờ', 'múi_giờ', 'thứ', 'múi', 'Tác_giả', 'bộ', 'truyện_tranh', 'Ngư', 'tiều', 'y_thuật', 'tác_phẩm', 'Người', 'tác_giả', 'tiểu_thuyết', 'quốc_ca', 'hoạ', 'hồ', 'thiên_nga', 'Quốc_ca', 'tranh', 'nhạc_sĩ', 'opera', 'Cô', 'tượng', 'thép', 'Bộ', 'manga', 'truyện', 'truyền_kỳ', 'trai', 'chí', 'dị', 'lịch', 'triều', 'hiến_chương', 'loại', 'unikey', 'Tiểu_thuyết', 'Thần', 'điêu', 'hiệp', 'lữ', 'hồng_lâu', 'mộng', 'bài', 'quốc_kì', 'Tác_phẩm', 'tuổi_thơ', 'ông_tổ', 'ca_trù', 'thần', 'lời', 'Dạ', 'lang', 'nhà_thờ', 'đức_bà', 'nhạc_phẩm', 'huy_hiệu', 'đoàn', 'Nhạc_sĩ', 'câu_thơ', 'dưới', 'tướng_sĩ', 'toán_pháp', 'tập', 'thơ', 'tù', 'Bài', 'thơ_Nôm', 'quốc', 'diễn_nghĩa', 'ký_sự', 'ngôn_ngữ', 'thư', 'kịch_bản_phim', 'sách', 'ngôn_ngữ_lập_trình', 'thám_tử', 'Truyện_Kiều', 'binh_pháp', 'bộ_luật', 'Ván', 'Thuyết_tương_đối', 'truyện_ngắn', 'lá', 'nhà_thơ', 'quốc_kỳ', 'Truyền_kỳ', 'mạn', 'đèn', 'Tiểu_đoàn', 'đá', 'phù_thuỷ', 'ngày', 'thời_gian', 'Truyện_tranh', 'khi', 'Chiến_thắng', 'ngày_tháng', 'Bản', 'giao_hưởng', 'Liêu', 'chiều', 'gió', 'lần', 'Ngôn_ngữ', 'sữa', 'Phần', 'phim', 'thế_kỷ', 'Phim', 'gia_đình', 'Album', 'cốc', 'lửa', 'Chữ_Nôm', 'lái_đò', 'darwin', 'loài', 'xạ', 'mông', 'đại_cáo', 'tâm', 'Nội_dung', 'ý_nghĩa', 'nội_dung', 'Thông_tin', 'thuyết_tương_đối', 'điều', 'Dư_địa_chí', 'bát', 'Chuyện', 'con', 'gái', 'Cốt_truyện', 'rừng', 'xà', 'rùa', 'trận', 'chim', 'te_te', 'ba_ba', 'cây', 'đồng_hồ', 'cái', 'hoa', 'mai', 'cu', 'tổng_thống', 'vua', 'mẹ', 'má', 'bố', 'cha', 'tía', 'công_ty', 'gà', 'heo', 'Máy', 'khí_hậu', 'Dòng_điện', 'Tấm_Cám', 'tứ_giác', 'nội_tiếp', 'Máy_in', 'Cu', 'rốc', 'hành_tinh', 'kinh_tế', 'cò_lả', 'Khái_niệm', 'mèo', 'Trợ_lý', 'hình_tam_giác', 'Chó', 'mặt', 'sệ', 'tính', 'sinh_vật', 'Hiệp_ước', 'bạo_chúa', 'Phong_trào', 'Số_đề', 'công_nghệ', 'de', 'bò', 'bạc', 'Hội_nghị', 'Bệnh', 'vẩy_nến', 'Giao_dịch', 'kỳ_hạn', 'xe', 'máy_tính', 'đầm_phá', 'vòi_rồng', 'Công_nghiệp', 'Công_nguyên', 'Ngọc_trai', 'Mao_mạch', 'Hiện_tượng', 'thuỷ_triều', 'hệ_thống', 'vệ_tinh', 'toàn_cầu', 'Chu_vi', 'hình_tròn', 'thông_tin', 'cung', 'minh', 'mõ', 'Sốt_xuất_huyết', 'Bitcoin', 'cổng', 'mặt_trời', 'Ban', 'Trung_ương', 'Nhà_nước', 'bảng_tuần_hoàn', 'hình', 'quyền', 'ngựa_ô', 'báp', 'nho', 'ngân_hàng', 'áo_dài', 'Gia_đình', 'thương_vụ', 'lữ_đoàn', 'công_binh', 'Euro', 'mưa', 'axít', 'nguyên_tố_hoá_học', 'Hiệp_hội', 'bão', 'Mặt_Trời', 'sở', 'thú', 'Bóng_đá', 'biển', 'Lễ_tết', 'tâm_linh', 'sóng', 'Futsal', 'Bầu_cử', 'ký_hiệu', 'Điện_toán', 'mây', 'máy', 'Tư_tưởng', 'Hiệu_điện_thế', 'điện_toán', 'Gió', 'hiện_tượng', 'vật_lý', 'Thẩm_thấu', 'lê_bê', 'Đèn', 'sợi', 'kim', 'giờ', 'Nhà_xuất_bản', 'Chủ_nghĩa_tư_bản', 'Quyền_lực', 'đông', 'thảo', 'Rối_loạn', 'Ngày', 'xuân', 'phân', 'hình_thoi', 'nhà', 'Zalo', 'Gấu_trúc', 'SEA_Games', 'Lao_động', 'dota', 'định_nghĩa', 'môi_trường', 'Web', 'con_trỏ', 'Trái_phiếu', 'zing', 'Nạn', 'Chiến_tranh_lạnh', 'củ', 'nhân_sâm', 'Di_truyền_học', 'Ánh_sáng', 'nguyên_lý', 'cực_hạn', 'Bảng', 'Hệ', 'hành_chính', 'Nón', 'lý_thuyết', 'dịch_vụ', 'thể_chất', 'Đội', 'chó', 'Kĩ_thuật', 'bóng_chuyền', 'công', 'Giờ', 'Đơn_vị', 'huyết_áp', 'visual', 'basic', 'Liên_minh', 'công_nghệ_thông_tin', 'the', 'từ_trường', 'đạo_luật', 'clo', 'dioxit', 'Kinh_tế_thị_trường', 'Môn', 'lịch_sử', 'Gà', 'Bào_ngư', 'Bạch_Mã', 'sự_kiện', 'Quyền_sở_hữu', 'chuột_túi', 'nhà_nước', 'Cúng', 'mụ', 'Protein', 'Khối_lượng', 'Hạn_ngạch', 'Một_mạch', 'di_truyền_học', 'tế_bào', 'Tụ_điện', 'Bộ_đội', 'Biên_phòng', 'Độ', 'thuật_toán', 'Vòi_rồng', 'cơ_sở_dữ_liệu', 'Kim_cương', 'bút_chì', 'axit', 'Hình_thang', 'Internet', 'Thiên_đường', 'thuế', 'Văn_bản', 'quy_phạm_pháp_luật', 'Quân_hàm', 'Quang_hợp', 'tensorflow', 'Xã', 'Bánh_chưng', 'bánh', 'tơ', 'bộ_nhớ', 'động_cơ', 'hơi_nước', 'ống', 'đồng', 'di_sản', 'văn_hoá', 'vật_thể', 'ếch', 'Kháng_sinh', 'mùng', 'Phơi', 'phân_loại_học', 'khu', 'Chủ_thể', 'siam', 'dách', 'Cơ_sở_dữ_liệu', 'Mô_hình', 'Ôxy', 'mức', 'hoà_bình', 'nhóm', 'Miễn_dịch', 'Tụ', 'thiên_văn_học', 'Lỗ_đen', 'Thông_tư', 'luật', 'chất', 'Phổ', 'Độc', 'cô', 'cầu', 'Anime', 'toàn_phần', 'tổ_chức', 'Nhà_thờ', 'Tháp', 'Kênh', 'Toà', 'Đền', 'Cầu', 'công_trình', 'trường', 'đại_học', 'Chùa', 'Báo', 'Lăng', 'Cố_đô', 'Cảng', 'giai_đoạn', 'Dự_án', 'hồi', 'Hầm', 'thẩm', 'Bến', 'Nhà_hát', 'toà', 'nghĩa', 'Landmark', 'Chiều', 'Núi', 'Phan_Xi_Păng', 'Kim_tự_tháp', 'nhiêu', 'Bà', 'Sông', 'tigris', 'độ', 'hoàng', 'hà', 'lương', 'vàm', 'Cỏ', 'thời', 'tên', 'Tên', 'dân_chủ', 'Thủ_Đô', 'chỗ', 'biệt_danh', 'Ngoài', 'Tiểu', 'châu_lục', 'Nam_sudan', 'Châu_lục', 'bermuda', 'Đảo', 'miền', 'địa_lý', 'lục_địa', 'Đất_nước', 'Quần_đảo', 'Nền', 'Đồng_tiền', 'Tiền_tệ', 'tiền', 'đơn_vị_tiền_tệ', 'tiền_tệ', 'Người_dân', 'Tương_lai', 'Tỷ_lệ', 'Tỷ_suất', 'sinh_đẻ', 'Tỉ_lệ', 'con_người', 'Chỗ', 'Nơi', 'đỉnh', 'vị_trí', 'Vị_trí', 'Quốc_gia', 'nơi', 'địa_hình', 'hát', 'lạm_phát', 'tiếng', 'bắc', 'người_dân', 'The', 'diện_tích', 'Tuổi_thọ', 'Tuổi', 'tuổi_thọ', 'tuổi', 'trung_bình_cộng', 'cá_voi', 'Điểm', 'Vùng', 'điểm', 'Vực', 'hôn_nhân', 'nam', 'nữ', 'luật_pháp', 'sự', 'công_dân', 'người_lớn', 'khẩu_hiệu', 'Khẩu_hiệu', 'Bang', 'việc', 'tỷ_lệ', 'Lễ', 'đền', 'thế_vận_hội_mùa', 'thế_vận_hội_mùa_hè', 'Chợ_nổi', 'mùa', 'Trận', 'chung_kết', 'sân_vận_động', 'Cuộc', 'Lễ_hội', 'voi', 'Kỳ', 'phong_kiến', 'Tuần_lễ', 'hội_nghị', 'lễ', 'giải', 'xã', 'World_Cup', 'cấp', 'tỉnh_thành', 'Chiến_tranh', 'ban', 'world_cup', 'Lãnh_đạo', 'Thế_vận_hội_Olympic', 'Seagames', 'cách_mạng_công_nghiệp', 'Đại_hội', 'vận_hội', 'bóng_đá', 'Olympic', 'thể_thao', 'Seagame', 'thời_đại_đồ_đá', 'Chiến_Tranh', 'Diễn_đàn', 'Khu_vực', 'nhà_giáo', 'hàng', 'đội_tuyển', 'diễu_binh', 'Giải', 'trâu', 'Kì', 'khoa_bảng', 'Đêm', 'Sự_kiện', 'quốc_hội', 'khoá', 'bầu', 'Quốc_hội', 'đầu_vào', 'đám_cưới', 'vợ', 'thương_mại', 'Điện_ảnh', 'kỷ_niệm', 'Cách_mạng', 'Chiến_dịch', 'Khi', 'miếu', 'Quốc_tế', 'Thể_thao', 'Tháng', 'chay', 'Hội', 'nghĩa_quân', 'chiến_tranh', 'biên_giới', 'cuộc', 'vô_địch', 'cờ_vua', 'Lần', 'Thế_vận_hội', 'Tục_lệ', 'thực_dân', 'thầy_thuốc', 'Thời_kỳ', 'cổ_đại', 'bữa', 'sinh_viên', 'giá', 'Quan_điểm', 'bạn', 'vắc_xin', 'thịt', 'động_lực', 'Điều', 'Cổ_đông', 'phổ_thông', 'cổ_đông', 'biểu_quyết', 'nhân_viên', 'văn_bằng', 'kỹ_sư', 'mã', 'trí', 'cảm_xúc', 'khía_cạnh', 'toán_học', 'vũ_trụ', 'vật_chất', 'năng_lượng', 'Kỹ_năng', 'nhà_khoa_học', 'dữ_liệu', 'lực', 'tối', 'hoạt_động', 'Hệ_thống', 'giáo_dục', 'lý_tưởng', 'Thực_trạng', 'xe_máy', 'xe_gắn_máy', 'Phó', 'thủ_tướng', 'thành_viên', 'nhện', 'tổ', 'gương', 'chiếu', 'Sự', 'máy_tính_xách_tay', 'máy_tính_để_bàn', 'điện_tử', 'Trình_bày', 'nội_chiến', 'Điều_kiện', 'Đối_tượng', 'đất', 'phèn', 'kiến_trúc', 'vòm', 'Nhân_quyền', 'dân_tộc', 'Tín_ngưỡng', 'tất_niên', 'trọng_lượng', 'ngôi_sao', 'byte', 'Học_viện', 'Xu_hướng', 'Bạn', 'võ_thuật', 'khái_niệm', 'Diện_tích', 'vi_khuẩn', 'tôn_giáo', 'đức_tin', 'kết_quả', 'Rác_thải', 'Tải_trọng', 'đồng_thau', 'không_gian', 'tốc_độ', 'bản_thân', 'tệ_nạn', 'xã_hội', 'tai', 'Giả_thuyết', 'cuộc_đời', 'chủ_tịch', 'giữa', 'án', 'tử_hình', 'khung_hình_phạt', 'thác', 'thượng_nguồn', 'nhau', 'chỉ_huy', 'vũ_khí_sinh_học', 'thỏ', 'vệ_sinh', 'lượng_tử', 'lỗ_đen', 'dạng', 'Học_bổng', 'chính_phủ', 'Kim_loại', 'xu_hướng', 'ion', 'thị_trường_chứng_khoán', 'tương_lai', 'đảng', 'súng', 'cách_mạng', 'sau', 'Văn_hoá', 'phòng', 'Nguyên_nhân', 'giới', 'chế_độ', 'chủng_tộc', 'Hướng', 'phía', 'triết_gia', 'cư_dân', 'lỗi', 'Lạc_đà', 'nước_biển', 'nhu_cầu', 'nền_móng', 'mặt_đất', 'tàu', 'phụ_nữ', 'rèm', 'nhiếp_chính', 'chương_trình', 'khoa_học', 'chữ_số', 'pi', 'Chủ_nghĩa', 'phép', 'viện', 'truyền_thông', 'khoảng_cách', 'tim', 'cơ_thể', 'nhà_phân_tích', 'địa_chính_trị', 'hệ_sinh_thái', 'rắn', 'mèo_tam_thể', 'Triết_học', 'Đảng', 'cơ_quan', 'lãnh_đạo', 'Chính_quyền', 'ảnh_hưởng', 'chính_trị', 'cá_nhân', 'cơ_hội', 'chiến_thắng', 'ma_tuý', 'Luật', 'nguồn_gốc', 'hố_đen', 'Đồng_tính', 'bệnh', 'phép_thuật', 'Vấn_nạn', 'dâm', 'trẻ_em', 'cửa_hàng', 'đô_la', 'dư_thừa', 'thư_điện_tử', 'toàn_quốc', 'phần', 'hình_dáng', 'não', 'động_vật', 'Ý_nghĩa', 'tài_sản', 'khí_quyển', 'mộ', 'mồ_mả', 'đáy', 'học_thuật', 'giấy', 'đóng_góp', 'Cây', 'rau_dền', 'huyết_dụ', 'diệp_lục', 'quang_hợp', 'crore', 'khí_thải', 'cách', 'cấu_trúc', 'nhiễm_sắc_thể', 'Công_việc', 'Trọng_tâm', 'vua_chúa', 'Cách', 'hệ', 'chủ', 'Nhà', 'chiêm_tinh', 'tội_phạm', 'mạng', 'bàn', 'Phạm_vi', 'công_việc', 'mô_hình', 'Nữ_hoàng', 'Nguyên_tắc', 'Pin', 'ánh_sáng', 'anh_em', 'Tình_hình', 'hối_lộ', 'Sách', 'mục_tiêu', 'kỹ_thuật', 'mồm', 'giống', 'chữ', 'ý_thức', 'sức_khoẻ', 'kim_loại', 'Gió_mùa', 'đặc_điểm', 'mức_độ', 'máy_bay', 'từ_ngữ', 'phẳng', 'machiavellianism', 'hiệu_quả', 'ngày_nay', 'sân_chơi', 'âm_nhạc', 'quần', 'quân_sự', 'Rupee', 'phương_tiện', 'hôm_nay', 'màu', 'trứng', 'trước', 'bướm', 'môn', 'vedic', 'Bản_chất', 'trò_chơi', 'điện_thoại_di_động', 'Thị_trường', 'cácbon', 'vũ', 'electron', 'kính_hiển_vi', 'truyền_thống', 'gián_điệp', 'lớp', 'sự_cố', 'Kinh_nghiệm', 'hợp_đồng', 'Trụ_sở', 'Viêm', 'ruột_thừa', 'biểu_trưng', 'Sinh_viên', 'Cá_voi', 'Hành_vi', 'trường_học', 'Lưu_huỳnh', 'Quan_niệm', 'pytago', 'loài_người', 'sradarcom', 'nhà_tù', 'địa_điểm', 'hình_cầu', 'Ra_đời', 'Thế_chiến', 'lý_do', 'côn_trùng', 'câu', 'bản_chất', 'giải_pháp', 'nguồn', 'nước_ngầm', 'vv', 'neet', 'Mối', 'quan_hệ', 'kho', 'Chủ_nghĩa_tự_do', 'tết_âm_lịch', 'tình_trạng', 'Ngựa', 'chuột_nhắt', 'nhịp', 'Nhân_viên', 'Ngân_hàng', 'giáp', 'đơn_vị', 'quân_đội', 'vấn_đề', 'men', 'coagulase', 'Toán_học', 'Loại', 'nhà_tư_tưởng', 'bang', 'sĩ_quan', 'hải_quân', 'Hồ', 'pushto', 'vật', 'sách_đỏ', 'cơ_sở', 'Cá', 'nước_ngọt', 'bộ_não', 'thần_học', 'Trang_web', 'mặt_trăng', 'sao_Hoả', 'điểm_số', 'nông_nghiệp', 'Mặt_trời', 'thực_vật', 'vi_sinh_vật', 'Bộ_trưởng', 'loại_hình', 'tóc', 'Giá_trị', 'nợ', 'quỹ', 'đất_liền', 'lực_lượng', 'biện_hộ', 'kinh', 'Quả', 'đoạn', 'võ_đường', 'phần_trăm', 'kỳ', 'cbse', 'vi_sinh', 'nguy_hiểm', 'Đạo_đức', 'giáo', 'thái', 'Vấn_đề', 'Lĩnh_vực', 'phạm_vi', 'công_nghệ_sinh_học', 'giáo_sư', 'hình_dạng', 'khung', 'muôn_hình_muôn_vẻ', 'bằng_chứng', 'Con_người', 'Nhện', 'sức_mạnh', 'Chế_độ', 'mẫu_hệ', 'cỏ', 'Khoảng_cách', 'ngựa', 'nhận_xét', 'sinh_quyển', 'tồn', 'chính_sách', 'hoàng_hôn', 'Hạt_nhân', 'chủ_đề', 'hoá_học', 'thân_thể', 'xương_sống', 'ridged', 'thành_tựu', 'nhân_vật', 'combo', 'quý', 'ko', 'vật_lí', 'hiến_pháp', 'rồng', 'phù_du', 'hình_thức', 'kỉ_luật', 'kẻ', 'ngoại_đạo', 'âm_thanh', 'thành_phần', 'Bằng_cấp', 'quá_trình', 'ý_tưởng', 'bên', 'phiếu', 'áo', 'cảnh_tượng', 'vòng_tròn', 'yếu_tố', 'nguy_cơ', 'neutered', 'tài_khoản', 'khối', 'Doanh_nghiệp', 'trung_ương', 'Sức_mua', 'cảnh_báo', 'tỷ_giá_hối_đoái', 'đồng_loại', 'Trung_tâm', 'thập_tự_chinh', 'xi', 'lô', 'Giáo_phận', 'địa_chỉ', 'Địa_chỉ', 'nội_thành', 'Đại_học', 'tháp', 'đại_nội', 'văn_miếu', 'uỷ_ban_nhân_dân', 'công_viên', 'công_viên_nước', 'chùa', 'Văn_miếu', 'suối', 'Công_viên', 'Ví', 'Đại_nội', 'Đồng_bằng', 'Biển', 'lãnh_thổ', 'Lãnh_thổ', 'cây_số', 'quần_đảo', 'Vùng_biển', 'chủ_quyền', 'mét_vuông', 'xưa', 'vùng_biển', 'Duyên_hải', 'vuông', 'hải_lý', 'cảnh_sát', 'Khu', 'công_nghiệp', 'Sân_bay', 'Sa_mạc', 'bàng', 'thị_xã', 'nội', 'thuỷ', 'Nội_thành', 'địa', 'hải', 'hecta', 'Rừng', 'bề_mặt', 'quảng_trường', 'tây', 'bán_đảo', 'balkan', 'bao', 'Eo_biển', 'Vinh', 'tích', 'nam_định', 'sân_bay', 'địa_phận', 'Biên_giới', 'đường', 'đại_dương', 'Cột', 'Vương_quốc', 'danh', 'Trung_du', 'Bắc', 'địa_danh', 'tình', 'hồ_chí_minh', 'Đường', 'Thành_Vatican', 'Toạ_độ', 'Kinh_độ', 'vĩ_độ', 'Vĩ_độ', 'vĩ_tuyến', 'địa_lí', 'bản_đồ', 'toạ_độ', 'Vĩ_tuyến', 'kinh_độ', 'Đặc_điểm', 'Lịch_sử', 'bưu_điện', 'Chi_tiết', 'Nét', 'Phố', 'Cửa', 'Âm_nhạc', 'nền', 'hang', 'thuộc_quốc_gia', 'Vườn', 'Thượng_nguồn', 'văn_minh', 'Mũi_Hảo_Vọng', 'Bãi', 'danh_lam_thắng_cảnh', 'Vườn_quốc_gia', 'Cù_Lao', 'làng', 'Nhà_máy', 'thuỷ_điện', 'ngói', 'Thành_đoàn', 'Cao_nguyên', 'Thị_xã', 'tỉnh_lỵ', 'thị_trấn', 'tư', 'Quân_cảng', 'Đại_La', 'hải_dương', 'Công_nghệ', 'Bưu_chính', 'Viễn_thông', 'Động', 'di_tích', 'Giáo_dục', 'Vườn_Quốc_gia', 'vườn_quốc_gia', 'Phật_Tích', 'Kinh_đô', 'Sân_vận_động', 'vùng_sâu_vùng_xa', 'Y_tế', 'Công_cộng', 'Đại_sứ_quán', 'Bến_xe', 'Đèo', 'tam_giác', 'quỷ', 'Khủng_long', 'Thánh_địa', 'Thiên_Đường_động', 'danh_thắng', 'cờ', 'Căn_cứ', 'địa_phương', 'Làng', 'Mộ', 'cụ', 'Công_trình', 'cao_nguyên', 'Cửa_biển', 'phố', 'Bảo_tàng', 'dân_tộc_học', 'rậm', 'Hoàng_thành', 'Thành_Phố', 'quần_thể', 'Nhà_tù', 'kinh_đô', 'Nghĩa_Trang', 'cổ', 'Phanxipang', 'phương', 'Quảng_trường', 'thời_đại', 'Hội_quán', 'Thủ_phủ', 'Lăng_Bác', 'Cửa_khẩu', 'hải_đăng', 'vùng_đất', 'Trại_giam', 'cực', 'trọng_điểm', 'du_lịch', 'phần_mềm', 'đồi', 'trung_thu', 'tuyết', 'Hòn', 'ngọc', 'trước_đây', 'địa_bàn', 'chợ_nổi', 'Hàng', 'hàng_đầu', 'cạnh', 'nhà_máy', 'đậu', 'Núi_non', 'bảo_tàng', 'nguyễn_văn', 'Câu_lạc_bộ', 'Đảo_quốc', 'Cung_điện', 'cồn_cỏ', 'Thôn', 'Tượng_đài', 'hạ_lưu', 'Lăng_mộ', 'Di_tích', 'tổ_tiên', 'giám_đốc', 'giám_đốc_điều_hành', 'tổng_giám_đốc', 'Tổng_giám_đốc', 'Hội_đồng', 'Giám_đốc', 'Tập_đoàn', 'cánh', 'việt', 'The_Trump_Organization', 'Công_ty', 'Đường_sắt', 'Tổng_công_ty', 'Liên_đoàn', 'Cổ_phần', 'trách_nhiệm', 'hữu_hạn', 'Dầu_khí', 'Cơ_quan', 'Năng_lượng', 'Chủ_tịch', 'tập_đoàn', 'tài_chính', 'Thời_điểm', 'thị_trường', 'Thời_gian', 'lúc', 'Hội_thánh', 'Cảnh_sát', 'hội', 'Tổ_chức', 'Hải_quân', 'Công_an', 'Quân_đội', 'Công_Thương', 'Lực_lượng', 'Môi_trường', 'Mặt_trận', 'Đoàn', 'Nhà_Văn', 'Tổng_liên_đoàn', 'lao_động', 'thiếu_niên', 'tiền_phong', 'y_khoa', 'Mạng', 'độc_lập', 'đồng_minh', 'lúc_nào', 'Uỷ_ban', 'báo', 'Viện', 'Hải_Dương_học', 'Tháng_VNG', 'chèo', 'Facebook', 'Cộng_đồng', 'Bộ_tư_lệnh', 'sản', 'hình_sự', 'tư_pháp', 'liên_hiệp', 'thanh_niên', 'Hãng', 'Nguyên_tử', 'Ngành', 'Ngày_tháng', 'Chính_phủ', 'zalo', 'công_an', 'YouTube', 'Quân_lực', 'Sở_Giao_dịch', 'nhân', 'cục', 'Hội_chữ_thập_đỏ', 'Kinh_tế', 'than', 'Nhà_sách', 'Cộng_sản', 'hoàng_đế', 'nhà_sáng_lập', 'tạp_chí', 'Cha_đẻ', 'triều_đại', 'Thành_viên', 'cha_đẻ', 'Nhà_sáng_lập', 'đội', 'giải_phóng_quân', 'nhà_văn', 'cộng_sản', 'phái', 'giải_thưởng', 'thiền', 'phật_giáo', 'Đạo_giáo', 'trụ_sở', 'Lợi_nhuận', 'lợi_nhuận', 'nhân_sự', 'Nhân_sự', 'sở_hữu', 'Chủ_sở_hữu', 'chủ_sở_hữu', 'hãng', 'tết', 'mậu', 'Triều_đại', 'quân_chủ', 'Chức', 'quan', 'Pb', 'Loài', 'bò_sát', 'giặc', 'quân', 'thảm_bại', 'trạng_nguyên', 'cường_độ', 'dòng_điện', 'vị', 'Ứng_dụng', 'kẽm', 'ki', 'mét', 'bánh_chưng', 'nguyên_liệu', 'đêm', 'biểu_tượng', 'Thầy', 'Phí', 'trường_ca', 'đạo', 'phật', 'Động_vật', 'chức', 'Nóc', 'kế_hoạch', 'Tam_Giác', 'bom_nguyên_tử', 'bờ', 'cọ', 'vàng', 'Liên_hoan_phim', 'thuỷ_sản', 'bia', 'Khúc_Thừa_Dụ', 'nghệ_thuật', 'tuồng', 'Danh_tướng', 'binh', 'kích_thước', 'Đĩa', 'đơn', 'Danh_nhân', 'quân_sư', 'chúa_Nguyễn', 'Hổ_phách', 'Pa', 'pỉnh', 'món', 'Tiền', 'Đại_diện', 'Axit', 'sulfuric', 'dịp', 'Tết_Nguyên_đán', 'Tổ_tiên', 'xích_đạo', 'Dòng', 'Chữ_Quốc_ngữ', 'bảng_chữ_cái', 'bóng', 'cúp', 'chị_em', 'nàng', 'Nhà_ga', 'hành_khách', 'Đội_tuyển', 'xe_đạp', 'chặng', 'bán_cầu', 'Tiền_thân', 'Hoan_Châu', 'Nhà_văn', 'kịch', 'Nữ_tướng', 'đàn_bà', 'tơ_lụa', 'trên', 'khối_lượng', 'đá_quý', 'kim_cương', 'định_luật', 'vạn_vật', 'Vua', 'Nguồn_gốc', 'Trước_kia', 'thuỷ_tổ', 'rượu', 'đạo_diễn', 'sáng', 'thầy', 'thất', 'Sóng_điện', 'bước_sóng', 'Vitamin', 'máu', 'thuật_ngữ', 'cửa_khẩu', 'Đại_dương', 'hiện_giờ', 'Danh_hiệu', 'giao_thông', 'bí_thư', 'khu_phố', 'Cao_tốc', 'huyện_thị', 'lưu_vực', 'ngành', 'khí_đốt', 'Tôn_giáo', 'quốc_giáo', 'Máy_tính', 'Ban_đầu', 'sử', 'Bộ_luật', 'Tim', 'cá_sấu', 'ngăn', 'sân_khấu', 'Vật_liệu', 'Dầu_gió', 'Tổng_thống', 'văn_học', 'trăng', 'đường_kính', 'truyền_thuyết', 'khuyết_tật', 'Hình_ảnh', 'lưỡi_liềm', 'Hành_tinh', 'Ngày_nay', 'một_nửa', 'Bờ', 'thủ_lĩnh', 'chính_quyền', 'Ảnh', 'gif', 'thiếu_nữ', 'em', 'bé', 'dãy', 'Tổng_tài', 'nữ_hoàng', 'điện_ảnh', 'Tố', 'làm_gương', 'ranh_giới', 'phong_trào', 'thực_tập_sinh', 'linh', 'phạt_trực_tiếp', 'Hoang_mạc', 'gương_mặt', 'Thầy_giáo', 'trưởng', 'thư_viện', 'Khởi_nghĩa', 'Điệu', 'điệu', 'Quỷ', 'câu_lạc_bộ', 'chân', 'Khoai_lang', 'Nhà_thơ', 'thế_kỉ', 'Vị', 'đại_biểu', 'Thế_kỷ', 'biệt_hiệu', 'đệ', 'động', 'Màu', 'Hoa_lan', 'diễn_viên', 'hè', 'Trục', 'mặt_phẳng', 'iphone', 'tướng', 'Nữ', 'tiến_sĩ', 'quê', 'ngôi_báu', 'niên_hiệu', 'chủ_đạo', 'ngoại_giao', 'đời', 'quốc_hiệu', 'Quốc_giáo', 'Dạ_dày', 'nhiệm_vụ', 'quốc_khánh', 'Hoa', 'cha_mẹ', 'ton', 'lĩnh_vực', 'danh_sách', 'quý_hiếm', 'sốt_rét', 'Cách_Mạng', 'Tiền_giấy', 'Hình', 'tablet', 'Khí_hậu', 'nguyên_phi', 'độ_ẩm', 'Hiến_pháp', 'ngọn', 'núi_lửa', 'phí', 'trạm', 'xì', 'cao_độ', 'Thánh_Gióng', 'Nhóm', 'đỉnh_cao', 'Địa_phận', 'Kẽm', 'ngoại_hối', 'Phạm_nhân', 'tử', 'rô_phi', 'danh_dự', 'sứ', 'Tết', 'Thành_phố_đông', 'cung_trăng', 'Đường_hầm', 'gốc', 'trung_tâm', 'công_suất', 'kiến_trúc_sư', 'Lăng_Thoại_Ngọc_Hầu', 'Đại_tướng', 'bông', 'sen', 'giang_mai', 'tình_dục', 'ngụ_ngôn', 'hổ', 'Danh_pháp', 'hà_mã', 'Mắt', 'Huân_chương', 'Bất_động_sản', 'thuốc_lá', 'ung_thư', 'Tỉnh_lỵ', 'Học_sinh', 'kì', 'Nguyên_tố', 'Hoàng_gia', 'vai_trò', 'bom', 'thứ_bảy', 'tuần_lễ', 'chứng_bệnh', 'tị_nạn', 'Vùng_đất', 'bộ_phận', 'danube', 'Phần_nào', 'cao_su', 'liên_minh', 'sa_mạc', 'đầu_lâu', 'Biểu_tượng', 'cầu_thủ', 'Phụ_nữ', 'nước_lớn', 'luật_chơi', 'Thiếu_nữ', 'Vai_trò', 'nhật_ký', 'hướng_dương', 'đào', 'xứ_sở', 'phong_lan', 'cá_heo', 'động_vật_có_vú', 'Đường_quốc_lộ', 'Nhiệm_vụ', 'thận', 'Đoàn_viên', 'số_lượng', 'trang_phục', 'Đạo', 'chúa', 'màu_sắc', 'nội_ô', 'Blockchain', 'tiềm_năng', 'vành_đai', 'xe_tăng', 'lãnh_tụ', 'Tiếng', 'công_chúa', 'vòng', 'Cơ_quan_quyền_lực', 'Tết_Nguyên_Đán', 'Ca_khúc', 'Tốc_độ', 'Quyền_hạn', 'Nam', 'tuyên_ngôn', 'sự_nghiệp', 'Trọng_lượng', 'tục', 'cá', 'trần', 'Quốc_kỳ', 'chọn_lọc_tự_nhiên', 'hươu_cao_cổ', 'châu_thổ', 'máy_in', 'lade', 'Thuyền_trưởng', 'quê_hương', 'Hoàng_tử', 'suy_tôn', 'trạng', 'clohydric', 'cú', 'khả_năng', 'Công_dụng', 'da_màu', 'thành', 'Hiệu_trưởng', 'ban_đầu', 'Bảng_chữ_cái', 'ký_tự', 'phát_minh', 'Dấu', 'Vận_động_viên', 'vận_động_viên', 'Di_sản', 'ngư_nghiệp', 'Thực_vật', 'Cao_đẳng', 'sư_phạm', 'danh_hiệu', 'quanh', 'Giáo_sư', 'Đoạn', 'kênh', 'tôn', 'hiệu', 'Quốc_hiệu', 'liên_hoan_phim', 'Lực_lượng_vũ_trang', 'Thực_dân', 'đất_đai', 'Chó_ngao', 'Trạng', 'Cửa_hàng', 'Tổng_thư_ký', 'đại_tướng', 'đồng_tiền', 'chồng', 'máy_phát_điện', 'tiền_thân', 'vitamin', 'Nhật_ký', 'hoàn_cảnh', 'thân', 'pháo', 'chiến_dịch', 'Chèo', 'Ký_hiệu', 'Thảo_Cầm_Viên', 'Dầu_mỏ', 'Hiệp_định', 'hòn', 'tỏi', 'Thành_phần', 'phở', 'thủ_phủ', 'hồ_tiêu', 'khoa_cử', 'lửng', 'mật', 'nhân_bản_vô_tính', 'xuất_xứ', 'mỹ_nhân', 'Đặc_sản', 'Cha', 'nghề', 'danh_nhân', 'nhạc', 'Thành_tích', 'Ông_già', 'cách_mạng_tháng_tám', 'tình_yêu', 'Hứa_Chử', 'Cơ_số', 'Thương_hiệu', 'Mục_đích', 'Thủ_tướng', 'Trung_thu', 'lễ_hội', 'tài_năng', 'Chúa_Chổm', 'người_đời', 'ngầm', 'chúa_trời', 'Mẹ', 'Tay', 'chức_năng', 'Hạt', 'hạc', 'Công', 'liên_đoàn', 'bậc', 'lái', 'thần_bí', 'đá_vôi', 'mục_đích', 'vụ', 'phò_tá', 'tuyến', 'thần_thoại', 'vương', 'phật_tử', 'Dân_gian', 'Thời_Hùng_Vương', 'Thiên_thể', 'quốc_phòng', 'hàm', 'Căn_bệnh', 'học_giả', 'Bán_kính', 'quốc_tịch', 'Thiên', 'hang_động', 'Lối', 'mực', 'Rãnh', 'Hoa_hậu', 'Cù_lao', 'Nhân_tài', 'phường', 'dòng', 'Ý_tưởng', 'cảm_hứng', 'phong_cách', 'Luật_hành_chính', 'muối', 'Thủ_lĩnh', 'khởi_nghĩa', 'lương_thực', 'Cầu_thủ', 'thẻ_đỏ', 'Pit', 'bin', 'thể_chế', 'Liên_hiệp', 'Giấm', 'chữ_viết', 'đơn_chất', 'quặng', 'Dân_tộc', 'Công_tử', 'sản_lượng', 'sắn', 'Diễn_biến', 'cuộc_chiến', 'khoai', 'Quốc_vương', 'Con', 'anh_chị_em', 'Ơreka', 'Vật_chất', 'xung_quanh', 'Bầu', 'vải_thiều', 'anh_hùng', 'Cửa_ô', 'bưởi', 'ảnh', 'quá_khứ', 'Thức_ăn', 'đời_sống', 'kem', 'Xứ_Huế', 'tranh_dân_gian', 'bách_khoa_toàn_thư', 'chế_độ_tư_bản', 'Đạo_diễn', 'Cacbon', 'thể', 'điều_kiện', 'hoàng_hậu', 'mũi_nhọn', 'Quốc_kì', 'Hình_học', 'trọng_lực', 'tuần_lộc', 'nguyên_tố', 'điện', 'tính_chất', 'Chim', 'trời', 'lưu_huỳnh', 'lượt', 'tê_tê', 'chương_hồi', 'đại_lượng', 'Chúa_Nguyễn', 'nóc', 'nobel', 'mặt_trận', 'tổ_quốc', 'đội_hình', 'Mộc_bản', 'Trường_Sinh', 'bí_danh', 'bút_danh', 'Hát_văn', 'Khí', 'kỳ_quan', 'Chữ_cái', 'nhiệt_kế', 'Thời_đại', 'liên_quân', 'điện_biên_phủ', 'không', 'nông_dân', 'hội_đồng_nhân_dân', 'Bí', 'tỉnh_uỷ', 'nhà_táng', 'Trạng_nguyên', 'Nhân_vật', 'Mùa', 'anh_đào', 'dầu_mỏ', 'hoàng_gia', 'nhiệt_đới', 'đa_dạng_sinh_học', 'thi_ca', 'Chòm_sao', 'ảo', 'smartphone', 'Địa_hình', 'Dân_tộc_thiểu_số', 'thiên_nhiên', 'mỡ', 'ông', 'Hậu_quả', 'lăng', 'căn_cứ', 'kháng_chiến', 'tác_dụng', 'nữ_thần', 'Hội_Thánh', 'Giáo_hội', 'quyền_lực', 'động_cơ_đốt_trong', 'Logo', 'cơm', 'Tia_UV', 'nguyên_nhân', 'nhánh', 'nhiệt_độ', 'nhôm', 'Chức_vụ', 'Thủ', 'vai', 'Em', 'Chứng', 'Hoạ_sĩ', 'đàng', 'máy_tính_cá_nhân', 'vỏ', 'Năng_suất', 'áp_suất', 'biệt_tài', 'Hoàng_đế', 'dặm', 'Đại_Lộ', 'Tại_sao', 'tư_nhân', 'Troia', 'Ngôi_sao', 'phò_mã', 'Bia', 'Tính_năng', 'thí_nghiệm', 'thám_hoa', 'chức_vụ', 'triều_đình', 'bác_hồ', 'Tiến_sĩ', 'tuần', 'Ong', 'tàu_sân_bay', 'trinh', 'trị_vì', 'cảng', 'thời_kỳ', 'Số_hiệu', 'nguyên_tử', 'họ', 'Noel', 'Nhà_khoa_học', 'thiên_tài', 'vẻ', 'ma_mị', 'trong', 'giải_vô_địch_bóng_đá', 'Chương_trình', 'tên_lửa_đạn_đạo', 'nhà_lãnh_đạo', 'cây_cảnh', 'Hoàn_cảnh', 'rể', 'Hoa_Hậu', 'folic', 'cấu_tạo', 'phân_tử', 'chữ_cái', 'trick', 'mệnh_giá', 'polyme', 'cây_ăn_trái', 'Nhã_nhạc', 'cung_đình', 'vốn', 'trĩ', 'Đất', 'Thuỷ_điện', 'nhiệm_kỳ', 'Trung_học_phổ_thông', 'Vắc_xin', 'vố', 'champion', 'kỷ_lục', 'chiến', 'sân', 'hướng', 'Dụng_cụ', 'storm', 'Nhiệm_kỳ', 'Copernicus', 'thời_kì', 'chuyện', 'nhạc_cụ', 'giai_thoại', 'Chức_năng', 'tổ_tông', 'pháp_luật', 'nhân_tài', 'hơi', 'Lá', 'khoai_lang', 'Chữ_viết', 'đái_tháo_đường', 'Hình_tròn', 'trục', 'cơ_nghiệp', 'đối_tác', 'quang_phổ', 'đằng', 'đảo_quốc', 'sư_tử', 'tầng', 'Tên_lửa', 'phòng_không', 'cự_ly', 'danh_từ', 'Cơ_thể', 'đại_hội', 'đảo_chính', 'thuốc', 'kháng_sinh', 'Đồng', 'chòm_sao', 'Nội_Vụ', 'Sở_Kiều', 'thế_vận_hội_Olympic', 'Vua_Minh_Mạng', 'đình', 'bát_giác', 'khuôn_viên', 'thai', 'khách', 'Món', 'Chữ', 'quốc_trạng_nguyên', 'Lịch', 'can', 'Trưởng', 'tai_nạn', 'đường_bộ', 'màn_hình', 'Chì', 'hải_lưu', 'ngoài', 'tuyến_tiền_liệt', 'hội_hoạ', 'Thiên_Mụ', 'Đội_trưởng', 'Sức', 'Giải_thưởng', 'khí', 'đa_số', 'dân_tộc_thiểu_số', 'Nguy_cơ', 'viêm', 'gan', 'Kỳ_quan', 'rượu_vang', 'bánh_đậu_xanh', 'đặc_sản', 'thần_tượng', 'hiện_thực', 'Đường_bộ', 'bull', 'Nữ_thần', 'kì_quan', 'mặt_nước', 'Ngã', 'Đại_thần', 'liêm_chính', 'Nhà_vật_lý', 'kế', 'cọc', 'gỗ', 'Nghệ_nhân', 'Mèo', 'Nhiệt_độ', 'em_trai', 'Thuốc_trừ_sâu', 'Toà_án', 'biệt_động', 'dân_quân', 'cụ_già', 'Máy_vi_tính', 'Công_dân', 'quốc_tế_ngữ', 'đồng_tính', 'anh_cả', 'xương_rồng', 'Vật_lý', 'thầy_giáo', 'chiến_công', 'sứ_quân', 'Hoa_hồng', 'dân_ca', 'Biệt_danh', 'thứ_sáu', 'công_thương', 'học_sĩ', 'doanh_số', 'công_thức', 'covellit', 'Điện_thoại', 'nhà_sản_xuất', 'đế_quốc', 'Miền', 'Bộ_Luật', 'Tỷ_số', 'Phiên_bản', 'võ', 'Voi', 'Ảnh_hưởng', 'hình_tượng', 'đế', 'đầu_nước', 'Sử_gia', 'Mỏ', 'trữ_lượng', 'tầm', 'kỷ', 'Hợp_chất', 'nhà_vật_lý', 'hạnh_phúc', 'Ga', 'tần_số', 'cổ_động_viên', 'trọng_tài', 'Củ', 'Cờ_tướng', 'hình_vị', 'thánh', 'di_chúc', 'Tướng_quân', 'công_lý', 'đại_sứ', 'thương_hiệu', 'cacao', 'huy_chương', 'Gia_phả', 'tay', 'Phái_đoàn', 'Hang_động', 'Công_ước', 'tem_thư', 'Giao', 'Lời', 'Thân', 'iPhone', 'dịch', 'Mức', 'san_hô', 'chu_kì', 'bàn_thắng_vàng', 'Cuộc_chiến', 'tài_nguyên', 'hậu_thế', 'nguyên_thủ', 'răng', 'sản_vật', 'seagame', 'Quần_thể', 'cố_đô', 'pit', 'Tết_nguyên_đán', 'Lục_địa', 'sư_đoàn', 'khuôn_mẫu', 'Khí_trơ', 'Nhiễm_trùng', 'huyết', 'thuốc_nổ', 'Ngũ', 'hổ_tướng', 'Tổng_trấn', 'flexo', 'Quốc_khánh', 'Rồng_Komodo', 'hữu', 'binh_chủng', 'quyền_hạn', 'Thanh_tra', 'thiên_hà', 'Doanh_thu', 'Đài_Truyền_hình', 'Chẩm', 'gia_vị', 'sao', 'Tập_tục', 'công_chúng', 'kim_tự_tháp', 'giáo_hội', 'công_giáo', 'Thuỷ_ngân', 'phương_pháp', 'tứ', 'hội_thánh', 'trạng_thái', 'ôxi', 'hoá', 'Ruộng_bậc_thang', 'bệnh_dịch', 'hạch', 'Quốc_ngữ', 'Titanic', 'cạn', 'mắt', 'thương_cảng', 'Mỡ', 'phúc', 'kiến', 'quà', 'mốc', 'da', 'Rắn', 'hổ_mang', 'miếu_hiệu', 'Sản_lượng', 'hình_học_giải_tích', 'phiên_bản', 'nhất_thể', 'danh_hoạ', 'Nghi_lễ', 'cộng_đồng', 'tả_ngạn', 'hiệp_định', 'pháo_thủ', 'Mục_tiêu', 'bằng_hữu', 'vương_triều', 'bụng', 'nước_ngoài', 'Phi_hành_gia', 'lực_lượng_vũ_trang', 'phu_tử', 'thể_tích', 'Hổ', 'võ_sĩ', 'Cá_rô_phi', 'võ_công', 'thủ', 'Cồng_Chiêng', 'bộ_tướng', 'toán', 'cá_bơn', 'Nguyên_lý', 'cơ', 'vũ_điệu', 'Mưa', 'Núi_lửa', 'roi', 'đặc_trưng', 'cải_lương', 'tổng_bí_thư', 'Ca_sĩ', 'Bác', 'tên_huý', 'hải_cẩu', 'quán_quân', 'Gương_mặt', 'ca_khúc', 'tiền_chiến', 'Axit_Axetic', 'Chim_cánh_cụt', 'chiến_sự', 'toàn', 'Rùa', 'học_trò', 'Bộ_phận', 'dơi', 'y_tế', 'thi_hào', 'băng', 'chứng_tích', 'Chiến_tích', 'tỷ_phú', 'Đái_tháo_đường', 'tim_mạch', 'cường_quốc', 'Nghề', 'tín_ngưỡng', 'ngôi', 'ong', 'đàn', 'quả', 'địa_cầu', 'Mũ_bảo_hiểm', 'áo_quần', 'Hệ_Mặt_Trời', 'Tết_Âm_lịch', 'Tuyến', 'đường_sắt', 'Quốc_Gia', 'Vụ', 'Thềm_lục_địa', 'thực_phẩm', 'hiệu_ứng', 'quang_điện', 'quan_niệm', 'hình_học', 'Mái', 'hình_chóp', 'nhà_ga', 'Dạng', 'Doanh_số', 'đĩa', 'Nguyên_liệu', 'ngoại_xâm', 'bề', 'mầm', 'không_khí', 'trẻ', 'cơ_đồ', 'căn_cứ_quân_sự', 'hạ_chí', 'dân_gian', 'triều_nguyễn', 'mã_hiệu', 'Ma_cà_rồng', 'mâm', 'ngũ_quả', 'Uỷ_viên', 'vải', 'Bí_thư', 'địa_đạo', 'Lợi_ích', 'thuỷ_lực', 'góc', 'Một_cách', 'quy_mô', 'tàu_hoả', 'sao_vàng', 'lệ', 'khởi_nguồn', 'buổi', 'Chủ_nghĩa_xã_hội', 'nắng', 'ban_mai', 'nhiệm_kì', 'Đảng_bộ', 'Động_cơ', 'Cờ', 'ca_sĩ', 'tàu_điện_ngầm', 'Tây', 'Thuỷ_cung', 'Nguồn', 'Súng_trường', 'Tàu_vũ_trụ', 'Chùm', 'thuốc_phiện', 'lông', 'giao_thừa', 'Đặc_trưng', 'thương_hàn', 'xuất_gia', 'Nhà_hàng', 'thần_công', 'tivi', 'Vua_Hùng', 'sán', 'lợn', 'vũ_khí_hạt_nhân', 'Kết_quả', 'hiệu_lực', 'Bí_danh', 'quận_huyện', 'Lớp', 'ong_thợ', 'xu', 'kinh_thành', 'dự_án', 'thông', 'cánh_tay', 'đồn', 'địch', 'âm_lịch', 'số_một', 'Vạch', 'Truyền_thống', 'nét', 'pin', 'Dấu_tích', 'Gương', 'ô_tô', 'nam_cao', 'bộ_trưởng', 'mối', 'dung_dịch', 'ph', 'Thư_viện', 'sử_thi', 'trăn', 'financial', 'Tam', 'sư', 'khách_sạn', 'sàn', 'chứng_khoán', 'Vợ', 'xứ', 'giảng', 'Tục', 'trạng_Nguyên', 'Máy_bay_trực_thăng', 'cánh_quạt', 'điện_thế', 'Giao_thông', 'phần_lớn', 'kĩ_thuật', 'Cleopatre', 'y_học', 'Mạch', 'nô_lệ', 'bản', 'Chiếu', 'gọi_Nôm', 'đối_tượng', 'anh', 'Phe', 'Ứng_cử_viên', 'đại_diện', 'Quạt_điện', 'Ung_thư', 'Xương_rồng', 'dấu_tích', 'trước_kia', 'đường_bay', 'học_sinh', 'Quê_hương', 'Chiêu_Văn_Vương', 'Câu', 'quân_thù', 'kệ', 'Sư_phạm', 'Dấu_hiệu', 'Nghệ_thuật', 'tướng_quân', 'Đầu', 'Sân_nhà', 'Sao', 'danh_nghĩa', 'chủ_nhân', 'von', 'Thể_loại', 'phim_nổi', 'châu_mỹ', 'quốc_dân', 'chủ_lực', 'Áp_suất', 'đồng_bào', 'tướng_lĩnh', 'tư_liệu', 'Dân_ca', 'dây', 'tên_hiệu', 'Nhiệm_kì', 'cần_cẩu', 'sử_sách', 'Vương_triều', 'Trước_đây', 'Thuật_ngữ', 'Công_nghệ_thông_tin', 'Số_nguyên', 'Cục', 'bất_động_sản', 'Hành', 'paro', 'Nguyên_tố_hoá_học', 'chử', 'hố', 'ngân_hà', 'chuỗi', 'thức_ăn', 'hài_cốt', 'trung_đại', 'đấu_trường', 'phim_truyền_hình', 'Cánh', 'diều', 'phim_tài_liệu', 'truyền_hình', 'Cặp', 'giới_tính', 'ruồi', 'dấm', 'sớ', 'độc_tố', 'khoai_mì', 'bán_dẫn', 'nguyên_âm', 'Bá_Kiến', 'kumkum', 'Thuốc_súng', 'hỗn_hợp', 'Nhà_giáo', 'Chủ_Tịch', 'lúa', 'tài', 'gốm', 'danh_pháp', 'Trang_phục', 'thủ_môn', 'vật_dụng', 'Êch', 'hình_ảnh', 'Thận', 'nhi_đồng', 'Thịt', 'bóng_đèn', 'Đường_biển', 'danh_tác', 'hoạ_sĩ', 'Ung', 'hộp', 'sọ', 'hạt_tiêu', 'ao', 'cổ_phiếu', 'luật_lệ', 'trân_châu', 'Kem', 'máy_vi_tính', 'Nước_biển', 'Bom_nguyên_tử', 'ông_già', 'Dế_Mèn', 'ngữ_văn', 'Tượng', 'tiểu_liên', 'Nhạc', 'danh_thủ', 'tàu_ngầm', 'tổ_hợp', 'tên_lửa', 'tước_hiệu', 'cương', 'cừu', 'động_đất', 'bầu_trời', 'kính_viễn_vọng', 'chủ_nghĩa_cộng_sản', 'căn_hộ', 'nghĩa_sĩ', 'Thời', 'Đại_biểu', 'quan_lại', 'thói', 'uỷ_viên', 'Giai_đoạn', 'sôcôla', 'kỉ_lục', 'Tàu_ngầm', 'đồng_vị', 'lập_trình_viên', 'Ruột_thừa', 'chuối', 'trái_cây', 'cầu_mây', 'Thân_Nhân', 'danh_sĩ', 'Quái_vật', 'vở', 'tre', 'hợp_chất', 'Niên_hiệu', 'Chồn', 'tạng', 'tộc', 'Thượng_đế', 'đạo_giáo', 'đỗ', 'hạng', 'nho_học', 'tổng_cục', 'Ngày_ngày', 'Máu', 'độ_pH', 'hậu_duệ', 'bước_tiến', 'quân_Nguyên', 'bánh_mì', 'Phong_cầm', 'phản_ứng', 'hạt_nhân', 'Trâu_Vàng', 'hiệu_trưởng', 'Mâm', 'Cầu_vồng', 'Thương_cảng', 'danh_tướng', 'thuyền_trưởng', 'tinh', 'Tiêu_chuẩn', 'Sản_phẩm', 'hit', 'Ure', 'mí', 'Bố', 'Chu_kỳ', 'câu_chuyện', 'vắcxin', 'bộ_lạc', 'Cá_heo', 'thắng_lợi', 'Chủ_nhiệm', 'thổ_ngữ', 'nhựa', 'nữ_tướng', 'quy_ước', 'chì', 'Cân', 'vận_hội_nhiều', 'vật_liệu', 'Lúa_mì', 'thành_công_chức', 'than_đá', 'hàng_hải', 'dinh', 'vạn_đại', 'thuỷ_bộ', 'Thuốc', 'cường_dương', 'Quỹ', 'học_bổng', 'Thứ', 'Thái_sư', 'tá', 'tường', 'Hippocrates', 'bảng', 'Kim_ngạch', 'cá_rô_phi', 'con_số', 'dây_tóc', 'Nghệ_sĩ', 'hải_ngoại', 'nghệ_sĩ_ưu_tú', 'Sân_cỏ', 'đê', 'đồng_hồ_quả_lắc', 'Ranh_giới', 'Thông_số', 'phản_ứng_hoá_học', 'cà_phê', 'Thuốc_lá', 'Trùng_roi', 'quái_vật', 'Quan_hệ', 'hương', 'Sen', 'Thượng_viện', 'đội_trưởng', 'gạo', 'quang', 'giọng', 'Làng_nước', 'Kính_thiên_văn', 'sâu_bọ', 'triều_Nguyễn', 'lợi', 'chính_cung', 'Titan', 'sắc_đẹp', 'Pháp_luật', 'Tiêu_Thập_Nhất_Lang', 'ông_táo', 'Đại_nghĩa', 'Bản_đồ', 'vệ_tinh_tự_nhiên', 'mạc', 'mì', 'soba', 'Nữ_giới', 'lối', 'Thắng_lợi', 'nam_giới', 'Chợ', 'tiền_giấy', 'Tổng_tư_lệnh', 'cháu', 'ngoại', 'hợp_lưu', 'Lục', 'quốc_lộ', 'ấn_độ', 'film', 'ngô', 'Cà_phê', 'Thính_giác', 'vận_tải', 'hệ_điều_hành', 'Công_thức', 'thuốc_súng', 'Trạng_Quỳnh', 'quán', 'kho_tàu', 'Cồng', 'chiêng', 'văn_phòng', 'đồ_ăn', 'Bánh_cuốn', 'tước', 'Hạng', 'Bảo_Đại', 'công_cụ', 'chấn_động', 'đai', 'Cung', 'đèo', 'thiên_hạ', 'dấu', 'bằng', 'phương_trình', 'đại_số', 'bác_học', 'khinh_khí_cầu', 'Chuyến', 'Tỉnh_lị', 'Triều', 'lưu_lượng', 'kinh_tuyến', 'cù_lao', 'đôn', 'nhân_loại', 'sủng_ái', 'mộc', 'sản_phẩm', 'Tuổi_thơ', 'thần_lực', 'đề_tài', 'chuyến', 'trang_trại', 'lao', 'eV', 'chân_dung', 'Virus', 'màn', 'phát_tích', 'Triệu_chứng', 'bệnh_lý', 'u_xơ', 'chiến_sĩ', 'tình_hình', 'công_cuộc', 'bóng_rổ', 'phim_hoạt_hình', 'ngày_xưa', 'số_nguyên', 'Trạm', 'chi_phí', 'nhân_sư', 'Giỗ_Tổ_Hùng_Vương', 'chương', 'ngai_vàng', 'dạ_dày', 'cử_tri', 'ga', 'Tên_thánh', 'dưỡng_khí', 'giáp_biển', 'nhật_thực', 'vé', 'Ngưu_Lang_Chức_Nữ', 'Hậu_duệ', 'hình_luật', 'Nhà_sản_xuất', 'bánh_cuốn', 'lễ_tết', 'liên_bang', 'quân_dân', 'Tử', 'công_thức_hoá_học', 'pizza', 'bước', 'tuyệt_chiêu', 'Phương_tiện', 'đường_thuỷ', 'bằng_sáng_chế', 'hệ_số', 'Tiểu_bang', 'Công_thức_hoá_học', 'Ca_trù', 'Dưới', 'Súng', 'sa_đoạ', 'sọc', 'á', 'uy_tín', 'kỉ', 'băng_hà', 'Địa_điểm', 'Nhẫn_cưới', 'Việc', 'Anh_hùng', 'toà_án', 'đảng_viên', 'Rượu', 'vai_vế', 'Vệ_tinh', 'gang', 'giày', 'Trái', 'bòn_bon', 'thuyết', 'Ông', 'Boku', 'Tướng', 'công_thần', 'Xóm', 'doanh_nghiệp', 'bản_sao', 'Phốt_pho', 'sắt', 'ách', 'Hình_dạng', 'Kẻ', 'tỉ_số', 'lý', 'quyển', 'cửa_ngõ', 'Tước_hiệu', 'tấn_phong', 'tuyển', 'tô', 'thảm', 'Chồng', 'hera', 'chợ', 'phượng_hoàng', 'Dấu_câu', 'vế', 'Phim_hoạt_hình', 'động_vật_nguyên_sinh', 'Bao_cao_su', 'chủ_nhật', 'Hàng_hoá', 'hàng_hoá', 'Chủ', 'Cao_lầu', 'sử_học', 'Vợ_chồng', 'đa', 'Tác_nhân', 'Tổng_cục', 'đồng_chí', 'đồi_núi', 'Áo_dài', 'an_ninh', 'Sắn', 'Cỗ', 'Bàn', 'horus', 'Thể_chế', 'thời_tiết', 'Bộ_tộc', 'nghệ_sĩ', 'tay_trong', 'mặt_hàng', 'thiết_bị', 'cửa', 'tín_đồ', 'nghệ_danh', 'dừa', 'thục', 'Kịch_bản', 'kong', 'huyền_thoại', 'Trò_chơi', 'nỏ', 'thương_binh', 'du_hành_vũ_trụ', 'ý', 'mít_tinh', 'thuỷ_ngân', 'bụi', 'văn_tự', 'triển_lãm', 'Tứ_giác', 'mảng', 'Quá_trình', 'ngọc_trai', 'Tản_Viên_Sơn_Thánh', 'Vũ_điệu', 'mỹ_đình', 'Sốt', 'Dân_cư', 'Thời_kì', 'thập_niên', 'thành_phố_đông', 'dan', 'gian', 'cơ_cấu', 'ban_đêm', 'Phóng_viên', 'chiến_trường', 'điểu', 'Tàu_sân_bay', 'Hoá_trị', 'tính_mạng', 'Đàn_ông', 'váy', 'kiềm', 'Chất_lỏng', 'chất_lỏng', 'Nghĩa_quân', 'đầm', 'Vua_phá_lưới', 'Thái_hậu', 'quân_phục', 'ruộng', 'sứ_thần', 'Dòng_họ', 'tử_cung', 'ứng_viên', 'máy_ảnh', 'Đồng_hồ', 'Hạng_mục', 'Thủ_môn', 'đường_thẳng', 'Xe_máy', 'Trẻ_em', 'răng_sữa', 'nhà_nghỉ', 'Tổng_cộng', 'tiền_tuyến', 'phi_công', 'buồng_lái', 'ôzôn', 'bình', 'thuần_hoá', 'cổ_phần', 'thượng_lưu', 'Truyền_thuyết', 'Tác_dụng', 'Tình', 'lượng', 'sĩ', 'ứng_cử_viên', 'nước_bọt', 'phòng_thí_nghiệm', 'cà_ri', 'XBOX', 'thịnh_vượng', 'Achilles', 'hoàng_tử', 'Trung_tướng', 'Bàu_Sấu', 'Mặt_hàng', 'ngắn_hạn', 'cần_sa', 'trưa', 'lứa', 'ngư_dân', 'hiệp_ước', 'Thời_Pháp', 'ven', 'cùi', 'hải_cảng', 'Lò', 'Nồng_độ', 'lệnh', 'vũ_khí', 'di_chỉ', 'tự_nhiên', 'tờ', 'Gmail', 'chu_vi', 'tiến_sĩ_khoa_học', 'triệu_chứng', 'hiệu_điện_thế', 'cõi', 'Kích_thước', 'đôi_lúc', 'đấu_vật', 'Bánh_phở', 'nhân_gian', 'hát_xoan', 'ca', 'vườn', 'pho_mát', 'Máy_bay', 'cẩu', 'Tháp_nước', 'chuẩn', 'Phần_lớn', 'biện_pháp', 'sóng_thần', 'lưọng', 'Hươu_cao_cổ', 'Tam_giác', 'sonat', 'Đặc_tính', 'tố', 'Nhạc_cụ', 'cấp_bậc', 'đồ', 'quan_tiền', 'apollo', 'quyền_năng', 'Ấn_độ_giáo', 'Đạo_Hồi', 'Tay_đua', 'chung_cuộc', 'cảnh', 'phe', 'Nhà_lãnh_đạo', 'tiêu_chuẩn', 'lưỡi', 'Nhập_khẩu', 'Đấu_trường', 'phát_xít', 'trí_tuệ_nhân_tạo', 'sông_cửu_long', 'thôn', 'bối_cảnh', 'olympia', 'tru_di_tam_tộc', 'Tổ_quốc', 'nitơ', 'Nhà_Rông', 'nguyên_tắc', 'bùa', 'Phiên', 'ban_ngày', 'Quân_số', 'lăng_mộ', 'quốc_huy', 'căn_bệnh', 'thiệp', 'Giáng_sinh', 'cầu_là', 'đường_biển', 'Vôn', 'trung_học_cơ_sở', 'thang_máy', 'ác_quỷ', 'Chính_thể', 'Nhà_sàn', 'tem', 'bưu_chính', 'Nguyên_tác', 'đá_ong', 'Đám_cưới', 'đợt', 'Tổ_Chức', 'Festival', 'định_kỳ', 'cơ_quan_ngôn_luận', 'giỗ', 'Quan_Họ', 'tháng_giêng', 'Nhân_dân', 'khoa', 'Cách_thức', 'Cơ_cấu', 'bộ_máy', 'sơn', 'năm_tuổi', 'thọ', 'cruise', 'Chân', 'thành_tích', 'Chức_nghiệp', 'Nghề_nghiệp', 'Thái_tử', 'Thân_sinh', 'Pháo_hoa', 'lí_do', 'Lý_do', 'Nguyên_do', 'Bế_Văn_Đàn', 'unk', 'phụ_mẫu', 'phụ_thân', 'Phong_Nhã', 'Con_cái', 'thân_phụ', 'con_cái', 'mẫu', 'A', 'Thiệu_Trị', 'Sinh_nhật', 'Diễn_viên', 'Ngày_sinh', 'Friedrich_II', 'sanh', 'tùng', 'mtp', 'Nghệ_sỹ', 'Tư_Mã', 'diệu', 'Sơn_Tùng_M', 'sinh_nhật', 'Ăngghen', 'Hàn_Mạc_Tử', 'Hindenburg', 'ceo', 'phiến', 'thiết', 'huyền', 'Tiểu_sử', 'chú', 'Nông', 'văn', 'dền', 'thái_hậu', 'Đô_đốc', 'Mark_Elliot_Zuckerberg', 'Lý_lịch', 'mỵ', 'nương', 'Phúc_Thần', 'đường_cao', 'Phương_Lựu', 'dũng', 'bà_chúa', 'nôm', 'phoenix', 'Trưng', 'nữ_vương', 'sầu', 'thủ_khoa', 'Tía', 'Ba', 'cha_ông', 'ba', 'chúa_tể', 'Phụ_thân', 'phu_quân', 'phu_nhân', 'Phu_quân', 'thê_tử', 'Đát_Kỷ', 'Má', 'Phụ_mẫu', 'Quốc_tịch', 'Cha_mẹ', 'Bố_mẹ', 'Quách_Tương', 'Phụ_huynh', 'Quê_quán', 'Quê', 'Nhật_Tinh_Anh', 'viện_sĩ', 'danh_y', 'siêu_sao', 'di', 'cố_chủ_tịch', 'cối_xay_gió', 'Tuyển_thủ', 'danh_xưng', 'Tiền_Ngô_Vương', 'công_tử', 'Thanh_Hiên', 'Minh_Mạng', 'liệt_sĩ', 'trái', 'Hùm', 'cân', 'Phu_nhân', 'Thê_tử', 'của_son', 'chế_độ_quân_chủ', 'hiện_thời', 'hội_đồng_quản_trị', 'huấn_luyện_viên', 'thành_uỷ', 'Chánh_án', 'Huấn_luyện_viên', 'phó', 'Tổng_bí_thư', 'ban_chấp_hành', 'Xã_hội', 'thứ_trưởng', 'Tài_chính', 'Thứ_trưởng', 'công_nhân', 'Tổng_thư_kí', 'Ban_Chấp_hành', 'quốc_trưởng', 'Nước_Hoa', 'Số_liệu', 'tiểu_bang', 'trung_du', 'ra_bộ', 'diện', 'unicode', 'Danh_từ', 'Đố', 'Thần_thoại', 'nhiễm_trùng', 'Thôi_miên', 'Lễ_Giáng_Sinh', 'Công_suất', 'Cấp_số', 'bê_tông_cốt_thép', 'dino', 'Bọ_chét', 'Đô_thị', 'Hình_vuông', 'Vốn_điều_lệ', 'Câu_lạc_bộ_thể', 'Bách_khoa_toàn_thư', 'Phần_mềm', 'Bảng_tuần_hoàn', 'miễu', 'hầm', 'Cuộc_Cách', 'Đỉnh_cao', 'hình_phạt', 'Khả_năng', 'kích_thích', 'công_ước', 'boomerang', 'tư_tưởng', 'tân_tự_do', 'nạn', 'Sừng', 'kỹ_thuật_số', 'người_thân', 'quan_chức', 'Cơ', 'thương_thuyết', 'khâu', 'Trường_hợp', 'Cation', 'Sinh_vật', 'cuộc_sống', 'samurai', 'tác_hại', 'Tính', 'hạt_giống', 'Tai', 'hậu_quả', 'phân_cực', 'Bò_sát', 'nhiệt', 'Trước_tiên', 'Tác_động', 'móng', 'hooligan', 'dê', 'giả_thuyết', 'nửa', 'Cơ_khí', 'Ý_thức', 'hoang_mạc', 'mũi', 'đường_hầm', 'ngã', 'thung_lũng', 'lòng_sông', 'thuỷ_lợi', 'Cực_Bắc', 'Liên_bang', 'chủ_nghĩa', 'quân_nhân', 'Di_trú', 'Khối', 'Cựu_chiến_binh', 'môn_phái', 'Hội_Chữ_thập_đỏ', 'tắc', 'tam', 'Tay_vợt', 'tay_vợt', 'tập_quyền', 'Khu_phố', 'sức', 'Quy_tắc', 'đô_đốc', 'Doraemon', 'Me', 'before', 'đô', 'quần_vợt', 'Tam_Quốc', 'Ông_tổ', 'rãnh', 'Gang', 'trợ_lý', 'rác_thải', 'nhà_chọc_trời', 'nhà_sử_học', 'bệ_phóng', 'tinh_bột', 'tàu_vũ_trụ', 'Khoáng_sản', 'Khứu_giác', 'đèn_điện', 'cửu', 'ứng_dụng', 'Người_mẫu', 'thực_quyền', 'Chúa', 'sứ_mệnh', 'Bánh_đậu_xanh', 'Bánh_tổ', 'Thang_máy', 'đường_cao_tốc', 'Bằng_chứng', 'Lợi_thế', 'rogan', 'nguyên_liệu_chính', 'Báo_điện_tử', 'nội_tạng', 'đặc_khu', 'Tài_nguyên', 'mì_ăn_liền', 'Vệ_sĩ', 'âm_mưu', 'Công_nhân', 'blockchain', 'Lễ_vật', 'mồi', 'thực_chất', 'hành_trình', 'rằm', 'viôlông', 'Hệ_sinh_thái', 'Bánh_canh', 'cá_lóc', 'thế_vận_hội', 'huỷ_diệt', 'tulip', 'carbon', 'Hôm', 'thành_quách', 'cung_điện', 'đuôi', 'chuông', 'định_mức', 'đốt', 'hai_châu', 'vôi', 'không_trung', 'lập_quốc', 'bàn_tay', 'Máy_hơi_nước', 'your', 'name', 'lò', 'lạc_đà', 'bướu', 'mã_vạch', 'sashimi', 'Con_nuôi', 'soda', 'phố_phường', 'Tống_thống', 'ôn_đới', 'Cao_ốc', 'máy_bay_trực_thăng', 'hồi_môn', 'Đài_truyền_hình', 'Khoa_học', 'Quốc_Kỳ', 'hiệp_hội', 'Tây_Du_Ký', 'xoài', 'mỏ', 'Đông', 'Wikipedia', 'người_máy', 'Thỏ', 'hồng', 'gấu_trúc', 'quốc_tế_ca', 'độ_kinh', 'chiến_thuật', 'nhân_bản', 'gen', 'thi_sĩ', 'chocolate', 'kính', 'chuyên_ngành', 'gươm', 'hiền_tài', 'nguyên_khí', 'mật_danh', 'cơ_học', 'Sát_Thát', 'Thiết_bị', 'jazz', 'jin', 'tiêu_chí', 'dầu', 'vạch', 'bitcoin', 'El_Classico', 'Youtube', 'trang_web', 'phường_xã', 'Bộ_môn', 'ong_chúa', 'nhí', 'rau', 'thoại', 'giáo_sỹ', 'eo_biển', 'Máy_phát_điện', 'bảng_nhãn', 'thiệt_hại', 'con_lắc', 'Tỷ_phú', 'người_mẫu', 'Hộp_đen', 'điôxít', 'tư_lệnh', 'quân_khu', 'Trường_sinh', 'xã_phường', 'vợ_chồng', 'Thuỷ_thủ', 'biên_phòng', 'Danh_sĩ', 'nhiệt_lượng', 'Tuần', 'nguyên_tác', 'sứ_giả', 'xe_lửa', 'Hạ_viện', 'Sáng', 'chất_liệu', 'Bệnh_nhân', 'tuỵ', 'glass', 'vệ_tinh_nhân_tạo', 'đại_thần', 'Robot', 'Chocolate', 'tội', 'chầu', 'Cồ', 'đàm', 'giấm', 'Shiseido', 'mỹ_phẩm', 'Dây_tóc', 'Trọng_lực', 'đường_dây', 'bóng_nước', 'số_hiệu', 'thiên_chúa_giáo', 'giái', 'sức_mua', 'Bánh_cáy', 'binh_nghiệp', 'tổng_thư_kí', 'Căn_nguyên', 'bến', 'thuyền', 'Danh_thắng', 'Quốc_Phòng', 'Hình_dáng', 'chó_ngao', 'Màn', 'thân_phận', 'túi', 'gió_trăng', 'Ma_tuý', 'hội_chứng', 'dân_nghèo', 'bang_giao', 'năng_suất', 'Sách_đỏ', 'nền_tảng', 'pencakxilat', 'Thị_trấn', 'Thời_đại_đồ_đá', 'thái_tử', 'tiên', 'đế_chế', 'tảng', 'du_khách', 'đặc_quyền', 'Cờ_vua', 'tỉnh_lị', 'Hậu_cung', 'thừa_tướng', 'đức', 'Hàn_Mặc_Tử', 'Võ', 'thị', 'Quan_Âm', 'tiểu_sử', 'hưng', 'đại_vương', 'ơle', 'metis', 'lê_văn', 'Ngô_Y_Linh_học', 'con_nuôi', 'lê_hãn', 'hoà_thượng', 'thuở', 'bệnh_viện', 'phim_điện_ảnh', 'nguyên_mẫu', 'nan', 'dạ', 'khúc', 'Hình_bình_hành', 'Lạm_phát', 'Mặt_phẳng', 'hoàng_đạo', 'Trái_tim', 'dãi', 'U_xơ', 'tiền_liệt_tuyến', 'hoá_đơn', 'Bộ_nhớ', 'Hoá_học', 'Hình_chữ_nhật', 'ma', 'Glucose', 'hướng_ngoại', 'kỳ_tích', 'việt_vị', 'Mẫu', 'Định_nghĩa', 'Thương_hàn', 'vi', 'Máy_tính_xách_tay', 'Luỹ_thừa', 'bán_phá_giá', 'súng_trường', 'lụa', 'glycogen', 'Phenol', 'Nhà_Hát', 'Liên_Bang', 'quốc_ngữ', 'World_cup', 'Quốc_tế_Phụ_nữ', 'đạn', 'đặc_tính', 'dương_cầm', 'cảm_tính', 'thần_kinh', 'elegans', 'trái_nghĩa', 'rupee', 'thiểu', 'diên', 'sổ', 'hiệu_ứng_nhà_kính', 'đàn_ông', 'tài_liệu', 'Kế_hoạch', 'demonetisation', 'Phòng', 'trung_lập', 'không_tưởng', 'dầu_khí', 'thiên_vị', 'chi_tiết', 'dược_phẩm', 'hoá_sinh', 'Trách_nhiệm', 'dân_sự', 'Trạng_thái', 'lưỡng_cư', 'Tầm', 'tính_toán', 'k', 'lý_lịch', 'giá_trị_thặng_dư', 'Ếch', 'Hôn_nhân', 'Tỉnh_đoàn', 'nghĩa_đàn', 'keo', 'DIện_tích', 'Phía', 'Hang', 'Bán_đảo', 'Hang_Con_Moong', 'Hàng_Đào', 'bãi', 'Làng_nghề', 'Nhạc_viện', 'Non_nước', 'Nội', 'Sơn_Đoòng', 'Đầm', 'Cơ_sở', 'Uỷ_ban_nhân_dân', 'Quân_Đội', 'Chữ_thập_đỏ', 'khí_tượng', 'Marketing', 'dược', 'OnePlus', 'kiểm_soát', 'ngày_đêm', 'Nhà_rông', 'nghi_lễ', 'cây_gỗ', 'uỷ_ban', 'mình', 'lưới', 'phút', 'Bưu_điện', 'mẫu_tự', 'đề', 'Bộ_Trưởng', 'Nội_vụ', 'nội_vụ', 'chức_danh', 'Chính_uỷ', 'viện_kiểm_sát', 'nông_sản', 'Hồi', 'Cầu_đường', 'Cồng_chiêng', 'Cổ_phiếu', 'Cụ', 'Dũng_tướng', 'dâu', 'tuần_san', 'thủ_công', 'cáp', 'Tuyên_ngôn', 'Hổ_tướng', 'thường_trực', 'Instagram', 'follow', 'Kỷ_lục', 'Luật_hình_sự', 'giấc', 'tỷ_trọng', 'kết_cấu', 'ngoại_quốc', 'Nhân_công', 'trường_thành', 'hội_đồng', 'triết_học', 'số_thành_viên', 'nôi', 'thể_loại', 'Phần_đông', 'Quà', 'cáo', 'đặc_công', 'dải', 'tên_tuổi', 'cốt_truyện', 'thể_nào', 'Truyện_thơ', 'của_nổi', 'môn_khách', 'bản_án', 'điêu_khắc', 'rặng', 'chi_lưu', 'đại_sứ_quán', 'đới', 'hoa_cúc', 'Vòng', 'Võ_đường', 'môn_sinh', 'nước_tương', 'Văn_Miếu', 'sĩ_phu', 'Vụ_việc', 'Xứ_sở', 'trường_thành_viên', 'đình_đám', 'hạn_hán', 'Đời', 'Trạng_Nguyên', 'chim_cánh_cụt', 'Tuxedo', 'mặt_nạ', 'khoa_học_cơ_bản', 'lũ', 'nghi_thức', 'mạch', 'Hội_đồng_nhân_dân', 'Tên_tự', 'cột', 'rạng_đông', 'cực_đoan', 'vảy', 'ngựa_vằn', 'xương', 'Vi_sinh_vật', 'Bánh', 'ka', 'Hình_thoi', 'đường_chéo', 'Linh_miêu', 'com', 'Tam_tòng_tứ_đức', 'chuẩn_mực', 'vua_phá_lưới', 'goku', 'Cà_ri', 'công_nghệ_cao', 'thính', 'bánh_trôi', 'bán_kính', 'Tết_âm_lịch', 'biến_chứng', 'Hoá_thạch', 'Công_cụ', 'thằn_lằn', 'gfriend', 'Biệt_thự', 'Kiểu', 'Quốc_sử', 'Cá_thể', 'quạt_điện', 'trường_sinh', 'thiền_sư', 'kính_thiên_văn', 'khói_lửa', 'Cò_lả', 'Truyện_kiều', 'Tết_Dương_lịch', 'Nón_quai_thao', 'Sợi', 'Mạch_máu', 'sinh_học', 'kẹo', 'nguyên', 'Em_trai', 'kách', 'mệnh', 'tiềm_lực', 'Keangnam_Hanoi_Landmark_Tower', 'Âm_thanh', 've_sầu', 'thiên_cổ', 'bút', 'đại_gia', 'Ong_chúa', 'di_chứng', 'liên_cầu_khuẩn', 'Tứ_Giác', 'cụm_từ', 'đoan_chính', 'lòng', 'Tên_tuổi', 'nhạc_sỹ', 'mõm', 'tiếng_động', 'mát_mẻ', 'phù_dâu', 'phù_rể', 'Thời_tiết', 'ngày_mai', 'Mì', 'udon', 'yêu_cầu', 'trọng_tải', 'khoáng_sản', 'Chất_béo', 'đại_quân', 'penixilin', 'Bóng_bầu_dục', 'thanh_điệu', 'xe_hơi', 'Trình_độ', 'học_vấn', 'máy_hơi_nước', 'phong', 'viễn_thông', 'Hiệu', 'kim_ngạch', 'Trí_tuệ', 'giàu_có', 'Xúc_giác', 'phần_nhiều', 'tàng_hình', 'khoảng_không', 'Văn_học', 'láng_giềng', 'cơ_quan_hành_chính', 'tenis', 'tôm', 'siêu_thanh', 'cô_hồn', 'quang_năng', 'Râm_bụt', 'ngoại_hạng', 'Diêm', 'Sở_trường', 'thư_kí', 'Paris_SG', 'hợp_kim', 'báo_cáo', 'Bài_toán', 'Vỏ', 'phái_đoàn', 'phù_sa', 'Anh_trai', 'cảm_ứng', 'công_dụng', 'Nhãn_hiệu', 'Vốn', 'tục_ngữ', 'văn_thơ', 'cầu_vượt', 'thẻ', 'vườn_không_nhà_trống', 'Thị_giác', 'nước_nhà', 'hạm', 'Bạc', 'cách_mạng_tháng', 'thánh_giá', 'bình_bầu', 'phái_mạnh', 'Nhựa_mủ', 'Quận_huyện', 'thiên_lôi', 'Sự_nghiệp', 'Biện_pháp', 'tất', 'thiên_hướng', 'tính_dục', 'luật_bóng_đá', 'rắn_độc', 'cây_công_nghiệp', 'kim_loại_đen', 'Kiến_trúc', 'tiểu', 'nghệ', 'Trại', 'cụm', 'Logarit', 'trọng_thần', 'Dân', 'gray', 'bánh_chay', 'thần_tình', 'quy', 'phật_thủ', 'nguyên_bản', 'Chân_dung', 'lâm', 'điện_năng', 'Hiệu_suất', 'nồng_độ', 'Xe', 'bộ_binh', 'quỹ_đạo', 'Cửa_ải', 'phần_thưởng', 'cầu_khuẩn', 'hẻm', 'Thái_Dương', 'Cương_lĩnh', 'chàng', 'Đám_tang', 'tiếng_anh', 'Tàu_con_thoi', 'sáng_tạo', 'Nậm_Pịa', 'ruột_non', 'Chính_sách', 'Bạch_đàn', 'Kinh_phí', 'garrix', 'Vừ_A_Dính', 'nhà_phát_minh', 'Cụt', 'Bà_Huyện_Thanh_Quan', 'Công_Tôn_Lệ', 'quách', 'Hokage', 'Trường_học', 'Danh_Nhưỡng', 'Thần_đồng', 'Thừa_tướng', 'Hoàng_hậu', 'chủng', 'quân_hàm', 'Quốc_Hội', 'Thế_vận_hội_mùa_hè', 'xe_lăn', 'hiệp_thương', 'olympic', 'đèn_lồng', 'bái', 'Cách_mạng_tháng', 'Chiến_lược', 'năm_học', 'sea_games', 'Zing_Music_Awards', 'Cúp', 'cồng_chiêng', 'Khủng_hoảng', 'cá_ngừ', 'dưa', 'Lũ', 'bê_tông', 'rạn', 'SPG-9', 'Siêu', 'Ibrahimović', 'Kim_đồng', 'mùi', 'hy', 'nha', 'doraemon', 'thào', 'Vuờn', 'gi', 'vừ', 'Ban_ngày', 'Hiện_vật', 'kh', 'ka-tom', 'pơ', 'tác_gia', 'bệ_hạ', 'chế_độ_phong_kiến', 'biệt_danh_Trạng', 'vac', 'nứơc', 'phụ', 'đựơc', 'tá_tràng', 'đc', 'COn', 'sầu_riêng', 'mồng', 'hải_lí', 'lưỡng_thê', 'Hải_dương_học', 'ngụ_cư', 'phú', 'Nữ_Thần', 'n\\xadước', 'đà_điểu', 'Ngạc', 'ngư', 'óc-om-boóc', 'Tổng_Bí_Thư', 'biển_hồ', 'nhị', 'nhiu', 'gô', 'cây_xanh', 'hoa_hồng', 'kí_hiệu', 'ván', 'nhân_văn', 'Mặt', 'ianta', 'màu_da', 'nự', 'Mốc', '”', 'chổi', 'Tiến_quân', 'điện_biên', 'Hát_xẩm', 'trò', 'xác_suất', 'ng', 'sim', 'Dự_Trữ', 'tích_phân', 'thiếu_nhi', 'Hoa_Nhài', 'điện_tín', 'apatit', 'trường_phái', 'hoa_hậu', 'new', 'nhieu', '\\x08nhân', 'Số_nguyên_tố', 'hoach', 'Lãnh_hải', 'sương', 'Bên', 'bóng_điện', 'Dung_dịch', 'thuốc_tím', 'Cơm', 'quân_kỳ', 'Gdp', 'phiên_toà', 'Kiểm_toán', 'Thủ_trưởng', 'Khủng_hoảng_kinh_tế', '\\x08hệ_thống', 'luật_hình_sự', 'Cấu_thành', 'vòi', 'Cá_sấu', 'nước_mặn', 'chúa_sơn_lâm', 'mận', 'gai', 'Tình_trạng', 'đương', 'Quang_phổ', 'biên_chế', 'Thủ_Tướng', 'nông', 'thiên_thần', 'everest', 'nhiên', 'vaò', 'rạch', 'hình_thái_kinh_tế', 'ninh', 'đì', 'Dinh', 'formosa', 'hành_vi', 'Hậu_cần', 'thiêm', 'lỗ', 'Byte', 'bit', 'Đáo', 'nịnh_thần', 'thiên_đường', 'tử_suất', 'dị′′', 'đảng_cộng_sản_Việt_Nam', 'Quán_quân', 'bút_bi', 'vòng_loại', 'cá_thu', 'Chi_phí', 'siêu_vi', 'wolfram', 'tổng_hội', 'bế_mạc', 'bá', 'cáy', 'mắm', 'Sashimi', 'làng_nghề', 'sắc_lệnh', 'Nông_dân', 'air', 'france', 'Xa_lộ', 'soạn_giả', 'Hình_thái', 'chọp', 'punta', 'gorda', 'Thành_Thị', 'đan_mạch', 'i', 'phương_thức', 'buồng_trứng', 'hủ', 'phong_tục', 'Thuỷ_Ba', 'tác_động', 'kai-tak', 'Cấp', 'hộ', 'khí_cầu', 'Rạn', 'hải_dương_học', 'Bộ_máy', 'cung_thánh', 'Quyết_định', 'thẩm_phán', 'nhược_điểm', 'Hồ_chứa_nước', 'YxineFF', 'zayed', 'quý_phi', 'riel', 'Đèn_lồng', 'năm_âm_lịch', 'ngoài_trời', 'cá_chép', 'thập_kỷ', 'sinh_thời', 'vọng', 'Đá', 'Nguyên_quán', 'luận_án', 'văn_khoa', 'cây_thân_gỗ', 'đổng', 'Chủ_đề', 'Trăn', 'Cựa', 'hậu_môn', 'Giới_tính', 'Màu_sắc', 'quốc_vương', 'ký_sinh_trùng', 'hoàng_tộc', 'Trứng', 'ấp', 'sinh_dục', 'tính_năng', 'Tầng', 'lý_thuyết_lực', 'sinh_lý', 'tràm', 'Elizabeth_II', 'Máy_ảnh', 'đời_mới', 'muối_ăn', 'iốt', 'La_bàn', 'la_bàn', 'Bóng_rổ', 'Bản_đồ_học', 'bản_đồ_học', 'số_liệu', 'Na_Bon', 'united', 'Ninh_Chử', 'lỡ_cơ', 'Phù_Sai', 'Tài_sản', 'quốc_phục', 'Nhôm', 'Chỉ_thị', 'chỉ_thị', 'Trà', 'trà', 'nhài', 'carat', 'Tính_chất', 'Xe_lửa', 'chuồng', 'tháng_nuôi', 'grab', 'tuỷ_sống', 'thuật', 'Brochure', 'mandeville', 'nòng', 'Thứ_hạng', 'cầu_lông', 'bán_kết', 'bóng_chày', 'nghĩa_trang', 'hoả_khí', 'cá_sấu_dương', 'Zing', 'quan_sát_viên', 'apec', 'môn_học', 'chuyên_viên', 'dân_cử', 'tuỷ', 'vân', 'rễ', 'bùn', 'Luiz_Inácio_Lula', 'chủng_loại', 'lư', 'ngạn', 'aspirin', 'pháo_hoa', 'tinh_thần', 'nhẫn', 'tính_cách', 'sừng', 'tê_giác', 'hô_hấp', 'Chúa_tể', 'bản_vẽ', 'lắk', 'nhân_quyền', 'vận_tốc', 'Zing_Me', 'đệ_tử', 'Thân_hữu', 'Nữ_Hướng', 'Luật_dân_sự', 'Tê_giác', 'Hello', 'Sao_Hoả', 'Loại_hình', 'bài_tây', 'gốc_từ', '\\x1dBộ', 'Quỹ_đạo', 'khmer', 'thiên_đỉnh', 'ngọ', 'sườn', 'Sóc', 'vự', 'Múa', 'sạp', 'nhà_kính', '\\x1dHoa', 'noel'])"
            ]
          },
          "metadata": {},
          "execution_count": 12
        }
      ]
    },
    {
      "cell_type": "code",
      "execution_count": 25,
      "metadata": {
        "colab": {
          "base_uri": "https://localhost:8080/"
        },
        "id": "GUn9mW9yfxY3",
        "outputId": "f0d9236e-01cb-45bb-f529-27fa3904f9a0"
      },
      "outputs": [
        {
          "output_type": "stream",
          "name": "stderr",
          "text": [
            "100%|██████████| 4237/4237 [00:00<00:00, 12320.80it/s]\n"
          ]
        }
      ],
      "source": [
        "synonym_word = {}\n",
        "\n",
        "for key in tqdm(synonym_dict.keys()):\n",
        "  word_occurence = {}\n",
        "  for sub_key in synonym_dict[key]:\n",
        "    for word in synonym_dict[key][sub_key]:\n",
        "      if word in word_occurence:\n",
        "        word_occurence[word] += 1\n",
        "      else:\n",
        "        word_occurence[word] = 1\n",
        "  word_occurence = {k: v for k, v in sorted(word_occurence.items(), key=lambda item: item[1], reverse=True)}\n",
        "  synonym_word[key] = word_occurence"
      ]
    },
    {
      "cell_type": "code",
      "source": [
        "with open(\"/content/drive/MyDrive/Final Project Zalo Internship/Final Project/Categorized vocab (No Trec57)/occurence_of_word.json\",\"w\", encoding='utf-8') as jsonfile:\n",
        "    json.dump(synonym_word,jsonfile,ensure_ascii=False, indent=2)"
      ],
      "metadata": {
        "id": "OPu1uOAH4xx6"
      },
      "execution_count": 27,
      "outputs": []
    },
    {
      "cell_type": "code",
      "source": [
        "def get_num_occurence(item):\n",
        "    \"\"\"Get the sum of Python and JavaScript skill\"\"\"\n",
        "    # Return default value that is equivalent to no skill\n",
        "    return item[1]['occurence']"
      ],
      "metadata": {
        "id": "TTV4DmYxOAIo"
      },
      "execution_count": 98,
      "outputs": []
    },
    {
      "cell_type": "code",
      "source": [
        "synonym_word_sentence = {}\n",
        "\n",
        "for key in tqdm(synonym_dict.keys()):\n",
        "  word_occurence = {}\n",
        "  for sub_key in synonym_dict[key]:\n",
        "    for word in synonym_dict[key][sub_key]:\n",
        "      if word in word_occurence:\n",
        "        word_occurence[word]['occurence'] += 1\n",
        "        if len(word_occurence[word]['sentence']) < 3:\n",
        "          sentence = sub_key.replace(key, '<mask>', 1)\n",
        "          word_occurence[word]['sentence'].append(sentence)\n",
        "      else:\n",
        "        sentence = sub_key.replace(key, '<mask>', 1)\n",
        "        word_occurence[word] = {'occurence': 1, 'sentence': [sentence]}\n",
        "  word_occurence = {k: v for k, v in sorted(word_occurence.items(), key=get_num_occurence, reverse=True)}\n",
        "  if len(word_occurence) > 0:\n",
        "    synonym_word_sentence[key] = word_occurence"
      ],
      "metadata": {
        "colab": {
          "base_uri": "https://localhost:8080/"
        },
        "id": "Pd2QfY-B7X62",
        "outputId": "cf9842c4-a893-4d94-90d1-d8d9b6329f8d"
      },
      "execution_count": 109,
      "outputs": [
        {
          "output_type": "stream",
          "name": "stderr",
          "text": [
            "100%|██████████| 4237/4237 [00:01<00:00, 3183.09it/s]\n"
          ]
        }
      ]
    },
    {
      "cell_type": "code",
      "source": [
        "with open(\"/content/drive/MyDrive/Final Project Zalo Internship/Final Project/Categorized vocab (No Trec57)/occurence_of_word_sentence.json\",\"w\", encoding='utf-8') as jsonfile:\n",
        "    json.dump(synonym_word_sentence,jsonfile,ensure_ascii=False, indent=2)"
      ],
      "metadata": {
        "id": "LmMf0bZT7fus"
      },
      "execution_count": 110,
      "outputs": []
    },
    {
      "cell_type": "code",
      "source": [],
      "metadata": {
        "id": "XEyMvERUsn3L"
      },
      "execution_count": null,
      "outputs": []
    },
    {
      "cell_type": "code",
      "execution_count": 8,
      "metadata": {
        "id": "WszikiBFPj9S"
      },
      "outputs": [],
      "source": [
        "# Import libraries\n",
        "import glob\n",
        "import pandas as pd\n",
        "\n",
        "# Get CSV files list from a folder\n",
        "path = '/content/drive/MyDrive/Final Project Zalo Internship/Final Project/vietnamese-wordnet/Noun'\n",
        "csv_files = glob.glob(path + \"/*.csv\")\n",
        "\n",
        "# Read each CSV file into DataFrame\n",
        "# This creates a list of dataframes\n",
        "df_list = (pd.read_csv(file, on_bad_lines='skip', header=None) for file in csv_files)\n",
        "\n",
        "# Concatenate all DataFrames\n",
        "big_df   = pd.concat(df_list, ignore_index=True)"
      ]
    },
    {
      "cell_type": "code",
      "execution_count": 9,
      "metadata": {
        "id": "gXkv6zwRoIuZ"
      },
      "outputs": [],
      "source": [
        "big_df_list = big_df.values.tolist()"
      ]
    },
    {
      "cell_type": "code",
      "source": [
        "import json\n",
        "synonym_file = open('/content/drive/MyDrive/Final Project Zalo Internship/Final Project/Categorized vocab (No Trec57)/list_of_synonym.json', encoding='utf-8')\n",
        "synonym_dict = json.loads(synonym_file.read())"
      ],
      "metadata": {
        "id": "P3dg3rcksyBp"
      },
      "execution_count": 11,
      "outputs": []
    },
    {
      "cell_type": "code",
      "execution_count": 12,
      "metadata": {
        "colab": {
          "base_uri": "https://localhost:8080/"
        },
        "id": "-TTqFnSAogc6",
        "outputId": "efc7f046-c360-442d-997c-8d29a0ceaa71"
      },
      "outputs": [
        {
          "output_type": "stream",
          "name": "stderr",
          "text": [
            "100%|██████████| 4237/4237 [00:16<00:00, 250.82it/s]"
          ]
        },
        {
          "output_type": "stream",
          "name": "stdout",
          "text": [
            "1205\n"
          ]
        },
        {
          "output_type": "stream",
          "name": "stderr",
          "text": [
            "\n"
          ]
        }
      ],
      "source": [
        "cnt=0\n",
        "word = []\n",
        "isIncreased=False\n",
        "for key in tqdm(synonym_dict.keys()):\n",
        "  detokenized_key = key.replace('_', ' ')\n",
        "  for list_word in big_df_list:\n",
        "    if detokenized_key in list_word:\n",
        "      if isIncreased == False:\n",
        "        word.append(key)\n",
        "        cnt+=1\n",
        "      isIncreased=True\n",
        "  isIncreased=False\n",
        "\n",
        "print(cnt)"
      ]
    },
    {
      "cell_type": "code",
      "source": [
        "word"
      ],
      "metadata": {
        "colab": {
          "base_uri": "https://localhost:8080/"
        },
        "id": "jttfC6oAtFHT",
        "outputId": "d2e8f4bb-af79-44cf-8e65-df473427a56d"
      },
      "execution_count": 13,
      "outputs": [
        {
          "output_type": "execute_result",
          "data": {
            "text/plain": [
              "['năm',\n",
              " 'chỉ_số',\n",
              " 'khu_vực',\n",
              " 'giá_trị',\n",
              " 'nước',\n",
              " 'tỉ_lệ',\n",
              " 'triệu_phú',\n",
              " 'đầu',\n",
              " 'người',\n",
              " 'thu_nhập',\n",
              " 'khoảng',\n",
              " 'mã_số',\n",
              " 'điện_thoại',\n",
              " 'Mã',\n",
              " 'dân_số',\n",
              " 'số',\n",
              " 'dân',\n",
              " 'tỉnh',\n",
              " 'hiện_tại',\n",
              " 'thời_điểm',\n",
              " 'huyện',\n",
              " 'tháng',\n",
              " 'thành_phố',\n",
              " 'thế_giới',\n",
              " 'cuối',\n",
              " 'vịnh',\n",
              " 'quận',\n",
              " 'vùng',\n",
              " 'đô_thị',\n",
              " 'núi',\n",
              " 'vương_quốc',\n",
              " 'tổng',\n",
              " 'thủ_đô',\n",
              " 'đồng_bằng',\n",
              " 'sông',\n",
              " 'đảo',\n",
              " 'thứ',\n",
              " 'múi',\n",
              " 'bộ',\n",
              " 'truyện_tranh',\n",
              " 'tác_phẩm',\n",
              " 'tiểu_thuyết',\n",
              " 'quốc_ca',\n",
              " 'hồ',\n",
              " 'thiên_nga',\n",
              " 'nhạc_sĩ',\n",
              " 'tượng',\n",
              " 'thép',\n",
              " 'Bộ',\n",
              " 'truyện',\n",
              " 'trai',\n",
              " 'chí',\n",
              " 'lịch',\n",
              " 'triều',\n",
              " 'loại',\n",
              " 'hiệp',\n",
              " 'bài',\n",
              " 'ông_tổ',\n",
              " 'lời',\n",
              " 'nhà_thờ',\n",
              " 'huy_hiệu',\n",
              " 'tập',\n",
              " 'thơ',\n",
              " 'tù',\n",
              " 'ngôn_ngữ',\n",
              " 'thư',\n",
              " 'kịch_bản_phim',\n",
              " 'sách',\n",
              " 'ngôn_ngữ_lập_trình',\n",
              " 'thám_tử',\n",
              " 'Truyện_Kiều',\n",
              " 'truyện_ngắn',\n",
              " 'lá',\n",
              " 'đèn',\n",
              " 'đá',\n",
              " 'phù_thuỷ',\n",
              " 'ngày',\n",
              " 'thời_gian',\n",
              " 'ngày_tháng',\n",
              " 'chiều',\n",
              " 'gió',\n",
              " 'lần',\n",
              " 'sữa',\n",
              " 'phim',\n",
              " 'cốc',\n",
              " 'lửa',\n",
              " 'loài',\n",
              " 'mông',\n",
              " 'tâm',\n",
              " 'ý_nghĩa',\n",
              " 'nội_dung',\n",
              " 'thuyết_tương_đối',\n",
              " 'điều',\n",
              " 'Dư_địa_chí',\n",
              " 'bát',\n",
              " 'con',\n",
              " 'rừng',\n",
              " 'xà',\n",
              " 'rùa',\n",
              " 'trận',\n",
              " 'chim',\n",
              " 'te_te',\n",
              " 'cây',\n",
              " 'đồng_hồ',\n",
              " 'mai',\n",
              " 'tổng_thống',\n",
              " 'mẹ',\n",
              " 'má',\n",
              " 'gà',\n",
              " 'khí_hậu',\n",
              " 'hành_tinh',\n",
              " 'kinh_tế',\n",
              " 'mèo',\n",
              " 'mặt',\n",
              " 'công_nghệ',\n",
              " 'bò',\n",
              " 'bạc',\n",
              " 'xe',\n",
              " 'máy_tính',\n",
              " 'thuỷ_triều',\n",
              " 'hệ_thống',\n",
              " 'vệ_tinh',\n",
              " 'thông_tin',\n",
              " 'cung',\n",
              " 'cổng',\n",
              " 'bảng_tuần_hoàn',\n",
              " 'hình',\n",
              " 'quyền',\n",
              " 'ngựa_ô',\n",
              " 'nho',\n",
              " 'ngân_hàng',\n",
              " 'áo_dài',\n",
              " 'lữ_đoàn',\n",
              " 'công_binh',\n",
              " 'nguyên_tố_hoá_học',\n",
              " 'thú',\n",
              " 'biển',\n",
              " 'sóng',\n",
              " 'mây',\n",
              " 'máy',\n",
              " 'hiện_tượng',\n",
              " 'sợi',\n",
              " 'kim',\n",
              " 'giờ',\n",
              " 'đông',\n",
              " 'phân',\n",
              " 'hình_thoi',\n",
              " 'nhà',\n",
              " 'định_nghĩa',\n",
              " 'dịch_vụ',\n",
              " 'thể_chất',\n",
              " 'chó',\n",
              " 'bóng_chuyền',\n",
              " 'công',\n",
              " 'công_nghệ_thông_tin',\n",
              " 'từ_trường',\n",
              " 'đạo_luật',\n",
              " 'clo',\n",
              " 'lịch_sử',\n",
              " 'sự_kiện',\n",
              " 'chuột_túi',\n",
              " 'di_truyền_học',\n",
              " 'tế_bào',\n",
              " 'thuật_toán',\n",
              " 'axit',\n",
              " 'thuế',\n",
              " 'bánh',\n",
              " 'tơ',\n",
              " 'bộ_nhớ',\n",
              " 'động_cơ',\n",
              " 'hơi_nước',\n",
              " 'ống',\n",
              " 'đồng',\n",
              " 'di_sản',\n",
              " 'văn_hoá',\n",
              " 'phân_loại_học',\n",
              " 'khu',\n",
              " 'nhóm',\n",
              " 'thiên_văn_học',\n",
              " 'luật',\n",
              " 'chất',\n",
              " 'cô',\n",
              " 'cầu',\n",
              " 'tổ_chức',\n",
              " 'công_trình',\n",
              " 'trường',\n",
              " 'giai_đoạn',\n",
              " 'hồi',\n",
              " 'thẩm',\n",
              " 'nghĩa',\n",
              " 'độ',\n",
              " 'tên',\n",
              " 'chỗ',\n",
              " 'biệt_danh',\n",
              " 'miền',\n",
              " 'tiền',\n",
              " 'tiền_tệ',\n",
              " 'đỉnh',\n",
              " 'vị_trí',\n",
              " 'nơi',\n",
              " 'lạm_phát',\n",
              " 'tiếng',\n",
              " 'bắc',\n",
              " 'tuổi',\n",
              " 'điểm',\n",
              " 'hôn_nhân',\n",
              " 'nam',\n",
              " 'người_lớn',\n",
              " 'việc',\n",
              " 'đền',\n",
              " 'mùa',\n",
              " 'chung_kết',\n",
              " 'sân_vận_động',\n",
              " 'hội_nghị',\n",
              " 'lễ',\n",
              " 'giải',\n",
              " 'ban',\n",
              " 'cách_mạng_công_nghiệp',\n",
              " 'thể_thao',\n",
              " 'hàng',\n",
              " 'diễu_binh',\n",
              " 'trâu',\n",
              " 'khoá',\n",
              " 'bầu',\n",
              " 'thương_mại',\n",
              " 'miếu',\n",
              " 'chiến_tranh',\n",
              " 'cờ_vua',\n",
              " 'giá',\n",
              " 'bạn',\n",
              " 'thịt',\n",
              " 'cổ_đông',\n",
              " 'biểu_quyết',\n",
              " 'nhân_viên',\n",
              " 'mã',\n",
              " 'khía_cạnh',\n",
              " 'vật_chất',\n",
              " 'năng_lượng',\n",
              " 'lực',\n",
              " 'tối',\n",
              " 'hoạt_động',\n",
              " 'giáo_dục',\n",
              " 'xe_gắn_máy',\n",
              " 'thành_viên',\n",
              " 'nhện',\n",
              " 'tổ',\n",
              " 'máy_tính_xách_tay',\n",
              " 'máy_tính_để_bàn',\n",
              " 'nội_chiến',\n",
              " 'đất',\n",
              " 'phèn',\n",
              " 'kiến_trúc',\n",
              " 'vòm',\n",
              " 'tất_niên',\n",
              " 'byte',\n",
              " 'khái_niệm',\n",
              " 'vi_khuẩn',\n",
              " 'đức_tin',\n",
              " 'kết_quả',\n",
              " 'đồng_thau',\n",
              " 'không_gian',\n",
              " 'tốc_độ',\n",
              " 'tai',\n",
              " 'giữa',\n",
              " 'thác',\n",
              " 'vũ_khí_sinh_học',\n",
              " 'thỏ',\n",
              " 'lượng_tử',\n",
              " 'dạng',\n",
              " 'chính_phủ',\n",
              " 'ion',\n",
              " 'tương_lai',\n",
              " 'súng',\n",
              " 'phòng',\n",
              " 'giới',\n",
              " 'phía',\n",
              " 'cư_dân',\n",
              " 'lỗi',\n",
              " 'tàu',\n",
              " 'rèm',\n",
              " 'chương_trình',\n",
              " 'khoa_học',\n",
              " 'chữ_số',\n",
              " 'pi',\n",
              " 'phép',\n",
              " 'khoảng_cách',\n",
              " 'tim',\n",
              " 'cơ_thể',\n",
              " 'hệ_sinh_thái',\n",
              " 'rắn',\n",
              " 'mèo_tam_thể',\n",
              " 'cơ_quan',\n",
              " 'lãnh_đạo',\n",
              " 'ảnh_hưởng',\n",
              " 'chính_trị',\n",
              " 'chiến_thắng',\n",
              " 'ma_tuý',\n",
              " 'bệnh',\n",
              " 'đô_la',\n",
              " 'thư_điện_tử',\n",
              " 'phần',\n",
              " 'não',\n",
              " 'động_vật',\n",
              " 'khí_quyển',\n",
              " 'mộ',\n",
              " 'đáy',\n",
              " 'giấy',\n",
              " 'đóng_góp',\n",
              " 'rau_dền',\n",
              " 'diệp_lục',\n",
              " 'khí_thải',\n",
              " 'cấu_trúc',\n",
              " 'mạng',\n",
              " 'bàn',\n",
              " 'công_việc',\n",
              " 'mô_hình',\n",
              " 'ánh_sáng',\n",
              " 'mồm',\n",
              " 'giống',\n",
              " 'chữ',\n",
              " 'ý_thức',\n",
              " 'sức_khoẻ',\n",
              " 'kim_loại',\n",
              " 'đặc_điểm',\n",
              " 'mức_độ',\n",
              " 'máy_bay',\n",
              " 'sân_chơi',\n",
              " 'quần',\n",
              " 'phương_tiện',\n",
              " 'hôm_nay',\n",
              " 'trứng',\n",
              " 'bướm',\n",
              " 'trò_chơi',\n",
              " 'electron',\n",
              " 'kính_hiển_vi',\n",
              " 'truyền_thống',\n",
              " 'lớp',\n",
              " 'sự_cố',\n",
              " 'hợp_đồng',\n",
              " 'ruột_thừa',\n",
              " 'trường_học',\n",
              " 'địa_điểm',\n",
              " 'côn_trùng',\n",
              " 'câu',\n",
              " 'bản_chất',\n",
              " 'giải_pháp',\n",
              " 'nguồn',\n",
              " 'nước_ngầm',\n",
              " 'quan_hệ',\n",
              " 'kho',\n",
              " 'chuột_nhắt',\n",
              " 'nhịp',\n",
              " 'giáp',\n",
              " 'đơn_vị',\n",
              " 'vấn_đề',\n",
              " 'men',\n",
              " 'nhà_tư_tưởng',\n",
              " 'bang',\n",
              " 'hải_quân',\n",
              " 'sách_đỏ',\n",
              " 'cơ_sở',\n",
              " 'nước_ngọt',\n",
              " 'thần_học',\n",
              " 'sao_Hoả',\n",
              " 'nông_nghiệp',\n",
              " 'vi_sinh_vật',\n",
              " 'tóc',\n",
              " 'đất_liền',\n",
              " 'lực_lượng',\n",
              " 'kinh',\n",
              " 'đoạn',\n",
              " 'giáo',\n",
              " 'phạm_vi',\n",
              " 'công_nghệ_sinh_học',\n",
              " 'khung',\n",
              " 'bằng_chứng',\n",
              " 'cỏ',\n",
              " 'ngựa',\n",
              " 'sinh_quyển',\n",
              " 'tồn',\n",
              " 'chính_sách',\n",
              " 'hoàng_hôn',\n",
              " 'chủ_đề',\n",
              " 'hoá_học',\n",
              " 'nhân_vật',\n",
              " 'quý',\n",
              " 'hiến_pháp',\n",
              " 'kỉ_luật',\n",
              " 'âm_thanh',\n",
              " 'thành_phần',\n",
              " 'quá_trình',\n",
              " 'ý_tưởng',\n",
              " 'bên',\n",
              " 'áo',\n",
              " 'nguy_cơ',\n",
              " 'cảnh_báo',\n",
              " 'lô',\n",
              " 'địa_chỉ',\n",
              " 'tháp',\n",
              " 'công_viên',\n",
              " 'chùa',\n",
              " 'lãnh_thổ',\n",
              " 'quần_đảo',\n",
              " 'chủ_quyền',\n",
              " 'mét_vuông',\n",
              " 'công_nghiệp',\n",
              " 'thị_xã',\n",
              " 'bề_mặt',\n",
              " 'quảng_trường',\n",
              " 'tây',\n",
              " 'bán_đảo',\n",
              " 'bao',\n",
              " 'Vinh',\n",
              " 'tích',\n",
              " 'sân_bay',\n",
              " 'đường',\n",
              " 'đại_dương',\n",
              " 'địa_danh',\n",
              " 'vĩ_độ',\n",
              " 'vĩ_tuyến',\n",
              " 'bản_đồ',\n",
              " 'toạ_độ',\n",
              " 'kinh_độ',\n",
              " 'bưu_điện',\n",
              " 'nền',\n",
              " 'hang',\n",
              " 'làng',\n",
              " 'thuỷ_điện',\n",
              " 'ngói',\n",
              " 'thị_trấn',\n",
              " 'Đại_La',\n",
              " 'di_tích',\n",
              " 'vườn_quốc_gia',\n",
              " 'quỷ',\n",
              " 'cờ',\n",
              " 'cụ',\n",
              " 'phố',\n",
              " 'dân_tộc_học',\n",
              " 'quần_thể',\n",
              " 'cổ',\n",
              " 'thời_đại',\n",
              " 'cực',\n",
              " 'đồi',\n",
              " 'tuyết',\n",
              " 'chợ_nổi',\n",
              " 'hàng_đầu',\n",
              " 'cạnh',\n",
              " 'đậu',\n",
              " 'bảo_tàng',\n",
              " 'tổ_tiên',\n",
              " 'giám_đốc',\n",
              " 'giám_đốc_điều_hành',\n",
              " 'cánh',\n",
              " 'trách_nhiệm',\n",
              " 'thị_trường',\n",
              " 'lúc',\n",
              " 'hội',\n",
              " 'đồng_minh',\n",
              " 'báo',\n",
              " 'chèo',\n",
              " 'sản',\n",
              " 'liên_hiệp',\n",
              " 'nhân',\n",
              " 'than',\n",
              " 'tạp_chí',\n",
              " 'triều_đại',\n",
              " 'nhà_văn',\n",
              " 'cộng_sản',\n",
              " 'giải_thưởng',\n",
              " 'Đạo_giáo',\n",
              " 'trụ_sở',\n",
              " 'lợi_nhuận',\n",
              " 'sở_hữu',\n",
              " 'tết',\n",
              " 'quân',\n",
              " 'dòng_điện',\n",
              " 'vị',\n",
              " 'kẽm',\n",
              " 'mét',\n",
              " 'bánh_chưng',\n",
              " 'nguyên_liệu',\n",
              " 'đêm',\n",
              " 'biểu_tượng',\n",
              " 'đạo',\n",
              " 'kế_hoạch',\n",
              " 'bom_nguyên_tử',\n",
              " 'bờ',\n",
              " 'bia',\n",
              " 'Khúc_Thừa_Dụ',\n",
              " 'nghệ_thuật',\n",
              " 'đơn',\n",
              " 'món',\n",
              " 'dịp',\n",
              " 'xích_đạo',\n",
              " 'bảng_chữ_cái',\n",
              " 'bóng',\n",
              " 'hành_khách',\n",
              " 'xe_đạp',\n",
              " 'chặng',\n",
              " 'bán_cầu',\n",
              " 'Hoan_Châu',\n",
              " 'kịch',\n",
              " 'khối_lượng',\n",
              " 'đá_quý',\n",
              " 'định_luật',\n",
              " 'rượu',\n",
              " 'đạo_diễn',\n",
              " 'sáng',\n",
              " 'thầy',\n",
              " 'bước_sóng',\n",
              " 'thuật_ngữ',\n",
              " 'cửa_khẩu',\n",
              " 'giao_thông',\n",
              " 'lưu_vực',\n",
              " 'ngành',\n",
              " 'khí_đốt',\n",
              " 'cá_sấu',\n",
              " 'ngăn',\n",
              " 'sân_khấu',\n",
              " 'văn_học',\n",
              " 'trăng',\n",
              " 'đường_kính',\n",
              " 'Ngày_nay',\n",
              " 'em',\n",
              " 'dãy',\n",
              " 'ranh_giới',\n",
              " 'thư_viện',\n",
              " 'điệu',\n",
              " 'chân',\n",
              " 'thế_kỉ',\n",
              " 'động',\n",
              " 'hè',\n",
              " 'quê',\n",
              " 'đời',\n",
              " 'quốc_hiệu',\n",
              " 'nhiệm_vụ',\n",
              " 'lĩnh_vực',\n",
              " 'danh_sách',\n",
              " 'độ_ẩm',\n",
              " 'núi_lửa',\n",
              " 'đỉnh_cao',\n",
              " 'sứ',\n",
              " 'trung_tâm',\n",
              " 'công_suất',\n",
              " 'kiến_trúc_sư',\n",
              " 'bông',\n",
              " 'tình_dục',\n",
              " 'hà_mã',\n",
              " 'thuốc_lá',\n",
              " 'ung_thư',\n",
              " 'kì',\n",
              " 'bom',\n",
              " 'thứ_bảy',\n",
              " 'bộ_phận',\n",
              " 'cao_su',\n",
              " 'liên_minh',\n",
              " 'sa_mạc',\n",
              " 'luật_chơi',\n",
              " 'đào',\n",
              " 'cá_heo',\n",
              " 'số_lượng',\n",
              " 'trang_phục',\n",
              " 'chúa',\n",
              " 'tiềm_năng',\n",
              " 'xe_tăng',\n",
              " 'công_chúa',\n",
              " 'vòng',\n",
              " 'sự_nghiệp',\n",
              " 'tục',\n",
              " 'cá',\n",
              " 'trần',\n",
              " 'hươu_cao_cổ',\n",
              " 'máy_in',\n",
              " 'khả_năng',\n",
              " 'thành',\n",
              " 'phát_minh',\n",
              " 'vận_động_viên',\n",
              " 'ngư_nghiệp',\n",
              " 'kênh',\n",
              " 'đại_tướng',\n",
              " 'chồng',\n",
              " 'máy_phát_điện',\n",
              " 'tiền_thân',\n",
              " 'thân',\n",
              " 'pháo',\n",
              " 'chiến_dịch',\n",
              " 'tỏi',\n",
              " 'phở',\n",
              " 'thủ_phủ',\n",
              " 'lửng',\n",
              " 'mật',\n",
              " 'nghề',\n",
              " 'nhạc',\n",
              " 'tình_yêu',\n",
              " 'Trung_thu',\n",
              " 'lễ_hội',\n",
              " 'liên_đoàn',\n",
              " 'bậc',\n",
              " 'lái',\n",
              " 'đá_vôi',\n",
              " 'tuyến',\n",
              " 'thần_thoại',\n",
              " 'hàm',\n",
              " 'học_giả',\n",
              " 'quốc_tịch',\n",
              " 'hang_động',\n",
              " 'mực',\n",
              " 'phường',\n",
              " 'dòng',\n",
              " 'cảm_hứng',\n",
              " 'muối',\n",
              " 'thẻ_đỏ',\n",
              " 'chữ_viết',\n",
              " 'quặng',\n",
              " 'sản_lượng',\n",
              " 'vải_thiều',\n",
              " 'anh_hùng',\n",
              " 'ảnh',\n",
              " 'quá_khứ',\n",
              " 'kem',\n",
              " 'tranh_dân_gian',\n",
              " 'thể',\n",
              " 'trọng_lực',\n",
              " 'tuần_lộc',\n",
              " 'điện',\n",
              " 'trời',\n",
              " 'lượt',\n",
              " 'tê_tê',\n",
              " 'đại_lượng',\n",
              " 'nóc',\n",
              " 'bí_danh',\n",
              " 'nhiệt_kế',\n",
              " 'không',\n",
              " 'nông_dân',\n",
              " 'dầu_mỏ',\n",
              " 'thiên_nhiên',\n",
              " 'mỡ',\n",
              " 'ông',\n",
              " 'lăng',\n",
              " 'căn_cứ',\n",
              " 'nữ_thần',\n",
              " 'động_cơ_đốt_trong',\n",
              " 'cơm',\n",
              " 'nhánh',\n",
              " 'nhiệt_độ',\n",
              " 'nhôm',\n",
              " 'vai',\n",
              " 'máy_tính_cá_nhân',\n",
              " 'vỏ',\n",
              " 'áp_suất',\n",
              " 'dặm',\n",
              " 'chức_vụ',\n",
              " 'tuần',\n",
              " 'tàu_sân_bay',\n",
              " 'cảng',\n",
              " 'nguyên_tử',\n",
              " 'thiên_tài',\n",
              " 'tên_lửa_đạn_đạo',\n",
              " 'cây_cảnh',\n",
              " 'phân_tử',\n",
              " 'vốn',\n",
              " 'sân',\n",
              " 'hướng',\n",
              " 'thời_kì',\n",
              " 'chuyện',\n",
              " 'nhạc_cụ',\n",
              " 'giai_thoại',\n",
              " 'pháp_luật',\n",
              " 'trục',\n",
              " 'tầng',\n",
              " 'danh_từ',\n",
              " 'thuốc',\n",
              " 'kháng_sinh',\n",
              " 'chòm_sao',\n",
              " 'đình',\n",
              " 'khách',\n",
              " 'can',\n",
              " 'tai_nạn',\n",
              " 'đường_bộ',\n",
              " 'màn_hình',\n",
              " 'tuyến_tiền_liệt',\n",
              " 'hội_hoạ',\n",
              " 'khí',\n",
              " 'đa_số',\n",
              " 'dân_tộc_thiểu_số',\n",
              " 'viêm',\n",
              " 'gan',\n",
              " 'rượu_vang',\n",
              " 'bánh_đậu_xanh',\n",
              " 'đặc_sản',\n",
              " 'thần_tượng',\n",
              " 'cọc',\n",
              " 'em_trai',\n",
              " 'thứ_sáu',\n",
              " 'công_thức',\n",
              " 'hình_tượng',\n",
              " 'đế',\n",
              " 'tần_số',\n",
              " 'trọng_tài',\n",
              " 'hình_vị',\n",
              " 'thương_hiệu',\n",
              " 'tay',\n",
              " 'dịch',\n",
              " 'san_hô',\n",
              " 'chu_kì',\n",
              " 'răng',\n",
              " 'thuốc_nổ',\n",
              " 'binh_chủng',\n",
              " 'thiên_hà',\n",
              " 'gia_vị',\n",
              " 'sao',\n",
              " 'kim_tự_tháp',\n",
              " 'giáo_hội',\n",
              " 'phương_pháp',\n",
              " 'trạng_thái',\n",
              " 'bệnh_dịch',\n",
              " 'hạch',\n",
              " 'mắt',\n",
              " 'kiến',\n",
              " 'mốc',\n",
              " 'da',\n",
              " 'hình_học_giải_tích',\n",
              " 'phiên_bản',\n",
              " 'cộng_đồng',\n",
              " 'hiệp_định',\n",
              " 'bụng',\n",
              " 'nước_ngoài',\n",
              " 'thể_tích',\n",
              " 'toán',\n",
              " 'cá_bơn',\n",
              " 'cơ',\n",
              " 'roi',\n",
              " 'đặc_trưng',\n",
              " 'cải_lương',\n",
              " 'tổng_bí_thư',\n",
              " 'tên_huý',\n",
              " 'hải_cẩu',\n",
              " 'dơi',\n",
              " 'băng',\n",
              " 'tín_ngưỡng',\n",
              " 'ngôi',\n",
              " 'ong',\n",
              " 'đàn',\n",
              " 'địa_cầu',\n",
              " 'đường_sắt',\n",
              " 'thực_phẩm',\n",
              " 'quan_niệm',\n",
              " 'hình_học',\n",
              " 'hình_chóp',\n",
              " 'đĩa',\n",
              " 'mầm',\n",
              " 'không_khí',\n",
              " 'mã_hiệu',\n",
              " 'vải',\n",
              " 'địa_đạo',\n",
              " 'góc',\n",
              " 'quy_mô',\n",
              " 'lệ',\n",
              " 'nắng',\n",
              " 'ban_mai',\n",
              " 'nhiệm_kì',\n",
              " 'tàu_điện_ngầm',\n",
              " 'lông',\n",
              " 'vũ_khí_hạt_nhân',\n",
              " 'hiệu_lực',\n",
              " 'ong_thợ',\n",
              " 'đồn',\n",
              " 'âm_lịch',\n",
              " 'số_một',\n",
              " 'pin',\n",
              " 'ô_tô',\n",
              " 'bộ_trưởng',\n",
              " 'mối',\n",
              " 'dung_dịch',\n",
              " 'trăn',\n",
              " 'khách_sạn',\n",
              " 'chứng_khoán',\n",
              " 'giảng',\n",
              " 'kĩ_thuật',\n",
              " 'y_học',\n",
              " 'nô_lệ',\n",
              " 'bản',\n",
              " 'đối_tượng',\n",
              " 'dấu_tích',\n",
              " 'đường_bay',\n",
              " 'phim_nổi',\n",
              " 'đồng_bào',\n",
              " 'tư_liệu',\n",
              " 'dây',\n",
              " 'tên_hiệu',\n",
              " 'bất_động_sản',\n",
              " 'hố',\n",
              " 'chuỗi',\n",
              " 'thức_ăn',\n",
              " 'đấu_trường',\n",
              " 'phim_truyền_hình',\n",
              " 'diều',\n",
              " 'phim_tài_liệu',\n",
              " 'truyền_hình',\n",
              " 'ruồi',\n",
              " 'nguyên_âm',\n",
              " 'hỗn_hợp',\n",
              " 'tài',\n",
              " 'thủ_môn',\n",
              " 'hình_ảnh',\n",
              " 'bóng_đèn',\n",
              " 'hộp',\n",
              " 'ao',\n",
              " 'cổ_phiếu',\n",
              " 'ông_già',\n",
              " 'ngữ_văn',\n",
              " 'tàu_ngầm',\n",
              " 'tổ_hợp',\n",
              " 'tên_lửa',\n",
              " 'cừu',\n",
              " 'kính_viễn_vọng',\n",
              " 'chủ_nghĩa_cộng_sản',\n",
              " 'căn_hộ',\n",
              " 'thói',\n",
              " 'uỷ_viên',\n",
              " 'kỉ_lục',\n",
              " 'đồng_vị',\n",
              " 'hợp_chất',\n",
              " 'tạng',\n",
              " 'hạng',\n",
              " 'độ_pH',\n",
              " 'bánh_mì',\n",
              " 'phản_ứng',\n",
              " 'hạt_nhân',\n",
              " 'hiệu_trưởng',\n",
              " 'thuyền_trưởng',\n",
              " 'mí',\n",
              " 'thắng_lợi',\n",
              " 'thổ_ngữ',\n",
              " 'nhựa',\n",
              " 'quy_ước',\n",
              " 'chì',\n",
              " 'than_đá',\n",
              " 'hàng_hải',\n",
              " 'dinh',\n",
              " 'tường',\n",
              " 'bảng',\n",
              " 'cá_rô_phi',\n",
              " 'dây_tóc',\n",
              " 'đê',\n",
              " 'đồng_hồ_quả_lắc',\n",
              " 'phản_ứng_hoá_học',\n",
              " 'quái_vật',\n",
              " 'gạo',\n",
              " 'giọng',\n",
              " 'sâu_bọ',\n",
              " 'mì',\n",
              " 'lối',\n",
              " 'tiền_giấy',\n",
              " 'cháu',\n",
              " 'hợp_lưu',\n",
              " 'quốc_lộ',\n",
              " 'ngô',\n",
              " 'vận_tải',\n",
              " 'hệ_điều_hành',\n",
              " 'thuốc_súng',\n",
              " 'tước',\n",
              " 'công_cụ',\n",
              " 'chấn_động',\n",
              " 'đai',\n",
              " 'đèo',\n",
              " 'dấu',\n",
              " 'bằng',\n",
              " 'phương_trình',\n",
              " 'đại_số',\n",
              " 'khinh_khí_cầu',\n",
              " 'lưu_lượng',\n",
              " 'kinh_tuyến',\n",
              " 'sản_phẩm',\n",
              " 'đề_tài',\n",
              " 'chuyến',\n",
              " 'trang_trại',\n",
              " 'lao',\n",
              " 'chân_dung',\n",
              " 'chiến_sĩ',\n",
              " 'công_cuộc',\n",
              " 'bóng_rổ',\n",
              " 'phim_hoạt_hình',\n",
              " 'ngày_xưa',\n",
              " 'số_nguyên',\n",
              " 'chi_phí',\n",
              " 'nhân_sư',\n",
              " 'chương',\n",
              " 'cử_tri',\n",
              " 'ga',\n",
              " 'nhật_thực',\n",
              " 'vé',\n",
              " 'bánh_cuốn',\n",
              " 'bước',\n",
              " 'đường_thuỷ',\n",
              " 'bằng_sáng_chế',\n",
              " 'hệ_số',\n",
              " 'sa_đoạ',\n",
              " 'kỉ',\n",
              " 'toà_án',\n",
              " 'gang',\n",
              " 'doanh_nghiệp',\n",
              " 'bản_sao',\n",
              " 'ách',\n",
              " 'quyển',\n",
              " 'tuyển',\n",
              " 'thảm',\n",
              " 'chợ',\n",
              " 'động_vật_nguyên_sinh',\n",
              " 'chủ_nhật',\n",
              " 'hàng_hoá',\n",
              " 'đồng_chí',\n",
              " 'thiết_bị',\n",
              " 'cửa',\n",
              " 'nghệ_danh',\n",
              " 'ý',\n",
              " 'mít_tinh',\n",
              " 'thuỷ_ngân',\n",
              " 'bụi',\n",
              " 'mảng',\n",
              " 'thập_niên',\n",
              " 'gian',\n",
              " 'ban_đêm',\n",
              " 'chiến_trường',\n",
              " 'váy',\n",
              " 'chất_lỏng',\n",
              " 'quân_phục',\n",
              " 'tử_cung',\n",
              " 'máy_ảnh',\n",
              " 'đường_thẳng',\n",
              " 'răng_sữa',\n",
              " 'nhà_nghỉ',\n",
              " 'phi_công',\n",
              " 'buồng_lái',\n",
              " 'bình',\n",
              " 'lượng',\n",
              " 'phòng_thí_nghiệm',\n",
              " 'cần_sa',\n",
              " 'trưa',\n",
              " 'lứa',\n",
              " 'hải_cảng',\n",
              " 'lệnh',\n",
              " 'vũ_khí',\n",
              " 'di_chỉ',\n",
              " 'chu_vi',\n",
              " 'hiệu_điện_thế',\n",
              " 'cõi',\n",
              " 'ca',\n",
              " 'vườn',\n",
              " 'chuẩn',\n",
              " 'sóng_thần',\n",
              " 'tố',\n",
              " 'cảnh',\n",
              " 'lưỡi',\n",
              " 'trí_tuệ_nhân_tạo',\n",
              " 'bối_cảnh',\n",
              " 'bùa',\n",
              " 'ban_ngày',\n",
              " 'lăng_mộ',\n",
              " 'đường_biển',\n",
              " 'thang_máy',\n",
              " 'tem',\n",
              " 'đá_ong',\n",
              " 'đợt',\n",
              " 'tháng_giêng',\n",
              " 'bộ_máy',\n",
              " 'sơn',\n",
              " 'thành_tích',\n",
              " 'lí_do',\n",
              " 'Bế_Văn_Đàn',\n",
              " 'con_cái',\n",
              " 'mẫu',\n",
              " 'sinh_nhật',\n",
              " 'phiến',\n",
              " 'chú',\n",
              " 'Nông',\n",
              " 'văn',\n",
              " 'nương',\n",
              " 'đường_cao',\n",
              " 'cối_xay_gió',\n",
              " 'liệt_sĩ',\n",
              " 'cân',\n",
              " 'huấn_luyện_viên',\n",
              " 'nhiễm_trùng',\n",
              " 'hầm',\n",
              " 'kích_thích',\n",
              " 'công_ước',\n",
              " 'tư_tưởng',\n",
              " 'người_thân',\n",
              " 'samurai',\n",
              " 'hạt_giống',\n",
              " 'hậu_quả',\n",
              " 'móng',\n",
              " 'dê',\n",
              " 'giả_thuyết',\n",
              " 'nửa',\n",
              " 'hoang_mạc',\n",
              " 'mũi',\n",
              " 'đường_hầm',\n",
              " 'thung_lũng',\n",
              " ...]"
            ]
          },
          "metadata": {},
          "execution_count": 13
        }
      ]
    },
    {
      "cell_type": "code",
      "execution_count": 14,
      "metadata": {
        "id": "5fgpgYz1sFIN",
        "colab": {
          "base_uri": "https://localhost:8080/"
        },
        "outputId": "632f5fbc-753a-46bc-e419-9d4a94d74a0c"
      },
      "outputs": [
        {
          "output_type": "execute_result",
          "data": {
            "text/plain": [
              "{'Sắt trong bảng_tuần_hoàn nguyên_tố có ký_hiệu là gì': {'các': 0.3392196297645569,\n",
              "  'một': 0.05523262172937393,\n",
              "  'một_số': 0.042399562895298004,\n",
              "  'mỗi': 0.03321625664830208,\n",
              "  'bảng': 0.02151305042207241,\n",
              "  '12': 0.017731256783008575,\n",
              "  'danh_sách': 0.0145685700699687,\n",
              "  'từng': 0.013349059037864208,\n",
              "  'đơn_vị': 0.009762236848473549,\n",
              "  'thang': 0.0095831835642457,\n",
              "  'kim_loại': 0.009042621590197086,\n",
              "  'Danh_mục': 0.00890886690467596,\n",
              "  'danh_mục': 0.008538763038814068,\n",
              "  'tên': 0.008100900799036026,\n",
              "  'Danh_sách': 0.006190301384776831,\n",
              "  'nhóm': 0.00531575595960021,\n",
              "  'tiền': 0.00519832968711853,\n",
              "  '5': 0.004181702621281147,\n",
              "  'số': 0.003996408078819513,\n",
              "  'bảng_chữ_cái': 0.0038079554215073586,\n",
              "  'lue': 0.0037019187584519386,\n",
              "  'nguyên_tố': 0.0029346486553549767,\n",
              "  'phép': 0.0029044905677437782,\n",
              "  'Khoa_học_Tự_nhiên': 0.002897340338677168,\n",
              "  'nhiều': 0.0028677203226834536,\n",
              "  'những': 0.0028004616033285856,\n",
              "  'hệ': 0.002705588238313794,\n",
              "  'Các': 0.0026757712475955486,\n",
              "  'tổng_số': 0.00265068793669343,\n",
              "  'tiêu_chuẩn': 0.002528509357944131,\n",
              "  'Bảng': 0.002453629160299897,\n",
              "  '9': 0.0022684645373374224,\n",
              "  'SI': 0.0021713594906032085,\n",
              "  'Tên': 0.001903653610497713,\n",
              "  'dung_dịch': 0.0018435822566971183,\n",
              "  'phân_loại': 0.0016851063119247556,\n",
              "  'nguyên_tử': 0.0016423513879999518,\n",
              "  '1': 0.007166036870330572,\n",
              "  '7': 0.0026356091257184744},\n",
              " 'Vàng có số_nguyên tử mấy trong bảng_tuần_hoàn': {'...': 0.013940470293164253,\n",
              "  '</s>': 0.0016993514727801085,\n",
              "  '…': 0.0007081114454194903,\n",
              "  'tài_khoản': 0.0005372605519369245,\n",
              "  'nước': 0.0005217622965574265,\n",
              "  '....': 0.0004294925311114639,\n",
              "  '1': 0.0003977713640779257,\n",
              "  'bảng': 0.0003947538207285106,\n",
              "  'ngân_hàng': 0.0003933975240215659,\n",
              "  'số': 0.00037374329986050725,\n",
              "  'VN30': 0.00032941988320089877,\n",
              "  'ngày': 0.0002903673448599875,\n",
              "  'đó': 0.0002552307560108602,\n",
              "  'mã': 0.0002551509242039174,\n",
              "  'một': 0.00021276006009429693,\n",
              "  'năm': 0.00019639181846287102,\n",
              "  'TP.HCM.': 0.00016944666276685894,\n",
              "  '..': 0.00015346147119998932,\n",
              "  'danh_sách': 0.00014401653606910259,\n",
              "  'tháng': 0.0001390012475894764,\n",
              "  'kho': 0.00011595364048844203,\n",
              "  'sổ': 0.00011567927140276879,\n",
              "  'bài': 0.00011350601562298834,\n",
              "  'top': 0.00010983578249579296,\n",
              "  'tuần': 0.00010124628170160577,\n",
              "  '10': 9.918323485180736e-05,\n",
              "  'biểu_đồ': 9.81808771030046e-05,\n",
              "  'thì': 9.503582259640098e-05,\n",
              "  'cửa_hàng': 8.931545744417235e-05,\n",
              "  'đời': 8.80991283338517e-05,\n",
              "  'thế_giới': 8.672459807712585e-05,\n",
              "  'lịch_sử': 8.040127431740984e-05,\n",
              "  '.net.': 7.82990173320286e-05,\n",
              "  'kinh_doanh': 7.612966146552935e-05,\n",
              "  'thiên_hạ': 7.321757584577426e-05,\n",
              "  'các': 7.11439352016896e-05,\n",
              "  'SJC': 7.085244578775018e-05,\n",
              "  'tự_nhiên': 6.977767043281347e-05,\n",
              "  'tổng_số': 0.00018793492927215993,\n",
              "  'trường_hợp': 8.10318742878735e-05}}"
            ]
          },
          "metadata": {},
          "execution_count": 14
        }
      ],
      "source": [
        "synonym_dict['bảng_tuần_hoàn']"
      ]
    },
    {
      "cell_type": "code",
      "source": [],
      "metadata": {
        "id": "KLoUBXrKtdAx"
      },
      "execution_count": null,
      "outputs": []
    }
  ],
  "metadata": {
    "accelerator": "GPU",
    "colab": {
      "machine_shape": "hm",
      "provenance": [],
      "authorship_tag": "ABX9TyPROX3mHB0ifgehp7h9BOQi",
      "include_colab_link": true
    },
    "gpuClass": "standard",
    "kernelspec": {
      "display_name": "Python 3",
      "name": "python3"
    },
    "language_info": {
      "name": "python"
    },
    "widgets": {
      "application/vnd.jupyter.widget-state+json": {
        "ebbc070bf2cb4bbdb7d8639db72f7da1": {
          "model_module": "@jupyter-widgets/controls",
          "model_name": "HBoxModel",
          "model_module_version": "1.5.0",
          "state": {
            "_dom_classes": [],
            "_model_module": "@jupyter-widgets/controls",
            "_model_module_version": "1.5.0",
            "_model_name": "HBoxModel",
            "_view_count": null,
            "_view_module": "@jupyter-widgets/controls",
            "_view_module_version": "1.5.0",
            "_view_name": "HBoxView",
            "box_style": "",
            "children": [
              "IPY_MODEL_11069fb3e90940c69a11c13d1b9af8dc",
              "IPY_MODEL_b872faa5821f4d1f995739ffbe7f3bee",
              "IPY_MODEL_9398498b082a496499f902ffb0047573"
            ],
            "layout": "IPY_MODEL_54bab0e406ba49af9994714e0ec16f05"
          }
        },
        "11069fb3e90940c69a11c13d1b9af8dc": {
          "model_module": "@jupyter-widgets/controls",
          "model_name": "HTMLModel",
          "model_module_version": "1.5.0",
          "state": {
            "_dom_classes": [],
            "_model_module": "@jupyter-widgets/controls",
            "_model_module_version": "1.5.0",
            "_model_name": "HTMLModel",
            "_view_count": null,
            "_view_module": "@jupyter-widgets/controls",
            "_view_module_version": "1.5.0",
            "_view_name": "HTMLView",
            "description": "",
            "description_tooltip": null,
            "layout": "IPY_MODEL_a4c3c9cda34b44ee9a6edeeb758521bf",
            "placeholder": "​",
            "style": "IPY_MODEL_6d067a81686f40c080508310b165d9f5",
            "value": "Downloading: 100%"
          }
        },
        "b872faa5821f4d1f995739ffbe7f3bee": {
          "model_module": "@jupyter-widgets/controls",
          "model_name": "FloatProgressModel",
          "model_module_version": "1.5.0",
          "state": {
            "_dom_classes": [],
            "_model_module": "@jupyter-widgets/controls",
            "_model_module_version": "1.5.0",
            "_model_name": "FloatProgressModel",
            "_view_count": null,
            "_view_module": "@jupyter-widgets/controls",
            "_view_module_version": "1.5.0",
            "_view_name": "ProgressView",
            "bar_style": "success",
            "description": "",
            "description_tooltip": null,
            "layout": "IPY_MODEL_e0006c816c1244b2a47682871c2e8277",
            "max": 557,
            "min": 0,
            "orientation": "horizontal",
            "style": "IPY_MODEL_6d51f311ebb44c83af9fda4555d58b07",
            "value": 557
          }
        },
        "9398498b082a496499f902ffb0047573": {
          "model_module": "@jupyter-widgets/controls",
          "model_name": "HTMLModel",
          "model_module_version": "1.5.0",
          "state": {
            "_dom_classes": [],
            "_model_module": "@jupyter-widgets/controls",
            "_model_module_version": "1.5.0",
            "_model_name": "HTMLModel",
            "_view_count": null,
            "_view_module": "@jupyter-widgets/controls",
            "_view_module_version": "1.5.0",
            "_view_name": "HTMLView",
            "description": "",
            "description_tooltip": null,
            "layout": "IPY_MODEL_aaa6f8155f384692a179940501177e9b",
            "placeholder": "​",
            "style": "IPY_MODEL_d775ad04cbb6496b9df26a5cbb54ad7d",
            "value": " 557/557 [00:00&lt;00:00, 12.1kB/s]"
          }
        },
        "54bab0e406ba49af9994714e0ec16f05": {
          "model_module": "@jupyter-widgets/base",
          "model_name": "LayoutModel",
          "model_module_version": "1.2.0",
          "state": {
            "_model_module": "@jupyter-widgets/base",
            "_model_module_version": "1.2.0",
            "_model_name": "LayoutModel",
            "_view_count": null,
            "_view_module": "@jupyter-widgets/base",
            "_view_module_version": "1.2.0",
            "_view_name": "LayoutView",
            "align_content": null,
            "align_items": null,
            "align_self": null,
            "border": null,
            "bottom": null,
            "display": null,
            "flex": null,
            "flex_flow": null,
            "grid_area": null,
            "grid_auto_columns": null,
            "grid_auto_flow": null,
            "grid_auto_rows": null,
            "grid_column": null,
            "grid_gap": null,
            "grid_row": null,
            "grid_template_areas": null,
            "grid_template_columns": null,
            "grid_template_rows": null,
            "height": null,
            "justify_content": null,
            "justify_items": null,
            "left": null,
            "margin": null,
            "max_height": null,
            "max_width": null,
            "min_height": null,
            "min_width": null,
            "object_fit": null,
            "object_position": null,
            "order": null,
            "overflow": null,
            "overflow_x": null,
            "overflow_y": null,
            "padding": null,
            "right": null,
            "top": null,
            "visibility": null,
            "width": null
          }
        },
        "a4c3c9cda34b44ee9a6edeeb758521bf": {
          "model_module": "@jupyter-widgets/base",
          "model_name": "LayoutModel",
          "model_module_version": "1.2.0",
          "state": {
            "_model_module": "@jupyter-widgets/base",
            "_model_module_version": "1.2.0",
            "_model_name": "LayoutModel",
            "_view_count": null,
            "_view_module": "@jupyter-widgets/base",
            "_view_module_version": "1.2.0",
            "_view_name": "LayoutView",
            "align_content": null,
            "align_items": null,
            "align_self": null,
            "border": null,
            "bottom": null,
            "display": null,
            "flex": null,
            "flex_flow": null,
            "grid_area": null,
            "grid_auto_columns": null,
            "grid_auto_flow": null,
            "grid_auto_rows": null,
            "grid_column": null,
            "grid_gap": null,
            "grid_row": null,
            "grid_template_areas": null,
            "grid_template_columns": null,
            "grid_template_rows": null,
            "height": null,
            "justify_content": null,
            "justify_items": null,
            "left": null,
            "margin": null,
            "max_height": null,
            "max_width": null,
            "min_height": null,
            "min_width": null,
            "object_fit": null,
            "object_position": null,
            "order": null,
            "overflow": null,
            "overflow_x": null,
            "overflow_y": null,
            "padding": null,
            "right": null,
            "top": null,
            "visibility": null,
            "width": null
          }
        },
        "6d067a81686f40c080508310b165d9f5": {
          "model_module": "@jupyter-widgets/controls",
          "model_name": "DescriptionStyleModel",
          "model_module_version": "1.5.0",
          "state": {
            "_model_module": "@jupyter-widgets/controls",
            "_model_module_version": "1.5.0",
            "_model_name": "DescriptionStyleModel",
            "_view_count": null,
            "_view_module": "@jupyter-widgets/base",
            "_view_module_version": "1.2.0",
            "_view_name": "StyleView",
            "description_width": ""
          }
        },
        "e0006c816c1244b2a47682871c2e8277": {
          "model_module": "@jupyter-widgets/base",
          "model_name": "LayoutModel",
          "model_module_version": "1.2.0",
          "state": {
            "_model_module": "@jupyter-widgets/base",
            "_model_module_version": "1.2.0",
            "_model_name": "LayoutModel",
            "_view_count": null,
            "_view_module": "@jupyter-widgets/base",
            "_view_module_version": "1.2.0",
            "_view_name": "LayoutView",
            "align_content": null,
            "align_items": null,
            "align_self": null,
            "border": null,
            "bottom": null,
            "display": null,
            "flex": null,
            "flex_flow": null,
            "grid_area": null,
            "grid_auto_columns": null,
            "grid_auto_flow": null,
            "grid_auto_rows": null,
            "grid_column": null,
            "grid_gap": null,
            "grid_row": null,
            "grid_template_areas": null,
            "grid_template_columns": null,
            "grid_template_rows": null,
            "height": null,
            "justify_content": null,
            "justify_items": null,
            "left": null,
            "margin": null,
            "max_height": null,
            "max_width": null,
            "min_height": null,
            "min_width": null,
            "object_fit": null,
            "object_position": null,
            "order": null,
            "overflow": null,
            "overflow_x": null,
            "overflow_y": null,
            "padding": null,
            "right": null,
            "top": null,
            "visibility": null,
            "width": null
          }
        },
        "6d51f311ebb44c83af9fda4555d58b07": {
          "model_module": "@jupyter-widgets/controls",
          "model_name": "ProgressStyleModel",
          "model_module_version": "1.5.0",
          "state": {
            "_model_module": "@jupyter-widgets/controls",
            "_model_module_version": "1.5.0",
            "_model_name": "ProgressStyleModel",
            "_view_count": null,
            "_view_module": "@jupyter-widgets/base",
            "_view_module_version": "1.2.0",
            "_view_name": "StyleView",
            "bar_color": null,
            "description_width": ""
          }
        },
        "aaa6f8155f384692a179940501177e9b": {
          "model_module": "@jupyter-widgets/base",
          "model_name": "LayoutModel",
          "model_module_version": "1.2.0",
          "state": {
            "_model_module": "@jupyter-widgets/base",
            "_model_module_version": "1.2.0",
            "_model_name": "LayoutModel",
            "_view_count": null,
            "_view_module": "@jupyter-widgets/base",
            "_view_module_version": "1.2.0",
            "_view_name": "LayoutView",
            "align_content": null,
            "align_items": null,
            "align_self": null,
            "border": null,
            "bottom": null,
            "display": null,
            "flex": null,
            "flex_flow": null,
            "grid_area": null,
            "grid_auto_columns": null,
            "grid_auto_flow": null,
            "grid_auto_rows": null,
            "grid_column": null,
            "grid_gap": null,
            "grid_row": null,
            "grid_template_areas": null,
            "grid_template_columns": null,
            "grid_template_rows": null,
            "height": null,
            "justify_content": null,
            "justify_items": null,
            "left": null,
            "margin": null,
            "max_height": null,
            "max_width": null,
            "min_height": null,
            "min_width": null,
            "object_fit": null,
            "object_position": null,
            "order": null,
            "overflow": null,
            "overflow_x": null,
            "overflow_y": null,
            "padding": null,
            "right": null,
            "top": null,
            "visibility": null,
            "width": null
          }
        },
        "d775ad04cbb6496b9df26a5cbb54ad7d": {
          "model_module": "@jupyter-widgets/controls",
          "model_name": "DescriptionStyleModel",
          "model_module_version": "1.5.0",
          "state": {
            "_model_module": "@jupyter-widgets/controls",
            "_model_module_version": "1.5.0",
            "_model_name": "DescriptionStyleModel",
            "_view_count": null,
            "_view_module": "@jupyter-widgets/base",
            "_view_module_version": "1.2.0",
            "_view_name": "StyleView",
            "description_width": ""
          }
        },
        "f7826b39eb3d4681838675fda44f746f": {
          "model_module": "@jupyter-widgets/controls",
          "model_name": "HBoxModel",
          "model_module_version": "1.5.0",
          "state": {
            "_dom_classes": [],
            "_model_module": "@jupyter-widgets/controls",
            "_model_module_version": "1.5.0",
            "_model_name": "HBoxModel",
            "_view_count": null,
            "_view_module": "@jupyter-widgets/controls",
            "_view_module_version": "1.5.0",
            "_view_name": "HBoxView",
            "box_style": "",
            "children": [
              "IPY_MODEL_ff0d543ab4634b33888b9fe659747807",
              "IPY_MODEL_eb5b8392c10f42ecb218023a868fbe08",
              "IPY_MODEL_6ddf709897f947f79fc1b267d2c1da7f"
            ],
            "layout": "IPY_MODEL_7d7e256ce8ef42f9bd82991fdee6ac98"
          }
        },
        "ff0d543ab4634b33888b9fe659747807": {
          "model_module": "@jupyter-widgets/controls",
          "model_name": "HTMLModel",
          "model_module_version": "1.5.0",
          "state": {
            "_dom_classes": [],
            "_model_module": "@jupyter-widgets/controls",
            "_model_module_version": "1.5.0",
            "_model_name": "HTMLModel",
            "_view_count": null,
            "_view_module": "@jupyter-widgets/controls",
            "_view_module_version": "1.5.0",
            "_view_name": "HTMLView",
            "description": "",
            "description_tooltip": null,
            "layout": "IPY_MODEL_b3c9542e30154d4395cc003baff355d9",
            "placeholder": "​",
            "style": "IPY_MODEL_42b1b992601d427ca6269d6382914cbd",
            "value": "Downloading: 100%"
          }
        },
        "eb5b8392c10f42ecb218023a868fbe08": {
          "model_module": "@jupyter-widgets/controls",
          "model_name": "FloatProgressModel",
          "model_module_version": "1.5.0",
          "state": {
            "_dom_classes": [],
            "_model_module": "@jupyter-widgets/controls",
            "_model_module_version": "1.5.0",
            "_model_name": "FloatProgressModel",
            "_view_count": null,
            "_view_module": "@jupyter-widgets/controls",
            "_view_module_version": "1.5.0",
            "_view_name": "ProgressView",
            "bar_style": "success",
            "description": "",
            "description_tooltip": null,
            "layout": "IPY_MODEL_c309ea0ac4ee4195a71550eda049f23b",
            "max": 895321,
            "min": 0,
            "orientation": "horizontal",
            "style": "IPY_MODEL_9b35fd1afdfe4de1b9aa996975b09d99",
            "value": 895321
          }
        },
        "6ddf709897f947f79fc1b267d2c1da7f": {
          "model_module": "@jupyter-widgets/controls",
          "model_name": "HTMLModel",
          "model_module_version": "1.5.0",
          "state": {
            "_dom_classes": [],
            "_model_module": "@jupyter-widgets/controls",
            "_model_module_version": "1.5.0",
            "_model_name": "HTMLModel",
            "_view_count": null,
            "_view_module": "@jupyter-widgets/controls",
            "_view_module_version": "1.5.0",
            "_view_name": "HTMLView",
            "description": "",
            "description_tooltip": null,
            "layout": "IPY_MODEL_53531c04161742b4b635211ad6643ab0",
            "placeholder": "​",
            "style": "IPY_MODEL_288fecb48db04dc7b5c5ad505e5ea853",
            "value": " 895k/895k [00:00&lt;00:00, 721kB/s]"
          }
        },
        "7d7e256ce8ef42f9bd82991fdee6ac98": {
          "model_module": "@jupyter-widgets/base",
          "model_name": "LayoutModel",
          "model_module_version": "1.2.0",
          "state": {
            "_model_module": "@jupyter-widgets/base",
            "_model_module_version": "1.2.0",
            "_model_name": "LayoutModel",
            "_view_count": null,
            "_view_module": "@jupyter-widgets/base",
            "_view_module_version": "1.2.0",
            "_view_name": "LayoutView",
            "align_content": null,
            "align_items": null,
            "align_self": null,
            "border": null,
            "bottom": null,
            "display": null,
            "flex": null,
            "flex_flow": null,
            "grid_area": null,
            "grid_auto_columns": null,
            "grid_auto_flow": null,
            "grid_auto_rows": null,
            "grid_column": null,
            "grid_gap": null,
            "grid_row": null,
            "grid_template_areas": null,
            "grid_template_columns": null,
            "grid_template_rows": null,
            "height": null,
            "justify_content": null,
            "justify_items": null,
            "left": null,
            "margin": null,
            "max_height": null,
            "max_width": null,
            "min_height": null,
            "min_width": null,
            "object_fit": null,
            "object_position": null,
            "order": null,
            "overflow": null,
            "overflow_x": null,
            "overflow_y": null,
            "padding": null,
            "right": null,
            "top": null,
            "visibility": null,
            "width": null
          }
        },
        "b3c9542e30154d4395cc003baff355d9": {
          "model_module": "@jupyter-widgets/base",
          "model_name": "LayoutModel",
          "model_module_version": "1.2.0",
          "state": {
            "_model_module": "@jupyter-widgets/base",
            "_model_module_version": "1.2.0",
            "_model_name": "LayoutModel",
            "_view_count": null,
            "_view_module": "@jupyter-widgets/base",
            "_view_module_version": "1.2.0",
            "_view_name": "LayoutView",
            "align_content": null,
            "align_items": null,
            "align_self": null,
            "border": null,
            "bottom": null,
            "display": null,
            "flex": null,
            "flex_flow": null,
            "grid_area": null,
            "grid_auto_columns": null,
            "grid_auto_flow": null,
            "grid_auto_rows": null,
            "grid_column": null,
            "grid_gap": null,
            "grid_row": null,
            "grid_template_areas": null,
            "grid_template_columns": null,
            "grid_template_rows": null,
            "height": null,
            "justify_content": null,
            "justify_items": null,
            "left": null,
            "margin": null,
            "max_height": null,
            "max_width": null,
            "min_height": null,
            "min_width": null,
            "object_fit": null,
            "object_position": null,
            "order": null,
            "overflow": null,
            "overflow_x": null,
            "overflow_y": null,
            "padding": null,
            "right": null,
            "top": null,
            "visibility": null,
            "width": null
          }
        },
        "42b1b992601d427ca6269d6382914cbd": {
          "model_module": "@jupyter-widgets/controls",
          "model_name": "DescriptionStyleModel",
          "model_module_version": "1.5.0",
          "state": {
            "_model_module": "@jupyter-widgets/controls",
            "_model_module_version": "1.5.0",
            "_model_name": "DescriptionStyleModel",
            "_view_count": null,
            "_view_module": "@jupyter-widgets/base",
            "_view_module_version": "1.2.0",
            "_view_name": "StyleView",
            "description_width": ""
          }
        },
        "c309ea0ac4ee4195a71550eda049f23b": {
          "model_module": "@jupyter-widgets/base",
          "model_name": "LayoutModel",
          "model_module_version": "1.2.0",
          "state": {
            "_model_module": "@jupyter-widgets/base",
            "_model_module_version": "1.2.0",
            "_model_name": "LayoutModel",
            "_view_count": null,
            "_view_module": "@jupyter-widgets/base",
            "_view_module_version": "1.2.0",
            "_view_name": "LayoutView",
            "align_content": null,
            "align_items": null,
            "align_self": null,
            "border": null,
            "bottom": null,
            "display": null,
            "flex": null,
            "flex_flow": null,
            "grid_area": null,
            "grid_auto_columns": null,
            "grid_auto_flow": null,
            "grid_auto_rows": null,
            "grid_column": null,
            "grid_gap": null,
            "grid_row": null,
            "grid_template_areas": null,
            "grid_template_columns": null,
            "grid_template_rows": null,
            "height": null,
            "justify_content": null,
            "justify_items": null,
            "left": null,
            "margin": null,
            "max_height": null,
            "max_width": null,
            "min_height": null,
            "min_width": null,
            "object_fit": null,
            "object_position": null,
            "order": null,
            "overflow": null,
            "overflow_x": null,
            "overflow_y": null,
            "padding": null,
            "right": null,
            "top": null,
            "visibility": null,
            "width": null
          }
        },
        "9b35fd1afdfe4de1b9aa996975b09d99": {
          "model_module": "@jupyter-widgets/controls",
          "model_name": "ProgressStyleModel",
          "model_module_version": "1.5.0",
          "state": {
            "_model_module": "@jupyter-widgets/controls",
            "_model_module_version": "1.5.0",
            "_model_name": "ProgressStyleModel",
            "_view_count": null,
            "_view_module": "@jupyter-widgets/base",
            "_view_module_version": "1.2.0",
            "_view_name": "StyleView",
            "bar_color": null,
            "description_width": ""
          }
        },
        "53531c04161742b4b635211ad6643ab0": {
          "model_module": "@jupyter-widgets/base",
          "model_name": "LayoutModel",
          "model_module_version": "1.2.0",
          "state": {
            "_model_module": "@jupyter-widgets/base",
            "_model_module_version": "1.2.0",
            "_model_name": "LayoutModel",
            "_view_count": null,
            "_view_module": "@jupyter-widgets/base",
            "_view_module_version": "1.2.0",
            "_view_name": "LayoutView",
            "align_content": null,
            "align_items": null,
            "align_self": null,
            "border": null,
            "bottom": null,
            "display": null,
            "flex": null,
            "flex_flow": null,
            "grid_area": null,
            "grid_auto_columns": null,
            "grid_auto_flow": null,
            "grid_auto_rows": null,
            "grid_column": null,
            "grid_gap": null,
            "grid_row": null,
            "grid_template_areas": null,
            "grid_template_columns": null,
            "grid_template_rows": null,
            "height": null,
            "justify_content": null,
            "justify_items": null,
            "left": null,
            "margin": null,
            "max_height": null,
            "max_width": null,
            "min_height": null,
            "min_width": null,
            "object_fit": null,
            "object_position": null,
            "order": null,
            "overflow": null,
            "overflow_x": null,
            "overflow_y": null,
            "padding": null,
            "right": null,
            "top": null,
            "visibility": null,
            "width": null
          }
        },
        "288fecb48db04dc7b5c5ad505e5ea853": {
          "model_module": "@jupyter-widgets/controls",
          "model_name": "DescriptionStyleModel",
          "model_module_version": "1.5.0",
          "state": {
            "_model_module": "@jupyter-widgets/controls",
            "_model_module_version": "1.5.0",
            "_model_name": "DescriptionStyleModel",
            "_view_count": null,
            "_view_module": "@jupyter-widgets/base",
            "_view_module_version": "1.2.0",
            "_view_name": "StyleView",
            "description_width": ""
          }
        },
        "25cd587417f54cdf820c6c10199835c0": {
          "model_module": "@jupyter-widgets/controls",
          "model_name": "HBoxModel",
          "model_module_version": "1.5.0",
          "state": {
            "_dom_classes": [],
            "_model_module": "@jupyter-widgets/controls",
            "_model_module_version": "1.5.0",
            "_model_name": "HBoxModel",
            "_view_count": null,
            "_view_module": "@jupyter-widgets/controls",
            "_view_module_version": "1.5.0",
            "_view_name": "HBoxView",
            "box_style": "",
            "children": [
              "IPY_MODEL_fdb23aa9660f4730bbe0fbf27a97f829",
              "IPY_MODEL_ff576d46dc034d4c8c3dabe88c0c63be",
              "IPY_MODEL_edef101560e54830b12162818901a374"
            ],
            "layout": "IPY_MODEL_42f517d8006c4892b4884a7332ce28f2"
          }
        },
        "fdb23aa9660f4730bbe0fbf27a97f829": {
          "model_module": "@jupyter-widgets/controls",
          "model_name": "HTMLModel",
          "model_module_version": "1.5.0",
          "state": {
            "_dom_classes": [],
            "_model_module": "@jupyter-widgets/controls",
            "_model_module_version": "1.5.0",
            "_model_name": "HTMLModel",
            "_view_count": null,
            "_view_module": "@jupyter-widgets/controls",
            "_view_module_version": "1.5.0",
            "_view_name": "HTMLView",
            "description": "",
            "description_tooltip": null,
            "layout": "IPY_MODEL_74b049bf9f8e4392a8b25d0ae6d9aeb3",
            "placeholder": "​",
            "style": "IPY_MODEL_3bd4bc532ccd4a0b81960ee2a9dd5ab8",
            "value": "Downloading: 100%"
          }
        },
        "ff576d46dc034d4c8c3dabe88c0c63be": {
          "model_module": "@jupyter-widgets/controls",
          "model_name": "FloatProgressModel",
          "model_module_version": "1.5.0",
          "state": {
            "_dom_classes": [],
            "_model_module": "@jupyter-widgets/controls",
            "_model_module_version": "1.5.0",
            "_model_name": "FloatProgressModel",
            "_view_count": null,
            "_view_module": "@jupyter-widgets/controls",
            "_view_module_version": "1.5.0",
            "_view_name": "ProgressView",
            "bar_style": "success",
            "description": "",
            "description_tooltip": null,
            "layout": "IPY_MODEL_d4338464f2bd43a2924fb41c7ca870e6",
            "max": 1135173,
            "min": 0,
            "orientation": "horizontal",
            "style": "IPY_MODEL_40900526a90248bf9de72d5626606326",
            "value": 1135173
          }
        },
        "edef101560e54830b12162818901a374": {
          "model_module": "@jupyter-widgets/controls",
          "model_name": "HTMLModel",
          "model_module_version": "1.5.0",
          "state": {
            "_dom_classes": [],
            "_model_module": "@jupyter-widgets/controls",
            "_model_module_version": "1.5.0",
            "_model_name": "HTMLModel",
            "_view_count": null,
            "_view_module": "@jupyter-widgets/controls",
            "_view_module_version": "1.5.0",
            "_view_name": "HTMLView",
            "description": "",
            "description_tooltip": null,
            "layout": "IPY_MODEL_4ca9111f026d4f9dbd1a7cbde21305f2",
            "placeholder": "​",
            "style": "IPY_MODEL_cceb7c7a4efc471296df097e82b035a7",
            "value": " 1.14M/1.14M [00:00&lt;00:00, 1.26MB/s]"
          }
        },
        "42f517d8006c4892b4884a7332ce28f2": {
          "model_module": "@jupyter-widgets/base",
          "model_name": "LayoutModel",
          "model_module_version": "1.2.0",
          "state": {
            "_model_module": "@jupyter-widgets/base",
            "_model_module_version": "1.2.0",
            "_model_name": "LayoutModel",
            "_view_count": null,
            "_view_module": "@jupyter-widgets/base",
            "_view_module_version": "1.2.0",
            "_view_name": "LayoutView",
            "align_content": null,
            "align_items": null,
            "align_self": null,
            "border": null,
            "bottom": null,
            "display": null,
            "flex": null,
            "flex_flow": null,
            "grid_area": null,
            "grid_auto_columns": null,
            "grid_auto_flow": null,
            "grid_auto_rows": null,
            "grid_column": null,
            "grid_gap": null,
            "grid_row": null,
            "grid_template_areas": null,
            "grid_template_columns": null,
            "grid_template_rows": null,
            "height": null,
            "justify_content": null,
            "justify_items": null,
            "left": null,
            "margin": null,
            "max_height": null,
            "max_width": null,
            "min_height": null,
            "min_width": null,
            "object_fit": null,
            "object_position": null,
            "order": null,
            "overflow": null,
            "overflow_x": null,
            "overflow_y": null,
            "padding": null,
            "right": null,
            "top": null,
            "visibility": null,
            "width": null
          }
        },
        "74b049bf9f8e4392a8b25d0ae6d9aeb3": {
          "model_module": "@jupyter-widgets/base",
          "model_name": "LayoutModel",
          "model_module_version": "1.2.0",
          "state": {
            "_model_module": "@jupyter-widgets/base",
            "_model_module_version": "1.2.0",
            "_model_name": "LayoutModel",
            "_view_count": null,
            "_view_module": "@jupyter-widgets/base",
            "_view_module_version": "1.2.0",
            "_view_name": "LayoutView",
            "align_content": null,
            "align_items": null,
            "align_self": null,
            "border": null,
            "bottom": null,
            "display": null,
            "flex": null,
            "flex_flow": null,
            "grid_area": null,
            "grid_auto_columns": null,
            "grid_auto_flow": null,
            "grid_auto_rows": null,
            "grid_column": null,
            "grid_gap": null,
            "grid_row": null,
            "grid_template_areas": null,
            "grid_template_columns": null,
            "grid_template_rows": null,
            "height": null,
            "justify_content": null,
            "justify_items": null,
            "left": null,
            "margin": null,
            "max_height": null,
            "max_width": null,
            "min_height": null,
            "min_width": null,
            "object_fit": null,
            "object_position": null,
            "order": null,
            "overflow": null,
            "overflow_x": null,
            "overflow_y": null,
            "padding": null,
            "right": null,
            "top": null,
            "visibility": null,
            "width": null
          }
        },
        "3bd4bc532ccd4a0b81960ee2a9dd5ab8": {
          "model_module": "@jupyter-widgets/controls",
          "model_name": "DescriptionStyleModel",
          "model_module_version": "1.5.0",
          "state": {
            "_model_module": "@jupyter-widgets/controls",
            "_model_module_version": "1.5.0",
            "_model_name": "DescriptionStyleModel",
            "_view_count": null,
            "_view_module": "@jupyter-widgets/base",
            "_view_module_version": "1.2.0",
            "_view_name": "StyleView",
            "description_width": ""
          }
        },
        "d4338464f2bd43a2924fb41c7ca870e6": {
          "model_module": "@jupyter-widgets/base",
          "model_name": "LayoutModel",
          "model_module_version": "1.2.0",
          "state": {
            "_model_module": "@jupyter-widgets/base",
            "_model_module_version": "1.2.0",
            "_model_name": "LayoutModel",
            "_view_count": null,
            "_view_module": "@jupyter-widgets/base",
            "_view_module_version": "1.2.0",
            "_view_name": "LayoutView",
            "align_content": null,
            "align_items": null,
            "align_self": null,
            "border": null,
            "bottom": null,
            "display": null,
            "flex": null,
            "flex_flow": null,
            "grid_area": null,
            "grid_auto_columns": null,
            "grid_auto_flow": null,
            "grid_auto_rows": null,
            "grid_column": null,
            "grid_gap": null,
            "grid_row": null,
            "grid_template_areas": null,
            "grid_template_columns": null,
            "grid_template_rows": null,
            "height": null,
            "justify_content": null,
            "justify_items": null,
            "left": null,
            "margin": null,
            "max_height": null,
            "max_width": null,
            "min_height": null,
            "min_width": null,
            "object_fit": null,
            "object_position": null,
            "order": null,
            "overflow": null,
            "overflow_x": null,
            "overflow_y": null,
            "padding": null,
            "right": null,
            "top": null,
            "visibility": null,
            "width": null
          }
        },
        "40900526a90248bf9de72d5626606326": {
          "model_module": "@jupyter-widgets/controls",
          "model_name": "ProgressStyleModel",
          "model_module_version": "1.5.0",
          "state": {
            "_model_module": "@jupyter-widgets/controls",
            "_model_module_version": "1.5.0",
            "_model_name": "ProgressStyleModel",
            "_view_count": null,
            "_view_module": "@jupyter-widgets/base",
            "_view_module_version": "1.2.0",
            "_view_name": "StyleView",
            "bar_color": null,
            "description_width": ""
          }
        },
        "4ca9111f026d4f9dbd1a7cbde21305f2": {
          "model_module": "@jupyter-widgets/base",
          "model_name": "LayoutModel",
          "model_module_version": "1.2.0",
          "state": {
            "_model_module": "@jupyter-widgets/base",
            "_model_module_version": "1.2.0",
            "_model_name": "LayoutModel",
            "_view_count": null,
            "_view_module": "@jupyter-widgets/base",
            "_view_module_version": "1.2.0",
            "_view_name": "LayoutView",
            "align_content": null,
            "align_items": null,
            "align_self": null,
            "border": null,
            "bottom": null,
            "display": null,
            "flex": null,
            "flex_flow": null,
            "grid_area": null,
            "grid_auto_columns": null,
            "grid_auto_flow": null,
            "grid_auto_rows": null,
            "grid_column": null,
            "grid_gap": null,
            "grid_row": null,
            "grid_template_areas": null,
            "grid_template_columns": null,
            "grid_template_rows": null,
            "height": null,
            "justify_content": null,
            "justify_items": null,
            "left": null,
            "margin": null,
            "max_height": null,
            "max_width": null,
            "min_height": null,
            "min_width": null,
            "object_fit": null,
            "object_position": null,
            "order": null,
            "overflow": null,
            "overflow_x": null,
            "overflow_y": null,
            "padding": null,
            "right": null,
            "top": null,
            "visibility": null,
            "width": null
          }
        },
        "cceb7c7a4efc471296df097e82b035a7": {
          "model_module": "@jupyter-widgets/controls",
          "model_name": "DescriptionStyleModel",
          "model_module_version": "1.5.0",
          "state": {
            "_model_module": "@jupyter-widgets/controls",
            "_model_module_version": "1.5.0",
            "_model_name": "DescriptionStyleModel",
            "_view_count": null,
            "_view_module": "@jupyter-widgets/base",
            "_view_module_version": "1.2.0",
            "_view_name": "StyleView",
            "description_width": ""
          }
        },
        "ff9c2116b2f84ccfa01bd40da010461c": {
          "model_module": "@jupyter-widgets/controls",
          "model_name": "HBoxModel",
          "model_module_version": "1.5.0",
          "state": {
            "_dom_classes": [],
            "_model_module": "@jupyter-widgets/controls",
            "_model_module_version": "1.5.0",
            "_model_name": "HBoxModel",
            "_view_count": null,
            "_view_module": "@jupyter-widgets/controls",
            "_view_module_version": "1.5.0",
            "_view_name": "HBoxView",
            "box_style": "",
            "children": [
              "IPY_MODEL_d0c56ff80d4b4c8c931ea9cf48417523",
              "IPY_MODEL_480542d3a25b4a5aa6923e70379d13c8",
              "IPY_MODEL_d9c4acb36ac140d1a8cf6cf59a981086"
            ],
            "layout": "IPY_MODEL_8ae47efae2824e8ca5d8e2e09b8a507c"
          }
        },
        "d0c56ff80d4b4c8c931ea9cf48417523": {
          "model_module": "@jupyter-widgets/controls",
          "model_name": "HTMLModel",
          "model_module_version": "1.5.0",
          "state": {
            "_dom_classes": [],
            "_model_module": "@jupyter-widgets/controls",
            "_model_module_version": "1.5.0",
            "_model_name": "HTMLModel",
            "_view_count": null,
            "_view_module": "@jupyter-widgets/controls",
            "_view_module_version": "1.5.0",
            "_view_name": "HTMLView",
            "description": "",
            "description_tooltip": null,
            "layout": "IPY_MODEL_262104fa8e27445ca6dab51c73bb1f05",
            "placeholder": "​",
            "style": "IPY_MODEL_0e37545751354960b41a5fcb7b35cdb4",
            "value": "Downloading: 100%"
          }
        },
        "480542d3a25b4a5aa6923e70379d13c8": {
          "model_module": "@jupyter-widgets/controls",
          "model_name": "FloatProgressModel",
          "model_module_version": "1.5.0",
          "state": {
            "_dom_classes": [],
            "_model_module": "@jupyter-widgets/controls",
            "_model_module_version": "1.5.0",
            "_model_name": "FloatProgressModel",
            "_view_count": null,
            "_view_module": "@jupyter-widgets/controls",
            "_view_module_version": "1.5.0",
            "_view_name": "ProgressView",
            "bar_style": "success",
            "description": "",
            "description_tooltip": null,
            "layout": "IPY_MODEL_a4d68d8855974608a6f20738c3718906",
            "max": 542923308,
            "min": 0,
            "orientation": "horizontal",
            "style": "IPY_MODEL_5e1a52f10cf545e5acb2e2767ec7383b",
            "value": 542923308
          }
        },
        "d9c4acb36ac140d1a8cf6cf59a981086": {
          "model_module": "@jupyter-widgets/controls",
          "model_name": "HTMLModel",
          "model_module_version": "1.5.0",
          "state": {
            "_dom_classes": [],
            "_model_module": "@jupyter-widgets/controls",
            "_model_module_version": "1.5.0",
            "_model_name": "HTMLModel",
            "_view_count": null,
            "_view_module": "@jupyter-widgets/controls",
            "_view_module_version": "1.5.0",
            "_view_name": "HTMLView",
            "description": "",
            "description_tooltip": null,
            "layout": "IPY_MODEL_c9381ebe9bb64d7fb06c69c4ac64eb23",
            "placeholder": "​",
            "style": "IPY_MODEL_a563ca73a0de4bdb8fe0432226484634",
            "value": " 543M/543M [00:06&lt;00:00, 84.8MB/s]"
          }
        },
        "8ae47efae2824e8ca5d8e2e09b8a507c": {
          "model_module": "@jupyter-widgets/base",
          "model_name": "LayoutModel",
          "model_module_version": "1.2.0",
          "state": {
            "_model_module": "@jupyter-widgets/base",
            "_model_module_version": "1.2.0",
            "_model_name": "LayoutModel",
            "_view_count": null,
            "_view_module": "@jupyter-widgets/base",
            "_view_module_version": "1.2.0",
            "_view_name": "LayoutView",
            "align_content": null,
            "align_items": null,
            "align_self": null,
            "border": null,
            "bottom": null,
            "display": null,
            "flex": null,
            "flex_flow": null,
            "grid_area": null,
            "grid_auto_columns": null,
            "grid_auto_flow": null,
            "grid_auto_rows": null,
            "grid_column": null,
            "grid_gap": null,
            "grid_row": null,
            "grid_template_areas": null,
            "grid_template_columns": null,
            "grid_template_rows": null,
            "height": null,
            "justify_content": null,
            "justify_items": null,
            "left": null,
            "margin": null,
            "max_height": null,
            "max_width": null,
            "min_height": null,
            "min_width": null,
            "object_fit": null,
            "object_position": null,
            "order": null,
            "overflow": null,
            "overflow_x": null,
            "overflow_y": null,
            "padding": null,
            "right": null,
            "top": null,
            "visibility": null,
            "width": null
          }
        },
        "262104fa8e27445ca6dab51c73bb1f05": {
          "model_module": "@jupyter-widgets/base",
          "model_name": "LayoutModel",
          "model_module_version": "1.2.0",
          "state": {
            "_model_module": "@jupyter-widgets/base",
            "_model_module_version": "1.2.0",
            "_model_name": "LayoutModel",
            "_view_count": null,
            "_view_module": "@jupyter-widgets/base",
            "_view_module_version": "1.2.0",
            "_view_name": "LayoutView",
            "align_content": null,
            "align_items": null,
            "align_self": null,
            "border": null,
            "bottom": null,
            "display": null,
            "flex": null,
            "flex_flow": null,
            "grid_area": null,
            "grid_auto_columns": null,
            "grid_auto_flow": null,
            "grid_auto_rows": null,
            "grid_column": null,
            "grid_gap": null,
            "grid_row": null,
            "grid_template_areas": null,
            "grid_template_columns": null,
            "grid_template_rows": null,
            "height": null,
            "justify_content": null,
            "justify_items": null,
            "left": null,
            "margin": null,
            "max_height": null,
            "max_width": null,
            "min_height": null,
            "min_width": null,
            "object_fit": null,
            "object_position": null,
            "order": null,
            "overflow": null,
            "overflow_x": null,
            "overflow_y": null,
            "padding": null,
            "right": null,
            "top": null,
            "visibility": null,
            "width": null
          }
        },
        "0e37545751354960b41a5fcb7b35cdb4": {
          "model_module": "@jupyter-widgets/controls",
          "model_name": "DescriptionStyleModel",
          "model_module_version": "1.5.0",
          "state": {
            "_model_module": "@jupyter-widgets/controls",
            "_model_module_version": "1.5.0",
            "_model_name": "DescriptionStyleModel",
            "_view_count": null,
            "_view_module": "@jupyter-widgets/base",
            "_view_module_version": "1.2.0",
            "_view_name": "StyleView",
            "description_width": ""
          }
        },
        "a4d68d8855974608a6f20738c3718906": {
          "model_module": "@jupyter-widgets/base",
          "model_name": "LayoutModel",
          "model_module_version": "1.2.0",
          "state": {
            "_model_module": "@jupyter-widgets/base",
            "_model_module_version": "1.2.0",
            "_model_name": "LayoutModel",
            "_view_count": null,
            "_view_module": "@jupyter-widgets/base",
            "_view_module_version": "1.2.0",
            "_view_name": "LayoutView",
            "align_content": null,
            "align_items": null,
            "align_self": null,
            "border": null,
            "bottom": null,
            "display": null,
            "flex": null,
            "flex_flow": null,
            "grid_area": null,
            "grid_auto_columns": null,
            "grid_auto_flow": null,
            "grid_auto_rows": null,
            "grid_column": null,
            "grid_gap": null,
            "grid_row": null,
            "grid_template_areas": null,
            "grid_template_columns": null,
            "grid_template_rows": null,
            "height": null,
            "justify_content": null,
            "justify_items": null,
            "left": null,
            "margin": null,
            "max_height": null,
            "max_width": null,
            "min_height": null,
            "min_width": null,
            "object_fit": null,
            "object_position": null,
            "order": null,
            "overflow": null,
            "overflow_x": null,
            "overflow_y": null,
            "padding": null,
            "right": null,
            "top": null,
            "visibility": null,
            "width": null
          }
        },
        "5e1a52f10cf545e5acb2e2767ec7383b": {
          "model_module": "@jupyter-widgets/controls",
          "model_name": "ProgressStyleModel",
          "model_module_version": "1.5.0",
          "state": {
            "_model_module": "@jupyter-widgets/controls",
            "_model_module_version": "1.5.0",
            "_model_name": "ProgressStyleModel",
            "_view_count": null,
            "_view_module": "@jupyter-widgets/base",
            "_view_module_version": "1.2.0",
            "_view_name": "StyleView",
            "bar_color": null,
            "description_width": ""
          }
        },
        "c9381ebe9bb64d7fb06c69c4ac64eb23": {
          "model_module": "@jupyter-widgets/base",
          "model_name": "LayoutModel",
          "model_module_version": "1.2.0",
          "state": {
            "_model_module": "@jupyter-widgets/base",
            "_model_module_version": "1.2.0",
            "_model_name": "LayoutModel",
            "_view_count": null,
            "_view_module": "@jupyter-widgets/base",
            "_view_module_version": "1.2.0",
            "_view_name": "LayoutView",
            "align_content": null,
            "align_items": null,
            "align_self": null,
            "border": null,
            "bottom": null,
            "display": null,
            "flex": null,
            "flex_flow": null,
            "grid_area": null,
            "grid_auto_columns": null,
            "grid_auto_flow": null,
            "grid_auto_rows": null,
            "grid_column": null,
            "grid_gap": null,
            "grid_row": null,
            "grid_template_areas": null,
            "grid_template_columns": null,
            "grid_template_rows": null,
            "height": null,
            "justify_content": null,
            "justify_items": null,
            "left": null,
            "margin": null,
            "max_height": null,
            "max_width": null,
            "min_height": null,
            "min_width": null,
            "object_fit": null,
            "object_position": null,
            "order": null,
            "overflow": null,
            "overflow_x": null,
            "overflow_y": null,
            "padding": null,
            "right": null,
            "top": null,
            "visibility": null,
            "width": null
          }
        },
        "a563ca73a0de4bdb8fe0432226484634": {
          "model_module": "@jupyter-widgets/controls",
          "model_name": "DescriptionStyleModel",
          "model_module_version": "1.5.0",
          "state": {
            "_model_module": "@jupyter-widgets/controls",
            "_model_module_version": "1.5.0",
            "_model_name": "DescriptionStyleModel",
            "_view_count": null,
            "_view_module": "@jupyter-widgets/base",
            "_view_module_version": "1.2.0",
            "_view_name": "StyleView",
            "description_width": ""
          }
        }
      }
    }
  },
  "nbformat": 4,
  "nbformat_minor": 0
}